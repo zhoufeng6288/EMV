{
 "cells": [
  {
   "cell_type": "code",
   "execution_count": 1,
   "metadata": {},
   "outputs": [],
   "source": [
    "from scipy.stats import expon\n",
    "from scipy.stats import norm\n",
    "from scipy.stats import uniform\n",
    "from scipy.stats import truncnorm\n",
    "import numpy as np\n",
    "import matplotlib.pyplot as plt\n",
    "from scipy import optimize\n",
    "from numpy.polynomial import legendre\n",
    "import pandas as pd\n",
    "from datetime import datetime\n",
    "from scipy.stats import multivariate_normal\n",
    "from scipy.special import erf\n",
    "from scipy.special import hyp1f1\n",
    "from scipy.linalg import eigh\n",
    "from random import randint\n",
    "from scipy.optimize import fsolve\n",
    "from scipy.optimize import root\n",
    "from numpy.polynomial import legendre"
   ]
  },
  {
   "cell_type": "code",
   "execution_count": 2,
   "metadata": {},
   "outputs": [],
   "source": [
    "rawdata = pd.read_excel(\"./NYPD_Motor_Vehicle_Collisions.xlsx\")"
   ]
  },
  {
   "cell_type": "code",
   "execution_count": 3,
   "metadata": {},
   "outputs": [],
   "source": [
    "df=rawdata.loc[:,['DATE','TIME']]"
   ]
  },
  {
   "cell_type": "code",
   "execution_count": 4,
   "metadata": {},
   "outputs": [],
   "source": [
    "df['DATE']=pd.to_datetime(df['DATE'])"
   ]
  },
  {
   "cell_type": "code",
   "execution_count": 359,
   "metadata": {},
   "outputs": [],
   "source": [
    "training=[]"
   ]
  },
  {
   "cell_type": "code",
   "execution_count": 360,
   "metadata": {},
   "outputs": [],
   "source": [
    "training_wk=[]"
   ]
  },
  {
   "cell_type": "code",
   "execution_count": 370,
   "metadata": {},
   "outputs": [],
   "source": [
    "start=np.datetime64('2017-10-09')       # June, July, August\n",
    "end=np.datetime64('2017-10-13')\n",
    "interval = pd.date_range(start, end)"
   ]
  },
  {
   "cell_type": "code",
   "execution_count": 1065,
   "metadata": {},
   "outputs": [
    {
     "data": {
      "text/plain": [
       "17"
      ]
     },
     "execution_count": 1065,
     "metadata": {},
     "output_type": "execute_result"
    }
   ],
   "source": [
    "len(training)"
   ]
  },
  {
   "cell_type": "code",
   "execution_count": 372,
   "metadata": {
    "scrolled": true
   },
   "outputs": [
    {
     "name": "stderr",
     "output_type": "stream",
     "text": [
      "C:\\Users\\zho045\\AppData\\Local\\Continuum\\Anaconda3\\lib\\site-packages\\ipykernel_launcher.py:4: SettingWithCopyWarning: \n",
      "A value is trying to be set on a copy of a slice from a DataFrame.\n",
      "Try using .loc[row_indexer,col_indexer] = value instead\n",
      "\n",
      "See the caveats in the documentation: http://pandas.pydata.org/pandas-docs/stable/indexing.html#indexing-view-versus-copy\n",
      "  after removing the cwd from sys.path.\n",
      "C:\\Users\\zho045\\AppData\\Local\\Continuum\\Anaconda3\\lib\\site-packages\\ipykernel_launcher.py:6: SettingWithCopyWarning: \n",
      "A value is trying to be set on a copy of a slice from a DataFrame.\n",
      "Try using .loc[row_indexer,col_indexer] = value instead\n",
      "\n",
      "See the caveats in the documentation: http://pandas.pydata.org/pandas-docs/stable/indexing.html#indexing-view-versus-copy\n",
      "  \n"
     ]
    },
    {
     "ename": "ValueError",
     "evalue": "Cannot set a frame with no defined index and a value that cannot be converted to a Series",
     "output_type": "error",
     "traceback": [
      "\u001b[1;31m---------------------------------------------------------------------------\u001b[0m",
      "\u001b[1;31mValueError\u001b[0m                                Traceback (most recent call last)",
      "\u001b[1;32m~\\AppData\\Local\\Continuum\\Anaconda3\\lib\\site-packages\\pandas\\core\\frame.py\u001b[0m in \u001b[0;36m_ensure_valid_index\u001b[1;34m(self, value)\u001b[0m\n\u001b[0;32m   3172\u001b[0m             \u001b[1;32mtry\u001b[0m\u001b[1;33m:\u001b[0m\u001b[1;33m\u001b[0m\u001b[1;33m\u001b[0m\u001b[0m\n\u001b[1;32m-> 3173\u001b[1;33m                 \u001b[0mvalue\u001b[0m \u001b[1;33m=\u001b[0m \u001b[0mSeries\u001b[0m\u001b[1;33m(\u001b[0m\u001b[0mvalue\u001b[0m\u001b[1;33m)\u001b[0m\u001b[1;33m\u001b[0m\u001b[1;33m\u001b[0m\u001b[0m\n\u001b[0m\u001b[0;32m   3174\u001b[0m             \u001b[1;32mexcept\u001b[0m\u001b[1;33m:\u001b[0m\u001b[1;33m\u001b[0m\u001b[1;33m\u001b[0m\u001b[0m\n",
      "\u001b[1;32m~\\AppData\\Local\\Continuum\\Anaconda3\\lib\\site-packages\\pandas\\core\\series.py\u001b[0m in \u001b[0;36m__init__\u001b[1;34m(self, data, index, dtype, name, copy, fastpath)\u001b[0m\n\u001b[0;32m    276\u001b[0m \u001b[1;33m\u001b[0m\u001b[0m\n\u001b[1;32m--> 277\u001b[1;33m                 \u001b[0mdata\u001b[0m \u001b[1;33m=\u001b[0m \u001b[0mSingleBlockManager\u001b[0m\u001b[1;33m(\u001b[0m\u001b[0mdata\u001b[0m\u001b[1;33m,\u001b[0m \u001b[0mindex\u001b[0m\u001b[1;33m,\u001b[0m \u001b[0mfastpath\u001b[0m\u001b[1;33m=\u001b[0m\u001b[1;32mTrue\u001b[0m\u001b[1;33m)\u001b[0m\u001b[1;33m\u001b[0m\u001b[1;33m\u001b[0m\u001b[0m\n\u001b[0m\u001b[0;32m    278\u001b[0m \u001b[1;33m\u001b[0m\u001b[0m\n",
      "\u001b[1;32m~\\AppData\\Local\\Continuum\\Anaconda3\\lib\\site-packages\\pandas\\core\\internals.py\u001b[0m in \u001b[0;36m__init__\u001b[1;34m(self, block, axis, do_integrity_check, fastpath)\u001b[0m\n\u001b[0;32m   4676\u001b[0m         \u001b[1;32mif\u001b[0m \u001b[1;32mnot\u001b[0m \u001b[0misinstance\u001b[0m\u001b[1;33m(\u001b[0m\u001b[0mblock\u001b[0m\u001b[1;33m,\u001b[0m \u001b[0mBlock\u001b[0m\u001b[1;33m)\u001b[0m\u001b[1;33m:\u001b[0m\u001b[1;33m\u001b[0m\u001b[1;33m\u001b[0m\u001b[0m\n\u001b[1;32m-> 4677\u001b[1;33m             \u001b[0mblock\u001b[0m \u001b[1;33m=\u001b[0m \u001b[0mmake_block\u001b[0m\u001b[1;33m(\u001b[0m\u001b[0mblock\u001b[0m\u001b[1;33m,\u001b[0m \u001b[0mplacement\u001b[0m\u001b[1;33m=\u001b[0m\u001b[0mslice\u001b[0m\u001b[1;33m(\u001b[0m\u001b[1;36m0\u001b[0m\u001b[1;33m,\u001b[0m \u001b[0mlen\u001b[0m\u001b[1;33m(\u001b[0m\u001b[0maxis\u001b[0m\u001b[1;33m)\u001b[0m\u001b[1;33m)\u001b[0m\u001b[1;33m,\u001b[0m \u001b[0mndim\u001b[0m\u001b[1;33m=\u001b[0m\u001b[1;36m1\u001b[0m\u001b[1;33m)\u001b[0m\u001b[1;33m\u001b[0m\u001b[1;33m\u001b[0m\u001b[0m\n\u001b[0m\u001b[0;32m   4678\u001b[0m \u001b[1;33m\u001b[0m\u001b[0m\n",
      "\u001b[1;32m~\\AppData\\Local\\Continuum\\Anaconda3\\lib\\site-packages\\pandas\\core\\internals.py\u001b[0m in \u001b[0;36mmake_block\u001b[1;34m(values, placement, klass, ndim, dtype, fastpath)\u001b[0m\n\u001b[0;32m   3204\u001b[0m \u001b[1;33m\u001b[0m\u001b[0m\n\u001b[1;32m-> 3205\u001b[1;33m     \u001b[1;32mreturn\u001b[0m \u001b[0mklass\u001b[0m\u001b[1;33m(\u001b[0m\u001b[0mvalues\u001b[0m\u001b[1;33m,\u001b[0m \u001b[0mndim\u001b[0m\u001b[1;33m=\u001b[0m\u001b[0mndim\u001b[0m\u001b[1;33m,\u001b[0m \u001b[0mplacement\u001b[0m\u001b[1;33m=\u001b[0m\u001b[0mplacement\u001b[0m\u001b[1;33m)\u001b[0m\u001b[1;33m\u001b[0m\u001b[1;33m\u001b[0m\u001b[0m\n\u001b[0m\u001b[0;32m   3206\u001b[0m \u001b[1;33m\u001b[0m\u001b[0m\n",
      "\u001b[1;32m~\\AppData\\Local\\Continuum\\Anaconda3\\lib\\site-packages\\pandas\\core\\internals.py\u001b[0m in \u001b[0;36m__init__\u001b[1;34m(self, values, placement, ndim)\u001b[0m\n\u001b[0;32m   2302\u001b[0m         super(ObjectBlock, self).__init__(values, ndim=ndim,\n\u001b[1;32m-> 2303\u001b[1;33m                                           placement=placement)\n\u001b[0m\u001b[0;32m   2304\u001b[0m \u001b[1;33m\u001b[0m\u001b[0m\n",
      "\u001b[1;32m~\\AppData\\Local\\Continuum\\Anaconda3\\lib\\site-packages\\pandas\\core\\internals.py\u001b[0m in \u001b[0;36m__init__\u001b[1;34m(self, values, placement, ndim)\u001b[0m\n\u001b[0;32m    124\u001b[0m                 \u001b[1;34m'Wrong number of items passed {val}, placement implies '\u001b[0m\u001b[1;33m\u001b[0m\u001b[1;33m\u001b[0m\u001b[0m\n\u001b[1;32m--> 125\u001b[1;33m                 '{mgr}'.format(val=len(self.values), mgr=len(self.mgr_locs)))\n\u001b[0m\u001b[0;32m    126\u001b[0m \u001b[1;33m\u001b[0m\u001b[0m\n",
      "\u001b[1;31mValueError\u001b[0m: Wrong number of items passed 2, placement implies 0",
      "\nDuring handling of the above exception, another exception occurred:\n",
      "\u001b[1;31mValueError\u001b[0m                                Traceback (most recent call last)",
      "\u001b[1;32m<ipython-input-372-701ad5dd619c>\u001b[0m in \u001b[0;36m<module>\u001b[1;34m()\u001b[0m\n\u001b[0;32m      2\u001b[0m     \u001b[0mdf_1\u001b[0m\u001b[1;33m=\u001b[0m\u001b[0mdf\u001b[0m\u001b[1;33m[\u001b[0m\u001b[0mdf\u001b[0m\u001b[1;33m[\u001b[0m\u001b[1;34m'DATE'\u001b[0m\u001b[1;33m]\u001b[0m\u001b[1;33m==\u001b[0m\u001b[0mi\u001b[0m\u001b[1;33m]\u001b[0m\u001b[1;33m\u001b[0m\u001b[1;33m\u001b[0m\u001b[0m\n\u001b[0;32m      3\u001b[0m \u001b[1;33m\u001b[0m\u001b[0m\n\u001b[1;32m----> 4\u001b[1;33m     \u001b[0mdf_1\u001b[0m\u001b[1;33m[\u001b[0m\u001b[1;34m'ts'\u001b[0m\u001b[1;33m]\u001b[0m\u001b[1;33m=\u001b[0m\u001b[0mdf_1\u001b[0m\u001b[1;33m.\u001b[0m\u001b[0mapply\u001b[0m\u001b[1;33m(\u001b[0m\u001b[1;32mlambda\u001b[0m \u001b[0mr\u001b[0m \u001b[1;33m:\u001b[0m \u001b[0mpd\u001b[0m\u001b[1;33m.\u001b[0m\u001b[0mdatetime\u001b[0m\u001b[1;33m.\u001b[0m\u001b[0mcombine\u001b[0m\u001b[1;33m(\u001b[0m\u001b[0mr\u001b[0m\u001b[1;33m[\u001b[0m\u001b[1;34m'DATE'\u001b[0m\u001b[1;33m]\u001b[0m\u001b[1;33m,\u001b[0m\u001b[0mr\u001b[0m\u001b[1;33m[\u001b[0m\u001b[1;34m'TIME'\u001b[0m\u001b[1;33m]\u001b[0m\u001b[1;33m)\u001b[0m\u001b[1;33m,\u001b[0m\u001b[1;36m1\u001b[0m\u001b[1;33m)\u001b[0m\u001b[1;33m\u001b[0m\u001b[1;33m\u001b[0m\u001b[0m\n\u001b[0m\u001b[0;32m      5\u001b[0m \u001b[1;33m\u001b[0m\u001b[0m\n\u001b[0;32m      6\u001b[0m     \u001b[0mdf_1\u001b[0m\u001b[1;33m[\u001b[0m\u001b[1;34m'ts'\u001b[0m\u001b[1;33m]\u001b[0m\u001b[1;33m=\u001b[0m\u001b[0mdf_1\u001b[0m\u001b[1;33m[\u001b[0m\u001b[1;34m'ts'\u001b[0m\u001b[1;33m]\u001b[0m\u001b[1;33m.\u001b[0m\u001b[0mastype\u001b[0m\u001b[1;33m(\u001b[0m\u001b[0mnp\u001b[0m\u001b[1;33m.\u001b[0m\u001b[0mint64\u001b[0m\u001b[1;33m)\u001b[0m\u001b[1;33m\u001b[0m\u001b[1;33m\u001b[0m\u001b[0m\n",
      "\u001b[1;32m~\\AppData\\Local\\Continuum\\Anaconda3\\lib\\site-packages\\pandas\\core\\frame.py\u001b[0m in \u001b[0;36m__setitem__\u001b[1;34m(self, key, value)\u001b[0m\n\u001b[0;32m   3117\u001b[0m         \u001b[1;32melse\u001b[0m\u001b[1;33m:\u001b[0m\u001b[1;33m\u001b[0m\u001b[1;33m\u001b[0m\u001b[0m\n\u001b[0;32m   3118\u001b[0m             \u001b[1;31m# set column\u001b[0m\u001b[1;33m\u001b[0m\u001b[1;33m\u001b[0m\u001b[1;33m\u001b[0m\u001b[0m\n\u001b[1;32m-> 3119\u001b[1;33m             \u001b[0mself\u001b[0m\u001b[1;33m.\u001b[0m\u001b[0m_set_item\u001b[0m\u001b[1;33m(\u001b[0m\u001b[0mkey\u001b[0m\u001b[1;33m,\u001b[0m \u001b[0mvalue\u001b[0m\u001b[1;33m)\u001b[0m\u001b[1;33m\u001b[0m\u001b[1;33m\u001b[0m\u001b[0m\n\u001b[0m\u001b[0;32m   3120\u001b[0m \u001b[1;33m\u001b[0m\u001b[0m\n\u001b[0;32m   3121\u001b[0m     \u001b[1;32mdef\u001b[0m \u001b[0m_setitem_slice\u001b[0m\u001b[1;33m(\u001b[0m\u001b[0mself\u001b[0m\u001b[1;33m,\u001b[0m \u001b[0mkey\u001b[0m\u001b[1;33m,\u001b[0m \u001b[0mvalue\u001b[0m\u001b[1;33m)\u001b[0m\u001b[1;33m:\u001b[0m\u001b[1;33m\u001b[0m\u001b[1;33m\u001b[0m\u001b[0m\n",
      "\u001b[1;32m~\\AppData\\Local\\Continuum\\Anaconda3\\lib\\site-packages\\pandas\\core\\frame.py\u001b[0m in \u001b[0;36m_set_item\u001b[1;34m(self, key, value)\u001b[0m\n\u001b[0;32m   3191\u001b[0m         \"\"\"\n\u001b[0;32m   3192\u001b[0m \u001b[1;33m\u001b[0m\u001b[0m\n\u001b[1;32m-> 3193\u001b[1;33m         \u001b[0mself\u001b[0m\u001b[1;33m.\u001b[0m\u001b[0m_ensure_valid_index\u001b[0m\u001b[1;33m(\u001b[0m\u001b[0mvalue\u001b[0m\u001b[1;33m)\u001b[0m\u001b[1;33m\u001b[0m\u001b[1;33m\u001b[0m\u001b[0m\n\u001b[0m\u001b[0;32m   3194\u001b[0m         \u001b[0mvalue\u001b[0m \u001b[1;33m=\u001b[0m \u001b[0mself\u001b[0m\u001b[1;33m.\u001b[0m\u001b[0m_sanitize_column\u001b[0m\u001b[1;33m(\u001b[0m\u001b[0mkey\u001b[0m\u001b[1;33m,\u001b[0m \u001b[0mvalue\u001b[0m\u001b[1;33m)\u001b[0m\u001b[1;33m\u001b[0m\u001b[1;33m\u001b[0m\u001b[0m\n\u001b[0;32m   3195\u001b[0m         \u001b[0mNDFrame\u001b[0m\u001b[1;33m.\u001b[0m\u001b[0m_set_item\u001b[0m\u001b[1;33m(\u001b[0m\u001b[0mself\u001b[0m\u001b[1;33m,\u001b[0m \u001b[0mkey\u001b[0m\u001b[1;33m,\u001b[0m \u001b[0mvalue\u001b[0m\u001b[1;33m)\u001b[0m\u001b[1;33m\u001b[0m\u001b[1;33m\u001b[0m\u001b[0m\n",
      "\u001b[1;32m~\\AppData\\Local\\Continuum\\Anaconda3\\lib\\site-packages\\pandas\\core\\frame.py\u001b[0m in \u001b[0;36m_ensure_valid_index\u001b[1;34m(self, value)\u001b[0m\n\u001b[0;32m   3173\u001b[0m                 \u001b[0mvalue\u001b[0m \u001b[1;33m=\u001b[0m \u001b[0mSeries\u001b[0m\u001b[1;33m(\u001b[0m\u001b[0mvalue\u001b[0m\u001b[1;33m)\u001b[0m\u001b[1;33m\u001b[0m\u001b[1;33m\u001b[0m\u001b[0m\n\u001b[0;32m   3174\u001b[0m             \u001b[1;32mexcept\u001b[0m\u001b[1;33m:\u001b[0m\u001b[1;33m\u001b[0m\u001b[1;33m\u001b[0m\u001b[0m\n\u001b[1;32m-> 3175\u001b[1;33m                 raise ValueError('Cannot set a frame with no defined index '\n\u001b[0m\u001b[0;32m   3176\u001b[0m                                  \u001b[1;34m'and a value that cannot be converted to a '\u001b[0m\u001b[1;33m\u001b[0m\u001b[1;33m\u001b[0m\u001b[0m\n\u001b[0;32m   3177\u001b[0m                                  'Series')\n",
      "\u001b[1;31mValueError\u001b[0m: Cannot set a frame with no defined index and a value that cannot be converted to a Series"
     ]
    }
   ],
   "source": [
    "for i in interval:\n",
    "    df_1=df[df['DATE']==i]\n",
    "\n",
    "    df_1['ts']=df_1.apply(lambda r : pd.datetime.combine(r['DATE'],r['TIME']),1)\n",
    "\n",
    "    df_1['ts']=df_1['ts'].astype(np.int64)\n",
    "\n",
    "    df_1=df_1.sort_values(['ts'])\n",
    "\n",
    "    training_data=df_1['ts'].values/1000000000  # convert to second\n",
    "\n",
    "    training_data=training_data-training_data[0]+1\n",
    "\n",
    "    training_data=training_data/60      # convert to minite, T=1440\n",
    "    training_data=training_data/10      # convert to 10 minite, T=144\n",
    "    \n",
    "    for i in range(20):                 # delete points at 0\n",
    "        if training_data[0]==training_data[1]:\n",
    "            training_data=np.delete(training_data,1)\n",
    "            \n",
    "    for i in range(1,len(training_data)):  # divide points at same time\n",
    "        for j in range(i):\n",
    "            if training_data[j]==training_data[i]:\n",
    "                training_data[i]+=0.01\n",
    "\n",
    "    training.append(list(training_data))"
   ]
  },
  {
   "cell_type": "code",
   "execution_count": 542,
   "metadata": {},
   "outputs": [
    {
     "data": {
      "text/plain": [
       "629.0588235294117"
      ]
     },
     "execution_count": 542,
     "metadata": {},
     "output_type": "execute_result"
    }
   ],
   "source": [
    "np.average([len(training[i]) for i in range(17)])"
   ]
  },
  {
   "cell_type": "code",
   "execution_count": 391,
   "metadata": {},
   "outputs": [],
   "source": [
    "del training[16][:10]"
   ]
  },
  {
   "cell_type": "code",
   "execution_count": 886,
   "metadata": {},
   "outputs": [],
   "source": [
    "for i in range(len(training)):\n",
    "    training[i]=np.sort(training[i])"
   ]
  },
  {
   "cell_type": "code",
   "execution_count": 1066,
   "metadata": {},
   "outputs": [],
   "source": [
    "T=144"
   ]
  },
  {
   "cell_type": "code",
   "execution_count": 1067,
   "metadata": {},
   "outputs": [],
   "source": [
    "def expo_quad_kernel(theta0,theta1,xn,xm):\n",
    "    return theta0*np.exp(-theta1/2*np.sum((xn - xm)**2))"
   ]
  },
  {
   "cell_type": "code",
   "execution_count": 1068,
   "metadata": {},
   "outputs": [],
   "source": [
    "def GP_regression(xi,yi,theta0,theta1,noise_var,rang,num_points):\n",
    "    N=len(xi)\n",
    "    cov_K=np.zeros((N,N))\n",
    "    for i in range(N):\n",
    "        for j in range(i,N):\n",
    "            cov_K[i][j]=expo_quad_kernel(theta0,theta1,xi[i],xi[j])\n",
    "            cov_K[j][i]=cov_K[i][j]\n",
    "    min_eig=np.min(np.real(np.linalg.eigvals(cov_K))) # numerical float truncation error refine\n",
    "    while(min_eig<0):\n",
    "        cov_K += -10*min_eig*np.eye(cov_K.shape[0])\n",
    "        min_eig=np.min(np.real(np.linalg.eigvals(cov_K)))\n",
    "    \n",
    "    cov_K_noise=cov_K+np.eye(N)*noise_var\n",
    "    \n",
    "    x1=np.linspace(0,rang,num_points+1)      # prediction points, integer is to make it easy\n",
    "    M=len(x1)-1\n",
    "    mean=np.zeros((1,M))[0]\n",
    "    posterior_cov=np.zeros((M,M))\n",
    "    k_matrix=np.zeros((M,N))\n",
    "    k_matrix_pre=np.zeros((M,M))\n",
    "    for i in range(M):\n",
    "        for j in range(N):\n",
    "            k_matrix[i][j]=expo_quad_kernel(theta0,theta1,x1[i],xi[j])\n",
    "    k_C=np.dot(k_matrix,np.linalg.inv(cov_K_noise))\n",
    "    mean=np.dot(k_C,yi)\n",
    "    for i in range(M):\n",
    "        for j in range(i,M):\n",
    "            k_matrix_pre[i][j]=expo_quad_kernel(theta0,theta1,x1[i],x1[j])\n",
    "            k_matrix_pre[j][i]=k_matrix_pre[i][j]\n",
    "    posterior_cov=k_matrix_pre-np.dot(k_C,k_matrix.T)+np.eye(M)*noise_var\n",
    "    min_eig=np.min(np.real(np.linalg.eigvals(posterior_cov))) # numerical float truncation error refine\n",
    "    while(min_eig<0):\n",
    "        posterior_cov += -10*min_eig*np.eye(posterior_cov.shape[0])\n",
    "        min_eig=np.min(np.real(np.linalg.eigvals(posterior_cov)))\n",
    "    return x1[:num_points],mean, posterior_cov"
   ]
  },
  {
   "cell_type": "code",
   "execution_count": 1069,
   "metadata": {},
   "outputs": [],
   "source": [
    "def u_generate(theta0,theta1,xi): # xi is inducing points, N(0,Sigma)\n",
    "    N=len(xi)\n",
    "    cov=np.zeros((N,N))\n",
    "    for i in range(N):\n",
    "        for j in range(i,N):\n",
    "            cov[i][j]=expo_quad_kernel(theta0,theta1,xi[i],xi[j])\n",
    "            cov[j][i]=cov[i][j]\n",
    "    return multivariate_normal([0]*N,cov).rvs(),np.array([0]*N),cov"
   ]
  },
  {
   "cell_type": "code",
   "execution_count": 1070,
   "metadata": {},
   "outputs": [],
   "source": [
    "T_phi=6"
   ]
  },
  {
   "cell_type": "code",
   "execution_count": 1071,
   "metadata": {},
   "outputs": [],
   "source": [
    "xi=np.linspace(0+(T_phi/10)/2,T_phi-(T_phi/10)/2,6)   # 6 inducing points on \\phi(\\tau)"
   ]
  },
  {
   "cell_type": "code",
   "execution_count": 1072,
   "metadata": {},
   "outputs": [],
   "source": [
    "xi_mu=np.linspace(0,T,8)   # 8 inducing points, T is larger so we need more points"
   ]
  },
  {
   "cell_type": "code",
   "execution_count": 1073,
   "metadata": {},
   "outputs": [],
   "source": [
    "theta0=1\n",
    "theta1=2"
   ]
  },
  {
   "cell_type": "code",
   "execution_count": 1074,
   "metadata": {},
   "outputs": [],
   "source": [
    "u,mean_p_u,cov_p_u=u_generate(theta0,theta1,xi)"
   ]
  },
  {
   "cell_type": "code",
   "execution_count": 1075,
   "metadata": {},
   "outputs": [],
   "source": [
    "f=GP_regression(xi,u,theta0,theta1,0.000001,T_phi,100) # f is 100-dimension vector on [0,T_phi]"
   ]
  },
  {
   "cell_type": "code",
   "execution_count": 1076,
   "metadata": {},
   "outputs": [],
   "source": [
    "def eq(p,P,k_K,k_K_k,k_K_K_k,secondterm,thirdterm,M,m):\n",
    "    y=0\n",
    "    s=p\n",
    "    for i in range(1,len(k_K_k)):\n",
    "        for j in range(i):\n",
    "            if P[i][j]!=0:\n",
    "                y+=k_K_K_k[i][j][m]*P[i][j]/(k_K_k[i][j]+sum([(k_K[i][j][k]**2)*s[k] for k in range(M)]))\n",
    "    y+=-secondterm[m]-0.5*thirdterm[m]+0.5/s[m]\n",
    "    return y"
   ]
  },
  {
   "cell_type": "code",
   "execution_count": 1077,
   "metadata": {},
   "outputs": [],
   "source": [
    "def equations(p,P,k_K,k_K_k,k_K_K_k,secondterm,thirdterm,M):\n",
    "    return [eq(p,P,k_K,k_K_k,k_K_K_k,secondterm,thirdterm,M,i) for i in range(M)]"
   ]
  },
  {
   "cell_type": "code",
   "execution_count": 1078,
   "metadata": {},
   "outputs": [],
   "source": [
    "def ini_P(points_hawkes,T_phi):\n",
    "    N=len(points_hawkes)\n",
    "    P=np.zeros((N,N))\n",
    "    for i in range(N):                    # initial value of P\n",
    "        for j in range(i+1):\n",
    "            tij=points_hawkes[i]-points_hawkes[j]\n",
    "            if tij>=T_phi:continue\n",
    "            else:\n",
    "                P[i][j:i+1]=np.random.dirichlet([1]*(i-j+1))\n",
    "                break\n",
    "    return P"
   ]
  },
  {
   "cell_type": "code",
   "execution_count": 1079,
   "metadata": {},
   "outputs": [],
   "source": [
    "def psi(theta0,theta1,xn,xm,T):\n",
    "    x_mean=(xn+xm)/2\n",
    "    return (theta0**2)*(-np.sqrt(np.pi/theta1)/2)*np.exp((-theta1*(xn-xm)**2)/4)*(erf((x_mean-T)*np.sqrt(theta1))\\\n",
    "                                                                                  -erf(x_mean*np.sqrt(theta1)))"
   ]
  },
  {
   "cell_type": "code",
   "execution_count": 1080,
   "metadata": {},
   "outputs": [],
   "source": [
    "def distribution_f_posterior(x_f,xi,theta0,theta1,cov_p_u,cov_q_u_post):\n",
    "    N=len(xi) # N is number of inducing points\n",
    "    M=len(x_f) # M is number of predicting points\n",
    "    \n",
    "    cov_p_u_inv=np.linalg.inv(cov_p_u)\n",
    "    \n",
    "    K_xz=np.zeros((M,N))\n",
    "    for i in range(M):\n",
    "        for j in range(N):\n",
    "            K_xz[i][j]=expo_quad_kernel(theta0,theta1,x_f[i],xi[j])\n",
    "#     K_xx=np.zeros((M,M))\n",
    "#     for i in range(M):\n",
    "#         for j in range(i,M):\n",
    "#             K_xx[i][j]=expo_quad_kernel(theta0,theta1,x_f[i],x_f[j])\n",
    "#             K_xx[j][i]=K_xx[i][j]\n",
    "#     mean_f=(K_xz.dot(cov_p_u_inv)).dot(mean_q_u_post)\n",
    "#     cov_f=K_xx-(K_xz.dot(cov_p_u_inv)).dot(K_xz.T)+(((K_xz.dot(cov_p_u_inv)).dot(cov_q_u_post)).dot(cov_p_u_inv)).dot(K_xz.T)\n",
    "    var_f=np.array([theta0-K_xz[i].dot(cov_p_u_inv).dot(K_xz[i].T)+(((K_xz[i].dot(cov_p_u_inv)).dot(cov_q_u_post)).dot(cov_p_u_inv)).dot(K_xz[i].T) for i in range(M)])\n",
    "    \n",
    "    exp_phi=var_f\n",
    "    return exp_phi"
   ]
  },
  {
   "cell_type": "code",
   "execution_count": 1081,
   "metadata": {},
   "outputs": [],
   "source": [
    "theta0_mu=1\n",
    "theta1_mu=0.01"
   ]
  },
  {
   "cell_type": "code",
   "execution_count": 1082,
   "metadata": {},
   "outputs": [],
   "source": [
    "u_mu,mean_p_u_mu,cov_p_u_mu=u_generate(theta0_mu,theta1_mu,xi_mu)"
   ]
  },
  {
   "cell_type": "code",
   "execution_count": 1083,
   "metadata": {},
   "outputs": [],
   "source": [
    "f_mu=GP_regression(xi_mu,u_mu,theta0_mu,theta1_mu,0.000001,T,500) # f is 1000-dimension vector on [0,T]"
   ]
  },
  {
   "cell_type": "code",
   "execution_count": 1084,
   "metadata": {},
   "outputs": [],
   "source": [
    "def eq_mu(p,P,k_K,k_K_k,k_K_K_k,secondterm,thirdterm,M,m):\n",
    "    y=0\n",
    "    s=p\n",
    "    for n in range(len(k_K_k)):\n",
    "        if P[n][n]!=0:\n",
    "            y+=k_K_K_k[n][m]*P[n][n]/(k_K_k[n]+sum([(k_K[n][i]**2)*s[i] for i in range(M)]))\n",
    "    y+=-secondterm[m]-0.5*thirdterm[m]+0.5/s[m]\n",
    "    return y"
   ]
  },
  {
   "cell_type": "code",
   "execution_count": 1085,
   "metadata": {},
   "outputs": [],
   "source": [
    "def equations_mu(p,P,k_K,k_K_k,k_K_K_k,secondterm,thirdterm,M):\n",
    "    return [eq_mu(p,P,k_K,k_K_k,k_K_K_k,secondterm,thirdterm,M,i) for i in range(M)]"
   ]
  },
  {
   "cell_type": "code",
   "execution_count": 1086,
   "metadata": {},
   "outputs": [],
   "source": [
    "def MISD_variational_deri(points_hawkes,xi,xi_mu,T_phi,T,num_iter): # 100 predict points on T_phi, 1000 predict points on T\n",
    "    N=len(points_hawkes) # num of observation\n",
    "    M=len(xi)            # num of inducing points on phi\n",
    "    M_mu=len(xi_mu)      # num of inducing points on mu\n",
    "    P=ini_P(points_hawkes,T_phi)\n",
    "    delta_t=T_phi/len(f[0]) # phi is discete to 100 points\n",
    "    delta_t_mu=T/len(f_mu[0]) # u(t) is descrete to 500 points\n",
    "    \n",
    "    \n",
    "    #_______________________initial setting of mu\n",
    "    cov_q_u_mu_diag=np.random.uniform(0,1,M_mu)  ## initial of cov_q_u_mu_diag\n",
    "    k_tn_z_mu=np.zeros((N,M_mu))\n",
    "    for i in range(N):\n",
    "        for j in range(M_mu):\n",
    "            k_tn_z_mu[i][j]=expo_quad_kernel(theta0_mu,theta1_mu,points_hawkes[i],xi_mu[j])\n",
    "            \n",
    "    cov_p_u_mu_inv=np.linalg.inv(cov_p_u_mu)\n",
    "    thirdterm_mu=np.diagonal(cov_p_u_mu_inv)\n",
    "    Psi_mu=np.zeros((M_mu,M_mu))\n",
    "    for i in range(M_mu):\n",
    "        for j in range(i,M_mu):\n",
    "            Psi_mu[i][j]=psi(theta0_mu,theta1_mu,xi_mu[i],xi_mu[j],T)\n",
    "            Psi_mu[j][i]=Psi_mu[i][j]\n",
    "    secondterm_mu=np.diagonal(cov_p_u_mu_inv.dot(Psi_mu).dot(cov_p_u_mu_inv))\n",
    "    \n",
    "    k_K_K_k_mu=np.empty((0,M_mu))   #vector of vector   #     1st term\n",
    "    k_K_k_mu=np.array([])    # vecotr of value\n",
    "    k_K_mu=np.empty((0,M_mu))      # vector of vector\n",
    "    for i in range(N):\n",
    "        k_K_K_k_mu=np.append(k_K_K_k_mu, np.array([np.diagonal(cov_p_u_mu_inv.dot(np.array([k_tn_z_mu[i]]).T).dot(np.array([k_tn_z_mu[i]])).dot(cov_p_u_mu_inv))]),axis=0)\n",
    "        k_K_k_mu=np.append(k_K_k_mu,theta0_mu-k_tn_z_mu[i].dot(cov_p_u_mu_inv).dot(k_tn_z_mu[i].T))\n",
    "        k_K_mu=np.append(k_K_mu,np.array([k_tn_z_mu[i].dot(cov_p_u_mu_inv)]),axis=0) \n",
    "    \n",
    "    #__________________initial setting of phi\n",
    "    cov_q_u_diag=np.random.uniform(0,1,M)\n",
    "    cov_p_u_inv=np.linalg.inv(cov_p_u)\n",
    "    thirdterm=np.diagonal(cov_p_u_inv)\n",
    "    n_1=sum(np.array(points_hawkes)<(T-T_phi)) # num of points within T-T_phi\n",
    "    Psi=np.zeros((N,M,M))\n",
    "    for i in range(n_1):\n",
    "        for j in range(M):\n",
    "            for k in range(j,M):\n",
    "                Psi[i][j][k]=psi(theta0,theta1,xi[j],xi[k],T_phi)\n",
    "                Psi[i][k][j]=Psi[i][j][k]\n",
    "    for i in range(n_1,N):\n",
    "        for j in range(M):\n",
    "            for k in range(j,M):\n",
    "                Psi[i][j][k]=psi(theta0,theta1,xi[j],xi[k],T-points_hawkes[i])\n",
    "                Psi[i][k][j]=Psi[i][j][k]\n",
    "    secondterm=sum([np.diagonal(cov_p_u_inv.dot(Psi[i]).dot(cov_p_u_inv)) for i in range(N)])\n",
    "    k_tn_z=np.zeros((N,N,M))\n",
    "    for i in range(1,N):\n",
    "        for j in range(i):\n",
    "            if P[i][j]!=0:\n",
    "                tao=points_hawkes[i]-points_hawkes[j]\n",
    "                k_tn_z[i][j]=np.array([expo_quad_kernel(theta0,theta1,tao,xi[k]) for k in range(M)])            \n",
    "    k_K_K_k=np.zeros((N,N,M))   # matrix of vector   #     1st term\n",
    "    k_K_k=np.zeros((N,N))    # matrix of value\n",
    "    k_K=np.zeros((N,N,M))     # matrix of vector\n",
    "    for i in range(1,N):\n",
    "        for j in range(i):\n",
    "            if P[i][j]!=0:\n",
    "                k_K_K_k[i][j]=np.diagonal(cov_p_u_inv.dot(np.array([k_tn_z[i][j]]).T).dot(np.array([k_tn_z[i][j]])).dot(cov_p_u_inv))\n",
    "                k_K_k[i][j]=theta0-k_tn_z[i][j].dot(cov_p_u_inv).dot(k_tn_z[i][j].T)\n",
    "                k_K[i][j]=k_tn_z[i][j].dot(cov_p_u_inv)\n",
    "    \n",
    "    \n",
    "    \n",
    "    \n",
    "    \n",
    "    for k in range(num_iter):  # num of iterations\n",
    "        # update of phi\n",
    "        \n",
    "        cov_q_u_diag=fsolve(equations,cov_q_u_diag, args=(P,k_K,k_K_k,k_K_K_k,secondterm,thirdterm,M))\n",
    "        cov_q_u_diag[cov_q_u_diag<0] = 0.1 # more stable\n",
    "        cov_q_u=np.diag(cov_q_u_diag)\n",
    "        phi=distribution_f_posterior(f[0],xi,theta0,theta1,cov_p_u,cov_q_u)\n",
    "        \n",
    "        # update of mu\n",
    "        \n",
    "        cov_q_u_mu_diag=fsolve(equations_mu,cov_q_u_mu_diag, args=(P,k_K_mu,k_K_k_mu,k_K_K_k_mu,secondterm_mu,thirdterm_mu,M_mu))\n",
    "        cov_q_u_mu_diag[cov_q_u_mu_diag<0] = 0.1 # more stable\n",
    "        cov_q_u_mu=np.diag(cov_q_u_mu_diag)\n",
    "        mu=distribution_f_posterior(f_mu[0],xi_mu,theta0_mu,theta1_mu,cov_p_u_mu,cov_q_u_mu)\n",
    "\n",
    "        \n",
    "        for i in range(N): # updata of P\n",
    "            mu_ti=mu[int(points_hawkes[i]/delta_t_mu)]\n",
    "            intensity_total=0\n",
    "            for j in range(i):\n",
    "                tji=points_hawkes[i]-points_hawkes[j]\n",
    "                if tji>=T_phi: continue\n",
    "                intensity_total+=phi[int(tji/delta_t)]\n",
    "            intensity_total+=mu_ti\n",
    "            P[i][i]=mu_ti/intensity_total\n",
    "            for j in range(i):\n",
    "                tji=points_hawkes[i]-points_hawkes[j]\n",
    "                if tji>=T_phi: P[i][j]=0\n",
    "                else: P[i][j]=phi[int(tji/delta_t)]/intensity_total\n",
    "    return mu,phi"
   ]
  },
  {
   "cell_type": "code",
   "execution_count": 1047,
   "metadata": {},
   "outputs": [
    {
     "name": "stdout",
     "output_type": "stream",
     "text": [
      "Wall time: 39min 38s\n"
     ]
    }
   ],
   "source": [
    "%%time\n",
    "mu_var_multiple=[]\n",
    "phi_var_multiple=[]\n",
    "for i in range(12,13):\n",
    "    mu_var,phi_var=MISD_variational_deri(training[i],xi,xi_mu,T_phi,T,100)\n",
    "    mu_var_multiple.append(mu_var)\n",
    "    phi_var_multiple.append(phi_var)"
   ]
  },
  {
   "cell_type": "code",
   "execution_count": 1048,
   "metadata": {},
   "outputs": [],
   "source": [
    "mu_var=np.average(np.array(mu_var_multiple),axis=0)\n",
    "phi_var=np.average(np.array(phi_var_multiple),axis=0)"
   ]
  },
  {
   "cell_type": "code",
   "execution_count": 1051,
   "metadata": {},
   "outputs": [
    {
     "data": {
      "image/png": "[encoded data removed]",
      "text/plain": [
       "<Figure size 576x360 with 1 Axes>"
      ]
     },
     "metadata": {
      "needs_background": "light"
     },
     "output_type": "display_data"
    }
   ],
   "source": [
    "plt.figure(1,figsize=(8,5))\n",
    "axs=plt.subplot(111)\n",
    "axs.plot(f_mu[0],mu_var,label='VBN')\n",
    "axs.scatter(xi_mu,np.zeros((len(xi_mu))),marker='o',s=30)\n",
    "plt.legend()\n",
    "plt.show()"
   ]
  },
  {
   "cell_type": "code",
   "execution_count": 1052,
   "metadata": {},
   "outputs": [
    {
     "data": {
      "image/png": "[encoded data removed]",
      "text/plain": [
       "<Figure size 576x360 with 1 Axes>"
      ]
     },
     "metadata": {
      "needs_background": "light"
     },
     "output_type": "display_data"
    }
   ],
   "source": [
    "plt.figure(1,figsize=(8,5))\n",
    "axs=plt.subplot(111)\n",
    "axs.plot(f[0],phi_var,label='EMV')\n",
    "axs.scatter(xi,np.zeros((len(xi))),marker='o',s=30)\n",
    "plt.legend()\n",
    "plt.show()"
   ]
  },
  {
   "cell_type": "markdown",
   "metadata": {
    "collapsed": true
   },
   "source": [
    "## MISD"
   ]
  },
  {
   "cell_type": "code",
   "execution_count": 1087,
   "metadata": {},
   "outputs": [],
   "source": [
    "def MISD(points_hawkes,T,T_gamma,delta_t,num_iter):\n",
    "    num_g=int(T_gamma/delta_t)\n",
    "    N=len(points_hawkes)\n",
    "    P=ini_P(points_hawkes,T_gamma)\n",
    "    g=np.zeros((1,num_g), dtype=float)\n",
    "\n",
    "    for k in range(num_iter):\n",
    "        for m in range(num_g): # update for u and g\n",
    "            rate_prob=np.zeros((1,N))\n",
    "            div_num=0\n",
    "            for i in range(N):\n",
    "                if (T-points_hawkes[i])>=m*delta_t and (T-points_hawkes[i])<(m+1)*delta_t: # point i is close to T\n",
    "                    div_num+=1\n",
    "                    for j in range(i+1,N):\n",
    "                        interval=points_hawkes[j]-points_hawkes[i]\n",
    "                        if interval>=m*delta_t and interval<(m+1)*delta_t:\n",
    "                            rate_prob[0][i]+=P[j][i]\n",
    "                        elif interval>=(m+1)*delta_t:\n",
    "                            break\n",
    "                    rate_prob[0][i]=rate_prob[0][i]/(T-m*delta_t)\n",
    "                elif (T-points_hawkes[i])<m*delta_t:\n",
    "                    break\n",
    "                else:\n",
    "                    div_num+=1\n",
    "                    for j in range(i+1,N):\n",
    "                        interval=points_hawkes[j]-points_hawkes[i]\n",
    "                        if interval>=m*delta_t and interval<(m+1)*delta_t:\n",
    "                            rate_prob[0][i]+=P[j][i]\n",
    "                        elif interval>=(m+1)*delta_t:\n",
    "                            break\n",
    "                    rate_prob[0][i]=rate_prob[0][i]/delta_t\n",
    "            if div_num==0:\n",
    "                break\n",
    "            else:\n",
    "                g[0][m]=sum(rate_prob[0])/div_num\n",
    "        u=sum(P[i][i] for i in range(N))/T\n",
    "\n",
    "        for i in range(N): # updata for P\n",
    "            intensity_total=0\n",
    "            for j in range(i):\n",
    "                tji=points_hawkes[i]-points_hawkes[j]\n",
    "                if tji>=T_gamma: continue\n",
    "                intensity_total+=g[0][int(tji/delta_t)]\n",
    "            intensity_total+=u\n",
    "            P[i][i]=u/intensity_total\n",
    "            for j in range(i):\n",
    "                tji=points_hawkes[i]-points_hawkes[j]\n",
    "                if tji>=T_gamma: P[i][j]=0\n",
    "                else: P[i][j]=g[0][int(tji/delta_t)]/intensity_total\n",
    "    return u,g[0]"
   ]
  },
  {
   "cell_type": "code",
   "execution_count": 1088,
   "metadata": {},
   "outputs": [
    {
     "name": "stdout",
     "output_type": "stream",
     "text": [
      "Wall time: 1min 23s\n"
     ]
    }
   ],
   "source": [
    "%%time\n",
    "u_misd_6_multiple=[]\n",
    "phi_misd_6_multiple=[]\n",
    "for i in range(2):\n",
    "    u_misd_6,phi_misd_6=MISD(training[i],T,T_phi,1,100)\n",
    "    u_misd_6_multiple.append(u_misd_6)\n",
    "    phi_misd_6_multiple.append(phi_misd_6)"
   ]
  },
  {
   "cell_type": "code",
   "execution_count": 1089,
   "metadata": {},
   "outputs": [],
   "source": [
    "u_misd_6=np.average(np.array(u_misd_6_multiple))\n",
    "phi_misd_6=np.average(np.array(phi_misd_6_multiple),axis=0)"
   ]
  },
  {
   "cell_type": "code",
   "execution_count": 1090,
   "metadata": {},
   "outputs": [
    {
     "name": "stdout",
     "output_type": "stream",
     "text": [
      "Wall time: 1min 20s\n"
     ]
    }
   ],
   "source": [
    "%%time\n",
    "u_misd_8_multiple=[]\n",
    "phi_misd_8_multiple=[]\n",
    "for i in range(2):\n",
    "    u_misd_8,phi_misd_8=MISD(training[i],T,T_phi,0.75,100)\n",
    "    u_misd_8_multiple.append(u_misd_8)\n",
    "    phi_misd_8_multiple.append(phi_misd_8)"
   ]
  },
  {
   "cell_type": "code",
   "execution_count": 1091,
   "metadata": {},
   "outputs": [],
   "source": [
    "u_misd_8=np.average(np.array(u_misd_8_multiple))\n",
    "phi_misd_8=np.average(np.array(phi_misd_8_multiple),axis=0)"
   ]
  },
  {
   "cell_type": "code",
   "execution_count": 423,
   "metadata": {},
   "outputs": [
    {
     "name": "stdout",
     "output_type": "stream",
     "text": [
      "Wall time: 35.2 s\n"
     ]
    }
   ],
   "source": [
    "%%time\n",
    "u_misd_10_multiple=[]\n",
    "phi_misd_10_multiple=[]\n",
    "for i in range(1):\n",
    "    u_misd_10,phi_misd_10=MISD(training[i],T,T_phi,0.6,100)\n",
    "    u_misd_10_multiple.append(u_misd_10)\n",
    "    phi_misd_10_multiple.append(phi_misd_10)"
   ]
  },
  {
   "cell_type": "code",
   "execution_count": 424,
   "metadata": {},
   "outputs": [],
   "source": [
    "u_misd_10=np.average(np.array(u_misd_10_multiple))\n",
    "phi_misd_10=np.average(np.array(phi_misd_10_multiple),axis=0)"
   ]
  },
  {
   "cell_type": "code",
   "execution_count": 426,
   "metadata": {},
   "outputs": [
    {
     "name": "stdout",
     "output_type": "stream",
     "text": [
      "Wall time: 33.8 s\n"
     ]
    }
   ],
   "source": [
    "%%time\n",
    "u_misd_12_multiple=[]\n",
    "phi_misd_12_multiple=[]\n",
    "for i in range(1):\n",
    "    u_misd_12,phi_misd_12=MISD(training[i],T,T_phi,0.5,100)\n",
    "    u_misd_12_multiple.append(u_misd_12)\n",
    "    phi_misd_12_multiple.append(phi_misd_12)"
   ]
  },
  {
   "cell_type": "code",
   "execution_count": 427,
   "metadata": {},
   "outputs": [],
   "source": [
    "u_misd_12=np.average(np.array(u_misd_12_multiple))\n",
    "phi_misd_12=np.average(np.array(phi_misd_12_multiple),axis=0)"
   ]
  },
  {
   "cell_type": "markdown",
   "metadata": {},
   "source": [
    "## WH"
   ]
  },
  {
   "cell_type": "code",
   "execution_count": 1092,
   "metadata": {},
   "outputs": [],
   "source": [
    "def hawkes_second_stats_conti_gauss(t,h,points_hawkes,T):   # gaussian kernel\n",
    "    N=len(points_hawkes)\n",
    "    Lamda=N/T\n",
    "    g_t_i=[]\n",
    "    for i in range(N):\n",
    "        if points_hawkes[i]+t>T-h:\n",
    "            break\n",
    "        else:\n",
    "            g_t=np.exp(-(((t-(points_hawkes[:i]+points_hawkes[i+1:]-points_hawkes[i]))/h)**2/2))\n",
    "            g_t_i.append(sum(g_t)/np.sqrt(2*np.pi)/h)\n",
    "    return np.average(g_t_i)-Lamda"
   ]
  },
  {
   "cell_type": "code",
   "execution_count": 1093,
   "metadata": {},
   "outputs": [],
   "source": [
    "def primitive_g(t,g,range_g): # -infinity to t\n",
    "    delta_t=range_g/len(g)\n",
    "    num_bin=t/delta_t\n",
    "    if num_bin<len(g):\n",
    "        integral=sum(g[:int(num_bin)])*delta_t+g[int(num_bin)]*delta_t*(num_bin-int(num_bin))\n",
    "    else:\n",
    "        integral=sum(g)*delta_t\n",
    "    return integral+sum(g)*delta_t"
   ]
  },
  {
   "cell_type": "code",
   "execution_count": 1094,
   "metadata": {},
   "outputs": [],
   "source": [
    "def gq_points_weights(a,b,Q):\n",
    "    p,w=np.polynomial.legendre.leggauss(Q)\n",
    "    c = np.array([0]*Q + [1])\n",
    "    p_new=(a+b+(b-a)*p)/2\n",
    "    w_new=(b-a)/(legendre.legval(p, legendre.legder(c))**2*(1-p**2))\n",
    "    return p_new,w_new"
   ]
  },
  {
   "cell_type": "code",
   "execution_count": 1095,
   "metadata": {},
   "outputs": [],
   "source": [
    "def phi_WH_prediction(t,g,Q,range_g): \n",
    "    delta_t=range_g/len(g) \n",
    "    p,w=gq_points_weights(0,range_g,Q)  # (0,infininty) replaced by (0,range_g)\n",
    "    g_ti=np.zeros((Q,Q))\n",
    "    G_ti=np.zeros((1,Q))[0]\n",
    "    for i in range(Q):\n",
    "        G_ti[i]=primitive_g(p[i],g,range_g)\n",
    "        for j in range(i,Q):\n",
    "            if i==j:\n",
    "                g_ti[i][i]=g[int(p[i]/delta_t)]\n",
    "            else:\n",
    "                g_ti[i][j]=g[int((p[j]-p[i])/delta_t)]\n",
    "                g_ti[j][i]=g_ti[i][j]\n",
    "    \n",
    "    a = np.zeros((Q,Q))\n",
    "    b = np.zeros((1,Q))[0]\n",
    "    for i in range(Q):\n",
    "        b[i]=g_ti[i][i]\n",
    "        for j in range(Q):\n",
    "            if i==j:\n",
    "                a[i][i]=1+G_ti[i]-sum(w*g_ti[i])+w[i]*g_ti[i][i]  #diagonal\n",
    "            else:\n",
    "                a[i][j]=w[j]*g_ti[i][j]    \n",
    "    phi_ti = np.linalg.solve(a,b)\n",
    "\n",
    "    g_t=g[int(t/delta_t)]\n",
    "    G_t=primitive_g(t,g,range_g)\n",
    "    g_t_ti=np.zeros((1,Q))[0]\n",
    "    for i in range(Q):\n",
    "        g_t_ti[i]=g[int((t-p[i])/delta_t)]\n",
    "    phi_t=(g_t-sum(w*phi_ti*g_t_ti))/(1+G_t-sum(w*g_t_ti))\n",
    "    return phi_t"
   ]
  },
  {
   "cell_type": "code",
   "execution_count": 1099,
   "metadata": {},
   "outputs": [],
   "source": [
    "def phi_parameter(points_hawkes,x,h,Q,range_g):# default range_g*10 points, points should be list\n",
    "#     x=np.linspace(0.1/2,range_g-0.1/2,range_g*10)\n",
    "    g_gauss=[hawkes_second_stats_conti_gauss(x_i,h,points_hawkes,T) for x_i in x]\n",
    "    phi_result=[phi_WH_prediction(xi,g_gauss,Q,range_g) for xi in x]\n",
    "    \n",
    "#     mse=sum((np.array(phi_result)-1*np.exp(-2*x))**2)/(range_g*10)\n",
    "    return phi_result"
   ]
  },
  {
   "cell_type": "code",
   "execution_count": 1100,
   "metadata": {},
   "outputs": [
    {
     "name": "stdout",
     "output_type": "stream",
     "text": [
      "Wall time: 24.9 s\n"
     ]
    }
   ],
   "source": [
    "%%time\n",
    "u_wh_multiple=[]\n",
    "phi_wh_multiple=[]\n",
    "for i in range(2):\n",
    "    phi_wh=phi_parameter(list(training[i]),f[0],2,100,T_phi)\n",
    "    u_wh=len(training[i])/T*(1-sum(T_phi/len(f[0])*np.array(phi_wh)))\n",
    "    u_wh_multiple.append(u_wh)\n",
    "    phi_wh_multiple.append(phi_wh)"
   ]
  },
  {
   "cell_type": "code",
   "execution_count": 1101,
   "metadata": {},
   "outputs": [],
   "source": [
    "u_wh=np.average(np.array(u_wh_multiple))\n",
    "phi_wh=np.average(np.array(phi_wh_multiple),axis=0)"
   ]
  },
  {
   "cell_type": "markdown",
   "metadata": {},
   "source": [
    "## parametric Hawkes"
   ]
  },
  {
   "cell_type": "code",
   "execution_count": 1102,
   "metadata": {},
   "outputs": [],
   "source": [
    "def negtiveloglikelyhood1(parameters, times, T): #times=timestamp t1-tn; T is timespan      fast:R(i)\n",
    "    times=np.array(times)\n",
    "    \n",
    "    mu=parameters[0]\n",
    "    alpha=parameters[1]\n",
    "    beta=parameters[2]\n",
    "    \n",
    "    timedifference=T-times #T-t0...T-t(n-1) \n",
    "    timeexponential=np.exp(-beta*timedifference)-1\n",
    "    secondsum=alpha/beta*sum(timeexponential)\n",
    "    \n",
    "    R=np.zeros((len(times),1))\n",
    "    for i in range(1,len(times)):\n",
    "        R[i]=np.exp(-beta*(times[i]-times[i-1]))*(1+R[i-1])\n",
    "    firstsum=sum(np.log(mu+alpha*R))  #left-continuous\n",
    "    \n",
    "    negtivelogl=-(firstsum-mu*T+secondsum)\n",
    "    return negtivelogl"
   ]
  },
  {
   "cell_type": "code",
   "execution_count": 1103,
   "metadata": {
    "scrolled": true
   },
   "outputs": [
    {
     "name": "stdout",
     "output_type": "stream",
     "text": [
      "Optimization terminated successfully.    (Exit mode 0)\n",
      "            Current function value: -469.5864607961628\n",
      "            Iterations: 21\n",
      "            Function evaluations: 114\n",
      "            Gradient evaluations: 21\n",
      "Optimization terminated successfully.    (Exit mode 0)\n",
      "            Current function value: -460.7880811391347\n",
      "            Iterations: 23\n",
      "            Function evaluations: 125\n",
      "            Gradient evaluations: 23\n",
      "Optimization terminated successfully.    (Exit mode 0)\n",
      "            Current function value: -349.7684741164214\n",
      "            Iterations: 20\n",
      "            Function evaluations: 108\n",
      "            Gradient evaluations: 20\n",
      "Optimization terminated successfully.    (Exit mode 0)\n",
      "            Current function value: -216.67625848827305\n",
      "            Iterations: 17\n",
      "            Function evaluations: 91\n",
      "            Gradient evaluations: 17\n",
      "Optimization terminated successfully.    (Exit mode 0)\n",
      "            Current function value: -375.89721925459526\n",
      "            Iterations: 20\n",
      "            Function evaluations: 108\n",
      "            Gradient evaluations: 20\n"
     ]
    }
   ],
   "source": [
    "res=[]\n",
    "parameters=np.array([1.2,0.7,3])\n",
    "for i in range(5):\n",
    "    result=optimize.minimize(negtiveloglikelyhood1, parameters,args=(training[i],T), method='SLSQP', bounds=((0.01,3),(0.01,3),(0.01,3)), options={'disp': True})\n",
    "    res.append(result.x)"
   ]
  },
  {
   "cell_type": "code",
   "execution_count": 1104,
   "metadata": {},
   "outputs": [],
   "source": [
    "res_ave=np.average(res,axis=0)"
   ]
  },
  {
   "cell_type": "code",
   "execution_count": 1105,
   "metadata": {},
   "outputs": [
    {
     "data": {
      "text/plain": [
       "array([1.20557479, 2.10410328, 3.        ])"
      ]
     },
     "execution_count": 1105,
     "metadata": {},
     "output_type": "execute_result"
    }
   ],
   "source": [
    "res_ave"
   ]
  },
  {
   "cell_type": "code",
   "execution_count": 563,
   "metadata": {},
   "outputs": [
    {
     "data": {
      "image/png": "[encoded data removed]",
      "text/plain": [
       "<Figure size 360x288 with 1 Axes>"
      ]
     },
     "metadata": {
      "needs_background": "light"
     },
     "output_type": "display_data"
    }
   ],
   "source": [
    "plt.figure(1,figsize=(5,4))\n",
    "axs=plt.subplot(111)\n",
    "axs.plot(f[0]*10,phi_var,'b')\n",
    "axs.scatter(f[0]*10,phi_var,marker='o',s=12,c='',edgecolors='b',label='EMV')\n",
    "axs.plot(np.linspace(0,6,100)*10,res_ave[1]*np.exp(-res_ave[2]*np.linspace(0,6,100)),label='PH')\n",
    "axs.plot(np.linspace(0,6,300,endpoint=False)*10,[phi_misd_6[int(xxx/1)] for xxx in np.linspace(0,6,300,endpoint=False)],label='MISD-6')\n",
    "axs.plot(np.linspace(0,6,300,endpoint=False)*10,[phi_misd_8[int(xxx/0.75)] for xxx in np.linspace(0,6,300,endpoint=False)],label='MISD-8')\n",
    "axs.plot(f[0]*10,phi_wh,label='WH')\n",
    "plt.xlabel(r'$\\tau$',fontsize=12)\n",
    "plt.title(r'$\\phi(\\tau)$',fontsize=15)\n",
    "plt.xlim(0,60)\n",
    "# plt.ylim(-0.05,1.2)\n",
    "plt.xticks(np.arange(0, 65, 10))\n",
    "plt.legend(fontsize=12)\n",
    "\n",
    "# plt.savefig('./phi_realdata_1',bbox_inches = 'tight')\n",
    "plt.show()"
   ]
  },
  {
   "cell_type": "code",
   "execution_count": 564,
   "metadata": {},
   "outputs": [
    {
     "data": {
      "image/png": "[encoded data removed]",
      "text/plain": [
       "<Figure size 360x288 with 1 Axes>"
      ]
     },
     "metadata": {
      "needs_background": "light"
     },
     "output_type": "display_data"
    }
   ],
   "source": [
    "plt.figure(1,figsize=(5,4))\n",
    "axs=plt.subplot(111)\n",
    "axs.plot(f_mu[0]/6,mu_var,'b')\n",
    "axs.scatter(f_mu[0]/6,mu_var,marker='o',s=12,c='',edgecolors='b',label='EMV')\n",
    "axs.plot([0,T/6],[res_ave[0],res_ave[0]],label='PH')\n",
    "axs.plot([0,T/6],[u_misd_6,u_misd_6],label='MISD-6')\n",
    "axs.plot([0,T/6],[u_misd_8,u_misd_8],label='MISD-8')\n",
    "axs.plot([0,T/6],[u_wh,u_wh],label='WH')\n",
    "plt.xlabel(r'$t$',fontsize=12)\n",
    "plt.title(r'$\\mu(t)$',fontsize=15)\n",
    "# plt.ylim(0,1.8)\n",
    "plt.xlim(0,24)\n",
    "plt.xticks(np.arange(0, 25, 2))\n",
    "plt.legend(fontsize=12)\n",
    "\n",
    "# plt.savefig('./mu_realdata_1',bbox_inches = 'tight')\n",
    "plt.show()"
   ]
  },
  {
   "cell_type": "code",
   "execution_count": null,
   "metadata": {},
   "outputs": [],
   "source": []
  },
  {
   "cell_type": "markdown",
   "metadata": {},
   "source": [
    "## log-Like"
   ]
  },
  {
   "cell_type": "code",
   "execution_count": 565,
   "metadata": {},
   "outputs": [],
   "source": [
    "def intensity_discrete(t,history,u,g_mean,T_phi):    #left continue, the intensity is a gaussian dist\n",
    "    mu=u\n",
    "    N=len(g_mean)\n",
    "    intensity_mean=0\n",
    "    for i in range(len(history)):\n",
    "        if history[i]>=t:\n",
    "            break\n",
    "        delta_t=t-history[i]\n",
    "        if delta_t<T_phi:\n",
    "            intensity_mean+=g_mean[int(delta_t*N/T_phi)]\n",
    "    return mu+intensity_mean"
   ]
  },
  {
   "cell_type": "code",
   "execution_count": 566,
   "metadata": {},
   "outputs": [],
   "source": [
    "def negtiveloglikelihood_discrete(u,g_mean,times,T_phi,T):\n",
    "    N=len(times)\n",
    "    M=len(g_mean)\n",
    "    logl=0\n",
    "    for i in range(N):\n",
    "        logl+=np.log(intensity_discrete(times[i],times,u,g_mean,T_phi))\n",
    "        delta_t=T-times[i]\n",
    "        if delta_t>=T_phi:\n",
    "            logl-=sum(g_mean*T_phi/M)\n",
    "        else:\n",
    "            temp=(delta_t)*M/T_phi\n",
    "            temp_int=int(temp)\n",
    "            logl-=sum(g_mean[:temp_int]*T_phi/M)+g_mean[temp_int]*T_phi/M*(temp-temp_int)\n",
    "    return -(logl-u*T)"
   ]
  },
  {
   "cell_type": "code",
   "execution_count": 567,
   "metadata": {},
   "outputs": [],
   "source": [
    "def intensity_discrete_phi_mu(t,history,u,g_mean,g_range,T):    #left continue\n",
    "    mu=u\n",
    "    N=len(g_mean)\n",
    "    M=len(mu)\n",
    "    intensity_mean=0\n",
    "    for i in range(len(history)):\n",
    "        if history[i]>=t:\n",
    "            break\n",
    "        delta_t=t-history[i]\n",
    "        if delta_t<g_range:\n",
    "            intensity_mean+=g_mean[int(delta_t*N/g_range)]\n",
    "    result=mu[int(t/T*M)]+intensity_mean\n",
    "    return result"
   ]
  },
  {
   "cell_type": "code",
   "execution_count": 568,
   "metadata": {},
   "outputs": [],
   "source": [
    "def negtiveloglikelihood_discrete_phi_mu(u,g_mean,g_range,times,T):\n",
    "    N=len(times)\n",
    "    M=len(g_mean)\n",
    "    logl=0\n",
    "    for i in range(N):\n",
    "        logl+=np.log(intensity_discrete_phi_mu(times[i],times,u,g_mean,g_range,T))\n",
    "        delta_t=T-times[i]\n",
    "        if delta_t>=g_range:\n",
    "            logl-=sum(g_mean*g_range/M)\n",
    "        else:\n",
    "            temp=(delta_t)*M/g_range\n",
    "            temp_int=int(temp)\n",
    "            logl-=sum(g_mean[:temp_int]*g_range/M)+g_mean[temp_int]*g_range/M*(temp-temp_int)\n",
    "    return -(logl-sum(u*T/len(u)))"
   ]
  },
  {
   "cell_type": "code",
   "execution_count": 307,
   "metadata": {},
   "outputs": [
    {
     "data": {
      "text/plain": [
       "365.5430812612465"
      ]
     },
     "execution_count": 307,
     "metadata": {},
     "output_type": "execute_result"
    }
   ],
   "source": [
    "np.average([-negtiveloglikelihood_discrete(u_misd_6,phi_misd_6,training[i],T_phi,T) for i in range(0,5)])"
   ]
  },
  {
   "cell_type": "code",
   "execution_count": 308,
   "metadata": {},
   "outputs": [
    {
     "data": {
      "text/plain": [
       "369.8924218707008"
      ]
     },
     "execution_count": 308,
     "metadata": {},
     "output_type": "execute_result"
    }
   ],
   "source": [
    "np.average([-negtiveloglikelihood_discrete(u_misd_8,phi_misd_8,training[i],T_phi,T) for i in range(0,5)])"
   ]
  },
  {
   "cell_type": "code",
   "execution_count": 309,
   "metadata": {},
   "outputs": [
    {
     "data": {
      "text/plain": [
       "361.1911805170819"
      ]
     },
     "execution_count": 309,
     "metadata": {},
     "output_type": "execute_result"
    }
   ],
   "source": [
    "np.average([-negtiveloglikelihood_discrete(u_wh,np.array(phi_wh),training[i],T_phi,T) for i in range(0,5)])"
   ]
  },
  {
   "cell_type": "code",
   "execution_count": 310,
   "metadata": {},
   "outputs": [
    {
     "data": {
      "text/plain": [
       "393.8119157150628"
      ]
     },
     "execution_count": 310,
     "metadata": {},
     "output_type": "execute_result"
    }
   ],
   "source": [
    "np.average([-negtiveloglikelihood_discrete_phi_mu(mu_var,phi_var,T_phi,training[i],T) for i in range(0,5)])"
   ]
  },
  {
   "cell_type": "code",
   "execution_count": 311,
   "metadata": {},
   "outputs": [
    {
     "data": {
      "text/plain": [
       "353.2193981179771"
      ]
     },
     "execution_count": 311,
     "metadata": {},
     "output_type": "execute_result"
    }
   ],
   "source": [
    "np.average([-negtiveloglikelyhood1(res_ave, training[i], T) for i in range(0,5)])"
   ]
  },
  {
   "cell_type": "code",
   "execution_count": null,
   "metadata": {},
   "outputs": [],
   "source": []
  },
  {
   "cell_type": "markdown",
   "metadata": {
    "collapsed": true
   },
   "source": [
    "## 5 training sequence"
   ]
  },
  {
   "cell_type": "code",
   "execution_count": 476,
   "metadata": {},
   "outputs": [
    {
     "data": {
      "text/plain": [
       "395.53770182329055"
      ]
     },
     "execution_count": 476,
     "metadata": {},
     "output_type": "execute_result"
    }
   ],
   "source": [
    "np.average([-negtiveloglikelihood_discrete(u_misd_6,phi_misd_6,training[i],T_phi,T) for i in range(12,17)])"
   ]
  },
  {
   "cell_type": "code",
   "execution_count": 477,
   "metadata": {},
   "outputs": [
    {
     "data": {
      "text/plain": [
       "400.5689761070909"
      ]
     },
     "execution_count": 477,
     "metadata": {},
     "output_type": "execute_result"
    }
   ],
   "source": [
    "np.average([-negtiveloglikelihood_discrete(u_misd_8,phi_misd_8,training[i],T_phi,T) for i in range(12,17)])"
   ]
  },
  {
   "cell_type": "code",
   "execution_count": 478,
   "metadata": {},
   "outputs": [
    {
     "data": {
      "text/plain": [
       "403.5006634907099"
      ]
     },
     "execution_count": 478,
     "metadata": {},
     "output_type": "execute_result"
    }
   ],
   "source": [
    "np.average([-negtiveloglikelihood_discrete(u_wh,np.array(phi_wh),training[i],T_phi,T) for i in range(12,17)])"
   ]
  },
  {
   "cell_type": "code",
   "execution_count": 479,
   "metadata": {},
   "outputs": [
    {
     "data": {
      "text/plain": [
       "428.37387504886755"
      ]
     },
     "execution_count": 479,
     "metadata": {},
     "output_type": "execute_result"
    }
   ],
   "source": [
    "np.average([-negtiveloglikelihood_discrete_phi_mu(mu_var,phi_var,T_phi,training[i],T) for i in range(12,17)])"
   ]
  },
  {
   "cell_type": "code",
   "execution_count": 480,
   "metadata": {},
   "outputs": [
    {
     "data": {
      "text/plain": [
       "393.1939189028175"
      ]
     },
     "execution_count": 480,
     "metadata": {},
     "output_type": "execute_result"
    }
   ],
   "source": [
    "np.average([-negtiveloglikelyhood1(res_ave, training[i], T) for i in range(12,17)])"
   ]
  },
  {
   "cell_type": "markdown",
   "metadata": {},
   "source": [
    "## 1 training sequence"
   ]
  },
  {
   "cell_type": "code",
   "execution_count": 445,
   "metadata": {},
   "outputs": [
    {
     "data": {
      "text/plain": [
       "390.93170152456725"
      ]
     },
     "execution_count": 445,
     "metadata": {},
     "output_type": "execute_result"
    }
   ],
   "source": [
    "np.average([-negtiveloglikelihood_discrete(u_misd_6,phi_misd_6,training[i],T_phi,T) for i in range(12,17)])"
   ]
  },
  {
   "cell_type": "code",
   "execution_count": 446,
   "metadata": {},
   "outputs": [
    {
     "data": {
      "text/plain": [
       "399.18863807591606"
      ]
     },
     "execution_count": 446,
     "metadata": {},
     "output_type": "execute_result"
    }
   ],
   "source": [
    "np.average([-negtiveloglikelihood_discrete(u_misd_8,phi_misd_8,training[i],T_phi,T) for i in range(12,17)])"
   ]
  },
  {
   "cell_type": "code",
   "execution_count": 447,
   "metadata": {},
   "outputs": [
    {
     "data": {
      "text/plain": [
       "407.6606523166499"
      ]
     },
     "execution_count": 447,
     "metadata": {},
     "output_type": "execute_result"
    }
   ],
   "source": [
    "np.average([-negtiveloglikelihood_discrete(u_wh,np.array(phi_wh),training[i],T_phi,T) for i in range(12,17)])"
   ]
  },
  {
   "cell_type": "code",
   "execution_count": 448,
   "metadata": {},
   "outputs": [
    {
     "data": {
      "text/plain": [
       "426.98551179445485"
      ]
     },
     "execution_count": 448,
     "metadata": {},
     "output_type": "execute_result"
    }
   ],
   "source": [
    "np.average([-negtiveloglikelihood_discrete_phi_mu(mu_var,phi_var,T_phi,training[i],T) for i in range(12,17)])"
   ]
  },
  {
   "cell_type": "code",
   "execution_count": 449,
   "metadata": {},
   "outputs": [
    {
     "data": {
      "text/plain": [
       "402.585230122194"
      ]
     },
     "execution_count": 449,
     "metadata": {},
     "output_type": "execute_result"
    }
   ],
   "source": [
    "np.average([-negtiveloglikelyhood1(res_ave, training[i], T) for i in range(12,17)])"
   ]
  },
  {
   "cell_type": "markdown",
   "metadata": {},
   "source": [
    "## 9 training sequence"
   ]
  },
  {
   "cell_type": "code",
   "execution_count": 533,
   "metadata": {},
   "outputs": [
    {
     "data": {
      "text/plain": [
       "396.23076785550757"
      ]
     },
     "execution_count": 533,
     "metadata": {},
     "output_type": "execute_result"
    }
   ],
   "source": [
    "np.average([-negtiveloglikelihood_discrete(u_misd_6,phi_misd_6,training[i],T_phi,T) for i in range(12,17)])"
   ]
  },
  {
   "cell_type": "code",
   "execution_count": 534,
   "metadata": {},
   "outputs": [
    {
     "data": {
      "text/plain": [
       "402.0729450056194"
      ]
     },
     "execution_count": 534,
     "metadata": {},
     "output_type": "execute_result"
    }
   ],
   "source": [
    "np.average([-negtiveloglikelihood_discrete(u_misd_8,phi_misd_8,training[i],T_phi,T) for i in range(12,17)])"
   ]
  },
  {
   "cell_type": "code",
   "execution_count": 535,
   "metadata": {},
   "outputs": [
    {
     "data": {
      "text/plain": [
       "405.0989363520593"
      ]
     },
     "execution_count": 535,
     "metadata": {},
     "output_type": "execute_result"
    }
   ],
   "source": [
    "np.average([-negtiveloglikelihood_discrete(u_wh,np.array(phi_wh),training[i],T_phi,T) for i in range(12,17)])"
   ]
  },
  {
   "cell_type": "code",
   "execution_count": 536,
   "metadata": {},
   "outputs": [
    {
     "data": {
      "text/plain": [
       "428.0172900429141"
      ]
     },
     "execution_count": 536,
     "metadata": {},
     "output_type": "execute_result"
    }
   ],
   "source": [
    "np.average([-negtiveloglikelihood_discrete_phi_mu(mu_var,phi_var,T_phi,training[i],T) for i in range(12,17)])"
   ]
  },
  {
   "cell_type": "code",
   "execution_count": 537,
   "metadata": {},
   "outputs": [
    {
     "data": {
      "text/plain": [
       "399.04007851474773"
      ]
     },
     "execution_count": 537,
     "metadata": {},
     "output_type": "execute_result"
    }
   ],
   "source": [
    "np.average([-negtiveloglikelyhood1(res_ave, training[i], T) for i in range(12,17)])"
   ]
  },
  {
   "cell_type": "markdown",
   "metadata": {},
   "source": [
    "## 12 training sequence"
   ]
  },
  {
   "cell_type": "code",
   "execution_count": 569,
   "metadata": {},
   "outputs": [
    {
     "data": {
      "text/plain": [
       "396.64441249332106"
      ]
     },
     "execution_count": 569,
     "metadata": {},
     "output_type": "execute_result"
    }
   ],
   "source": [
    "np.average([-negtiveloglikelihood_discrete(u_misd_6,phi_misd_6,training[i],T_phi,T) for i in range(12,17)])"
   ]
  },
  {
   "cell_type": "code",
   "execution_count": 570,
   "metadata": {},
   "outputs": [
    {
     "data": {
      "text/plain": [
       "402.3066550040756"
      ]
     },
     "execution_count": 570,
     "metadata": {},
     "output_type": "execute_result"
    }
   ],
   "source": [
    "np.average([-negtiveloglikelihood_discrete(u_misd_8,phi_misd_8,training[i],T_phi,T) for i in range(12,17)])"
   ]
  },
  {
   "cell_type": "code",
   "execution_count": 571,
   "metadata": {},
   "outputs": [
    {
     "data": {
      "text/plain": [
       "404.5050803153855"
      ]
     },
     "execution_count": 571,
     "metadata": {},
     "output_type": "execute_result"
    }
   ],
   "source": [
    "np.average([-negtiveloglikelihood_discrete(u_wh,np.array(phi_wh),training[i],T_phi,T) for i in range(12,17)])"
   ]
  },
  {
   "cell_type": "code",
   "execution_count": 572,
   "metadata": {},
   "outputs": [
    {
     "data": {
      "text/plain": [
       "428.0370679278549"
      ]
     },
     "execution_count": 572,
     "metadata": {},
     "output_type": "execute_result"
    }
   ],
   "source": [
    "np.average([-negtiveloglikelihood_discrete_phi_mu(mu_var,phi_var,T_phi,training[i],T) for i in range(12,17)])"
   ]
  },
  {
   "cell_type": "code",
   "execution_count": 573,
   "metadata": {},
   "outputs": [
    {
     "data": {
      "text/plain": [
       "400.3105228705734"
      ]
     },
     "execution_count": 573,
     "metadata": {},
     "output_type": "execute_result"
    }
   ],
   "source": [
    "np.average([-negtiveloglikelyhood1(res_ave, training[i], T) for i in range(12,17)])"
   ]
  },
  {
   "cell_type": "code",
   "execution_count": null,
   "metadata": {},
   "outputs": [],
   "source": []
  },
  {
   "cell_type": "code",
   "execution_count": 575,
   "metadata": {},
   "outputs": [],
   "source": [
    "num_training=[np.average([len(training[i]) for i in range(17)])*1,np.average([len(training[i]) for i in range(17)])*5,np.average([len(training[i]) for i in range(17)])*9,np.average([len(training[i]) for i in range(17)])*12]"
   ]
  },
  {
   "cell_type": "code",
   "execution_count": 576,
   "metadata": {},
   "outputs": [],
   "source": [
    "misd_6_logl=[390.93,395.53,396.23,396.64]"
   ]
  },
  {
   "cell_type": "code",
   "execution_count": 577,
   "metadata": {},
   "outputs": [],
   "source": [
    "misd_8_logl=[399.18,400.56,402.07,402.30]"
   ]
  },
  {
   "cell_type": "code",
   "execution_count": 578,
   "metadata": {},
   "outputs": [],
   "source": [
    "ph_logl=[402.58,393.19,399.04,400.31]"
   ]
  },
  {
   "cell_type": "code",
   "execution_count": 579,
   "metadata": {},
   "outputs": [],
   "source": [
    "var_logl=[426.98,428.37,428.01,428.03]"
   ]
  },
  {
   "cell_type": "code",
   "execution_count": 580,
   "metadata": {},
   "outputs": [],
   "source": [
    "wh_logl=[407.66,403.50,405.09,404.50]"
   ]
  },
  {
   "cell_type": "code",
   "execution_count": 733,
   "metadata": {},
   "outputs": [],
   "source": [
    "rkhs_logl=[277.53,356.76,366.19,359.46]"
   ]
  },
  {
   "cell_type": "code",
   "execution_count": 734,
   "metadata": {},
   "outputs": [],
   "source": [
    "gc_logl=[338.12,368.36,375.33,376.13]"
   ]
  },
  {
   "cell_type": "code",
   "execution_count": 778,
   "metadata": {},
   "outputs": [
    {
     "data": {
      "image/png": "[encoded data removed]",
      "text/plain": [
       "<Figure size 360x288 with 1 Axes>"
      ]
     },
     "metadata": {
      "needs_background": "light"
     },
     "output_type": "display_data"
    }
   ],
   "source": [
    "plt.figure(1,figsize=(5,4))\n",
    "axs=plt.subplot(111)\n",
    "axs.scatter(num_training,gc_logl,s=30, marker='o',label='GC')\n",
    "axs.plot(num_training,gc_logl)\n",
    "axs.scatter(num_training,rkhs_logl,s=30, marker='s',label='RKHSC')\n",
    "axs.plot(num_training,rkhs_logl)\n",
    "axs.scatter(num_training,misd_6_logl,s=30, marker='*',label='MISD-6')\n",
    "axs.plot(num_training,misd_6_logl)\n",
    "axs.scatter(num_training,misd_8_logl,s=30, marker='h',label='MISD-8')\n",
    "axs.plot(num_training,misd_8_logl)\n",
    "axs.scatter(num_training,ph_logl,s=30, marker='d',label='PH')\n",
    "axs.plot(num_training,ph_logl)\n",
    "axs.scatter(num_training,wh_logl,s=30, marker='x',label='WH')\n",
    "axs.plot(num_training,wh_logl)\n",
    "axs.scatter(num_training,var_logl,s=30, marker='^',label='EMV')\n",
    "axs.plot(num_training,var_logl)\n",
    "plt.xlabel('# of training data',fontsize=12)\n",
    "plt.ylabel('LogLik',fontsize=12)\n",
    "plt.ylim(200,440)\n",
    "plt.legend(fontsize=12)\n",
    "\n",
    "plt.savefig('c:/Users/zho045/Desktop/logl_collision',bbox_inches = 'tight')\n",
    "plt.show()"
   ]
  },
  {
   "cell_type": "code",
   "execution_count": 1106,
   "metadata": {},
   "outputs": [],
   "source": [
    "def time_rescaling(points_hawkes,mu,phi,T_phi): # mu is constant phi is piecewise\n",
    "    N=len(points_hawkes)\n",
    "    delta_tau=T_phi/len(phi)\n",
    "    points_rescale=[]\n",
    "    for i in range(N):\n",
    "        time_rescale=mu*points_hawkes[i]\n",
    "        for j in range(i):\n",
    "            tij=points_hawkes[i]-points_hawkes[j]\n",
    "            if tij>=T_phi: \n",
    "                time_rescale+=sum(phi*delta_tau)\n",
    "            else: \n",
    "                time_rescale+=sum(phi[:int(tij/delta_tau)]*delta_tau)\n",
    "                time_rescale+=phi[int(tij/delta_tau)]*delta_tau*(tij/delta_tau-int(tij/delta_tau))\n",
    "        points_rescale.append(time_rescale)\n",
    "    return points_rescale"
   ]
  },
  {
   "cell_type": "code",
   "execution_count": 1107,
   "metadata": {},
   "outputs": [],
   "source": [
    "def time_rescaling_exp(points_hawkes,parameters):\n",
    "    mu=parameters[0]\n",
    "    alpha=parameters[1]\n",
    "    beta=parameters[2]\n",
    "    N=len(points_hawkes)\n",
    "    points_rescale=[]\n",
    "    for i in range(N):\n",
    "        time_rescale=mu*points_hawkes[i]\n",
    "        for j in range(i):\n",
    "            tij=points_hawkes[i]-points_hawkes[j]\n",
    "            time_rescale+=alpha/beta*(1-np.exp(-beta*tij))\n",
    "        points_rescale.append(time_rescale)\n",
    "    return points_rescale"
   ]
  },
  {
   "cell_type": "code",
   "execution_count": 1108,
   "metadata": {},
   "outputs": [],
   "source": [
    "def time_rescaling_mu(points_hawkes,mu,phi,T_phi,T): ## mu is changing over time\n",
    "    N=len(points_hawkes)\n",
    "    delta_tau=T_phi/len(phi)\n",
    "    delta_t=T/len(mu)\n",
    "    points_rescale=[]\n",
    "    for i in range(N):\n",
    "        time_rescale=0\n",
    "        time_rescale+=sum(mu[:int(points_hawkes[i]/delta_t)]*delta_t)\n",
    "        time_rescale+=mu[int(points_hawkes[i]/delta_t)]*delta_t*(points_hawkes[i]/delta_t-int(points_hawkes[i]/delta_t))\n",
    "        for j in range(i):\n",
    "            tij=points_hawkes[i]-points_hawkes[j]\n",
    "            if tij>=T_phi: \n",
    "                time_rescale+=sum(phi*delta_tau)\n",
    "            else: \n",
    "                time_rescale+=sum(phi[:int(tij/delta_tau)]*delta_tau)\n",
    "                time_rescale+=phi[int(tij/delta_tau)]*delta_tau*(tij/delta_tau-int(tij/delta_tau))\n",
    "        points_rescale.append(time_rescale)\n",
    "    return points_rescale"
   ]
  },
  {
   "cell_type": "code",
   "execution_count": 1109,
   "metadata": {},
   "outputs": [],
   "source": [
    "def time_rescaling_inhomopoisson(points_poisson, lamda, T):\n",
    "    N=len(points_poisson)\n",
    "    delta_t=T/len(lamda)\n",
    "    points_rescale=[]\n",
    "    for i in range(N):\n",
    "        time_rescale=0\n",
    "        time_rescale+=sum(lamda[:int(points_poisson[i]/delta_t)]*delta_t)\n",
    "        time_rescale+=lamda[int(points_poisson[i]/delta_t)]*delta_t*(points_poisson[i]/delta_t-int(points_poisson[i]/delta_t))\n",
    "        points_rescale.append(time_rescale)\n",
    "    return points_rescale"
   ]
  },
  {
   "cell_type": "code",
   "execution_count": 1110,
   "metadata": {},
   "outputs": [],
   "source": [
    "lamda_rkhs=np.array([0.19965649, 0.24747497, 0.29659336, 0.34611186, 0.39525367,\n",
    "       0.44343896, 0.49034415, 0.53594136, 0.58051618, 0.6246653 ,\n",
    "       0.66927897, 0.7155157 , 0.76477752, 0.81869281, 0.87911053,\n",
    "       0.9481047 , 1.02798197, 1.12127968, 1.23073772, 1.35922652,\n",
    "       1.50961632, 1.68457986, 1.88633129, 2.11631715, 2.37488894,\n",
    "       2.66099803, 2.97196092, 3.30334324, 3.64900387, 4.00132567,\n",
    "       4.35163814, 4.69081215, 5.00998148, 5.30132323, 5.5588137 ,\n",
    "       5.77887041, 5.96079574, 6.10695411, 6.22264019, 6.31562817,\n",
    "       6.39542769, 6.47230652, 6.55616939, 6.65540363, 6.77581243,\n",
    "       6.91975481, 7.08559722, 7.26755605, 7.4559751 , 7.63804007,\n",
    "       7.79888607, 7.92301016, 7.9958609 , 8.0054486 , 7.94380565,\n",
    "       7.80813062, 7.60147413, 7.3328678 , 7.0168567 , 6.67246382,\n",
    "       6.32168367, 5.98766171, 5.69275693, 5.45670019, 5.29504664,\n",
    "       5.21807864, 5.23025102, 5.3301947 , 5.5112191 , 5.76219169,\n",
    "       6.06863489, 6.41387204, 6.78007639, 7.14912339, 7.50320784,\n",
    "       7.82524909, 8.09915767, 8.31006362, 8.44460563, 8.49135177,\n",
    "       8.44137275, 8.28892998, 8.03218582, 7.67380562, 7.22130978,\n",
    "       6.68705284, 6.08775321, 5.4435635 , 4.77674478, 4.11007505,\n",
    "       3.4651699 , 2.8609131 , 2.31218265, 1.82901731, 1.41630529,\n",
    "       1.07400423, 0.79782993, 0.58029367, 0.4119312 , 0.28255644])"
   ]
  },
  {
   "cell_type": "code",
   "execution_count": 1111,
   "metadata": {},
   "outputs": [],
   "source": [
    "lamda_gc=np.array([0.89007704, 0.86294998, 0.83826827, 0.8171089 , 0.80020691,\n",
    "       0.78787569, 0.78000316, 0.7761269 , 0.77557848, 0.77767234,\n",
    "       0.78189973, 0.78807955, 0.79642678, 0.80752518, 0.82222584,\n",
    "       0.84151925, 0.86643684, 0.89802693, 0.93742781, 0.98603441,\n",
    "       1.04573031, 1.11913704, 1.20982078, 1.3223926 , 1.46243797,\n",
    "       1.63620888, 1.85001169, 2.10924827, 2.41714858, 2.77338049,\n",
    "       3.1728864 , 3.60536291, 4.05566305, 4.50508272, 4.93317875,\n",
    "       5.3196772 , 5.64621632, 5.89794012, 6.06504529, 6.14418573,\n",
    "       6.13931766, 6.06144061, 5.92695459, 5.75491248, 5.56395073,\n",
    "       5.36980902, 5.18405529, 5.01413447, 4.86442466, 4.73775664,\n",
    "       4.63683536, 4.56514212, 4.52712615, 4.52773127, 4.57146776,\n",
    "       4.66129597, 4.79757144, 4.97727786, 5.19377021, 5.43721202,\n",
    "       5.6957298 , 5.95701319, 6.20980313, 6.44466007, 6.65371336,\n",
    "       6.82963456, 6.96454668, 7.04970224, 7.07643963, 7.03827709,\n",
    "       6.93331891, 6.76581403, 6.54598803, 6.28807104, 6.0072966 ,\n",
    "       5.71704152, 5.42705608, 5.14313928, 4.86801959, 4.60284212,\n",
    "       4.34858567, 4.1068929 , 3.88010835, 3.67066397, 3.48018822,\n",
    "       3.30875998, 3.15460402, 3.01432902, 2.88362798, 2.75822936,\n",
    "       2.63481475, 2.51162455, 2.38857962, 2.26692819, 2.14860179,\n",
    "       2.03554158, 1.92921157, 1.83039462, 1.73924578, 1.65550364])"
   ]
  },
  {
   "cell_type": "code",
   "execution_count": 722,
   "metadata": {},
   "outputs": [],
   "source": [
    "points_rescale_MISD_6=time_rescaling(np.sort(training[15]),u_misd_6,phi_misd_6,T_phi)"
   ]
  },
  {
   "cell_type": "code",
   "execution_count": 723,
   "metadata": {},
   "outputs": [],
   "source": [
    "points_rescale_MISD_6=1-np.exp(-np.array(points_rescale_MISD_6)+np.array([points_rescale_MISD_6[0]]+points_rescale_MISD_6[:-1]))"
   ]
  },
  {
   "cell_type": "code",
   "execution_count": 759,
   "metadata": {},
   "outputs": [],
   "source": [
    "points_rescale_MISD_8=time_rescaling(np.sort(training[15]),u_misd_8,phi_misd_8,T_phi)"
   ]
  },
  {
   "cell_type": "code",
   "execution_count": 760,
   "metadata": {},
   "outputs": [],
   "source": [
    "points_rescale_MISD_8=1-np.exp(-np.array(points_rescale_MISD_8)+np.array([points_rescale_MISD_8[0]]+points_rescale_MISD_8[:-1]))"
   ]
  },
  {
   "cell_type": "code",
   "execution_count": 724,
   "metadata": {},
   "outputs": [],
   "source": [
    "points_rescale_wh=time_rescaling(np.sort(training[15]),u_wh,phi_wh,T_phi)"
   ]
  },
  {
   "cell_type": "code",
   "execution_count": 725,
   "metadata": {},
   "outputs": [],
   "source": [
    "points_rescale_wh=1-np.exp(-np.array(points_rescale_wh)+np.array([points_rescale_wh[0]]+points_rescale_wh[:-1]))"
   ]
  },
  {
   "cell_type": "code",
   "execution_count": 749,
   "metadata": {},
   "outputs": [],
   "source": [
    "points_rescale_ph=time_rescaling_exp(np.sort(training[15]),res_ave)"
   ]
  },
  {
   "cell_type": "code",
   "execution_count": 750,
   "metadata": {},
   "outputs": [],
   "source": [
    "points_rescale_ph=1-np.exp(-np.array(points_rescale_ph)+np.array([points_rescale_ph[0]]+points_rescale_ph[:-1]))"
   ]
  },
  {
   "cell_type": "code",
   "execution_count": 728,
   "metadata": {},
   "outputs": [],
   "source": [
    "points_rescale_var=time_rescaling_mu(np.sort(training[15]),mu_var,phi_var,T_phi,T)"
   ]
  },
  {
   "cell_type": "code",
   "execution_count": 729,
   "metadata": {},
   "outputs": [],
   "source": [
    "points_rescale_var=1-np.exp(-np.array(points_rescale_var)+np.array([points_rescale_var[0]]+points_rescale_var[:-1]))"
   ]
  },
  {
   "cell_type": "code",
   "execution_count": 743,
   "metadata": {},
   "outputs": [],
   "source": [
    "points_rescale_rkhs=time_rescaling_inhomopoisson(np.sort(training[15]),lamda_rkhs,T)"
   ]
  },
  {
   "cell_type": "code",
   "execution_count": 744,
   "metadata": {},
   "outputs": [],
   "source": [
    "points_rescale_rkhs=1-np.exp(-np.array(points_rescale_rkhs)+np.array([points_rescale_rkhs[0]]+points_rescale_rkhs[:-1]))"
   ]
  },
  {
   "cell_type": "code",
   "execution_count": 755,
   "metadata": {},
   "outputs": [],
   "source": [
    "points_rescale_gc=time_rescaling_inhomopoisson(np.sort(training[15]),lamda_gc,T)"
   ]
  },
  {
   "cell_type": "code",
   "execution_count": 756,
   "metadata": {},
   "outputs": [],
   "source": [
    "points_rescale_gc=1-np.exp(-np.array(points_rescale_gc)+np.array([points_rescale_gc[0]]+points_rescale_gc[:-1]))"
   ]
  },
  {
   "cell_type": "code",
   "execution_count": 779,
   "metadata": {},
   "outputs": [
    {
     "data": {
      "image/png": "[encoded data removed]",
      "text/plain": [
       "<Figure size 360x360 with 1 Axes>"
      ]
     },
     "metadata": {
      "needs_background": "light"
     },
     "output_type": "display_data"
    }
   ],
   "source": [
    "plt.figure(1,figsize=(5,5))\n",
    "a = np.random.uniform(0,1,len(points_rescale_MISD_6))\n",
    "percs = np.linspace(0,100,201)\n",
    "qn_a = np.percentile(a, percs)\n",
    "# qn_misd_6 = np.percentile(points_rescale_MISD_6, percs)\n",
    "qn_misd_8 = np.percentile(points_rescale_MISD_8, percs)\n",
    "qn_ph = np.percentile(points_rescale_ph, percs)\n",
    "qn_wh = np.percentile(points_rescale_wh, percs)\n",
    "qn_var = np.percentile(points_rescale_var, percs)\n",
    "qn_rkhs = np.percentile(points_rescale_rkhs, percs)\n",
    "qn_gc = np.percentile(points_rescale_gc, percs)\n",
    "# plt.plot(qn_a,qn_misd_6, ls='-', marker=\"o\",markersize=3,label='MISD-6')\n",
    "# plt.plot(qn_a,qn_misd_8, ls='-', marker=\"o\",markersize=3,label='MISD-8')\n",
    "# plt.plot(qn_a,qn_ph, ls='-', marker=\"o\",markersize=3,label='PH')\n",
    "plt.plot(qn_a,qn_wh, ls='-', marker=\"o\",markersize=3,label='WH')\n",
    "plt.plot(qn_a,qn_var, ls='-', marker=\"^\",markersize=3,label='EMV')\n",
    "plt.plot(qn_a,qn_rkhs, ls='-', marker=\"*\",markersize=3,label='GC')\n",
    "# plt.plot(qn_a,qn_gc, ls='-', marker=\"o\",markersize=3,label='GC')\n",
    "\n",
    "x = np.linspace(qn_a.min(),qn_a.max())\n",
    "plt.plot(x,x, color=\"k\", ls=\"--\")\n",
    "plt.legend()\n",
    "plt.savefig('c:/Users/zho045/Desktop/QQ_collision',bbox_inches = 'tight')\n",
    "plt.show()"
   ]
  },
  {
   "cell_type": "code",
   "execution_count": null,
   "metadata": {},
   "outputs": [],
   "source": []
  },
  {
   "cell_type": "markdown",
   "metadata": {},
   "source": [
    "## prediction point using history"
   ]
  },
  {
   "cell_type": "code",
   "execution_count": 1112,
   "metadata": {},
   "outputs": [],
   "source": [
    "def intensity(t,history,parameters):    #left continue\n",
    "    mu=parameters[0]\n",
    "    alpha=parameters[1]\n",
    "    beta=parameters[2]\n",
    "    intensity=0\n",
    "    for i in range(len(history)):\n",
    "        if history[i]>=t:\n",
    "            break\n",
    "        intensity+=alpha*np.exp(-beta*(t-history[i]))\n",
    "    return mu+intensity"
   ]
  },
  {
   "cell_type": "code",
   "execution_count": 1113,
   "metadata": {},
   "outputs": [],
   "source": [
    "def hawkes_prediction_next(history,parameters,num): ## parametric Hawkes\n",
    "    t_i_1_list=[]\n",
    "    intensity_sup=intensity(history[-1],history,parameters)+parameters[1]\n",
    "    while(len(t_i_1_list)<num):\n",
    "        r=expon.rvs(scale=1/intensity_sup) #scale=1/lamda\n",
    "        t_i_1=history[-1]+r\n",
    "        D=uniform.rvs(loc=0,scale=1)\n",
    "        intensity_t_i_1=intensity(t_i_1,history,parameters)\n",
    "        assert intensity_t_i_1<=intensity_sup, 'sup is not sup'\n",
    "        if D*intensity_sup<=intensity_t_i_1:\n",
    "            t_i_1_list.append(t_i_1)\n",
    "    return np.average(t_i_1_list)"
   ]
  },
  {
   "cell_type": "code",
   "execution_count": 1114,
   "metadata": {},
   "outputs": [],
   "source": [
    "def intensity_discrete(t,history,u,g_mean,T_phi):    #left continue, the intensity is a gaussian dist\n",
    "    mu=u\n",
    "    N=len(g_mean)\n",
    "    intensity_mean=0\n",
    "    for i in range(len(history)):\n",
    "        if history[i]>=t:\n",
    "            break\n",
    "        delta_t=t-history[i]\n",
    "        if delta_t<T_phi:\n",
    "            intensity_mean+=g_mean[int(delta_t*N/T_phi)]\n",
    "    return mu+intensity_mean"
   ]
  },
  {
   "cell_type": "code",
   "execution_count": 1128,
   "metadata": {},
   "outputs": [],
   "source": [
    "def hawkes_prediction_next_discre_phi(history,mu,phi,T_phi,num):\n",
    "    t_i_1_list=[]\n",
    "    jump=max(phi)*30\n",
    "    intensity_sup=intensity_discrete(history[-1],history,mu,phi,T_phi)+jump\n",
    "    while(len(t_i_1_list)<num):\n",
    "        r=expon.rvs(scale=1/intensity_sup) #scale=1/lamda\n",
    "        t_i_1=history[-1]+r\n",
    "        D=uniform.rvs(loc=0,scale=1)\n",
    "        intensity_t_i_1=intensity_discrete(t_i_1,history,mu,phi,T_phi)\n",
    "        assert intensity_t_i_1<=intensity_sup, print(intensity_t_i_1,intensity_sup)\n",
    "        if D*intensity_sup<=intensity_t_i_1:\n",
    "            t_i_1_list.append(t_i_1)\n",
    "    return np.average(t_i_1_list)"
   ]
  },
  {
   "cell_type": "code",
   "execution_count": 1129,
   "metadata": {},
   "outputs": [],
   "source": [
    "def intensity_discrete_phi_mu(t,history,u,g_mean,g_range,T):    #left continue\n",
    "    mu=u\n",
    "    N=len(g_mean)\n",
    "    M=len(mu)\n",
    "    intensity_mean=0\n",
    "    for i in range(len(history)):\n",
    "        if history[i]>=t:\n",
    "            break\n",
    "        delta_t=t-history[i]\n",
    "        if delta_t<g_range:\n",
    "            intensity_mean+=g_mean[int(delta_t*N/g_range)]\n",
    "    result=mu[int(t/T*M)]+intensity_mean\n",
    "    return result"
   ]
  },
  {
   "cell_type": "code",
   "execution_count": 1130,
   "metadata": {},
   "outputs": [],
   "source": [
    "def hawkes_prediction_next_discrete_phi_mu(history,mu,phi,T_phi,T,num):\n",
    "    t_i_1_list=[]\n",
    "    jump0=max(mu)-mu[int(history[-1]/(T/len(mu)))]\n",
    "    jump1=max(phi)*20\n",
    "    intensity_sup=intensity_discrete_phi_mu(history[-1],history,mu,phi,T_phi,T)+jump0+jump1\n",
    "    while(len(t_i_1_list)<num):\n",
    "        r=expon.rvs(scale=1/intensity_sup)\n",
    "        t_i_1=history[-1]+r\n",
    "        D=uniform.rvs(loc=0,scale=1)\n",
    "        intensity_t_i_1=intensity_discrete_phi_mu(t_i_1,history,mu,phi,T_phi,T)\n",
    "        assert intensity_t_i_1<=intensity_sup, 'sup is not sup'\n",
    "        if D*intensity_sup<=intensity_t_i_1:\n",
    "            t_i_1_list.append(t_i_1)\n",
    "    return np.average(t_i_1_list)"
   ]
  },
  {
   "cell_type": "code",
   "execution_count": 1131,
   "metadata": {},
   "outputs": [],
   "source": [
    "def poisson_prediction_next(history,lamda,T,num):\n",
    "    t_i_1_list=[]\n",
    "    intensity_sup=max(lamda[int(history[-1]/(T/len(lamda))):])\n",
    "    while(len(t_i_1_list)<num):\n",
    "        t_i_1=history[-1]\n",
    "        while(1):\n",
    "            r=expon.rvs(scale=1/intensity_sup)\n",
    "            t_i_1+=r\n",
    "            intensity_t_i_1=lamda[int(t_i_1/(T/len(lamda)))]\n",
    "            assert intensity_t_i_1<=intensity_sup, 'sup is not sup'\n",
    "            D=uniform.rvs(loc=0,scale=1)\n",
    "            if D*intensity_sup<=intensity_t_i_1:\n",
    "                t_i_1_list.append(t_i_1)\n",
    "                break\n",
    "    return np.average(t_i_1_list)"
   ]
  },
  {
   "cell_type": "markdown",
   "metadata": {},
   "source": [
    "## PH prediction"
   ]
  },
  {
   "cell_type": "code",
   "execution_count": 1120,
   "metadata": {},
   "outputs": [
    {
     "data": {
      "text/plain": [
       "603"
      ]
     },
     "execution_count": 1120,
     "metadata": {},
     "output_type": "execute_result"
    }
   ],
   "source": [
    "len(training[12])"
   ]
  },
  {
   "cell_type": "code",
   "execution_count": 1225,
   "metadata": {},
   "outputs": [],
   "source": [
    "peerr_ph_ave=[]\n",
    "for i in range(12,17):\n",
    "    preerr_ph=[]\n",
    "    for j in range(300):\n",
    "        preerr_ph.append((training[i][100+j]-hawkes_prediction_next(training[i][:100+j],res_ave,400))**2)\n",
    "    peerr_ph_ave.append((sum(np.array(preerr_ph)<0.015))/300)"
   ]
  },
  {
   "cell_type": "code",
   "execution_count": 1226,
   "metadata": {},
   "outputs": [
    {
     "data": {
      "text/plain": [
       "0.6060000000000001"
      ]
     },
     "execution_count": 1226,
     "metadata": {},
     "output_type": "execute_result"
    }
   ],
   "source": [
    "np.average(peerr_ph_ave)"
   ]
  },
  {
   "cell_type": "markdown",
   "metadata": {},
   "source": [
    "## GC prediction"
   ]
  },
  {
   "cell_type": "code",
   "execution_count": 1238,
   "metadata": {},
   "outputs": [],
   "source": [
    "preerr_gc_ave=[]\n",
    "for i in range(12,17):\n",
    "    preerr_gc=[]\n",
    "    for j in range(300):\n",
    "        preerr_gc.append((training[i][100+j]-poisson_prediction_next(training[i][:100+j],lamda_gc,T,400))**2)\n",
    "    preerr_gc_ave.append(sum(np.array(preerr_gc)<0.015)/300)"
   ]
  },
  {
   "cell_type": "code",
   "execution_count": 1219,
   "metadata": {},
   "outputs": [
    {
     "data": {
      "text/plain": [
       "0.2025"
      ]
     },
     "execution_count": 1219,
     "metadata": {},
     "output_type": "execute_result"
    }
   ],
   "source": [
    "sum(np.array(preerr_gc)<0.015)/400"
   ]
  },
  {
   "cell_type": "code",
   "execution_count": 1239,
   "metadata": {},
   "outputs": [
    {
     "data": {
      "text/plain": [
       "0.1733333333333333"
      ]
     },
     "execution_count": 1239,
     "metadata": {},
     "output_type": "execute_result"
    }
   ],
   "source": [
    "np.average(preerr_gc_ave)"
   ]
  },
  {
   "cell_type": "markdown",
   "metadata": {},
   "source": [
    "## RKHS prediction"
   ]
  },
  {
   "cell_type": "code",
   "execution_count": 1240,
   "metadata": {},
   "outputs": [],
   "source": [
    "preerr_rkhs_ave=[]\n",
    "for i in range(12,17):\n",
    "    preerr_rkhs=[]\n",
    "    for j in range(300):\n",
    "        preerr_rkhs.append((training[i][100+j]-poisson_prediction_next(training[i][:100+j],lamda_rkhs,T,400))**2)\n",
    "    preerr_rkhs_ave.append(sum(np.array(preerr_rkhs)<0.015)/300)"
   ]
  },
  {
   "cell_type": "code",
   "execution_count": 1241,
   "metadata": {},
   "outputs": [
    {
     "data": {
      "text/plain": [
       "0.292"
      ]
     },
     "execution_count": 1241,
     "metadata": {},
     "output_type": "execute_result"
    }
   ],
   "source": [
    "np.average(preerr_rkhs_ave)"
   ]
  },
  {
   "cell_type": "markdown",
   "metadata": {},
   "source": [
    "## MISD-6 prediction"
   ]
  },
  {
   "cell_type": "code",
   "execution_count": 1230,
   "metadata": {},
   "outputs": [],
   "source": [
    "preerr_misd_6_ave=[]\n",
    "for i in range(12,17):\n",
    "    preerr_misd_6=[]\n",
    "    for j in range(300):\n",
    "        preerr_misd_6.append((training[i][100+j]-hawkes_prediction_next_discre_phi(training[i][:100+j],u_misd_6,phi_misd_6,T_phi,400))**2)\n",
    "    preerr_misd_6_ave.append(sum(np.array(preerr_misd_6)<0.015)/300)"
   ]
  },
  {
   "cell_type": "code",
   "execution_count": 1231,
   "metadata": {},
   "outputs": [
    {
     "data": {
      "text/plain": [
       "0.6766666666666666"
      ]
     },
     "execution_count": 1231,
     "metadata": {},
     "output_type": "execute_result"
    }
   ],
   "source": [
    "np.average(preerr_misd_6_ave)"
   ]
  },
  {
   "cell_type": "markdown",
   "metadata": {},
   "source": [
    "## MISD-8 prediction"
   ]
  },
  {
   "cell_type": "code",
   "execution_count": 1232,
   "metadata": {},
   "outputs": [],
   "source": [
    "preerr_misd_8_ave=[]\n",
    "for i in range(12,17):\n",
    "    preerr_misd_8=[]\n",
    "    for j in range(300):\n",
    "        preerr_misd_8.append((training[i][100+j]-hawkes_prediction_next_discre_phi(training[i][:100+j],u_misd_8,phi_misd_8,T_phi,400))**2)\n",
    "    preerr_misd_8_ave.append(sum(np.array(preerr_misd_8)<0.015)/300)"
   ]
  },
  {
   "cell_type": "code",
   "execution_count": 1233,
   "metadata": {},
   "outputs": [
    {
     "data": {
      "text/plain": [
       "0.6766666666666666"
      ]
     },
     "execution_count": 1233,
     "metadata": {},
     "output_type": "execute_result"
    }
   ],
   "source": [
    "np.average(preerr_misd_8_ave)"
   ]
  },
  {
   "cell_type": "markdown",
   "metadata": {},
   "source": [
    "## WH prediction"
   ]
  },
  {
   "cell_type": "code",
   "execution_count": 1234,
   "metadata": {},
   "outputs": [],
   "source": [
    "preerr_wh_ave=[]\n",
    "for i in range(12,17):\n",
    "    preerr_wh=[]\n",
    "    for j in range(300):\n",
    "        preerr_wh.append((training[i][100+j]-hawkes_prediction_next_discre_phi(training[i][:100+j],u_wh,phi_wh,T_phi,400))**2)\n",
    "    preerr_wh_ave.append(sum(np.array(preerr_wh)<0.015)/300)"
   ]
  },
  {
   "cell_type": "code",
   "execution_count": 1235,
   "metadata": {},
   "outputs": [
    {
     "data": {
      "text/plain": [
       "0.6733333333333333"
      ]
     },
     "execution_count": 1235,
     "metadata": {},
     "output_type": "execute_result"
    }
   ],
   "source": [
    "np.average(preerr_wh_ave)"
   ]
  },
  {
   "cell_type": "markdown",
   "metadata": {},
   "source": [
    "## EMV prediction"
   ]
  },
  {
   "cell_type": "code",
   "execution_count": 1236,
   "metadata": {},
   "outputs": [],
   "source": [
    "preerr_emv_ave=[]\n",
    "for i in range(12,17):\n",
    "    preerr_emv=[]\n",
    "    for j in range(300):\n",
    "        preerr_emv.append((training[i][100+j]-hawkes_prediction_next_discrete_phi_mu(training[i][:100+j],mu_var,phi_var,T_phi,T,400))**2)\n",
    "    preerr_emv_ave.append(sum(np.array(preerr_emv)<0.015)/300)"
   ]
  },
  {
   "cell_type": "code",
   "execution_count": 1237,
   "metadata": {},
   "outputs": [
    {
     "data": {
      "text/plain": [
       "0.7173333333333333"
      ]
     },
     "execution_count": 1237,
     "metadata": {},
     "output_type": "execute_result"
    }
   ],
   "source": [
    "np.average(preerr_emv_ave)"
   ]
  },
  {
   "cell_type": "code",
   "execution_count": null,
   "metadata": {},
   "outputs": [],
   "source": []
  }
 ],
 "metadata": {
  "kernelspec": {
   "display_name": "Python 3",
   "language": "python",
   "name": "python3"
  },
  "language_info": {
   "codemirror_mode": {
    "name": "ipython",
    "version": 3
   },
   "file_extension": ".py",
   "mimetype": "text/x-python",
   "name": "python",
   "nbconvert_exporter": "python",
   "pygments_lexer": "ipython3",
   "version": "3.6.7"
  }
 },
 "nbformat": 4,
 "nbformat_minor": 2
}
