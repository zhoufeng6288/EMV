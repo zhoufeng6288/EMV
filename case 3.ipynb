{
 "cells": [
  {
   "cell_type": "code",
   "execution_count": 25,
   "metadata": {},
   "outputs": [],
   "source": [
    "import numpy as np\n",
    "import matplotlib.pyplot as plt\n",
    "from scipy import optimize\n",
    "from scipy.stats import expon\n",
    "from scipy.stats import uniform\n",
    "from scipy.stats import multivariate_normal\n",
    "from scipy.stats import norm\n",
    "from scipy.special import erf\n",
    "from scipy.special import hyp1f1\n",
    "from scipy.linalg import eigh\n",
    "from random import randint\n",
    "from scipy.optimize import fsolve\n",
    "from scipy.optimize import root\n",
    "from numpy.polynomial import legendre"
   ]
  },
  {
   "cell_type": "markdown",
   "metadata": {},
   "source": [
    "## simulation"
   ]
  },
  {
   "cell_type": "code",
   "execution_count": 26,
   "metadata": {},
   "outputs": [],
   "source": [
    "def intensity(t,history,parameters):    #left continue, phi(tau)=1/4 sin(tau) 0<tau<pi\n",
    "    mu=parameters[0]\n",
    "    alpha=parameters[1]\n",
    "    intensity=0\n",
    "    for i in range(len(history)):\n",
    "        if history[i]>=t:\n",
    "            break\n",
    "        elif (t-history[i])<np.pi:\n",
    "            intensity+=alpha*np.sin(t-history[i])\n",
    "    return mu+intensity"
   ]
  },
  {
   "cell_type": "code",
   "execution_count": 27,
   "metadata": {},
   "outputs": [],
   "source": [
    "def hawkes_simulation_sin(T,parameters):\n",
    "    t=0\n",
    "    points_homo=[]\n",
    "    points_hawkes=[]\n",
    "    intensity_sup=parameters[0]\n",
    "    while(t<T):\n",
    "        points_homo.append(t)\n",
    "        r=expon.rvs(scale=1/intensity_sup) #scale=1/lamda\n",
    "        t+=r\n",
    "        D=uniform.rvs(loc=0,scale=1)\n",
    "        if D*intensity_sup<=intensity(t,points_hawkes,parameters):\n",
    "            points_hawkes.append(t)\n",
    "            intensity_sup=intensity(t,points_hawkes,parameters)+parameters[1]\n",
    "    if points_hawkes[-1]>T:\n",
    "        del points_hawkes[-1]\n",
    "    del points_homo[0]\n",
    "    return points_hawkes"
   ]
  },
  {
   "cell_type": "code",
   "execution_count": 297,
   "metadata": {},
   "outputs": [],
   "source": [
    "T=100"
   ]
  },
  {
   "cell_type": "code",
   "execution_count": 506,
   "metadata": {},
   "outputs": [],
   "source": [
    "points_hawkes=[]"
   ]
  },
  {
   "cell_type": "code",
   "execution_count": 507,
   "metadata": {},
   "outputs": [],
   "source": [
    "for i in range(10):\n",
    "    points_hawkes.append(hawkes_simulation_sin(T,[1,0.25]))"
   ]
  },
  {
   "cell_type": "code",
   "execution_count": 508,
   "metadata": {},
   "outputs": [
    {
     "data": {
      "text/plain": [
       "10"
      ]
     },
     "execution_count": 508,
     "metadata": {},
     "output_type": "execute_result"
    }
   ],
   "source": [
    "len(points_hawkes)"
   ]
  },
  {
   "cell_type": "code",
   "execution_count": null,
   "metadata": {},
   "outputs": [],
   "source": []
  },
  {
   "cell_type": "code",
   "execution_count": 509,
   "metadata": {},
   "outputs": [],
   "source": [
    "def negtiveloglikelyhood1(parameters, times, T): #times=timestamp t1-tn; T is timespan      fast:R(i)\n",
    "    times=np.array(times)\n",
    "    \n",
    "    mu=parameters[0]\n",
    "    alpha=parameters[1]\n",
    "    beta=parameters[2]\n",
    "    \n",
    "    timedifference=T-times #T-t0...T-t(n-1) \n",
    "    timeexponential=np.exp(-beta*timedifference)-1\n",
    "    secondsum=alpha/beta*sum(timeexponential)\n",
    "    \n",
    "    R=np.zeros((len(times),1))\n",
    "    for i in range(1,len(times)):\n",
    "        R[i]=np.exp(-beta*(times[i]-times[i-1]))*(1+R[i-1])\n",
    "    firstsum=sum(np.log(mu+alpha*R))  #left-continuous\n",
    "    \n",
    "    negtivelogl=-(firstsum-mu*T+secondsum)\n",
    "    return negtivelogl"
   ]
  },
  {
   "cell_type": "code",
   "execution_count": 517,
   "metadata": {},
   "outputs": [],
   "source": [
    "res=[]"
   ]
  },
  {
   "cell_type": "code",
   "execution_count": 518,
   "metadata": {
    "scrolled": true
   },
   "outputs": [
    {
     "name": "stdout",
     "output_type": "stream",
     "text": [
      "Optimization terminated successfully.    (Exit mode 0)\n",
      "            Current function value: 68.13261852996898\n",
      "            Iterations: 42\n",
      "            Function evaluations: 236\n",
      "            Gradient evaluations: 40\n",
      "Optimization terminated successfully.    (Exit mode 0)\n",
      "            Current function value: 95.38132982228386\n",
      "            Iterations: 15\n",
      "            Function evaluations: 76\n",
      "            Gradient evaluations: 15\n",
      "Optimization terminated successfully.    (Exit mode 0)\n",
      "            Current function value: 68.72140569869099\n",
      "            Iterations: 6\n",
      "            Function evaluations: 32\n",
      "            Gradient evaluations: 6\n",
      "Optimization terminated successfully.    (Exit mode 0)\n",
      "            Current function value: 64.78904529787418\n",
      "            Iterations: 15\n",
      "            Function evaluations: 76\n",
      "            Gradient evaluations: 15\n",
      "Optimization terminated successfully.    (Exit mode 0)\n",
      "            Current function value: 37.58555379550717\n",
      "            Iterations: 21\n",
      "            Function evaluations: 118\n",
      "            Gradient evaluations: 21\n",
      "Optimization terminated successfully.    (Exit mode 0)\n",
      "            Current function value: 84.3335564518307\n",
      "            Iterations: 35\n",
      "            Function evaluations: 192\n",
      "            Gradient evaluations: 34\n",
      "Optimization terminated successfully.    (Exit mode 0)\n",
      "            Current function value: 55.86706377829722\n",
      "            Iterations: 20\n",
      "            Function evaluations: 113\n",
      "            Gradient evaluations: 20\n",
      "Optimization terminated successfully.    (Exit mode 0)\n",
      "            Current function value: 55.283166472353514\n",
      "            Iterations: 22\n",
      "            Function evaluations: 122\n",
      "            Gradient evaluations: 22\n",
      "Optimization terminated successfully.    (Exit mode 0)\n",
      "            Current function value: 61.85474671241323\n",
      "            Iterations: 36\n",
      "            Function evaluations: 203\n",
      "            Gradient evaluations: 36\n",
      "Optimization terminated successfully.    (Exit mode 0)\n",
      "            Current function value: 53.089895791257646\n",
      "            Iterations: 23\n",
      "            Function evaluations: 127\n",
      "            Gradient evaluations: 22\n"
     ]
    }
   ],
   "source": [
    "for i in range(10):\n",
    "    parameters=np.array([1.2,0.7,3])\n",
    "    result=optimize.minimize(negtiveloglikelyhood1, parameters,args=(points_hawkes[i],T), method='SLSQP', bounds=((0.01,5),(0.01,5),(0.01,5)), options={'disp': True})\n",
    "    res.append(result.x)"
   ]
  },
  {
   "cell_type": "code",
   "execution_count": 519,
   "metadata": {},
   "outputs": [],
   "source": [
    "res_ave=np.average(res,axis=0)"
   ]
  },
  {
   "cell_type": "code",
   "execution_count": 600,
   "metadata": {},
   "outputs": [
    {
     "data": {
      "text/plain": [
       "array([1.19901363, 0.13731366, 1.60064114])"
      ]
     },
     "execution_count": 600,
     "metadata": {},
     "output_type": "execute_result"
    }
   ],
   "source": [
    "res_ave"
   ]
  },
  {
   "cell_type": "code",
   "execution_count": 520,
   "metadata": {},
   "outputs": [],
   "source": [
    "def expo_quad_kernel(theta0,theta1,xn,xm):\n",
    "    return theta0*np.exp(-theta1/2*np.sum((xn - xm)**2))"
   ]
  },
  {
   "cell_type": "code",
   "execution_count": 521,
   "metadata": {},
   "outputs": [],
   "source": [
    "def GP_regression(xi,yi,theta0,theta1,noise_var,rang,num_points):\n",
    "    N=len(xi)\n",
    "    cov_K=np.zeros((N,N))\n",
    "    for i in range(N):\n",
    "        for j in range(i,N):\n",
    "            cov_K[i][j]=expo_quad_kernel(theta0,theta1,xi[i],xi[j])\n",
    "            cov_K[j][i]=cov_K[i][j]\n",
    "    min_eig=np.min(np.real(np.linalg.eigvals(cov_K))) # numerical float truncation error refine\n",
    "    while(min_eig<0):\n",
    "        cov_K += -10*min_eig*np.eye(cov_K.shape[0])\n",
    "        min_eig=np.min(np.real(np.linalg.eigvals(cov_K)))\n",
    "    \n",
    "    cov_K_noise=cov_K+np.eye(N)*noise_var\n",
    "    \n",
    "    x1=np.linspace(0,rang,num_points+1)      # prediction points, integer is to make it easy\n",
    "    M=len(x1)-1\n",
    "    mean=np.zeros((1,M))[0]\n",
    "    posterior_cov=np.zeros((M,M))\n",
    "    k_matrix=np.zeros((M,N))\n",
    "    k_matrix_pre=np.zeros((M,M))\n",
    "    for i in range(M):\n",
    "        for j in range(N):\n",
    "            k_matrix[i][j]=expo_quad_kernel(theta0,theta1,x1[i],xi[j])\n",
    "    k_C=np.dot(k_matrix,np.linalg.inv(cov_K_noise))\n",
    "    mean=np.dot(k_C,yi)\n",
    "    for i in range(M):\n",
    "        for j in range(i,M):\n",
    "            k_matrix_pre[i][j]=expo_quad_kernel(theta0,theta1,x1[i],x1[j])\n",
    "            k_matrix_pre[j][i]=k_matrix_pre[i][j]\n",
    "    posterior_cov=k_matrix_pre-np.dot(k_C,k_matrix.T)+np.eye(M)*noise_var\n",
    "    min_eig=np.min(np.real(np.linalg.eigvals(posterior_cov))) # numerical float truncation error refine\n",
    "    while(min_eig<0):\n",
    "        posterior_cov += -10*min_eig*np.eye(posterior_cov.shape[0])\n",
    "        min_eig=np.min(np.real(np.linalg.eigvals(posterior_cov)))\n",
    "    return x1[:num_points],mean, posterior_cov"
   ]
  },
  {
   "cell_type": "code",
   "execution_count": 522,
   "metadata": {},
   "outputs": [],
   "source": [
    "def u_generate(theta0,theta1,xi): # xi is inducing points, N(0,Sigma)\n",
    "    N=len(xi)\n",
    "    cov=np.zeros((N,N))\n",
    "    for i in range(N):\n",
    "        for j in range(i,N):\n",
    "            cov[i][j]=expo_quad_kernel(theta0,theta1,xi[i],xi[j])\n",
    "            cov[j][i]=cov[i][j]\n",
    "    return multivariate_normal([0]*N,cov).rvs(),np.array([0]*N),cov"
   ]
  },
  {
   "cell_type": "code",
   "execution_count": 523,
   "metadata": {},
   "outputs": [],
   "source": [
    "T_phi=6"
   ]
  },
  {
   "cell_type": "code",
   "execution_count": 524,
   "metadata": {},
   "outputs": [],
   "source": [
    "xi=np.linspace(0,T_phi,10)   # 10 inducing points on \\phi(\\tau)"
   ]
  },
  {
   "cell_type": "code",
   "execution_count": 525,
   "metadata": {},
   "outputs": [],
   "source": [
    "theta0=0.05\n",
    "theta1=4"
   ]
  },
  {
   "cell_type": "code",
   "execution_count": 526,
   "metadata": {},
   "outputs": [],
   "source": [
    "u,mean_p_u,cov_p_u=u_generate(theta0,theta1,xi)"
   ]
  },
  {
   "cell_type": "code",
   "execution_count": 527,
   "metadata": {},
   "outputs": [],
   "source": [
    "f=GP_regression(xi,u,theta0,theta1,0.000001,T_phi,100) # f is 100-dimension vector on [0,T_phi]"
   ]
  },
  {
   "cell_type": "code",
   "execution_count": 528,
   "metadata": {},
   "outputs": [],
   "source": [
    "def ini_P(points_hawkes,T_phi):\n",
    "    N=len(points_hawkes)\n",
    "    P=np.zeros((N,N))\n",
    "    for i in range(N):                    # initial value of P\n",
    "        for j in range(i+1):\n",
    "            tij=points_hawkes[i]-points_hawkes[j]\n",
    "            if tij>=T_phi:continue\n",
    "            else:\n",
    "                P[i][j:i+1]=np.random.dirichlet([1]*(i-j+1))\n",
    "                break\n",
    "    return P"
   ]
  },
  {
   "cell_type": "code",
   "execution_count": 529,
   "metadata": {},
   "outputs": [],
   "source": [
    "def psi(theta0,theta1,xn,xm,T):\n",
    "    x_mean=(xn+xm)/2\n",
    "    return (theta0**2)*(-np.sqrt(np.pi/theta1)/2)*np.exp((-theta1*(xn-xm)**2)/4)*(erf((x_mean-T)*np.sqrt(theta1))\\\n",
    "                                                                                  -erf(x_mean*np.sqrt(theta1)))"
   ]
  },
  {
   "cell_type": "code",
   "execution_count": 530,
   "metadata": {},
   "outputs": [],
   "source": [
    "def distribution_f_posterior(x_f,xi,theta0,theta1,cov_p_u,cov_q_u_post):\n",
    "    N=len(xi) # N is number of inducing points\n",
    "    M=len(x_f) # M is number of predicting points\n",
    "    \n",
    "    cov_p_u_inv=np.linalg.inv(cov_p_u)\n",
    "    \n",
    "    K_xz=np.zeros((M,N))\n",
    "    for i in range(M):\n",
    "        for j in range(N):\n",
    "            K_xz[i][j]=expo_quad_kernel(theta0,theta1,x_f[i],xi[j])\n",
    "#     K_xx=np.zeros((M,M))\n",
    "#     for i in range(M):\n",
    "#         for j in range(i,M):\n",
    "#             K_xx[i][j]=expo_quad_kernel(theta0,theta1,x_f[i],x_f[j])\n",
    "#             K_xx[j][i]=K_xx[i][j]\n",
    "#     mean_f=(K_xz.dot(cov_p_u_inv)).dot(mean_q_u_post)\n",
    "#     cov_f=K_xx-(K_xz.dot(cov_p_u_inv)).dot(K_xz.T)+(((K_xz.dot(cov_p_u_inv)).dot(cov_q_u_post)).dot(cov_p_u_inv)).dot(K_xz.T)\n",
    "    var_f=np.array([theta0-K_xz[i].dot(cov_p_u_inv).dot(K_xz[i].T)+(((K_xz[i].dot(cov_p_u_inv)).dot(cov_q_u_post)).dot(cov_p_u_inv)).dot(K_xz[i].T) for i in range(M)])\n",
    "    \n",
    "    exp_phi=var_f\n",
    "    return exp_phi"
   ]
  },
  {
   "cell_type": "markdown",
   "metadata": {},
   "source": [
    "## \\mu is constant"
   ]
  },
  {
   "cell_type": "code",
   "execution_count": 531,
   "metadata": {},
   "outputs": [],
   "source": [
    "def eq(p,P,k_K,k_K_k,k_K_K_k,secondterm,thirdterm,M,m):\n",
    "    y=0\n",
    "    s=p\n",
    "    for i in range(1,len(k_K_k)):\n",
    "        for j in range(i):\n",
    "            if P[i][j]!=0:\n",
    "                y+=k_K_K_k[i][j][m]*P[i][j]/(k_K_k[i][j]+sum([(k_K[i][j][k]**2)*s[k] for k in range(M)]))\n",
    "    y+=-secondterm[m]-0.5*thirdterm[m]+0.5/s[m]\n",
    "    return y"
   ]
  },
  {
   "cell_type": "code",
   "execution_count": 532,
   "metadata": {},
   "outputs": [],
   "source": [
    "def equations(p,P,k_K,k_K_k,k_K_K_k,secondterm,thirdterm,M):\n",
    "    return [eq(p,P,k_K,k_K_k,k_K_K_k,secondterm,thirdterm,M,i) for i in range(M)]"
   ]
  },
  {
   "cell_type": "code",
   "execution_count": 533,
   "metadata": {},
   "outputs": [],
   "source": [
    "def MISD_variational_deri_mu_cons(points_hawkes,xi,T_phi,T,num_iter): # 100 predict points on T_phi, 1000 predict points on T\n",
    "    N=len(points_hawkes) # num of observation\n",
    "    M=len(xi)            # num of inducing points on phi\n",
    "    P=ini_P(points_hawkes,T_phi)\n",
    "    delta_t=T_phi/len(f[0]) # phi is discete to 100 points\n",
    "    \n",
    "    #__________________initial setting of phi\n",
    "    cov_q_u_diag=np.random.uniform(0,1,M)\n",
    "    cov_p_u_inv=np.linalg.inv(cov_p_u)\n",
    "    thirdterm=np.diagonal(cov_p_u_inv)\n",
    "    n_1=sum(np.array(points_hawkes)<(T-T_phi)) # num of points within T-T_phi\n",
    "    Psi=np.zeros((N,M,M))\n",
    "    for i in range(n_1):\n",
    "        for j in range(M):\n",
    "            for k in range(j,M):\n",
    "                Psi[i][j][k]=psi(theta0,theta1,xi[j],xi[k],T_phi)\n",
    "                Psi[i][k][j]=Psi[i][j][k]\n",
    "    for i in range(n_1,N):\n",
    "        for j in range(M):\n",
    "            for k in range(j,M):\n",
    "                Psi[i][j][k]=psi(theta0,theta1,xi[j],xi[k],T-points_hawkes[i])\n",
    "                Psi[i][k][j]=Psi[i][j][k]\n",
    "    secondterm=sum([np.diagonal(cov_p_u_inv.dot(Psi[i]).dot(cov_p_u_inv)) for i in range(N)])\n",
    "    k_tn_z=np.zeros((N,N,M))\n",
    "    for i in range(1,N):\n",
    "        for j in range(i):\n",
    "            if P[i][j]!=0:\n",
    "                tao=points_hawkes[i]-points_hawkes[j]\n",
    "                k_tn_z[i][j]=np.array([expo_quad_kernel(theta0,theta1,tao,xi[k]) for k in range(M)])            \n",
    "    k_K_K_k=np.zeros((N,N,M))   # matrix of vector   #     1st term\n",
    "    k_K_k=np.zeros((N,N))    # matrix of value\n",
    "    k_K=np.zeros((N,N,M))     # matrix of vector\n",
    "    for i in range(1,N):\n",
    "        for j in range(i):\n",
    "            if P[i][j]!=0:\n",
    "                k_K_K_k[i][j]=np.diagonal(cov_p_u_inv.dot(np.array([k_tn_z[i][j]]).T).dot(np.array([k_tn_z[i][j]])).dot(cov_p_u_inv))\n",
    "                k_K_k[i][j]=theta0-k_tn_z[i][j].dot(cov_p_u_inv).dot(k_tn_z[i][j].T)\n",
    "                k_K[i][j]=k_tn_z[i][j].dot(cov_p_u_inv)\n",
    "    \n",
    "    \n",
    "    \n",
    "    \n",
    "    \n",
    "    for k in range(num_iter):  # num of iterations\n",
    "        # update of phi\n",
    "        \n",
    "        cov_q_u_diag=fsolve(equations,cov_q_u_diag, args=(P,k_K,k_K_k,k_K_K_k,secondterm,thirdterm,M))\n",
    "        cov_q_u_diag[cov_q_u_diag<0] = 0.1 # more stable\n",
    "        cov_q_u=np.diag(cov_q_u_diag)\n",
    "        phi=distribution_f_posterior(f[0],xi,theta0,theta1,cov_p_u,cov_q_u)\n",
    "        \n",
    "        # update of mu\n",
    "        \n",
    "        mu=sum(np.diagonal(P))/T\n",
    "\n",
    "        \n",
    "        for i in range(N): # updata of P\n",
    "            intensity_total=0\n",
    "            for j in range(i):\n",
    "                tji=points_hawkes[i]-points_hawkes[j]\n",
    "                if tji>=T_phi: continue\n",
    "                intensity_total+=phi[int(tji/delta_t)]\n",
    "            intensity_total+=mu\n",
    "            P[i][i]=mu/intensity_total\n",
    "            for j in range(i):\n",
    "                tji=points_hawkes[i]-points_hawkes[j]\n",
    "                if tji>=T_phi: P[i][j]=0\n",
    "                else: P[i][j]=phi[int(tji/delta_t)]/intensity_total\n",
    "    return mu,phi"
   ]
  },
  {
   "cell_type": "code",
   "execution_count": 534,
   "metadata": {},
   "outputs": [],
   "source": [
    "mu_var_list=[]\n",
    "phi_var_list=[]"
   ]
  },
  {
   "cell_type": "code",
   "execution_count": 535,
   "metadata": {},
   "outputs": [
    {
     "name": "stderr",
     "output_type": "stream",
     "text": [
      "C:\\Users\\zho045\\AppData\\Local\\Continuum\\Anaconda3\\lib\\site-packages\\scipy\\optimize\\minpack.py:163: RuntimeWarning: The iteration is not making good progress, as measured by the \n",
      "  improvement from the last five Jacobian evaluations.\n",
      "  warnings.warn(msg, RuntimeWarning)\n",
      "C:\\Users\\zho045\\AppData\\Local\\Continuum\\Anaconda3\\lib\\site-packages\\scipy\\optimize\\minpack.py:163: RuntimeWarning: The iteration is not making good progress, as measured by the \n",
      "  improvement from the last ten iterations.\n",
      "  warnings.warn(msg, RuntimeWarning)\n"
     ]
    },
    {
     "name": "stdout",
     "output_type": "stream",
     "text": [
      "Wall time: 1h 56min 28s\n"
     ]
    }
   ],
   "source": [
    "%%time\n",
    "for i in range(10):\n",
    "    mu_var,phi_var=MISD_variational_deri_mu_cons(points_hawkes[i],xi,T_phi,T,100)\n",
    "    mu_var_list.append(mu_var)\n",
    "    phi_var_list.append(phi_var)"
   ]
  },
  {
   "cell_type": "code",
   "execution_count": 536,
   "metadata": {},
   "outputs": [],
   "source": [
    "mu_var_ave=np.average(mu_var_list)"
   ]
  },
  {
   "cell_type": "code",
   "execution_count": 601,
   "metadata": {},
   "outputs": [
    {
     "data": {
      "text/plain": [
       "1.2395456638117874"
      ]
     },
     "execution_count": 601,
     "metadata": {},
     "output_type": "execute_result"
    }
   ],
   "source": [
    "mu_var_list[4]"
   ]
  },
  {
   "cell_type": "code",
   "execution_count": 537,
   "metadata": {},
   "outputs": [],
   "source": [
    "phi_var_ave=np.average(phi_var_list,axis=0)"
   ]
  },
  {
   "cell_type": "code",
   "execution_count": 553,
   "metadata": {},
   "outputs": [
    {
     "data": {
      "image/png": "[encoded data removed]",
      "text/plain": [
       "<Figure size 576x360 with 1 Axes>"
      ]
     },
     "metadata": {
      "needs_background": "light"
     },
     "output_type": "display_data"
    }
   ],
   "source": [
    "plt.figure(1,figsize=(8,5))\n",
    "axs=plt.subplot(111)\n",
    "axs.plot(f[0],phi_var_list[4],label='EMV')\n",
    "axs.plot(np.linspace(0,6,100),[0.25*np.sin(xxx) if xxx<np.pi else 0 for xxx in np.linspace(0,6,100) ],label='groundtruth')\n",
    "axs.scatter(xi,np.zeros((len(xi))),marker='o',s=28)\n",
    "plt.legend()\n",
    "plt.show()"
   ]
  },
  {
   "cell_type": "code",
   "execution_count": 24,
   "metadata": {},
   "outputs": [],
   "source": [
    "import pandas as pd\n",
    "test=pd.DataFrame(data=points_hawkes)\n",
    "test.to_csv('./case_3.csv',encoding='gbk')"
   ]
  },
  {
   "cell_type": "markdown",
   "metadata": {},
   "source": [
    "## inference with full covariance matrix"
   ]
  },
  {
   "cell_type": "code",
   "execution_count": 302,
   "metadata": {
    "collapsed": true
   },
   "outputs": [],
   "source": [
    "def ELBO(theta0,theta1,xi,mean_p_u,cov_p_u,mean_q_u,cov_q_u,T,T_phi,points,P): # xi is inducing points\n",
    "    assert len(mean_p_u)==len(mean_q_u)==len(xi)\n",
    "    N=len(xi) # N is number of inducing points\n",
    "    M=len(points) # M is number of observation\n",
    "    \n",
    "    fourth_term=-KL_gaussian(mean_q_u,cov_q_u,mean_p_u,cov_p_u)\n",
    "    \n",
    "    cov_p_u_inv=np.linalg.inv(cov_p_u)\n",
    "    \n",
    "    n_1=sum(np.array(points)<(T-T_phi)) # num of points within T-T_phi\n",
    "    \n",
    "    Psi=np.zeros((N,N))\n",
    "    for i in range(N):\n",
    "        for j in range(i,N):\n",
    "            Psi[i][j]=psi(theta0,theta1,xi[i],xi[j],T_phi)\n",
    "            Psi[j][i]=Psi[i][j]\n",
    "#     first_term=-np.matmul(np.matmul(np.matmul(np.matmul(mean_q_u,cov_p_u_inv),Psi),cov_p_u_inv),mean_q_u.T)*n_1\n",
    "    second_term=-(theta0*T_phi-np.trace(np.matmul(cov_p_u_inv,Psi))\\\n",
    "                  +np.trace(np.matmul(np.matmul(np.matmul(cov_p_u_inv,cov_q_u),cov_p_u_inv),Psi)))*n_1\n",
    "    for k in range(n_1,len(points)):\n",
    "        Psi=np.zeros((N,N))\n",
    "        for i in range(N):\n",
    "            for j in range(i,N):\n",
    "                Psi[i][j]=psi(theta0,theta1,xi[i],xi[j],T-points[k])\n",
    "                Psi[j][i]=Psi[i][j]\n",
    "#         first_term+=-np.matmul(np.matmul(np.matmul(np.matmul(mean_q_u,cov_p_u_inv),Psi),cov_p_u_inv),mean_q_u.T)\n",
    "        second_term+=-(theta0*(T-points[k])-np.trace(np.matmul(cov_p_u_inv,Psi))\\\n",
    "                  +np.trace(np.matmul(np.matmul(np.matmul(cov_p_u_inv,cov_q_u),cov_p_u_inv),Psi)))\n",
    "    \n",
    "    third_term=0\n",
    "    for i in range(1,M):\n",
    "        for j in range(i):\n",
    "            if P[i][j]!=0:\n",
    "                tao=points[i]-points[j]\n",
    "                k_vec=np.array([])\n",
    "                for k in range(N):\n",
    "                    k_vec=np.append(k_vec,expo_quad_kernel(theta0,theta1,tao,xi[k]))\n",
    "#                 mean=np.matmul(np.matmul(k_vec,cov_p_u_inv),mean_q_u)\n",
    "                var=theta0-np.matmul(np.matmul(k_vec,cov_p_u_inv),k_vec.T)+np.matmul(np.matmul(np.matmul(np.matmul(k_vec,cov_p_u_inv),cov_q_u),cov_p_u_inv),k_vec.T)\n",
    "                if var<0.00001: var=0.00001\n",
    "                third_term+=(np.log(var/2)-0.57721566)*P[i][j]\n",
    "\n",
    "        \n",
    "    return second_term+third_term+fourth_term"
   ]
  },
  {
   "cell_type": "code",
   "execution_count": 303,
   "metadata": {
    "collapsed": true
   },
   "outputs": [],
   "source": [
    "def loss(parameter_list,theta0,theta1,xi,mean_p_u,cov_p_u,T,T_phi,points,P):\n",
    "    N=len(xi)\n",
    "    mean_q_u=np.zeros(N)\n",
    "    assert len(parameter_list)==N*(N+1)/2  # lower triangular cov_q\n",
    "    L = np.zeros((N, N))\n",
    "    L[np.tril_indices(N, 0)] = parameter_list\n",
    "    cov_q_u=L.dot(L.T)\n",
    "    return -ELBO(theta0,theta1,xi,mean_p_u,cov_p_u,mean_q_u,cov_q_u,T,T_phi,points,P)"
   ]
  },
  {
   "cell_type": "code",
   "execution_count": 304,
   "metadata": {
    "collapsed": true
   },
   "outputs": [],
   "source": [
    "def MISD_variational(points_hawkes,xi,T_phi,T,num_iter): # 100 predict points on T_phi, 1000 predict points on T\n",
    "    N=len(points_hawkes) # num of observation\n",
    "    M=len(xi)            # num of inducing points\n",
    "    P=ini_P(points_hawkes,T_phi)\n",
    "    delta_t=T_phi/len(f[0]) # phi is discete to 100 points\n",
    "    \n",
    "    for k in range(num_iter):  # num of iterations\n",
    "        init=np.random.uniform(0,1,int(M*(M+1)/2))       ## update of u and phi\n",
    "        res=optimize.minimize(loss, init, args=(theta0,theta1,xi,mean_p_u,cov_p_u,T,T_phi,points_hawkes,P), method='SLSQP',\\\n",
    "                      bounds=[(0.001,10)]*int(M*(M+1)/2), options={'disp': True, 'maxiter':400})\n",
    "        L = np.zeros((M, M))\n",
    "        L[np.tril_indices(M, 0)] = res.x\n",
    "        cov_q_u=L.dot(L.T)\n",
    "#         init=np.random.uniform(0,1,M)       ## update of phi using diagonal S\n",
    "#         res=optimize.minimize(loss_diag, init, args=(theta0,theta1,xi,mean_p_u,cov_p_u,T,T_phi,points_hawkes,P), method='SLSQP',\\\n",
    "#                       bounds=[(0.001,10)]*M, options={'disp': True })\n",
    "#         cov_q_u=np.diag(res.x)\n",
    "        phi=distribution_f_posterior(f[0],xi,theta0,theta1,cov_p_u,cov_q_u)\n",
    "        \n",
    "        \n",
    "        mu=sum(np.diagonal(P))/T         \n",
    "#         init=np.random.uniform(0,1,M_mu)   ## update of mu using diagonal S\n",
    "#         res=optimize.minimize(loss_diag_mu, init, args=(theta0_mu,theta1_mu,xi_mu,mean_p_u_mu,cov_p_u_mu,T,points_hawkes,P), method='SLSQP',\\\n",
    "#                      bounds=[(0.001,10)]*M_mu,options={'disp': True})  ## diagonal optimization of mu\n",
    "#         cov_q_u_mu=np.diag(res.x)\n",
    "#         u=distribution_f_posterior(f_mu[0],xi_mu,theta0_mu,theta1_mu,cov_p_u_mu,cov_q_u_mu)\n",
    "\n",
    "        for i in range(N): # updata of P\n",
    "            intensity_total=0\n",
    "            for j in range(i):\n",
    "                tji=points_hawkes[i]-points_hawkes[j]\n",
    "                if tji>=T_phi: continue\n",
    "                intensity_total+=phi[int(tji/delta_t)]\n",
    "            intensity_total+=mu\n",
    "            P[i][i]=mu/intensity_total\n",
    "            for j in range(i):\n",
    "                tji=points_hawkes[i]-points_hawkes[j]\n",
    "                if tji>=T_phi: P[i][j]=0\n",
    "                else: P[i][j]=phi[int(tji/delta_t)]/intensity_total\n",
    "    return mu,phi"
   ]
  },
  {
   "cell_type": "code",
   "execution_count": 305,
   "metadata": {
    "collapsed": true
   },
   "outputs": [],
   "source": [
    "def KL_gaussian(mean_q,cov_q,mean_p,cov_p): # verified\n",
    "    assert len(mean_p)==len(mean_q)\n",
    "    cov_p_inv=np.linalg.inv(cov_p)\n",
    "    return (np.trace(np.matmul(cov_p_inv,cov_q))+np.log(max(0.001,np.linalg.det(cov_p)))-np.log(max(0.001,np.linalg.det(cov_q)))-len(mean_p)\\\n",
    "    +np.matmul(np.matmul((mean_p-mean_q),cov_p_inv),(mean_p-mean_q).T))/2"
   ]
  },
  {
   "cell_type": "code",
   "execution_count": 306,
   "metadata": {},
   "outputs": [
    {
     "name": "stdout",
     "output_type": "stream",
     "text": [
      "Optimization terminated successfully.    (Exit mode 0)\n",
      "            Current function value: 756.131762791933\n",
      "            Iterations: 109\n",
      "            Function evaluations: 1891\n",
      "            Gradient evaluations: 109\n",
      "Optimization terminated successfully.    (Exit mode 0)\n",
      "            Current function value: 743.789730703224\n",
      "            Iterations: 114\n",
      "            Function evaluations: 1978\n",
      "            Gradient evaluations: 114\n",
      "Optimization terminated successfully.    (Exit mode 0)\n",
      "            Current function value: 733.6680423442132\n",
      "            Iterations: 144\n",
      "            Function evaluations: 2489\n",
      "            Gradient evaluations: 144\n",
      "Optimization terminated successfully.    (Exit mode 0)\n",
      "            Current function value: 723.2181852088087\n",
      "            Iterations: 136\n",
      "            Function evaluations: 2346\n",
      "            Gradient evaluations: 136\n",
      "Optimization terminated successfully.    (Exit mode 0)\n",
      "            Current function value: 712.5709063035345\n",
      "            Iterations: 59\n",
      "            Function evaluations: 1031\n",
      "            Gradient evaluations: 59\n",
      "Optimization terminated successfully.    (Exit mode 0)\n",
      "            Current function value: 701.8539903841895\n",
      "            Iterations: 79\n",
      "            Function evaluations: 1376\n",
      "            Gradient evaluations: 79\n",
      "Optimization terminated successfully.    (Exit mode 0)\n",
      "            Current function value: 691.1752019787839\n",
      "            Iterations: 133\n",
      "            Function evaluations: 2304\n",
      "            Gradient evaluations: 133\n",
      "Optimization terminated successfully.    (Exit mode 0)\n",
      "            Current function value: 680.6286144066761\n",
      "            Iterations: 121\n",
      "            Function evaluations: 2108\n",
      "            Gradient evaluations: 121\n",
      "Optimization terminated successfully.    (Exit mode 0)\n",
      "            Current function value: 670.2719481407373\n",
      "            Iterations: 143\n",
      "            Function evaluations: 2472\n",
      "            Gradient evaluations: 143\n",
      "Optimization terminated successfully.    (Exit mode 0)\n",
      "            Current function value: 660.1596067309721\n",
      "            Iterations: 115\n",
      "            Function evaluations: 1994\n",
      "            Gradient evaluations: 115\n",
      "Optimization terminated successfully.    (Exit mode 0)\n",
      "            Current function value: 650.350527316602\n",
      "            Iterations: 125\n",
      "            Function evaluations: 2168\n",
      "            Gradient evaluations: 125\n",
      "Optimization terminated successfully.    (Exit mode 0)\n",
      "            Current function value: 640.867318311869\n",
      "            Iterations: 82\n",
      "            Function evaluations: 1429\n",
      "            Gradient evaluations: 82\n",
      "Optimization terminated successfully.    (Exit mode 0)\n",
      "            Current function value: 631.7364805007998\n",
      "            Iterations: 62\n",
      "            Function evaluations: 1083\n",
      "            Gradient evaluations: 62\n",
      "Optimization terminated successfully.    (Exit mode 0)\n",
      "            Current function value: 622.9599887167827\n",
      "            Iterations: 128\n",
      "            Function evaluations: 2214\n",
      "            Gradient evaluations: 128\n",
      "Optimization terminated successfully.    (Exit mode 0)\n",
      "            Current function value: 614.5621579634604\n",
      "            Iterations: 61\n",
      "            Function evaluations: 1066\n",
      "            Gradient evaluations: 61\n",
      "Optimization terminated successfully.    (Exit mode 0)\n",
      "            Current function value: 606.5280706190872\n",
      "            Iterations: 95\n",
      "            Function evaluations: 1656\n",
      "            Gradient evaluations: 95\n",
      "Optimization terminated successfully.    (Exit mode 0)\n",
      "            Current function value: 598.8774236525115\n",
      "            Iterations: 137\n",
      "            Function evaluations: 2376\n",
      "            Gradient evaluations: 137\n",
      "Optimization terminated successfully.    (Exit mode 0)\n",
      "            Current function value: 591.6178206511172\n",
      "            Iterations: 137\n",
      "            Function evaluations: 2377\n",
      "            Gradient evaluations: 137\n",
      "Optimization terminated successfully.    (Exit mode 0)\n",
      "            Current function value: 584.7072486946053\n",
      "            Iterations: 47\n",
      "            Function evaluations: 825\n",
      "            Gradient evaluations: 47\n",
      "Optimization terminated successfully.    (Exit mode 0)\n",
      "            Current function value: 578.1514014839848\n",
      "            Iterations: 44\n",
      "            Function evaluations: 782\n",
      "            Gradient evaluations: 44\n",
      "Optimization terminated successfully.    (Exit mode 0)\n",
      "            Current function value: 571.9443782229768\n",
      "            Iterations: 125\n",
      "            Function evaluations: 2169\n",
      "            Gradient evaluations: 125\n",
      "Optimization terminated successfully.    (Exit mode 0)\n",
      "            Current function value: 566.0902124313376\n",
      "            Iterations: 120\n",
      "            Function evaluations: 2081\n",
      "            Gradient evaluations: 120\n",
      "Optimization terminated successfully.    (Exit mode 0)\n",
      "            Current function value: 560.5631903437084\n",
      "            Iterations: 122\n",
      "            Function evaluations: 2120\n",
      "            Gradient evaluations: 122\n",
      "Optimization terminated successfully.    (Exit mode 0)\n",
      "            Current function value: 555.3309886843975\n",
      "            Iterations: 67\n",
      "            Function evaluations: 1168\n",
      "            Gradient evaluations: 67\n",
      "Optimization terminated successfully.    (Exit mode 0)\n",
      "            Current function value: 550.3966289438521\n",
      "            Iterations: 90\n",
      "            Function evaluations: 1562\n",
      "            Gradient evaluations: 90\n",
      "Optimization terminated successfully.    (Exit mode 0)\n",
      "            Current function value: 545.7554694305877\n",
      "            Iterations: 80\n",
      "            Function evaluations: 1403\n",
      "            Gradient evaluations: 80\n",
      "Optimization terminated successfully.    (Exit mode 0)\n",
      "            Current function value: 541.3661817878674\n",
      "            Iterations: 77\n",
      "            Function evaluations: 1347\n",
      "            Gradient evaluations: 77\n",
      "Optimization terminated successfully.    (Exit mode 0)\n",
      "            Current function value: 537.2302285210096\n",
      "            Iterations: 96\n",
      "            Function evaluations: 1669\n",
      "            Gradient evaluations: 96\n",
      "Optimization terminated successfully.    (Exit mode 0)\n",
      "            Current function value: 533.3565261900111\n",
      "            Iterations: 86\n",
      "            Function evaluations: 1498\n",
      "            Gradient evaluations: 86\n",
      "Optimization terminated successfully.    (Exit mode 0)\n",
      "            Current function value: 529.7338867393483\n",
      "            Iterations: 85\n",
      "            Function evaluations: 1484\n",
      "            Gradient evaluations: 85\n",
      "Optimization terminated successfully.    (Exit mode 0)\n",
      "            Current function value: 526.3177309438744\n",
      "            Iterations: 118\n",
      "            Function evaluations: 2048\n",
      "            Gradient evaluations: 118\n",
      "Optimization terminated successfully.    (Exit mode 0)\n",
      "            Current function value: 523.0992092072024\n",
      "            Iterations: 140\n",
      "            Function evaluations: 2436\n",
      "            Gradient evaluations: 140\n",
      "Optimization terminated successfully.    (Exit mode 0)\n",
      "            Current function value: 520.1243207837852\n",
      "            Iterations: 47\n",
      "            Function evaluations: 828\n",
      "            Gradient evaluations: 47\n",
      "Optimization terminated successfully.    (Exit mode 0)\n",
      "            Current function value: 517.4121176784995\n",
      "            Iterations: 51\n",
      "            Function evaluations: 899\n",
      "            Gradient evaluations: 51\n",
      "Optimization terminated successfully.    (Exit mode 0)\n",
      "            Current function value: 519.107252213462\n",
      "            Iterations: 108\n",
      "            Function evaluations: 1872\n",
      "            Gradient evaluations: 108\n",
      "Optimization terminated successfully.    (Exit mode 0)\n",
      "            Current function value: 501.3536556488335\n",
      "            Iterations: 134\n",
      "            Function evaluations: 2313\n",
      "            Gradient evaluations: 134\n",
      "Optimization terminated successfully.    (Exit mode 0)\n",
      "            Current function value: 498.737737051005\n",
      "            Iterations: 47\n",
      "            Function evaluations: 824\n",
      "            Gradient evaluations: 47\n",
      "Optimization terminated successfully.    (Exit mode 0)\n",
      "            Current function value: 495.7828087892445\n",
      "            Iterations: 51\n",
      "            Function evaluations: 903\n",
      "            Gradient evaluations: 51\n",
      "Optimization terminated successfully.    (Exit mode 0)\n",
      "            Current function value: 493.7814687050882\n",
      "            Iterations: 50\n",
      "            Function evaluations: 879\n",
      "            Gradient evaluations: 50\n"
     ]
    },
    {
     "name": "stdout",
     "output_type": "stream",
     "text": [
      "Optimization terminated successfully.    (Exit mode 0)\n",
      "            Current function value: 491.9715338347173\n",
      "            Iterations: 49\n",
      "            Function evaluations: 859\n",
      "            Gradient evaluations: 49\n",
      "Optimization terminated successfully.    (Exit mode 0)\n",
      "            Current function value: 490.29228306025635\n",
      "            Iterations: 167\n",
      "            Function evaluations: 2883\n",
      "            Gradient evaluations: 167\n",
      "Optimization terminated successfully.    (Exit mode 0)\n",
      "            Current function value: 489.1950578796242\n",
      "            Iterations: 121\n",
      "            Function evaluations: 2094\n",
      "            Gradient evaluations: 121\n",
      "Optimization terminated successfully.    (Exit mode 0)\n",
      "            Current function value: 488.37890278407696\n",
      "            Iterations: 44\n",
      "            Function evaluations: 770\n",
      "            Gradient evaluations: 44\n",
      "Optimization terminated successfully.    (Exit mode 0)\n",
      "            Current function value: 486.1114152909365\n",
      "            Iterations: 168\n",
      "            Function evaluations: 2900\n",
      "            Gradient evaluations: 168\n",
      "Optimization terminated successfully.    (Exit mode 0)\n",
      "            Current function value: 485.3475795194888\n",
      "            Iterations: 38\n",
      "            Function evaluations: 671\n",
      "            Gradient evaluations: 38\n",
      "Optimization terminated successfully.    (Exit mode 0)\n",
      "            Current function value: 483.73414106953857\n",
      "            Iterations: 212\n",
      "            Function evaluations: 3666\n",
      "            Gradient evaluations: 212\n",
      "Optimization terminated successfully.    (Exit mode 0)\n",
      "            Current function value: 483.1517646277912\n",
      "            Iterations: 45\n",
      "            Function evaluations: 790\n",
      "            Gradient evaluations: 45\n",
      "Optimization terminated successfully.    (Exit mode 0)\n",
      "            Current function value: 481.7116952925833\n",
      "            Iterations: 49\n",
      "            Function evaluations: 859\n",
      "            Gradient evaluations: 49\n",
      "Optimization terminated successfully.    (Exit mode 0)\n",
      "            Current function value: 480.7510402839424\n",
      "            Iterations: 51\n",
      "            Function evaluations: 898\n",
      "            Gradient evaluations: 51\n",
      "Optimization terminated successfully.    (Exit mode 0)\n",
      "            Current function value: 480.3587513384204\n",
      "            Iterations: 75\n",
      "            Function evaluations: 1303\n",
      "            Gradient evaluations: 75\n",
      "Optimization terminated successfully.    (Exit mode 0)\n",
      "            Current function value: 480.08072316222643\n",
      "            Iterations: 178\n",
      "            Function evaluations: 3081\n",
      "            Gradient evaluations: 178\n",
      "Optimization terminated successfully.    (Exit mode 0)\n",
      "            Current function value: 479.8659713930833\n",
      "            Iterations: 131\n",
      "            Function evaluations: 2268\n",
      "            Gradient evaluations: 131\n",
      "Optimization terminated successfully.    (Exit mode 0)\n",
      "            Current function value: 479.6800923232662\n",
      "            Iterations: 88\n",
      "            Function evaluations: 1528\n",
      "            Gradient evaluations: 88\n",
      "Optimization terminated successfully.    (Exit mode 0)\n",
      "            Current function value: 479.5445822384262\n",
      "            Iterations: 47\n",
      "            Function evaluations: 828\n",
      "            Gradient evaluations: 47\n",
      "Optimization terminated successfully.    (Exit mode 0)\n",
      "            Current function value: 479.43418752796845\n",
      "            Iterations: 81\n",
      "            Function evaluations: 1406\n",
      "            Gradient evaluations: 81\n",
      "Optimization terminated successfully.    (Exit mode 0)\n",
      "            Current function value: 479.3328796007555\n",
      "            Iterations: 65\n",
      "            Function evaluations: 1134\n",
      "            Gradient evaluations: 65\n",
      "Optimization terminated successfully.    (Exit mode 0)\n",
      "            Current function value: 479.2682437503286\n",
      "            Iterations: 62\n",
      "            Function evaluations: 1084\n",
      "            Gradient evaluations: 62\n",
      "Optimization terminated successfully.    (Exit mode 0)\n",
      "            Current function value: 479.2293153164628\n",
      "            Iterations: 65\n",
      "            Function evaluations: 1136\n",
      "            Gradient evaluations: 65\n",
      "Optimization terminated successfully.    (Exit mode 0)\n",
      "            Current function value: 479.1863505998609\n",
      "            Iterations: 69\n",
      "            Function evaluations: 1203\n",
      "            Gradient evaluations: 69\n",
      "Optimization terminated successfully.    (Exit mode 0)\n",
      "            Current function value: 479.95990005522884\n",
      "            Iterations: 87\n",
      "            Function evaluations: 1509\n",
      "            Gradient evaluations: 87\n",
      "Optimization terminated successfully.    (Exit mode 0)\n",
      "            Current function value: 474.52551858514465\n",
      "            Iterations: 51\n",
      "            Function evaluations: 897\n",
      "            Gradient evaluations: 51\n",
      "Optimization terminated successfully.    (Exit mode 0)\n",
      "            Current function value: 473.79690692108784\n",
      "            Iterations: 53\n",
      "            Function evaluations: 929\n",
      "            Gradient evaluations: 53\n",
      "Optimization terminated successfully.    (Exit mode 0)\n",
      "            Current function value: 473.4212541297848\n",
      "            Iterations: 74\n",
      "            Function evaluations: 1288\n",
      "            Gradient evaluations: 74\n",
      "Optimization terminated successfully.    (Exit mode 0)\n",
      "            Current function value: 473.0714055739528\n",
      "            Iterations: 146\n",
      "            Function evaluations: 2528\n",
      "            Gradient evaluations: 146\n",
      "Optimization terminated successfully.    (Exit mode 0)\n",
      "            Current function value: 473.2997461423891\n",
      "            Iterations: 42\n",
      "            Function evaluations: 739\n",
      "            Gradient evaluations: 42\n",
      "Optimization terminated successfully.    (Exit mode 0)\n",
      "            Current function value: 472.53476117264887\n",
      "            Iterations: 54\n",
      "            Function evaluations: 943\n",
      "            Gradient evaluations: 54\n",
      "Optimization terminated successfully.    (Exit mode 0)\n",
      "            Current function value: 472.2393348643646\n",
      "            Iterations: 67\n",
      "            Function evaluations: 1168\n",
      "            Gradient evaluations: 67\n",
      "Optimization terminated successfully.    (Exit mode 0)\n",
      "            Current function value: 471.97236921685396\n",
      "            Iterations: 56\n",
      "            Function evaluations: 979\n",
      "            Gradient evaluations: 56\n",
      "Optimization terminated successfully.    (Exit mode 0)\n",
      "            Current function value: 471.70703347739783\n",
      "            Iterations: 196\n",
      "            Function evaluations: 3382\n",
      "            Gradient evaluations: 196\n",
      "Optimization terminated successfully.    (Exit mode 0)\n",
      "            Current function value: 472.02876007977534\n",
      "            Iterations: 50\n",
      "            Function evaluations: 876\n",
      "            Gradient evaluations: 50\n",
      "Optimization terminated successfully.    (Exit mode 0)\n",
      "            Current function value: 471.3150883527517\n",
      "            Iterations: 190\n",
      "            Function evaluations: 3285\n",
      "            Gradient evaluations: 190\n",
      "Optimization terminated successfully.    (Exit mode 0)\n",
      "            Current function value: 471.593413219855\n",
      "            Iterations: 104\n",
      "            Function evaluations: 1802\n",
      "            Gradient evaluations: 104\n",
      "Optimization terminated successfully.    (Exit mode 0)\n",
      "            Current function value: 471.9312889347256\n",
      "            Iterations: 142\n",
      "            Function evaluations: 2456\n",
      "            Gradient evaluations: 142\n",
      "Optimization terminated successfully.    (Exit mode 0)\n",
      "            Current function value: 472.2753322688629\n",
      "            Iterations: 77\n",
      "            Function evaluations: 1337\n",
      "            Gradient evaluations: 77\n",
      "Optimization terminated successfully.    (Exit mode 0)\n",
      "            Current function value: 472.84693410960364\n",
      "            Iterations: 62\n",
      "            Function evaluations: 1085\n",
      "            Gradient evaluations: 62\n",
      "Optimization terminated successfully.    (Exit mode 0)\n",
      "            Current function value: 470.6403208902507\n",
      "            Iterations: 59\n",
      "            Function evaluations: 1034\n",
      "            Gradient evaluations: 59\n",
      "Optimization terminated successfully.    (Exit mode 0)\n",
      "            Current function value: 470.3785156765666\n",
      "            Iterations: 42\n",
      "            Function evaluations: 740\n",
      "            Gradient evaluations: 42\n",
      "Optimization terminated successfully.    (Exit mode 0)\n",
      "            Current function value: 470.23903885864564\n",
      "            Iterations: 54\n",
      "            Function evaluations: 944\n",
      "            Gradient evaluations: 54\n"
     ]
    },
    {
     "name": "stdout",
     "output_type": "stream",
     "text": [
      "Optimization terminated successfully.    (Exit mode 0)\n",
      "            Current function value: 470.0948701348786\n",
      "            Iterations: 175\n",
      "            Function evaluations: 3025\n",
      "            Gradient evaluations: 175\n",
      "Optimization terminated successfully.    (Exit mode 0)\n",
      "            Current function value: 470.5161586934017\n",
      "            Iterations: 51\n",
      "            Function evaluations: 896\n",
      "            Gradient evaluations: 51\n",
      "Optimization terminated successfully.    (Exit mode 0)\n",
      "            Current function value: 469.9234851331369\n",
      "            Iterations: 75\n",
      "            Function evaluations: 1304\n",
      "            Gradient evaluations: 75\n",
      "Optimization terminated successfully.    (Exit mode 0)\n",
      "            Current function value: 469.7844382090837\n",
      "            Iterations: 41\n",
      "            Function evaluations: 721\n",
      "            Gradient evaluations: 41\n",
      "Optimization terminated successfully.    (Exit mode 0)\n",
      "            Current function value: 469.6698829274677\n",
      "            Iterations: 43\n",
      "            Function evaluations: 753\n",
      "            Gradient evaluations: 43\n",
      "Optimization terminated successfully.    (Exit mode 0)\n",
      "            Current function value: 470.10441225023294\n",
      "            Iterations: 42\n",
      "            Function evaluations: 740\n",
      "            Gradient evaluations: 42\n",
      "Optimization terminated successfully.    (Exit mode 0)\n",
      "            Current function value: 469.5333361267883\n",
      "            Iterations: 215\n",
      "            Function evaluations: 3716\n",
      "            Gradient evaluations: 215\n",
      "Optimization terminated successfully.    (Exit mode 0)\n",
      "            Current function value: 469.9733740001989\n",
      "            Iterations: 46\n",
      "            Function evaluations: 808\n",
      "            Gradient evaluations: 46\n",
      "Optimization terminated successfully.    (Exit mode 0)\n",
      "            Current function value: 469.3945040122654\n",
      "            Iterations: 151\n",
      "            Function evaluations: 2606\n",
      "            Gradient evaluations: 151\n",
      "Optimization terminated successfully.    (Exit mode 0)\n",
      "            Current function value: 469.84714423793633\n",
      "            Iterations: 48\n",
      "            Function evaluations: 840\n",
      "            Gradient evaluations: 48\n",
      "Optimization terminated successfully.    (Exit mode 0)\n",
      "            Current function value: 469.2901779145708\n",
      "            Iterations: 48\n",
      "            Function evaluations: 841\n",
      "            Gradient evaluations: 48\n",
      "Optimization terminated successfully.    (Exit mode 0)\n",
      "            Current function value: 469.1884094361396\n",
      "            Iterations: 166\n",
      "            Function evaluations: 2873\n",
      "            Gradient evaluations: 166\n",
      "Optimization terminated successfully.    (Exit mode 0)\n",
      "            Current function value: 469.6633336927536\n",
      "            Iterations: 49\n",
      "            Function evaluations: 856\n",
      "            Gradient evaluations: 49\n",
      "Optimization terminated successfully.    (Exit mode 0)\n",
      "            Current function value: 469.1039330969394\n",
      "            Iterations: 142\n",
      "            Function evaluations: 2448\n",
      "            Gradient evaluations: 142\n",
      "Optimization terminated successfully.    (Exit mode 0)\n",
      "            Current function value: 469.5126313636727\n",
      "            Iterations: 72\n",
      "            Function evaluations: 1256\n",
      "            Gradient evaluations: 72\n",
      "Optimization terminated successfully.    (Exit mode 0)\n",
      "            Current function value: 470.0849830690321\n",
      "            Iterations: 54\n",
      "            Function evaluations: 945\n",
      "            Gradient evaluations: 54\n",
      "Optimization terminated successfully.    (Exit mode 0)\n",
      "            Current function value: 469.02123802196985\n",
      "            Iterations: 47\n",
      "            Function evaluations: 831\n",
      "            Gradient evaluations: 47\n",
      "Optimization terminated successfully.    (Exit mode 0)\n",
      "            Current function value: 468.9318008060183\n",
      "            Iterations: 56\n",
      "            Function evaluations: 978\n",
      "            Gradient evaluations: 56\n",
      "Optimization terminated successfully.    (Exit mode 0)\n",
      "            Current function value: 468.89350795864857\n",
      "            Iterations: 43\n",
      "            Function evaluations: 758\n",
      "            Gradient evaluations: 43\n",
      "Optimization terminated successfully.    (Exit mode 0)\n",
      "            Current function value: 468.8565042544155\n",
      "            Iterations: 55\n",
      "            Function evaluations: 962\n",
      "            Gradient evaluations: 55\n",
      "Optimization terminated successfully.    (Exit mode 0)\n",
      "            Current function value: 468.8052100348786\n",
      "            Iterations: 150\n",
      "            Function evaluations: 2597\n",
      "            Gradient evaluations: 150\n",
      "Optimization terminated successfully.    (Exit mode 0)\n",
      "            Current function value: 469.2978580778364\n",
      "            Iterations: 62\n",
      "            Function evaluations: 1079\n",
      "            Gradient evaluations: 62\n",
      "Wall time: 6h 26min 28s\n"
     ]
    }
   ],
   "source": [
    "%%time\n",
    "mu_var_full,phi_var_full=MISD_variational(points_hawkes,xi,T_phi,T,100)"
   ]
  },
  {
   "cell_type": "code",
   "execution_count": 310,
   "metadata": {},
   "outputs": [
    {
     "data": {
      "image/png": "[encoded data removed]",
      "text/plain": [
       "<Figure size 576x360 with 1 Axes>"
      ]
     },
     "metadata": {},
     "output_type": "display_data"
    }
   ],
   "source": [
    "plt.figure(1,figsize=(8,5))\n",
    "axs=plt.subplot(111)\n",
    "axs.plot(np.linspace(0,6,100),[0.25*np.sin(xxx) if xxx<np.pi else 0 for xxx in np.linspace(0,6,100)],label='groundtruth')\n",
    "axs.plot(f[0],phi_var_full,label='VBN')\n",
    "plt.legend()\n",
    "axs.scatter(xi,np.zeros((len(xi))),marker='o')\n",
    "plt.ylim(0,0.5)\n",
    "plt.show()"
   ]
  },
  {
   "cell_type": "code",
   "execution_count": null,
   "metadata": {
    "collapsed": true
   },
   "outputs": [],
   "source": []
  },
  {
   "cell_type": "code",
   "execution_count": null,
   "metadata": {
    "collapsed": true
   },
   "outputs": [],
   "source": []
  },
  {
   "cell_type": "code",
   "execution_count": null,
   "metadata": {
    "collapsed": true
   },
   "outputs": [],
   "source": []
  },
  {
   "cell_type": "code",
   "execution_count": 554,
   "metadata": {},
   "outputs": [],
   "source": [
    "def MISD(points_hawkes,T,T_gamma,delta_t,num_iter):\n",
    "    num_g=int(T_gamma/delta_t)\n",
    "    N=len(points_hawkes)\n",
    "    P=ini_P(points_hawkes,T_gamma)\n",
    "    g=np.zeros((1,num_g), dtype=float)\n",
    "\n",
    "    for k in range(num_iter):\n",
    "        for m in range(num_g): # update for u and g\n",
    "            rate_prob=np.zeros((1,N))\n",
    "            div_num=0\n",
    "            for i in range(N):\n",
    "                if (T-points_hawkes[i])>=m*delta_t and (T-points_hawkes[i])<(m+1)*delta_t: # point i is close to T\n",
    "                    div_num+=1\n",
    "                    for j in range(i+1,N):\n",
    "                        interval=points_hawkes[j]-points_hawkes[i]\n",
    "                        if interval>=m*delta_t and interval<(m+1)*delta_t:\n",
    "                            rate_prob[0][i]+=P[j][i]\n",
    "                        elif interval>=(m+1)*delta_t:\n",
    "                            break\n",
    "                    rate_prob[0][i]=rate_prob[0][i]/(T-m*delta_t)\n",
    "                elif (T-points_hawkes[i])<m*delta_t:\n",
    "                    break\n",
    "                else:\n",
    "                    div_num+=1\n",
    "                    for j in range(i+1,N):\n",
    "                        interval=points_hawkes[j]-points_hawkes[i]\n",
    "                        if interval>=m*delta_t and interval<(m+1)*delta_t:\n",
    "                            rate_prob[0][i]+=P[j][i]\n",
    "                        elif interval>=(m+1)*delta_t:\n",
    "                            break\n",
    "                    rate_prob[0][i]=rate_prob[0][i]/delta_t\n",
    "            if div_num==0:\n",
    "                break\n",
    "            else:\n",
    "                g[0][m]=sum(rate_prob[0])/div_num\n",
    "        u=sum(P[i][i] for i in range(N))/T\n",
    "\n",
    "        for i in range(N): # updata for P\n",
    "            intensity_total=0\n",
    "            for j in range(i):\n",
    "                tji=points_hawkes[i]-points_hawkes[j]\n",
    "                if tji>=T_gamma: continue\n",
    "                intensity_total+=g[0][int(tji/delta_t)]\n",
    "            intensity_total+=u\n",
    "            P[i][i]=u/intensity_total\n",
    "            for j in range(i):\n",
    "                tji=points_hawkes[i]-points_hawkes[j]\n",
    "                if tji>=T_gamma: P[i][j]=0\n",
    "                else: P[i][j]=g[0][int(tji/delta_t)]/intensity_total\n",
    "    return u,g[0]"
   ]
  },
  {
   "cell_type": "code",
   "execution_count": 574,
   "metadata": {},
   "outputs": [],
   "source": [
    "u_misd_10_list=[]\n",
    "phi_misd_10_list=[]"
   ]
  },
  {
   "cell_type": "code",
   "execution_count": 575,
   "metadata": {},
   "outputs": [],
   "source": [
    "for i in range(10):\n",
    "    u_misd_10,phi_misd_10=MISD(points_hawkes[i],T,T_phi,0.6,100)\n",
    "    u_misd_10_list.append(u_misd_10)\n",
    "    phi_misd_10_list.append(phi_misd_10)"
   ]
  },
  {
   "cell_type": "code",
   "execution_count": 576,
   "metadata": {},
   "outputs": [],
   "source": [
    "u_misd_10_ave=np.average(u_misd_10_list)\n",
    "phi_misd_10_ave=np.average(phi_misd_10_list,axis=0)"
   ]
  },
  {
   "cell_type": "code",
   "execution_count": 602,
   "metadata": {},
   "outputs": [
    {
     "data": {
      "text/plain": [
       "1.0394822404183315"
      ]
     },
     "execution_count": 602,
     "metadata": {},
     "output_type": "execute_result"
    }
   ],
   "source": [
    "u_misd_10_ave"
   ]
  },
  {
   "cell_type": "code",
   "execution_count": 577,
   "metadata": {},
   "outputs": [],
   "source": [
    "u_misd_20_list=[]\n",
    "phi_misd_20_list=[]"
   ]
  },
  {
   "cell_type": "code",
   "execution_count": 578,
   "metadata": {},
   "outputs": [],
   "source": [
    "for i in range(10):\n",
    "    u_misd_20,phi_misd_20=MISD(points_hawkes[i],T,T_phi,0.3,100)\n",
    "    u_misd_20_list.append(u_misd_20)\n",
    "    phi_misd_20_list.append(phi_misd_20) "
   ]
  },
  {
   "cell_type": "code",
   "execution_count": 579,
   "metadata": {},
   "outputs": [],
   "source": [
    "u_misd_20_ave=np.average(u_misd_20_list)\n",
    "phi_misd_20_ave=np.average(phi_misd_20_list,axis=0)"
   ]
  },
  {
   "cell_type": "code",
   "execution_count": 603,
   "metadata": {},
   "outputs": [
    {
     "data": {
      "text/plain": [
       "0.8613132867314205"
      ]
     },
     "execution_count": 603,
     "metadata": {},
     "output_type": "execute_result"
    }
   ],
   "source": [
    "u_misd_20_ave"
   ]
  },
  {
   "cell_type": "code",
   "execution_count": 580,
   "metadata": {},
   "outputs": [],
   "source": [
    "def hawkes_second_stats_conti_gauss(t,h,points_hawkes,T):   # gaussian kernel\n",
    "    N=len(points_hawkes)\n",
    "    Lamda=N/T\n",
    "    g_t_i=[]\n",
    "    for i in range(N):\n",
    "        if points_hawkes[i]+t>T-h:\n",
    "            break\n",
    "        else:\n",
    "            g_t=np.exp(-(((t-(points_hawkes[:i]+points_hawkes[i+1:]-points_hawkes[i]))/h)**2/2))\n",
    "            g_t_i.append(sum(g_t)/np.sqrt(2*np.pi)/h)\n",
    "    return np.average(g_t_i)-Lamda"
   ]
  },
  {
   "cell_type": "code",
   "execution_count": 581,
   "metadata": {},
   "outputs": [],
   "source": [
    "def primitive_g(t,g,range_g): # -infinity to t\n",
    "    delta_t=range_g/len(g)\n",
    "    num_bin=t/delta_t\n",
    "    if num_bin<len(g):\n",
    "        integral=sum(g[:int(num_bin)])*delta_t+g[int(num_bin)]*delta_t*(num_bin-int(num_bin))\n",
    "    else:\n",
    "        integral=sum(g)*delta_t\n",
    "    return integral+sum(g)*delta_t"
   ]
  },
  {
   "cell_type": "code",
   "execution_count": 582,
   "metadata": {},
   "outputs": [],
   "source": [
    "def gq_points_weights(a,b,Q):\n",
    "    p,w=np.polynomial.legendre.leggauss(Q)\n",
    "    c = np.array([0]*Q + [1])\n",
    "    p_new=(a+b+(b-a)*p)/2\n",
    "    w_new=(b-a)/(legendre.legval(p, legendre.legder(c))**2*(1-p**2))\n",
    "    return p_new,w_new"
   ]
  },
  {
   "cell_type": "code",
   "execution_count": 583,
   "metadata": {},
   "outputs": [],
   "source": [
    "def phi_WH_prediction(t,g,Q,range_g): \n",
    "    delta_t=range_g/len(g) \n",
    "    p,w=gq_points_weights(0,range_g,Q)  # (0,infininty) replaced by (0,range_g)\n",
    "    g_ti=np.zeros((Q,Q))\n",
    "    G_ti=np.zeros((1,Q))[0]\n",
    "    for i in range(Q):\n",
    "        G_ti[i]=primitive_g(p[i],g,range_g)\n",
    "        for j in range(i,Q):\n",
    "            if i==j:\n",
    "                g_ti[i][i]=g[int(p[i]/delta_t)]\n",
    "            else:\n",
    "                g_ti[i][j]=g[int((p[j]-p[i])/delta_t)]\n",
    "                g_ti[j][i]=g_ti[i][j]\n",
    "    \n",
    "    a = np.zeros((Q,Q))\n",
    "    b = np.zeros((1,Q))[0]\n",
    "    for i in range(Q):\n",
    "        b[i]=g_ti[i][i]\n",
    "        for j in range(Q):\n",
    "            if i==j:\n",
    "                a[i][i]=1+G_ti[i]-sum(w*g_ti[i])+w[i]*g_ti[i][i]  #diagonal\n",
    "            else:\n",
    "                a[i][j]=w[j]*g_ti[i][j]    \n",
    "    phi_ti = np.linalg.solve(a,b)\n",
    "\n",
    "    g_t=g[int(t/delta_t)]\n",
    "    G_t=primitive_g(t,g,range_g)\n",
    "    g_t_ti=np.zeros((1,Q))[0]\n",
    "    for i in range(Q):\n",
    "        g_t_ti[i]=g[int((t-p[i])/delta_t)]\n",
    "    phi_t=(g_t-sum(w*phi_ti*g_t_ti))/(1+G_t-sum(w*g_t_ti))\n",
    "    return phi_t"
   ]
  },
  {
   "cell_type": "code",
   "execution_count": 584,
   "metadata": {},
   "outputs": [],
   "source": [
    "def phi_parameter(x,points_hawkes,h,Q,range_g):# default range_g*10 points\n",
    "#     x=np.linspace(0.1/2,range_g-0.1/2,range_g*10)\n",
    "    g_gauss=[hawkes_second_stats_conti_gauss(x_i,h,points_hawkes,T) for x_i in x]\n",
    "    phi_result=[phi_WH_prediction(xi,g_gauss,Q,range_g) for xi in x]\n",
    "    \n",
    "#     mse=sum((np.array(phi_result)-1*np.exp(-2*x))**2)/(range_g*10)\n",
    "    return phi_result"
   ]
  },
  {
   "cell_type": "code",
   "execution_count": 593,
   "metadata": {},
   "outputs": [],
   "source": [
    "u_wh_list=[]\n",
    "phi_wh_list=[]"
   ]
  },
  {
   "cell_type": "code",
   "execution_count": 594,
   "metadata": {},
   "outputs": [],
   "source": [
    "for i in range(10):\n",
    "    phi_wh=phi_parameter(f[0],points_hawkes[i],0.7,100,T_phi)\n",
    "    u_wh=len(points_hawkes[i])/T*(1-sum(T_phi/len(f[0])*np.array(phi_wh)))\n",
    "    u_wh_list.append(u_wh)\n",
    "    phi_wh_list.append(phi_wh)"
   ]
  },
  {
   "cell_type": "code",
   "execution_count": 595,
   "metadata": {},
   "outputs": [],
   "source": [
    "u_wh_ave=np.average(u_wh_list)\n",
    "phi_wh_ave=np.average(phi_wh_list,axis=0)"
   ]
  },
  {
   "cell_type": "code",
   "execution_count": 604,
   "metadata": {},
   "outputs": [
    {
     "data": {
      "text/plain": [
       "1.3570126450393163"
      ]
     },
     "execution_count": 604,
     "metadata": {},
     "output_type": "execute_result"
    }
   ],
   "source": [
    "u_wh_ave"
   ]
  },
  {
   "cell_type": "code",
   "execution_count": 647,
   "metadata": {},
   "outputs": [
    {
     "data": {
      "image/png": "[encoded data removed]",
      "text/plain": [
       "<Figure size 360x288 with 1 Axes>"
      ]
     },
     "metadata": {
      "needs_background": "light"
     },
     "output_type": "display_data"
    }
   ],
   "source": [
    "plt.figure(1,figsize=(5,4))\n",
    "axs=plt.subplot(111)\n",
    "axs.plot(np.linspace(0,6,100),[0.25*np.sin(xxx) if xxx<np.pi else 0 for xxx in np.linspace(0,6,100)],'r--',label='Ground Truth')\n",
    "axs.plot(f[0],phi_var_list[4],'b')\n",
    "axs.scatter(f[0],phi_var_list[4],marker='o',s=12,c='',edgecolors='b',label='EMV')\n",
    "axs.plot(np.linspace(0,6,100),res_ave[1]*np.exp(-res_ave[2]*np.linspace(0,6,100)),'-',label='PH')\n",
    "axs.plot(np.linspace(0,6,600,endpoint=False),[phi_misd_10_ave[int(xxx/0.6)] for xxx in np.linspace(0,6,600,endpoint=False)],label='MISD-10')\n",
    "axs.plot(np.linspace(0,6,600,endpoint=False),[phi_misd_20_ave[int(xxx/0.3)] for xxx in np.linspace(0,6,600,endpoint=False)],label='MISD-20')\n",
    "axs.plot(f[0],phi_wh_ave,label='WH')\n",
    "plt.xlabel(r'$\\tau$',fontsize=12)\n",
    "plt.title(r'$\\phi(\\tau)$',fontsize=15)\n",
    "plt.legend(fontsize=12)\n",
    "plt.ylim(-0.02,0.4)\n",
    "plt.savefig('c:/Users/zho045/Desktop/phi_case_3',bbox_inches = 'tight')\n",
    "plt.show()"
   ]
  },
  {
   "cell_type": "code",
   "execution_count": 616,
   "metadata": {},
   "outputs": [
    {
     "data": {
      "text/plain": [
       "0.09817487054614044"
      ]
     },
     "execution_count": 616,
     "metadata": {},
     "output_type": "execute_result"
    }
   ],
   "source": [
    "sum((np.array([0.25*np.sin(x) if x<np.pi else 0 -res_ave[1]*np.exp(-res_ave[2]*x) for x in f[0]]))**2*(T_phi/len(f[0])))"
   ]
  },
  {
   "cell_type": "code",
   "execution_count": 617,
   "metadata": {},
   "outputs": [
    {
     "data": {
      "text/plain": [
       "0.013993896501875127"
      ]
     },
     "execution_count": 617,
     "metadata": {},
     "output_type": "execute_result"
    }
   ],
   "source": [
    "sum((np.array([0.25*np.sin(x) if x<np.pi else 0 for x in f[0]])-phi_var_list[4])**2*(T_phi/len(f[0])))"
   ]
  },
  {
   "cell_type": "code",
   "execution_count": 618,
   "metadata": {},
   "outputs": [
    {
     "data": {
      "text/plain": [
       "0.026587144770022456"
      ]
     },
     "execution_count": 618,
     "metadata": {},
     "output_type": "execute_result"
    }
   ],
   "source": [
    "sum((np.array([0.25*np.sin(x) if x<np.pi else 0 for x in f[0]])-phi_wh_ave)**2*(T_phi/len(f[0])))"
   ]
  },
  {
   "cell_type": "code",
   "execution_count": 619,
   "metadata": {},
   "outputs": [
    {
     "data": {
      "text/plain": [
       "0.021269903304183654"
      ]
     },
     "execution_count": 619,
     "metadata": {},
     "output_type": "execute_result"
    }
   ],
   "source": [
    "sum((np.array([0.25*np.sin(x) if x<np.pi else 0 for x in f[0]])-(np.array([phi_misd_10_ave[int(xxx/0.6)] for xxx in f[0]])))**2*(T_phi/len(f[0])))"
   ]
  },
  {
   "cell_type": "code",
   "execution_count": 620,
   "metadata": {},
   "outputs": [
    {
     "data": {
      "text/plain": [
       "0.030820717103502718"
      ]
     },
     "execution_count": 620,
     "metadata": {},
     "output_type": "execute_result"
    }
   ],
   "source": [
    "sum((np.array([0.25*np.sin(x) if x<np.pi else 0 for x in f[0]])-(np.array([phi_misd_20_ave[int(xxx/0.3)] for xxx in f[0]])))**2*(T_phi/len(f[0])))"
   ]
  },
  {
   "cell_type": "code",
   "execution_count": 626,
   "metadata": {},
   "outputs": [
    {
     "data": {
      "text/plain": [
       "3.960642618294493"
      ]
     },
     "execution_count": 626,
     "metadata": {},
     "output_type": "execute_result"
    }
   ],
   "source": [
    "(res_ave[0]-1)**2*T"
   ]
  },
  {
   "cell_type": "code",
   "execution_count": 627,
   "metadata": {},
   "outputs": [
    {
     "data": {
      "text/plain": [
       "0.1558847308450928"
      ]
     },
     "execution_count": 627,
     "metadata": {},
     "output_type": "execute_result"
    }
   ],
   "source": [
    "(u_misd_10_ave-1)**2*T"
   ]
  },
  {
   "cell_type": "code",
   "execution_count": 628,
   "metadata": {},
   "outputs": [
    {
     "data": {
      "text/plain": [
       "1.9234004437241188"
      ]
     },
     "execution_count": 628,
     "metadata": {},
     "output_type": "execute_result"
    }
   ],
   "source": [
    "(u_misd_20_ave-1)**2*T"
   ]
  },
  {
   "cell_type": "code",
   "execution_count": 629,
   "metadata": {},
   "outputs": [
    {
     "data": {
      "text/plain": [
       "12.745802871796885"
      ]
     },
     "execution_count": 629,
     "metadata": {},
     "output_type": "execute_result"
    }
   ],
   "source": [
    "(u_wh_ave-1)**2*T"
   ]
  },
  {
   "cell_type": "code",
   "execution_count": 644,
   "metadata": {},
   "outputs": [
    {
     "data": {
      "text/plain": [
       "5.738212505102989"
      ]
     },
     "execution_count": 644,
     "metadata": {},
     "output_type": "execute_result"
    }
   ],
   "source": [
    "(mu_var_list[4]-1)**2*T"
   ]
  },
  {
   "cell_type": "code",
   "execution_count": null,
   "metadata": {},
   "outputs": [],
   "source": []
  },
  {
   "cell_type": "markdown",
   "metadata": {},
   "source": [
    "## test loglikelihood"
   ]
  },
  {
   "cell_type": "code",
   "execution_count": 631,
   "metadata": {},
   "outputs": [],
   "source": [
    "def intensity_discrete(t,history,u,g_mean,T_phi):    #left continue, the intensity is a gaussian dist\n",
    "    mu=u\n",
    "    N=len(g_mean)\n",
    "    intensity_mean=0\n",
    "    for i in range(len(history)):\n",
    "        if history[i]>=t:\n",
    "            break\n",
    "        delta_t=t-history[i]\n",
    "        if delta_t<T_phi:\n",
    "            intensity_mean+=g_mean[int(delta_t*N/T_phi)]\n",
    "    return mu+intensity_mean"
   ]
  },
  {
   "cell_type": "code",
   "execution_count": 632,
   "metadata": {},
   "outputs": [],
   "source": [
    "def negtiveloglikelihood_discrete(u,g_mean,times,T_phi,T):\n",
    "    N=len(times)\n",
    "    M=len(g_mean)\n",
    "    logl=0\n",
    "    for i in range(N):\n",
    "        logl+=np.log(intensity_discrete(times[i],times,u,g_mean,T_phi))\n",
    "        delta_t=T-times[i]\n",
    "        if delta_t>=T_phi:\n",
    "            logl-=sum(g_mean*T_phi/M)\n",
    "        else:\n",
    "            temp=(delta_t)*M/T_phi\n",
    "            temp_int=int(temp)\n",
    "            logl-=sum(g_mean[:temp_int]*T_phi/M)+g_mean[temp_int]*T_phi/M*(temp-temp_int)\n",
    "    return -(logl-u*T)"
   ]
  },
  {
   "cell_type": "code",
   "execution_count": 486,
   "metadata": {},
   "outputs": [],
   "source": [
    "points_hawkes_test=[]\n",
    "for i in range(10):\n",
    "    points_hawkes_test.append(hawkes_simulation_sin(T,[1,0.25]))"
   ]
  },
  {
   "cell_type": "code",
   "execution_count": 633,
   "metadata": {},
   "outputs": [],
   "source": [
    "logLik_PH=[]\n",
    "for i in range(10):\n",
    "    logLik_PH.append(-negtiveloglikelyhood1(res_ave, points_hawkes_test[i], T))"
   ]
  },
  {
   "cell_type": "code",
   "execution_count": 634,
   "metadata": {},
   "outputs": [
    {
     "data": {
      "text/plain": [
       "-70.18431348629689"
      ]
     },
     "execution_count": 634,
     "metadata": {},
     "output_type": "execute_result"
    }
   ],
   "source": [
    "np.average(logLik_PH)"
   ]
  },
  {
   "cell_type": "code",
   "execution_count": 635,
   "metadata": {},
   "outputs": [],
   "source": [
    "logLik_misd_10=[]\n",
    "for i in range(10):\n",
    "    logLik_misd_10.append(-negtiveloglikelihood_discrete(u_misd_10_ave,phi_misd_10_ave,points_hawkes_test[i],T_phi,T))"
   ]
  },
  {
   "cell_type": "code",
   "execution_count": 636,
   "metadata": {},
   "outputs": [
    {
     "data": {
      "text/plain": [
       "-51.66374820916641"
      ]
     },
     "execution_count": 636,
     "metadata": {},
     "output_type": "execute_result"
    }
   ],
   "source": [
    "np.average(logLik_misd_10)"
   ]
  },
  {
   "cell_type": "code",
   "execution_count": 637,
   "metadata": {},
   "outputs": [],
   "source": [
    "logLik_misd_20=[]\n",
    "for i in range(10):\n",
    "    logLik_misd_20.append(-negtiveloglikelihood_discrete(u_misd_20_ave,phi_misd_20_ave,points_hawkes_test[i],T_phi,T))"
   ]
  },
  {
   "cell_type": "code",
   "execution_count": 638,
   "metadata": {},
   "outputs": [
    {
     "data": {
      "text/plain": [
       "-51.59388368949268"
      ]
     },
     "execution_count": 638,
     "metadata": {},
     "output_type": "execute_result"
    }
   ],
   "source": [
    "np.average(logLik_misd_20)"
   ]
  },
  {
   "cell_type": "code",
   "execution_count": 639,
   "metadata": {},
   "outputs": [],
   "source": [
    "logLik_wh=[]\n",
    "for i in range(10):\n",
    "    logLik_wh.append(-negtiveloglikelihood_discrete(u_wh_ave,phi_wh_ave,points_hawkes_test[i],T_phi,T))"
   ]
  },
  {
   "cell_type": "code",
   "execution_count": 640,
   "metadata": {},
   "outputs": [
    {
     "data": {
      "text/plain": [
       "-53.1538611044562"
      ]
     },
     "execution_count": 640,
     "metadata": {},
     "output_type": "execute_result"
    }
   ],
   "source": [
    "np.average(logLik_wh)"
   ]
  },
  {
   "cell_type": "code",
   "execution_count": 641,
   "metadata": {},
   "outputs": [],
   "source": [
    "logLik_var=[]\n",
    "for i in range(10):\n",
    "    logLik_var.append(-negtiveloglikelihood_discrete(mu_var_list[4],phi_var_list[4],points_hawkes_test[i],T_phi,T))"
   ]
  },
  {
   "cell_type": "code",
   "execution_count": 642,
   "metadata": {},
   "outputs": [
    {
     "data": {
      "text/plain": [
       "-51.44034552948333"
      ]
     },
     "execution_count": 642,
     "metadata": {},
     "output_type": "execute_result"
    }
   ],
   "source": [
    "np.average(logLik_var)"
   ]
  },
  {
   "cell_type": "code",
   "execution_count": null,
   "metadata": {},
   "outputs": [],
   "source": []
  }
 ],
 "metadata": {
  "kernelspec": {
   "display_name": "Python 3",
   "language": "python",
   "name": "python3"
  },
  "language_info": {
   "codemirror_mode": {
    "name": "ipython",
    "version": 3
   },
   "file_extension": ".py",
   "mimetype": "text/x-python",
   "name": "python",
   "nbconvert_exporter": "python",
   "pygments_lexer": "ipython3",
   "version": "3.6.7"
  }
 },
 "nbformat": 4,
 "nbformat_minor": 2
}
