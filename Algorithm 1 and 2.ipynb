{
 "cells": [
  {
   "cell_type": "code",
   "execution_count": 1,
   "metadata": {},
   "outputs": [],
   "source": [
    "import numpy as np\n",
    "import matplotlib.pyplot as plt\n",
    "from scipy import optimize\n",
    "from scipy.stats import expon\n",
    "from scipy.stats import uniform\n",
    "from scipy.stats import multivariate_normal\n",
    "from scipy.stats import norm\n",
    "from scipy.special import erf\n",
    "from scipy.special import hyp1f1\n",
    "from scipy.linalg import eigh\n",
    "from random import randint\n",
    "from scipy.optimize import fsolve\n",
    "from scipy.optimize import root\n",
    "from numpy.polynomial import legendre"
   ]
  },
  {
   "cell_type": "markdown",
   "metadata": {},
   "source": [
    "## simulation"
   ]
  },
  {
   "cell_type": "code",
   "execution_count": 2,
   "metadata": {},
   "outputs": [],
   "source": [
    "def intensity(t,history,parameters):    #left continue\n",
    "    mu=parameters[0]\n",
    "    alpha=parameters[1]\n",
    "    beta=parameters[2]\n",
    "    intensity=0\n",
    "    for i in range(len(history)):\n",
    "        if history[i]>=t:\n",
    "            break\n",
    "        intensity+=alpha*np.exp(-beta*(t-history[i]))\n",
    "    return mu+intensity"
   ]
  },
  {
   "cell_type": "code",
   "execution_count": 3,
   "metadata": {},
   "outputs": [],
   "source": [
    "def hawkes_simulation_expo(T,parameters):\n",
    "    t=0\n",
    "    jump=0\n",
    "    points_homo=[]\n",
    "    points_hawkes=[]\n",
    "    while(t<T):\n",
    "        points_homo.append(t)\n",
    "        intensity_sup=intensity(t,points_hawkes,parameters)+jump\n",
    "        r=expon.rvs(scale=1/intensity_sup) #scale=1/lamda\n",
    "        t+=r\n",
    "        D=uniform.rvs(loc=0,scale=1)\n",
    "        if D*intensity_sup<=intensity(t,points_hawkes,parameters):\n",
    "            points_hawkes.append(t)\n",
    "            jump=parameters[1]\n",
    "        else:\n",
    "            jump=0\n",
    "    if points_hawkes[-1]>T:\n",
    "        del points_hawkes[-1]\n",
    "    del points_homo[0]\n",
    "    return points_hawkes"
   ]
  },
  {
   "cell_type": "code",
   "execution_count": 4,
   "metadata": {},
   "outputs": [],
   "source": [
    "def negtiveloglikelyhood1(parameters, times, T): #times=timestamp t1-tn; T is timespan      fast:R(i)\n",
    "    times=np.array(times)\n",
    "    \n",
    "    mu=parameters[0]\n",
    "    alpha=parameters[1]\n",
    "    beta=parameters[2]\n",
    "    \n",
    "    timedifference=T-times #T-t0...T-t(n-1) \n",
    "    timeexponential=np.exp(-beta*timedifference)-1\n",
    "    secondsum=alpha/beta*sum(timeexponential)\n",
    "    \n",
    "    R=np.zeros((len(times),1))\n",
    "    for i in range(1,len(times)):\n",
    "        R[i]=np.exp(-beta*(times[i]-times[i-1]))*(1+R[i-1])\n",
    "    firstsum=sum(np.log(mu+alpha*R))  #left-continuous\n",
    "    \n",
    "    negtivelogl=-(firstsum-mu*T+secondsum)\n",
    "    return negtivelogl"
   ]
  },
  {
   "cell_type": "code",
   "execution_count": 66,
   "metadata": {},
   "outputs": [],
   "source": [
    "T=100"
   ]
  },
  {
   "cell_type": "code",
   "execution_count": 106,
   "metadata": {},
   "outputs": [],
   "source": [
    "points_hawkes=hawkes_simulation_expo(T,[1,1,2])"
   ]
  },
  {
   "cell_type": "code",
   "execution_count": 107,
   "metadata": {},
   "outputs": [
    {
     "data": {
      "text/plain": [
       "221"
      ]
     },
     "execution_count": 107,
     "metadata": {},
     "output_type": "execute_result"
    }
   ],
   "source": [
    "len(points_hawkes)"
   ]
  },
  {
   "cell_type": "code",
   "execution_count": 108,
   "metadata": {},
   "outputs": [
    {
     "name": "stdout",
     "output_type": "stream",
     "text": [
      "Optimization terminated successfully.    (Exit mode 0)\n",
      "            Current function value: 13.325717912188082\n",
      "            Iterations: 10\n",
      "            Function evaluations: 55\n",
      "            Gradient evaluations: 10\n"
     ]
    }
   ],
   "source": [
    "parameters=np.array([1.2,0.7,3])\n",
    "res=optimize.minimize(negtiveloglikelyhood1, parameters,args=(points_hawkes,T), method='SLSQP', bounds=((0.01,5),(0.01,5),(0.01,5)), options={'disp': True})"
   ]
  },
  {
   "cell_type": "code",
   "execution_count": 109,
   "metadata": {},
   "outputs": [
    {
     "data": {
      "text/plain": [
       "array([0.97310684, 1.22324715, 2.18150303])"
      ]
     },
     "execution_count": 109,
     "metadata": {},
     "output_type": "execute_result"
    }
   ],
   "source": [
    "res.x"
   ]
  },
  {
   "cell_type": "code",
   "execution_count": 110,
   "metadata": {},
   "outputs": [
    {
     "data": {
      "image/png": "[encoded data removed]",
      "text/plain": [
       "<Figure size 288x216 with 1 Axes>"
      ]
     },
     "metadata": {
      "needs_background": "light"
     },
     "output_type": "display_data"
    }
   ],
   "source": [
    "plt.figure(1,figsize=(4,3))\n",
    "axs=plt.subplot(111)\n",
    "axs.plot(np.linspace(0,6,100),1*np.exp(-2*np.linspace(0,6,100)),label='groundtruth')\n",
    "axs.plot(np.linspace(0,6,100),res.x[1]*np.exp(-res.x[2]*np.linspace(0,6,100)),label='parametric')\n",
    "plt.legend()\n",
    "plt.show()"
   ]
  },
  {
   "cell_type": "markdown",
   "metadata": {},
   "source": [
    "## inference"
   ]
  },
  {
   "cell_type": "code",
   "execution_count": 111,
   "metadata": {},
   "outputs": [],
   "source": [
    "def expo_quad_kernel(theta0,theta1,xn,xm):\n",
    "    return theta0*np.exp(-theta1/2*np.sum((xn - xm)**2))"
   ]
  },
  {
   "cell_type": "code",
   "execution_count": 112,
   "metadata": {},
   "outputs": [],
   "source": [
    "def GP_regression(xi,yi,theta0,theta1,noise_var,rang,num_points):\n",
    "    N=len(xi)\n",
    "    cov_K=np.zeros((N,N))\n",
    "    for i in range(N):\n",
    "        for j in range(i,N):\n",
    "            cov_K[i][j]=expo_quad_kernel(theta0,theta1,xi[i],xi[j])\n",
    "            cov_K[j][i]=cov_K[i][j]\n",
    "    min_eig=np.min(np.real(np.linalg.eigvals(cov_K))) # numerical float truncation error refine\n",
    "    while(min_eig<0):\n",
    "        cov_K += -10*min_eig*np.eye(cov_K.shape[0])\n",
    "        min_eig=np.min(np.real(np.linalg.eigvals(cov_K)))\n",
    "    \n",
    "    cov_K_noise=cov_K+np.eye(N)*noise_var\n",
    "    \n",
    "    x1=np.linspace(0,rang,num_points+1)      # prediction points, integer is to make it easy\n",
    "    M=len(x1)-1\n",
    "    mean=np.zeros((1,M))[0]\n",
    "    posterior_cov=np.zeros((M,M))\n",
    "    k_matrix=np.zeros((M,N))\n",
    "    k_matrix_pre=np.zeros((M,M))\n",
    "    for i in range(M):\n",
    "        for j in range(N):\n",
    "            k_matrix[i][j]=expo_quad_kernel(theta0,theta1,x1[i],xi[j])\n",
    "    k_C=np.dot(k_matrix,np.linalg.inv(cov_K_noise))\n",
    "    mean=np.dot(k_C,yi)\n",
    "    for i in range(M):\n",
    "        for j in range(i,M):\n",
    "            k_matrix_pre[i][j]=expo_quad_kernel(theta0,theta1,x1[i],x1[j])\n",
    "            k_matrix_pre[j][i]=k_matrix_pre[i][j]\n",
    "    posterior_cov=k_matrix_pre-np.dot(k_C,k_matrix.T)+np.eye(M)*noise_var\n",
    "    min_eig=np.min(np.real(np.linalg.eigvals(posterior_cov))) # numerical float truncation error refine\n",
    "    while(min_eig<0):\n",
    "        posterior_cov += -10*min_eig*np.eye(posterior_cov.shape[0])\n",
    "        min_eig=np.min(np.real(np.linalg.eigvals(posterior_cov)))\n",
    "    return x1[:num_points],mean, posterior_cov"
   ]
  },
  {
   "cell_type": "code",
   "execution_count": 113,
   "metadata": {},
   "outputs": [],
   "source": [
    "def u_generate(theta0,theta1,xi): # xi is inducing points, N(0,Sigma)\n",
    "    N=len(xi)\n",
    "    cov=np.zeros((N,N))\n",
    "    for i in range(N):\n",
    "        for j in range(i,N):\n",
    "            cov[i][j]=expo_quad_kernel(theta0,theta1,xi[i],xi[j])\n",
    "            cov[j][i]=cov[i][j]\n",
    "    return multivariate_normal([0]*N,cov).rvs(),np.array([0]*N),cov"
   ]
  },
  {
   "cell_type": "code",
   "execution_count": 114,
   "metadata": {},
   "outputs": [],
   "source": [
    "T_phi=6"
   ]
  },
  {
   "cell_type": "code",
   "execution_count": 115,
   "metadata": {},
   "outputs": [],
   "source": [
    "xi=np.linspace(0+(T_phi/10)/2,T_phi-(T_phi/10)/2,6)   # 6 inducing points on \\phi(\\tau)"
   ]
  },
  {
   "cell_type": "code",
   "execution_count": 116,
   "metadata": {},
   "outputs": [],
   "source": [
    "xi_mu=np.linspace(0+(T/6)/2,T-(T/6)/2,6)   # 6 inducing points, T is larger so we need more points"
   ]
  },
  {
   "cell_type": "markdown",
   "metadata": {},
   "source": [
    "## \\phi part"
   ]
  },
  {
   "cell_type": "code",
   "execution_count": 117,
   "metadata": {},
   "outputs": [],
   "source": [
    "theta0=1\n",
    "theta1=0.5"
   ]
  },
  {
   "cell_type": "code",
   "execution_count": 118,
   "metadata": {},
   "outputs": [],
   "source": [
    "u,mean_p_u,cov_p_u=u_generate(theta0,theta1,xi)"
   ]
  },
  {
   "cell_type": "code",
   "execution_count": 119,
   "metadata": {},
   "outputs": [],
   "source": [
    "f=GP_regression(xi,u,theta0,theta1,0.000001,T_phi,100) # f is 100-dimension vector on [0,T_phi]"
   ]
  },
  {
   "cell_type": "code",
   "execution_count": 120,
   "metadata": {},
   "outputs": [],
   "source": [
    "f_1=multivariate_normal(f[1],f[2]).rvs() # f sample"
   ]
  },
  {
   "cell_type": "code",
   "execution_count": 121,
   "metadata": {},
   "outputs": [
    {
     "data": {
      "image/png": "[encoded data removed]",
      "text/plain": [
       "<Figure size 360x216 with 1 Axes>"
      ]
     },
     "metadata": {
      "needs_background": "light"
     },
     "output_type": "display_data"
    }
   ],
   "source": [
    "plt.figure(1,figsize=(5,3))\n",
    "axs=plt.subplot(111)\n",
    "axs.plot(xi,u,'ro',label='inducing points')\n",
    "axs.plot(f[0],f[1],label='mean')\n",
    "axs.fill_between(f[0],f[1]-np.sqrt(np.diagonal(f[2])),f[1]+np.sqrt(np.diagonal(f[2])),facecolor=(0.53,0.8,0.92),label='+-std')\n",
    "axs.plot(f[0],f_1,label='a sample')\n",
    "plt.legend()\n",
    "plt.show()"
   ]
  },
  {
   "cell_type": "code",
   "execution_count": 122,
   "metadata": {},
   "outputs": [],
   "source": [
    "phi_test=f_1**2"
   ]
  },
  {
   "cell_type": "code",
   "execution_count": 123,
   "metadata": {},
   "outputs": [
    {
     "data": {
      "image/png": "[encoded data removed]",
      "text/plain": [
       "<Figure size 360x216 with 1 Axes>"
      ]
     },
     "metadata": {
      "needs_background": "light"
     },
     "output_type": "display_data"
    }
   ],
   "source": [
    "plt.figure(1,figsize=(5,3))\n",
    "axs=plt.subplot(111)\n",
    "axs.plot(f[0],phi_test,label='test phi')\n",
    "plt.legend()\n",
    "plt.show()"
   ]
  },
  {
   "cell_type": "markdown",
   "metadata": {},
   "source": [
    "## EM framework"
   ]
  },
  {
   "cell_type": "code",
   "execution_count": 124,
   "metadata": {},
   "outputs": [],
   "source": [
    "def ini_P(points_hawkes,T_phi):\n",
    "    N=len(points_hawkes)\n",
    "    P=np.zeros((N,N))\n",
    "    for i in range(N):                    # initial value of P\n",
    "        for j in range(i+1):\n",
    "            tij=points_hawkes[i]-points_hawkes[j]\n",
    "            if tij>=T_phi:continue\n",
    "            else:\n",
    "                P[i][j:i+1]=np.random.dirichlet([1]*(i-j+1))\n",
    "                break\n",
    "    return P"
   ]
  },
  {
   "cell_type": "code",
   "execution_count": 125,
   "metadata": {},
   "outputs": [],
   "source": [
    "def psi(theta0,theta1,xn,xm,T):\n",
    "    x_mean=(xn+xm)/2\n",
    "    return (theta0**2)*(-np.sqrt(np.pi/theta1)/2)*np.exp((-theta1*(xn-xm)**2)/4)*(erf((x_mean-T)*np.sqrt(theta1))\\\n",
    "                                                                                  -erf(x_mean*np.sqrt(theta1)))"
   ]
  },
  {
   "cell_type": "code",
   "execution_count": 126,
   "metadata": {},
   "outputs": [],
   "source": [
    "def distribution_f_posterior(x_f,xi,theta0,theta1,cov_p_u,cov_q_u_post):\n",
    "    N=len(xi) # N is number of inducing points\n",
    "    M=len(x_f) # M is number of predicting points\n",
    "    \n",
    "    cov_p_u_inv=np.linalg.inv(cov_p_u)\n",
    "    \n",
    "    K_xz=np.zeros((M,N))\n",
    "    for i in range(M):\n",
    "        for j in range(N):\n",
    "            K_xz[i][j]=expo_quad_kernel(theta0,theta1,x_f[i],xi[j])\n",
    "#     K_xx=np.zeros((M,M))\n",
    "#     for i in range(M):\n",
    "#         for j in range(i,M):\n",
    "#             K_xx[i][j]=expo_quad_kernel(theta0,theta1,x_f[i],x_f[j])\n",
    "#             K_xx[j][i]=K_xx[i][j]\n",
    "#     mean_f=(K_xz.dot(cov_p_u_inv)).dot(mean_q_u_post)\n",
    "#     cov_f=K_xx-(K_xz.dot(cov_p_u_inv)).dot(K_xz.T)+(((K_xz.dot(cov_p_u_inv)).dot(cov_q_u_post)).dot(cov_p_u_inv)).dot(K_xz.T)\n",
    "    var_f=np.array([theta0-K_xz[i].dot(cov_p_u_inv).dot(K_xz[i].T)+(((K_xz[i].dot(cov_p_u_inv)).dot(cov_q_u_post)).dot(cov_p_u_inv)).dot(K_xz[i].T) for i in range(M)])\n",
    "    \n",
    "    exp_phi=var_f\n",
    "    return exp_phi"
   ]
  },
  {
   "cell_type": "markdown",
   "metadata": {},
   "source": [
    "## \\mu is constant"
   ]
  },
  {
   "cell_type": "code",
   "execution_count": 127,
   "metadata": {},
   "outputs": [],
   "source": [
    "def eq(p,P,k_K,k_K_k,k_K_K_k,secondterm,thirdterm,M,m):\n",
    "    y=0\n",
    "    s=p\n",
    "    for i in range(1,len(k_K_k)):\n",
    "        for j in range(i):\n",
    "            if P[i][j]!=0:\n",
    "                y+=k_K_K_k[i][j][m]*P[i][j]/(k_K_k[i][j]+sum([(k_K[i][j][k]**2)*s[k] for k in range(M)]))\n",
    "    y+=-secondterm[m]-0.5*thirdterm[m]+0.5/s[m]\n",
    "    return y"
   ]
  },
  {
   "cell_type": "code",
   "execution_count": 128,
   "metadata": {},
   "outputs": [],
   "source": [
    "def equations(p,P,k_K,k_K_k,k_K_K_k,secondterm,thirdterm,M):\n",
    "    return [eq(p,P,k_K,k_K_k,k_K_K_k,secondterm,thirdterm,M,i) for i in range(M)]"
   ]
  },
  {
   "cell_type": "code",
   "execution_count": 129,
   "metadata": {},
   "outputs": [],
   "source": [
    "def MISD_variational_deri_mu_cons(points_hawkes,xi,T_phi,T,num_iter): # 100 predict points on T_phi, 1000 predict points on T\n",
    "    N=len(points_hawkes) # num of observation\n",
    "    M=len(xi)            # num of inducing points on phi\n",
    "    P=ini_P(points_hawkes,T_phi)\n",
    "    delta_t=T_phi/len(f[0]) # phi is discete to 100 points\n",
    "    \n",
    "    #__________________initial setting of phi\n",
    "    cov_q_u_diag=np.random.uniform(0,1,M)\n",
    "    cov_p_u_inv=np.linalg.inv(cov_p_u)\n",
    "    thirdterm=np.diagonal(cov_p_u_inv)\n",
    "    n_1=sum(np.array(points_hawkes)<(T-T_phi)) # num of points within T-T_phi\n",
    "    Psi=np.zeros((N,M,M))\n",
    "    for i in range(n_1):\n",
    "        for j in range(M):\n",
    "            for k in range(j,M):\n",
    "                Psi[i][j][k]=psi(theta0,theta1,xi[j],xi[k],T_phi)\n",
    "                Psi[i][k][j]=Psi[i][j][k]\n",
    "    for i in range(n_1,N):\n",
    "        for j in range(M):\n",
    "            for k in range(j,M):\n",
    "                Psi[i][j][k]=psi(theta0,theta1,xi[j],xi[k],T-points_hawkes[i])\n",
    "                Psi[i][k][j]=Psi[i][j][k]\n",
    "    secondterm=sum([np.diagonal(cov_p_u_inv.dot(Psi[i]).dot(cov_p_u_inv)) for i in range(N)])\n",
    "    k_tn_z=np.zeros((N,N,M))\n",
    "    for i in range(1,N):\n",
    "        for j in range(i):\n",
    "            if P[i][j]!=0:\n",
    "                tao=points_hawkes[i]-points_hawkes[j]\n",
    "                k_tn_z[i][j]=np.array([expo_quad_kernel(theta0,theta1,tao,xi[k]) for k in range(M)])            \n",
    "    k_K_K_k=np.zeros((N,N,M))   # matrix of vector   #     1st term\n",
    "    k_K_k=np.zeros((N,N))    # matrix of value\n",
    "    k_K=np.zeros((N,N,M))     # matrix of vector\n",
    "    for i in range(1,N):\n",
    "        for j in range(i):\n",
    "            if P[i][j]!=0:\n",
    "                k_K_K_k[i][j]=np.diagonal(cov_p_u_inv.dot(np.array([k_tn_z[i][j]]).T).dot(np.array([k_tn_z[i][j]])).dot(cov_p_u_inv))\n",
    "                k_K_k[i][j]=theta0-k_tn_z[i][j].dot(cov_p_u_inv).dot(k_tn_z[i][j].T)\n",
    "                k_K[i][j]=k_tn_z[i][j].dot(cov_p_u_inv)\n",
    "    \n",
    "    \n",
    "    \n",
    "    \n",
    "    \n",
    "    for k in range(num_iter):  # num of iterations\n",
    "        # update of phi\n",
    "        \n",
    "        cov_q_u_diag=fsolve(equations,cov_q_u_diag, args=(P,k_K,k_K_k,k_K_K_k,secondterm,thirdterm,M))\n",
    "        cov_q_u_diag[cov_q_u_diag<0] = 0.1 # more stable\n",
    "        cov_q_u=np.diag(cov_q_u_diag)\n",
    "        phi=distribution_f_posterior(f[0],xi,theta0,theta1,cov_p_u,cov_q_u)\n",
    "        \n",
    "        # update of mu\n",
    "        \n",
    "        mu=sum(np.diagonal(P))/T\n",
    "\n",
    "        \n",
    "        for i in range(N): # updata of P\n",
    "            intensity_total=0\n",
    "            for j in range(i):\n",
    "                tji=points_hawkes[i]-points_hawkes[j]\n",
    "                if tji>=T_phi: continue\n",
    "                intensity_total+=phi[int(tji/delta_t)]\n",
    "            intensity_total+=mu\n",
    "            P[i][i]=mu/intensity_total\n",
    "            for j in range(i):\n",
    "                tji=points_hawkes[i]-points_hawkes[j]\n",
    "                if tji>=T_phi: P[i][j]=0\n",
    "                else: P[i][j]=phi[int(tji/delta_t)]/intensity_total\n",
    "    return mu,phi"
   ]
  },
  {
   "cell_type": "code",
   "execution_count": 130,
   "metadata": {},
   "outputs": [
    {
     "name": "stdout",
     "output_type": "stream",
     "text": [
      "Wall time: 10min 27s\n"
     ]
    }
   ],
   "source": [
    "%%time\n",
    "mu_var,phi_var=MISD_variational_deri_mu_cons(points_hawkes,xi,T_phi,T,200)"
   ]
  },
  {
   "cell_type": "code",
   "execution_count": 131,
   "metadata": {},
   "outputs": [
    {
     "data": {
      "text/plain": [
       "0.6232121220877839"
      ]
     },
     "execution_count": 131,
     "metadata": {},
     "output_type": "execute_result"
    }
   ],
   "source": [
    "mu_var"
   ]
  },
  {
   "cell_type": "code",
   "execution_count": 132,
   "metadata": {},
   "outputs": [
    {
     "data": {
      "image/png": "[encoded data removed]",
      "text/plain": [
       "<Figure size 576x360 with 1 Axes>"
      ]
     },
     "metadata": {
      "needs_background": "light"
     },
     "output_type": "display_data"
    }
   ],
   "source": [
    "plt.figure(1,figsize=(8,5))\n",
    "axs=plt.subplot(111)\n",
    "axs.plot(f[0],phi_var,label='Variational')\n",
    "axs.plot(np.linspace(0,6,100),1*np.exp(-2*np.linspace(0,6,100)),label='groundtruth')\n",
    "plt.legend()\n",
    "plt.show()"
   ]
  },
  {
   "cell_type": "code",
   "execution_count": 38,
   "metadata": {},
   "outputs": [
    {
     "data": {
      "text/plain": [
       "[0.7380051835994395,\n",
       " 0.8452061672925733,\n",
       " 0.9233725305573964,\n",
       " 1.5566832343748203,\n",
       " 1.8507817445151686,\n",
       " 2.220547871035184,\n",
       " 2.72088932609845,\n",
       " 2.9452968549606804,\n",
       " 4.142324308515844,\n",
       " 5.30915835024897,\n",
       " 5.379872904328168,\n",
       " 5.76995376958513,\n",
       " 5.770351946017738,\n",
       " 8.192265455095104,\n",
       " 8.75685926045776,\n",
       " 8.850350717034663,\n",
       " 9.194610643701186,\n",
       " 10.08332546049405,\n",
       " 10.16163366018592,\n",
       " 10.369062605129042,\n",
       " 10.435446678001899,\n",
       " 10.761926402096634,\n",
       " 11.449146661575934,\n",
       " 12.076191847252163,\n",
       " 12.806479747938083,\n",
       " 12.959432801061228,\n",
       " 12.996084616794205,\n",
       " 14.905831034250182,\n",
       " 15.466141942502759,\n",
       " 15.778662431614636,\n",
       " 15.778770447970938,\n",
       " 15.886958357052979,\n",
       " 17.11330923291783,\n",
       " 17.119388864878164,\n",
       " 17.511486147489727,\n",
       " 17.748993672686037,\n",
       " 18.141807560933895,\n",
       " 18.154948969163588,\n",
       " 18.295540135531578,\n",
       " 18.295734184569913,\n",
       " 18.310504822798322,\n",
       " 18.917308007131677,\n",
       " 18.917749259700546,\n",
       " 19.760144143423958,\n",
       " 21.515345621591024,\n",
       " 21.553364610435683,\n",
       " 21.796143371148595,\n",
       " 21.827521614152253,\n",
       " 22.011974581310316,\n",
       " 22.10688315464432,\n",
       " 22.678407637629807,\n",
       " 22.753383974359537,\n",
       " 23.82326236101097,\n",
       " 25.371470324070103,\n",
       " 25.402532461685844,\n",
       " 25.5623216167035,\n",
       " 25.955628222521106,\n",
       " 26.64756223356567,\n",
       " 26.881319714989573,\n",
       " 27.066442503659008,\n",
       " 27.18910321450612,\n",
       " 28.2146829559019,\n",
       " 28.59926868272783,\n",
       " 28.933400621108525,\n",
       " 29.07645277505458,\n",
       " 29.124099765428717,\n",
       " 29.17622124720049,\n",
       " 29.365606652308653,\n",
       " 29.3993977342364,\n",
       " 29.40949090118492,\n",
       " 29.67046498707234,\n",
       " 29.803814328303545,\n",
       " 31.03186562888813,\n",
       " 31.03258438840006,\n",
       " 31.129789283025996,\n",
       " 31.185162084306995,\n",
       " 31.456854076653567,\n",
       " 31.469902346353198,\n",
       " 31.527821179281464,\n",
       " 31.672833631799023,\n",
       " 31.909889380364362,\n",
       " 32.215071788769635,\n",
       " 32.36774319861183,\n",
       " 32.408261211494334,\n",
       " 32.43369752646579,\n",
       " 32.65780370475008,\n",
       " 32.80273605349293,\n",
       " 32.92958300602107,\n",
       " 33.015911608228805,\n",
       " 33.0633492660896,\n",
       " 33.21235005524442,\n",
       " 33.346410774089364,\n",
       " 33.42655536198175,\n",
       " 33.55972959602285,\n",
       " 33.94916002064728,\n",
       " 34.14795212932698,\n",
       " 34.299061142135486,\n",
       " 35.92156091547384,\n",
       " 38.59771221499687,\n",
       " 38.67698111047243,\n",
       " 39.93839910422117,\n",
       " 40.31423827051014,\n",
       " 41.72989555056525,\n",
       " 42.39812354076967,\n",
       " 42.58815922405329,\n",
       " 43.44957499150348,\n",
       " 43.817575930779384,\n",
       " 43.83818865293225,\n",
       " 44.26459439108024,\n",
       " 44.492441565024286,\n",
       " 44.770961354387914,\n",
       " 45.39658752522363,\n",
       " 45.444680114718324,\n",
       " 45.46562918174745,\n",
       " 45.95905907357109,\n",
       " 46.32823690945628,\n",
       " 46.48065906953441,\n",
       " 46.61504434272107,\n",
       " 47.39854636185959,\n",
       " 48.320124925279025,\n",
       " 48.49190632984485,\n",
       " 49.971614810132266,\n",
       " 50.14303179268382,\n",
       " 52.27780133876422,\n",
       " 56.03187547797202,\n",
       " 58.10365854142378,\n",
       " 58.228634708082296,\n",
       " 58.79713020775765,\n",
       " 59.06357037609088,\n",
       " 61.533857758377465,\n",
       " 62.37824415822643,\n",
       " 62.63583150227762,\n",
       " 63.110688669463066,\n",
       " 63.24688863096552,\n",
       " 63.260284399082295,\n",
       " 63.749267715398624,\n",
       " 63.858198168292176,\n",
       " 63.93061942003654,\n",
       " 64.29886258961784,\n",
       " 64.67411580882599,\n",
       " 64.70498054026568,\n",
       " 66.46223626570213,\n",
       " 66.49258217996488,\n",
       " 68.90266006111202,\n",
       " 69.18836721343823,\n",
       " 69.35903386560375,\n",
       " 71.92214572804876,\n",
       " 72.3576761945592,\n",
       " 73.43069905118173,\n",
       " 73.74759278977025,\n",
       " 75.67520481160805,\n",
       " 75.94142907216407,\n",
       " 76.09307175060945,\n",
       " 76.89059130058395,\n",
       " 77.08054206612586,\n",
       " 77.16840693755904,\n",
       " 77.68229169311876,\n",
       " 78.71667775914469,\n",
       " 78.88535858233476,\n",
       " 79.41187595963183,\n",
       " 79.51019090201909,\n",
       " 79.57016077346762,\n",
       " 79.6324676795084,\n",
       " 79.73526914650594,\n",
       " 79.74433679202006,\n",
       " 80.49875176169168,\n",
       " 81.35745344919128,\n",
       " 81.56381256703804,\n",
       " 81.92584516246777,\n",
       " 82.4896243848524,\n",
       " 82.56249118705321,\n",
       " 82.56408216864502,\n",
       " 82.583044454809,\n",
       " 82.60553753805816,\n",
       " 82.68658995461068,\n",
       " 82.72995105715198,\n",
       " 82.73569898966448,\n",
       " 82.84743801133145,\n",
       " 82.96357038358877,\n",
       " 83.66937767136247,\n",
       " 83.71571638547199,\n",
       " 83.91615465596665,\n",
       " 84.0792647774623,\n",
       " 84.33169003874863,\n",
       " 84.40576323243123,\n",
       " 84.47749590192026,\n",
       " 84.83518578087316,\n",
       " 85.33996294406997,\n",
       " 85.67721928261042,\n",
       " 85.99942451273621,\n",
       " 86.32573864835481,\n",
       " 86.33823313087882,\n",
       " 86.3968252293043,\n",
       " 86.41889223311854,\n",
       " 88.42602852284094,\n",
       " 88.89988824759911,\n",
       " 89.12419506398653,\n",
       " 89.54046974933006,\n",
       " 89.91377004314218,\n",
       " 89.99350999026815,\n",
       " 90.07597499305346,\n",
       " 90.48040062574185,\n",
       " 90.85037479335695,\n",
       " 90.8612611363622,\n",
       " 91.06508790847144,\n",
       " 91.69858603471688,\n",
       " 92.56447501905059,\n",
       " 93.7261587647614,\n",
       " 94.29569405891704,\n",
       " 94.297215440402,\n",
       " 96.95021617980841,\n",
       " 97.76627842745904,\n",
       " 98.08965207744372,\n",
       " 98.90629245845557]"
      ]
     },
     "execution_count": 38,
     "metadata": {},
     "output_type": "execute_result"
    }
   ],
   "source": [
    "points_hawkes"
   ]
  },
  {
   "cell_type": "code",
   "execution_count": null,
   "metadata": {},
   "outputs": [],
   "source": []
  },
  {
   "cell_type": "code",
   "execution_count": null,
   "metadata": {},
   "outputs": [],
   "source": []
  },
  {
   "cell_type": "code",
   "execution_count": null,
   "metadata": {},
   "outputs": [],
   "source": []
  },
  {
   "cell_type": "markdown",
   "metadata": {},
   "source": [
    "## \\mu is function"
   ]
  },
  {
   "cell_type": "code",
   "execution_count": 38,
   "metadata": {
    "collapsed": true
   },
   "outputs": [],
   "source": [
    "theta0_mu=1\n",
    "theta1_mu=0.01"
   ]
  },
  {
   "cell_type": "code",
   "execution_count": 39,
   "metadata": {
    "collapsed": true
   },
   "outputs": [],
   "source": [
    "u_mu,mean_p_u_mu,cov_p_u_mu=u_generate(theta0_mu,theta1_mu,xi_mu)"
   ]
  },
  {
   "cell_type": "code",
   "execution_count": 40,
   "metadata": {
    "collapsed": true
   },
   "outputs": [],
   "source": [
    "f_mu=GP_regression(xi_mu,u_mu,theta0_mu,theta1_mu,0.000001,T,500) # f is 1000-dimension vector on [0,T]"
   ]
  },
  {
   "cell_type": "code",
   "execution_count": 41,
   "metadata": {
    "collapsed": true
   },
   "outputs": [],
   "source": [
    "f_mu_1=multivariate_normal(f_mu[1],f_mu[2]).rvs() # f_mu sample"
   ]
  },
  {
   "cell_type": "code",
   "execution_count": 42,
   "metadata": {},
   "outputs": [
    {
     "data": {
      "image/png": "[encoded data removed]",
      "text/plain": [
       "<Figure size 360x216 with 1 Axes>"
      ]
     },
     "metadata": {},
     "output_type": "display_data"
    }
   ],
   "source": [
    "plt.figure(1,figsize=(5,3))\n",
    "axs=plt.subplot(111)\n",
    "axs.plot(xi_mu,u_mu,'ro',label='inducing points')\n",
    "axs.plot(f_mu[0],f_mu[1],label='mean')\n",
    "axs.fill_between(f_mu[0],f_mu[1]-np.sqrt(np.diagonal(f_mu[2])),f_mu[1]+np.sqrt(np.diagonal(f_mu[2])),facecolor=(0.53,0.8,0.92),label='+-std')\n",
    "axs.plot(f_mu[0],f_mu_1,label='a sample')\n",
    "plt.legend()\n",
    "plt.show()"
   ]
  },
  {
   "cell_type": "code",
   "execution_count": 43,
   "metadata": {
    "collapsed": true
   },
   "outputs": [],
   "source": [
    "mu_t_test=f_mu_1**2"
   ]
  },
  {
   "cell_type": "code",
   "execution_count": 44,
   "metadata": {},
   "outputs": [
    {
     "data": {
      "image/png": "[encoded data removed]",
      "text/plain": [
       "<Figure size 360x216 with 1 Axes>"
      ]
     },
     "metadata": {},
     "output_type": "display_data"
    }
   ],
   "source": [
    "plt.figure(1,figsize=(5,3))\n",
    "axs=plt.subplot(111)\n",
    "axs.plot(f_mu[0],mu_t_test,label='test mu(t)')\n",
    "plt.legend()\n",
    "plt.show()"
   ]
  },
  {
   "cell_type": "code",
   "execution_count": 45,
   "metadata": {
    "collapsed": true
   },
   "outputs": [],
   "source": [
    "def eq_mu(p,P,k_K,k_K_k,k_K_K_k,secondterm,thirdterm,M,m):\n",
    "    y=0\n",
    "    s=p\n",
    "    for n in range(len(k_K_k)):\n",
    "        if P[n][n]!=0:\n",
    "            y+=k_K_K_k[n][m]*P[n][n]/(k_K_k[n]+sum([(k_K[n][i]**2)*s[i] for i in range(M)]))\n",
    "    y+=-secondterm[m]-0.5*thirdterm[m]+0.5/s[m]\n",
    "    return y"
   ]
  },
  {
   "cell_type": "code",
   "execution_count": 46,
   "metadata": {
    "collapsed": true
   },
   "outputs": [],
   "source": [
    "def equations_mu(p,P,k_K,k_K_k,k_K_K_k,secondterm,thirdterm,M):\n",
    "    return [eq_mu(p,P,k_K,k_K_k,k_K_K_k,secondterm,thirdterm,M,i) for i in range(M)]"
   ]
  },
  {
   "cell_type": "code",
   "execution_count": 54,
   "metadata": {
    "collapsed": true
   },
   "outputs": [],
   "source": [
    "def MISD_variational_deri(points_hawkes,xi,xi_mu,T_phi,T,num_iter): # 100 predict points on T_phi, 1000 predict points on T\n",
    "    N=len(points_hawkes) # num of observation\n",
    "    M=len(xi)            # num of inducing points on phi\n",
    "    M_mu=len(xi_mu)      # num of inducing points on mu\n",
    "    P=ini_P(points_hawkes,T_phi)\n",
    "    delta_t=T_phi/len(f[0]) # phi is discete to 100 points\n",
    "    delta_t_mu=T/len(f_mu[0]) # u(t) is descrete to 500 points\n",
    "    \n",
    "    \n",
    "    #_______________________initial setting of mu\n",
    "    cov_q_u_mu_diag=np.random.uniform(0,1,M_mu)  ## initial of cov_q_u_mu_diag\n",
    "    k_tn_z_mu=np.zeros((N,M_mu))\n",
    "    for i in range(N):\n",
    "        for j in range(M_mu):\n",
    "            k_tn_z_mu[i][j]=expo_quad_kernel(theta0_mu,theta1_mu,points_hawkes[i],xi_mu[j])\n",
    "            \n",
    "    cov_p_u_mu_inv=np.linalg.inv(cov_p_u_mu)\n",
    "    thirdterm_mu=np.diagonal(cov_p_u_mu_inv)\n",
    "    Psi_mu=np.zeros((M_mu,M_mu))\n",
    "    for i in range(M_mu):\n",
    "        for j in range(i,M_mu):\n",
    "            Psi_mu[i][j]=psi(theta0_mu,theta1_mu,xi_mu[i],xi_mu[j],T)\n",
    "            Psi_mu[j][i]=Psi_mu[i][j]\n",
    "    secondterm_mu=np.diagonal(cov_p_u_mu_inv.dot(Psi_mu).dot(cov_p_u_mu_inv))\n",
    "    \n",
    "    k_K_K_k_mu=np.empty((0,M_mu))   #vector of vector   #     1st term\n",
    "    k_K_k_mu=np.array([])    # vecotr of value\n",
    "    k_K_mu=np.empty((0,M_mu))      # vector of vector\n",
    "    for i in range(N):\n",
    "        k_K_K_k_mu=np.append(k_K_K_k_mu, np.array([np.diagonal(cov_p_u_mu_inv.dot(np.array([k_tn_z_mu[i]]).T).dot(np.array([k_tn_z_mu[i]])).dot(cov_p_u_mu_inv))]),axis=0)\n",
    "        k_K_k_mu=np.append(k_K_k_mu,theta0_mu-k_tn_z_mu[i].dot(cov_p_u_mu_inv).dot(k_tn_z_mu[i].T))\n",
    "        k_K_mu=np.append(k_K_mu,np.array([k_tn_z_mu[i].dot(cov_p_u_mu_inv)]),axis=0) \n",
    "    \n",
    "    #__________________initial setting of phi\n",
    "    cov_q_u_diag=np.random.uniform(0,1,M)\n",
    "    cov_p_u_inv=np.linalg.inv(cov_p_u)\n",
    "    thirdterm=np.diagonal(cov_p_u_inv)\n",
    "    n_1=sum(np.array(points_hawkes)<(T-T_phi)) # num of points within T-T_phi\n",
    "    Psi=np.zeros((N,M,M))\n",
    "    for i in range(n_1):\n",
    "        for j in range(M):\n",
    "            for k in range(j,M):\n",
    "                Psi[i][j][k]=psi(theta0,theta1,xi[j],xi[k],T_phi)\n",
    "                Psi[i][k][j]=Psi[i][j][k]\n",
    "    for i in range(n_1,N):\n",
    "        for j in range(M):\n",
    "            for k in range(j,M):\n",
    "                Psi[i][j][k]=psi(theta0,theta1,xi[j],xi[k],T-points_hawkes[i])\n",
    "                Psi[i][k][j]=Psi[i][j][k]\n",
    "    secondterm=sum([np.diagonal(cov_p_u_inv.dot(Psi[i]).dot(cov_p_u_inv)) for i in range(N)])\n",
    "    k_tn_z=np.zeros((N,N,M))\n",
    "    for i in range(1,N):\n",
    "        for j in range(i):\n",
    "            if P[i][j]!=0:\n",
    "                tao=points_hawkes[i]-points_hawkes[j]\n",
    "                k_tn_z[i][j]=np.array([expo_quad_kernel(theta0,theta1,tao,xi[k]) for k in range(M)])            \n",
    "    k_K_K_k=np.zeros((N,N,M))   # matrix of vector   #     1st term\n",
    "    k_K_k=np.zeros((N,N))    # matrix of value\n",
    "    k_K=np.zeros((N,N,M))     # matrix of vector\n",
    "    for i in range(1,N):\n",
    "        for j in range(i):\n",
    "            if P[i][j]!=0:\n",
    "                k_K_K_k[i][j]=np.diagonal(cov_p_u_inv.dot(np.array([k_tn_z[i][j]]).T).dot(np.array([k_tn_z[i][j]])).dot(cov_p_u_inv))\n",
    "                k_K_k[i][j]=theta0-k_tn_z[i][j].dot(cov_p_u_inv).dot(k_tn_z[i][j].T)\n",
    "                k_K[i][j]=k_tn_z[i][j].dot(cov_p_u_inv)\n",
    "    \n",
    "    \n",
    "    \n",
    "    \n",
    "    \n",
    "    for k in range(num_iter):  # num of iterations\n",
    "        # update of phi\n",
    "        \n",
    "        cov_q_u_diag=fsolve(equations,cov_q_u_diag, args=(P,k_K,k_K_k,k_K_K_k,secondterm,thirdterm,M))\n",
    "        cov_q_u_diag[cov_q_u_diag<0] = 0.1 # more stable\n",
    "        cov_q_u=np.diag(cov_q_u_diag)\n",
    "        phi=distribution_f_posterior(f[0],xi,theta0,theta1,cov_p_u,cov_q_u)\n",
    "        \n",
    "        # update of mu\n",
    "        \n",
    "        cov_q_u_mu_diag=fsolve(equations_mu,cov_q_u_mu_diag, args=(P,k_K_mu,k_K_k_mu,k_K_K_k_mu,secondterm_mu,thirdterm_mu,M_mu))\n",
    "        cov_q_u_mu_diag[cov_q_u_mu_diag<0] = 0.1 # more stable\n",
    "        cov_q_u_mu=np.diag(cov_q_u_mu_diag)\n",
    "        mu=distribution_f_posterior(f_mu[0],xi_mu,theta0_mu,theta1_mu,cov_p_u_mu,cov_q_u_mu)\n",
    "\n",
    "        \n",
    "        for i in range(N): # updata of P\n",
    "            mu_ti=mu[int(points_hawkes[i]/delta_t_mu)]\n",
    "            intensity_total=0\n",
    "            for j in range(i):\n",
    "                tji=points_hawkes[i]-points_hawkes[j]\n",
    "                if tji>=T_phi: continue\n",
    "                intensity_total+=phi[int(tji/delta_t)]\n",
    "            intensity_total+=mu_ti\n",
    "            P[i][i]=mu_ti/intensity_total\n",
    "            for j in range(i):\n",
    "                tji=points_hawkes[i]-points_hawkes[j]\n",
    "                if tji>=T_phi: P[i][j]=0\n",
    "                else: P[i][j]=phi[int(tji/delta_t)]/intensity_total\n",
    "    return mu,phi"
   ]
  },
  {
   "cell_type": "code",
   "execution_count": 55,
   "metadata": {},
   "outputs": [
    {
     "name": "stdout",
     "output_type": "stream",
     "text": [
      "Wall time: 4min\n"
     ]
    }
   ],
   "source": [
    "%%time\n",
    "mu_2,phi_2=MISD_variational_deri(points_hawkes,xi,xi_mu,T_phi,T,100)"
   ]
  },
  {
   "cell_type": "code",
   "execution_count": 57,
   "metadata": {},
   "outputs": [
    {
     "data": {
      "image/png": "[encoded data removed]",
      "text/plain": [
       "<Figure size 576x360 with 1 Axes>"
      ]
     },
     "metadata": {},
     "output_type": "display_data"
    }
   ],
   "source": [
    "plt.figure(1,figsize=(8,5))\n",
    "axs=plt.subplot(111)\n",
    "axs.plot([0,T],[1,1],label='groundtruth')\n",
    "axs.plot(f_mu[0],mu_2,label='MISD-VAR')\n",
    "plt.legend()\n",
    "plt.ylim(0,3)\n",
    "plt.show()"
   ]
  },
  {
   "cell_type": "code",
   "execution_count": 60,
   "metadata": {},
   "outputs": [
    {
     "data": {
      "image/png": "[encoded data removed]",
      "text/plain": [
       "<Figure size 576x360 with 1 Axes>"
      ]
     },
     "metadata": {},
     "output_type": "display_data"
    }
   ],
   "source": [
    "plt.figure(1,figsize=(8,5))\n",
    "axs=plt.subplot(111)\n",
    "axs.plot(f[0],phi_2,label='MISD-VAR')\n",
    "# axs.plot(f[0],phi_1,label='MISD-VAR-constant')\n",
    "axs.plot(np.linspace(0,6,100),1*np.exp(-2*np.linspace(0,6,100)),label='groundtruth')\n",
    "plt.legend()\n",
    "plt.show()"
   ]
  },
  {
   "cell_type": "markdown",
   "metadata": {},
   "source": [
    "## MISD"
   ]
  },
  {
   "cell_type": "code",
   "execution_count": 133,
   "metadata": {},
   "outputs": [],
   "source": [
    "def MISD(points_hawkes,T,T_gamma,delta_t,num_iter):\n",
    "    num_g=int(T_gamma/delta_t)\n",
    "    N=len(points_hawkes)\n",
    "    P=ini_P(points_hawkes,T_gamma)\n",
    "    g=np.zeros((1,num_g), dtype=float)\n",
    "\n",
    "    for k in range(num_iter):\n",
    "        for m in range(num_g): # update for u and g\n",
    "            rate_prob=np.zeros((1,N))\n",
    "            div_num=0\n",
    "            for i in range(N):\n",
    "                if (T-points_hawkes[i])>=m*delta_t and (T-points_hawkes[i])<(m+1)*delta_t: # point i is close to T\n",
    "                    div_num+=1\n",
    "                    for j in range(i+1,N):\n",
    "                        interval=points_hawkes[j]-points_hawkes[i]\n",
    "                        if interval>=m*delta_t and interval<(m+1)*delta_t:\n",
    "                            rate_prob[0][i]+=P[j][i]\n",
    "                        elif interval>=(m+1)*delta_t:\n",
    "                            break\n",
    "                    rate_prob[0][i]=rate_prob[0][i]/(T-m*delta_t)\n",
    "                elif (T-points_hawkes[i])<m*delta_t:\n",
    "                    break\n",
    "                else:\n",
    "                    div_num+=1\n",
    "                    for j in range(i+1,N):\n",
    "                        interval=points_hawkes[j]-points_hawkes[i]\n",
    "                        if interval>=m*delta_t and interval<(m+1)*delta_t:\n",
    "                            rate_prob[0][i]+=P[j][i]\n",
    "                        elif interval>=(m+1)*delta_t:\n",
    "                            break\n",
    "                    rate_prob[0][i]=rate_prob[0][i]/delta_t\n",
    "            if div_num==0:\n",
    "                break\n",
    "            else:\n",
    "                g[0][m]=sum(rate_prob[0])/div_num\n",
    "        u=sum(P[i][i] for i in range(N))/T\n",
    "\n",
    "        for i in range(N): # updata for P\n",
    "            intensity_total=0\n",
    "            for j in range(i):\n",
    "                tji=points_hawkes[i]-points_hawkes[j]\n",
    "                if tji>=T_gamma: continue\n",
    "                intensity_total+=g[0][int(tji/delta_t)]\n",
    "            intensity_total+=u\n",
    "            P[i][i]=u/intensity_total\n",
    "            for j in range(i):\n",
    "                tji=points_hawkes[i]-points_hawkes[j]\n",
    "                if tji>=T_gamma: P[i][j]=0\n",
    "                else: P[i][j]=g[0][int(tji/delta_t)]/intensity_total\n",
    "    return u,g[0]"
   ]
  },
  {
   "cell_type": "code",
   "execution_count": 134,
   "metadata": {},
   "outputs": [],
   "source": [
    "u_misd_10,phi_misd_10=MISD(points_hawkes,T,T_phi,0.6,200)"
   ]
  },
  {
   "cell_type": "code",
   "execution_count": 135,
   "metadata": {},
   "outputs": [],
   "source": [
    "u_misd_20,phi_misd_20=MISD(points_hawkes,T,T_phi,0.3,200)"
   ]
  },
  {
   "cell_type": "code",
   "execution_count": 136,
   "metadata": {},
   "outputs": [
    {
     "data": {
      "text/plain": [
       "0.6980680666247185"
      ]
     },
     "execution_count": 136,
     "metadata": {},
     "output_type": "execute_result"
    }
   ],
   "source": [
    "u_misd_10"
   ]
  },
  {
   "cell_type": "code",
   "execution_count": 137,
   "metadata": {},
   "outputs": [
    {
     "data": {
      "text/plain": [
       "0.6207733910430424"
      ]
     },
     "execution_count": 137,
     "metadata": {},
     "output_type": "execute_result"
    }
   ],
   "source": [
    "u_misd_20"
   ]
  },
  {
   "cell_type": "markdown",
   "metadata": {},
   "source": [
    "### Wiener-Hopf method"
   ]
  },
  {
   "cell_type": "code",
   "execution_count": 138,
   "metadata": {},
   "outputs": [],
   "source": [
    "def hawkes_second_stats_conti_gauss(t,h,points_hawkes,T):   # gaussian kernel\n",
    "    N=len(points_hawkes)\n",
    "    Lamda=N/T\n",
    "    g_t_i=[]\n",
    "    for i in range(N):\n",
    "        if points_hawkes[i]+t>T-h:\n",
    "            break\n",
    "        else:\n",
    "            g_t=np.exp(-(((t-(points_hawkes[:i]+points_hawkes[i+1:]-points_hawkes[i]))/h)**2/2))\n",
    "            g_t_i.append(sum(g_t)/np.sqrt(2*np.pi)/h)\n",
    "    return np.average(g_t_i)-Lamda"
   ]
  },
  {
   "cell_type": "code",
   "execution_count": 139,
   "metadata": {},
   "outputs": [],
   "source": [
    "def primitive_g(t,g,range_g): # -infinity to t\n",
    "    delta_t=range_g/len(g)\n",
    "    num_bin=t/delta_t\n",
    "    if num_bin<len(g):\n",
    "        integral=sum(g[:int(num_bin)])*delta_t+g[int(num_bin)]*delta_t*(num_bin-int(num_bin))\n",
    "    else:\n",
    "        integral=sum(g)*delta_t\n",
    "    return integral+sum(g)*delta_t"
   ]
  },
  {
   "cell_type": "code",
   "execution_count": 140,
   "metadata": {},
   "outputs": [],
   "source": [
    "def gq_points_weights(a,b,Q):\n",
    "    p,w=np.polynomial.legendre.leggauss(Q)\n",
    "    c = np.array([0]*Q + [1])\n",
    "    p_new=(a+b+(b-a)*p)/2\n",
    "    w_new=(b-a)/(legendre.legval(p, legendre.legder(c))**2*(1-p**2))\n",
    "    return p_new,w_new"
   ]
  },
  {
   "cell_type": "code",
   "execution_count": 141,
   "metadata": {},
   "outputs": [],
   "source": [
    "def phi_WH_prediction(t,g,Q,range_g): \n",
    "    delta_t=range_g/len(g) \n",
    "    p,w=gq_points_weights(0,range_g,Q)  # (0,infininty) replaced by (0,range_g)\n",
    "    g_ti=np.zeros((Q,Q))\n",
    "    G_ti=np.zeros((1,Q))[0]\n",
    "    for i in range(Q):\n",
    "        G_ti[i]=primitive_g(p[i],g,range_g)\n",
    "        for j in range(i,Q):\n",
    "            if i==j:\n",
    "                g_ti[i][i]=g[int(p[i]/delta_t)]\n",
    "            else:\n",
    "                g_ti[i][j]=g[int((p[j]-p[i])/delta_t)]\n",
    "                g_ti[j][i]=g_ti[i][j]\n",
    "    \n",
    "    a = np.zeros((Q,Q))\n",
    "    b = np.zeros((1,Q))[0]\n",
    "    for i in range(Q):\n",
    "        b[i]=g_ti[i][i]\n",
    "        for j in range(Q):\n",
    "            if i==j:\n",
    "                a[i][i]=1+G_ti[i]-sum(w*g_ti[i])+w[i]*g_ti[i][i]  #diagonal\n",
    "            else:\n",
    "                a[i][j]=w[j]*g_ti[i][j]    \n",
    "    phi_ti = np.linalg.solve(a,b)\n",
    "\n",
    "    g_t=g[int(t/delta_t)]\n",
    "    G_t=primitive_g(t,g,range_g)\n",
    "    g_t_ti=np.zeros((1,Q))[0]\n",
    "    for i in range(Q):\n",
    "        g_t_ti[i]=g[int((t-p[i])/delta_t)]\n",
    "    phi_t=(g_t-sum(w*phi_ti*g_t_ti))/(1+G_t-sum(w*g_t_ti))\n",
    "    return phi_t"
   ]
  },
  {
   "cell_type": "code",
   "execution_count": 142,
   "metadata": {},
   "outputs": [],
   "source": [
    "def phi_parameter(x,h,Q,range_g):# default range_g*10 points\n",
    "#     x=np.linspace(0.1/2,range_g-0.1/2,range_g*10)\n",
    "    g_gauss=[hawkes_second_stats_conti_gauss(x_i,h,points_hawkes,T) for x_i in x]\n",
    "    phi_result=[phi_WH_prediction(xi,g_gauss,Q,range_g) for xi in x]\n",
    "    \n",
    "#     mse=sum((np.array(phi_result)-1*np.exp(-2*x))**2)/(range_g*10)\n",
    "    return phi_result"
   ]
  },
  {
   "cell_type": "code",
   "execution_count": 143,
   "metadata": {},
   "outputs": [],
   "source": [
    "phi_wh=phi_parameter(f[0],0.7,100,T_phi)"
   ]
  },
  {
   "cell_type": "code",
   "execution_count": 144,
   "metadata": {},
   "outputs": [],
   "source": [
    "u_wh=len(points_hawkes)/T*(1-sum(T_phi/len(f[0])*np.array(phi_wh)))"
   ]
  },
  {
   "cell_type": "code",
   "execution_count": 145,
   "metadata": {},
   "outputs": [
    {
     "data": {
      "text/plain": [
       "0.7628965027875027"
      ]
     },
     "execution_count": 145,
     "metadata": {},
     "output_type": "execute_result"
    }
   ],
   "source": [
    "u_wh"
   ]
  },
  {
   "cell_type": "code",
   "execution_count": 192,
   "metadata": {},
   "outputs": [
    {
     "data": {
      "image/png": "[encoded data removed]",
      "text/plain": [
       "<Figure size 360x288 with 1 Axes>"
      ]
     },
     "metadata": {
      "needs_background": "light"
     },
     "output_type": "display_data"
    }
   ],
   "source": [
    "plt.figure(1,figsize=(5,4))\n",
    "axs=plt.subplot(111)\n",
    "axs.plot(np.linspace(0,6,100),1*np.exp(-2*np.linspace(0,6,100)),'r--',label='Ground Truth')\n",
    "axs.plot(f[0],phi_var,'b')\n",
    "axs.scatter(f[0],phi_var,marker='o',s=12,c='',edgecolors='b',label='EMV')\n",
    "axs.plot(np.linspace(0,6,100),res.x[1]*np.exp(-res.x[2]*np.linspace(0,6,100)),'-',label='PH')\n",
    "axs.plot(np.linspace(0,6,600,endpoint=False),[phi_misd_10[int(xxx/0.6)] for xxx in np.linspace(0,6,600,endpoint=False)],label='MISD-10')\n",
    "axs.plot(np.linspace(0,6,600,endpoint=False),[phi_misd_20[int(xxx/0.3)] for xxx in np.linspace(0,6,600,endpoint=False)],label='MISD-20')\n",
    "axs.plot(f[0],phi_wh,label='WH')\n",
    "plt.xlabel(r'$\\tau$',fontsize=12)\n",
    "plt.title(r'$\\phi(\\tau)$',fontsize=15)\n",
    "plt.legend(fontsize=12)\n",
    "\n",
    "plt.savefig('c:/Users/zho045/Desktop/phi_case_1',bbox_inches = 'tight')\n",
    "plt.show()"
   ]
  },
  {
   "cell_type": "markdown",
   "metadata": {},
   "source": [
    "## EMV esterr"
   ]
  },
  {
   "cell_type": "code",
   "execution_count": 147,
   "metadata": {},
   "outputs": [
    {
     "data": {
      "text/plain": [
       "0.015981790010076543"
      ]
     },
     "execution_count": 147,
     "metadata": {},
     "output_type": "execute_result"
    }
   ],
   "source": [
    "sum((1*np.exp(-2*f[0])-phi_var)**2*(T_phi/len(f[0])))"
   ]
  },
  {
   "cell_type": "markdown",
   "metadata": {},
   "source": [
    "## WH esterr"
   ]
  },
  {
   "cell_type": "code",
   "execution_count": 148,
   "metadata": {},
   "outputs": [
    {
     "data": {
      "text/plain": [
       "0.009863861490386922"
      ]
     },
     "execution_count": 148,
     "metadata": {},
     "output_type": "execute_result"
    }
   ],
   "source": [
    "sum((1*np.exp(-2*f[0])-phi_wh)**2*(T_phi/len(f[0])))"
   ]
  },
  {
   "cell_type": "markdown",
   "metadata": {},
   "source": [
    "## MISD-10 esterr"
   ]
  },
  {
   "cell_type": "code",
   "execution_count": 149,
   "metadata": {},
   "outputs": [
    {
     "data": {
      "text/plain": [
       "0.0756625617677501"
      ]
     },
     "execution_count": 149,
     "metadata": {},
     "output_type": "execute_result"
    }
   ],
   "source": [
    "sum((1*np.exp(-2*f[0])-(np.array([phi_misd_10[int(xxx/0.6)] for xxx in np.linspace(0,6,100,endpoint=False)])))**2*(T_phi/len(f[0])))"
   ]
  },
  {
   "cell_type": "markdown",
   "metadata": {},
   "source": [
    "## MISD-20 esterr"
   ]
  },
  {
   "cell_type": "code",
   "execution_count": 150,
   "metadata": {},
   "outputs": [
    {
     "data": {
      "text/plain": [
       "0.10679212131731868"
      ]
     },
     "execution_count": 150,
     "metadata": {},
     "output_type": "execute_result"
    }
   ],
   "source": [
    "sum((1*np.exp(-2*f[0])-(np.array([phi_misd_20[int(xxx/0.3)] for xxx in np.linspace(0,6,100,endpoint=False)])))**2*(T_phi/len(f[0])))"
   ]
  },
  {
   "cell_type": "markdown",
   "metadata": {},
   "source": [
    "## PH esterr"
   ]
  },
  {
   "cell_type": "code",
   "execution_count": 156,
   "metadata": {},
   "outputs": [
    {
     "data": {
      "text/plain": [
       "0.007883980988018569"
      ]
     },
     "execution_count": 156,
     "metadata": {},
     "output_type": "execute_result"
    }
   ],
   "source": [
    "1**2/(2*2)+res.x[1]**2/(2*res.x[2])-2*1*res.x[1]/(2+res.x[2])"
   ]
  },
  {
   "cell_type": "code",
   "execution_count": null,
   "metadata": {},
   "outputs": [],
   "source": []
  },
  {
   "cell_type": "markdown",
   "metadata": {},
   "source": [
    "## \\mu esterr"
   ]
  },
  {
   "cell_type": "code",
   "execution_count": 151,
   "metadata": {},
   "outputs": [
    {
     "data": {
      "text/plain": [
       "14.196910494159109"
      ]
     },
     "execution_count": 151,
     "metadata": {},
     "output_type": "execute_result"
    }
   ],
   "source": [
    "(mu_var-1)**2*T"
   ]
  },
  {
   "cell_type": "code",
   "execution_count": 152,
   "metadata": {},
   "outputs": [
    {
     "data": {
      "text/plain": [
       "5.621806839039674"
      ]
     },
     "execution_count": 152,
     "metadata": {},
     "output_type": "execute_result"
    }
   ],
   "source": [
    "(u_wh-1)**2*T"
   ]
  },
  {
   "cell_type": "code",
   "execution_count": 153,
   "metadata": {},
   "outputs": [
    {
     "data": {
      "text/plain": [
       "9.11628923917354"
      ]
     },
     "execution_count": 153,
     "metadata": {},
     "output_type": "execute_result"
    }
   ],
   "source": [
    "(u_misd_10-1)**2*T"
   ]
  },
  {
   "cell_type": "code",
   "execution_count": 154,
   "metadata": {},
   "outputs": [
    {
     "data": {
      "text/plain": [
       "14.381282094099323"
      ]
     },
     "execution_count": 154,
     "metadata": {},
     "output_type": "execute_result"
    }
   ],
   "source": [
    "(u_misd_20-1)**2*T"
   ]
  },
  {
   "cell_type": "code",
   "execution_count": 155,
   "metadata": {},
   "outputs": [
    {
     "data": {
      "text/plain": [
       "0.0723242084516797"
      ]
     },
     "execution_count": 155,
     "metadata": {},
     "output_type": "execute_result"
    }
   ],
   "source": [
    "(res.x[0]-1)**2*T"
   ]
  },
  {
   "cell_type": "code",
   "execution_count": null,
   "metadata": {},
   "outputs": [],
   "source": []
  },
  {
   "cell_type": "markdown",
   "metadata": {},
   "source": [
    "## test loglikelihood"
   ]
  },
  {
   "cell_type": "code",
   "execution_count": 164,
   "metadata": {},
   "outputs": [],
   "source": [
    "def intensity_discrete(t,history,u,g_mean,T_phi):    #left continue, the intensity is a gaussian dist\n",
    "    mu=u\n",
    "    N=len(g_mean)\n",
    "    intensity_mean=0\n",
    "    for i in range(len(history)):\n",
    "        if history[i]>=t:\n",
    "            break\n",
    "        delta_t=t-history[i]\n",
    "        if delta_t<T_phi:\n",
    "            intensity_mean+=g_mean[int(delta_t*N/T_phi)]\n",
    "    return mu+intensity_mean"
   ]
  },
  {
   "cell_type": "code",
   "execution_count": 165,
   "metadata": {},
   "outputs": [],
   "source": [
    "def negtiveloglikelihood_discrete(u,g_mean,times,T_phi,T):\n",
    "    N=len(times)\n",
    "    M=len(g_mean)\n",
    "    logl=0\n",
    "    for i in range(N):\n",
    "        logl+=np.log(intensity_discrete(times[i],times,u,g_mean,T_phi))\n",
    "        delta_t=T-times[i]\n",
    "        if delta_t>=T_phi:\n",
    "            logl-=sum(g_mean*T_phi/M)\n",
    "        else:\n",
    "            temp=(delta_t)*M/T_phi\n",
    "            temp_int=int(temp)\n",
    "            logl-=sum(g_mean[:temp_int]*T_phi/M)+g_mean[temp_int]*T_phi/M*(temp-temp_int)\n",
    "    return -(logl-u*T)"
   ]
  },
  {
   "cell_type": "code",
   "execution_count": 169,
   "metadata": {},
   "outputs": [],
   "source": [
    "points_hawkes_test=[]\n",
    "for i in range(10):\n",
    "    points_hawkes_test.append(hawkes_simulation_expo(T,[1,1,2]))"
   ]
  },
  {
   "cell_type": "markdown",
   "metadata": {},
   "source": [
    "### PH"
   ]
  },
  {
   "cell_type": "code",
   "execution_count": 175,
   "metadata": {},
   "outputs": [],
   "source": [
    "logLik_PH=[]\n",
    "for i in range(10):\n",
    "    logLik_PH.append(-negtiveloglikelyhood1(res.x, points_hawkes_test[i], T))"
   ]
  },
  {
   "cell_type": "code",
   "execution_count": 176,
   "metadata": {},
   "outputs": [
    {
     "data": {
      "text/plain": [
       "-37.91069525123999"
      ]
     },
     "execution_count": 176,
     "metadata": {},
     "output_type": "execute_result"
    }
   ],
   "source": [
    "np.average(logLik_PH)"
   ]
  },
  {
   "cell_type": "markdown",
   "metadata": {},
   "source": [
    "### MISD-10"
   ]
  },
  {
   "cell_type": "code",
   "execution_count": 178,
   "metadata": {},
   "outputs": [],
   "source": [
    "logLik_misd_10=[]\n",
    "for i in range(10):\n",
    "    logLik_misd_10.append(-negtiveloglikelihood_discrete(u_misd_10,phi_misd_10,points_hawkes_test[i],T_phi,T))"
   ]
  },
  {
   "cell_type": "code",
   "execution_count": 179,
   "metadata": {},
   "outputs": [
    {
     "data": {
      "text/plain": [
       "-41.87241139506017"
      ]
     },
     "execution_count": 179,
     "metadata": {},
     "output_type": "execute_result"
    }
   ],
   "source": [
    "np.average(logLik_misd_10)"
   ]
  },
  {
   "cell_type": "markdown",
   "metadata": {},
   "source": [
    "### MISD-20"
   ]
  },
  {
   "cell_type": "code",
   "execution_count": 180,
   "metadata": {},
   "outputs": [],
   "source": [
    "logLik_misd_20=[]\n",
    "for i in range(10):\n",
    "    logLik_misd_20.append(-negtiveloglikelihood_discrete(u_misd_20,phi_misd_20,points_hawkes_test[i],T_phi,T))"
   ]
  },
  {
   "cell_type": "code",
   "execution_count": 181,
   "metadata": {},
   "outputs": [
    {
     "data": {
      "text/plain": [
       "-45.13288490424488"
      ]
     },
     "execution_count": 181,
     "metadata": {},
     "output_type": "execute_result"
    }
   ],
   "source": [
    "np.average(logLik_misd_20)"
   ]
  },
  {
   "cell_type": "markdown",
   "metadata": {},
   "source": [
    "### WH"
   ]
  },
  {
   "cell_type": "code",
   "execution_count": 185,
   "metadata": {},
   "outputs": [],
   "source": [
    "logLik_wh=[]\n",
    "for i in range(10):\n",
    "    logLik_wh.append(-negtiveloglikelihood_discrete(u_wh,np.array(phi_wh),points_hawkes_test[i],T_phi,T))"
   ]
  },
  {
   "cell_type": "code",
   "execution_count": 187,
   "metadata": {},
   "outputs": [
    {
     "data": {
      "text/plain": [
       "-38.71241208572779"
      ]
     },
     "execution_count": 187,
     "metadata": {},
     "output_type": "execute_result"
    }
   ],
   "source": [
    "np.average(logLik_wh)"
   ]
  },
  {
   "cell_type": "markdown",
   "metadata": {},
   "source": [
    "### EMV"
   ]
  },
  {
   "cell_type": "code",
   "execution_count": 190,
   "metadata": {},
   "outputs": [],
   "source": [
    "logLik_var=[]\n",
    "for i in range(10):\n",
    "    logLik_var.append(-negtiveloglikelihood_discrete(mu_var,phi_var,points_hawkes_test[i],T_phi,T))"
   ]
  },
  {
   "cell_type": "code",
   "execution_count": 191,
   "metadata": {},
   "outputs": [
    {
     "data": {
      "text/plain": [
       "-39.58101084452424"
      ]
     },
     "execution_count": 191,
     "metadata": {},
     "output_type": "execute_result"
    }
   ],
   "source": [
    "np.average(logLik_var)"
   ]
  },
  {
   "cell_type": "code",
   "execution_count": null,
   "metadata": {},
   "outputs": [],
   "source": []
  }
 ],
 "metadata": {
  "kernelspec": {
   "display_name": "Python 3",
   "language": "python",
   "name": "python3"
  },
  "language_info": {
   "codemirror_mode": {
    "name": "ipython",
    "version": 3
   },
   "file_extension": ".py",
   "mimetype": "text/x-python",
   "name": "python",
   "nbconvert_exporter": "python",
   "pygments_lexer": "ipython3",
   "version": "3.6.7"
  }
 },
 "nbformat": 4,
 "nbformat_minor": 2
}
