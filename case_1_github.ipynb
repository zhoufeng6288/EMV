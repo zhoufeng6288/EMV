{
 "cells": [
  {
   "cell_type": "code",
   "execution_count": 1,
   "metadata": {},
   "outputs": [],
   "source": [
    "import numpy as np\n",
    "import matplotlib.pyplot as plt\n",
    "from scipy import optimize\n",
    "from scipy.stats import expon\n",
    "from scipy.stats import uniform\n",
    "from scipy.stats import multivariate_normal\n",
    "from scipy.stats import norm\n",
    "from scipy.special import erf\n",
    "from scipy.special import hyp1f1\n",
    "from scipy.linalg import eigh\n",
    "from random import randint\n",
    "from scipy.optimize import fsolve\n",
    "from scipy.optimize import root\n",
    "from numpy.polynomial import legendre"
   ]
  },
  {
   "cell_type": "markdown",
   "metadata": {},
   "source": [
    "## simulation"
   ]
  },
  {
   "cell_type": "code",
   "execution_count": 2,
   "metadata": {},
   "outputs": [],
   "source": [
    "def intensity(t,history,parameters):    #left continue\n",
    "    mu=parameters[0]\n",
    "    alpha=parameters[1]\n",
    "    beta=parameters[2]\n",
    "    intensity=0\n",
    "    for i in range(len(history)):\n",
    "        if history[i]>=t:\n",
    "            break\n",
    "        intensity+=alpha*np.exp(-beta*(t-history[i]))\n",
    "    return mu+intensity"
   ]
  },
  {
   "cell_type": "code",
   "execution_count": 3,
   "metadata": {},
   "outputs": [],
   "source": [
    "def hawkes_simulation_expo(T,parameters):\n",
    "    t=0\n",
    "    jump=0\n",
    "    points_homo=[]\n",
    "    points_hawkes=[]\n",
    "    while(t<T):\n",
    "        points_homo.append(t)\n",
    "        intensity_sup=intensity(t,points_hawkes,parameters)+jump\n",
    "        r=expon.rvs(scale=1/intensity_sup) #scale=1/lamda\n",
    "        t+=r\n",
    "        D=uniform.rvs(loc=0,scale=1)\n",
    "        if D*intensity_sup<=intensity(t,points_hawkes,parameters):\n",
    "            points_hawkes.append(t)\n",
    "            jump=parameters[1]\n",
    "        else:\n",
    "            jump=0\n",
    "    if points_hawkes[-1]>T:\n",
    "        del points_hawkes[-1]\n",
    "    del points_homo[0]\n",
    "    return points_hawkes"
   ]
  },
  {
   "cell_type": "code",
   "execution_count": 4,
   "metadata": {},
   "outputs": [],
   "source": [
    "def negtiveloglikelyhood1(parameters, times, T): #times=timestamp t1-tn; T is timespan      fast:R(i)\n",
    "    times=np.array(times)\n",
    "    \n",
    "    mu=parameters[0]\n",
    "    alpha=parameters[1]\n",
    "    beta=parameters[2]\n",
    "    \n",
    "    timedifference=T-times #T-t0...T-t(n-1) \n",
    "    timeexponential=np.exp(-beta*timedifference)-1\n",
    "    secondsum=alpha/beta*sum(timeexponential)\n",
    "    \n",
    "    R=np.zeros((len(times),1))\n",
    "    for i in range(1,len(times)):\n",
    "        R[i]=np.exp(-beta*(times[i]-times[i-1]))*(1+R[i-1])\n",
    "    firstsum=sum(np.log(mu+alpha*R))  #left-continuous\n",
    "    \n",
    "    negtivelogl=-(firstsum-mu*T+secondsum)\n",
    "    return negtivelogl"
   ]
  },
  {
   "cell_type": "code",
   "execution_count": 5,
   "metadata": {},
   "outputs": [],
   "source": [
    "T=100"
   ]
  },
  {
   "cell_type": "code",
   "execution_count": 11,
   "metadata": {},
   "outputs": [],
   "source": [
    "points_hawkes=hawkes_simulation_expo(T,[1,1,2]) ## 1 set of training data, which can be more. "
   ]
  },
  {
   "cell_type": "code",
   "execution_count": 12,
   "metadata": {},
   "outputs": [
    {
     "data": {
      "text/plain": [
       "233"
      ]
     },
     "execution_count": 12,
     "metadata": {},
     "output_type": "execute_result"
    }
   ],
   "source": [
    "len(points_hawkes)"
   ]
  },
  {
   "cell_type": "markdown",
   "metadata": {},
   "source": [
    "## Parametric Hawkes (MLE)"
   ]
  },
  {
   "cell_type": "code",
   "execution_count": 13,
   "metadata": {},
   "outputs": [
    {
     "name": "stdout",
     "output_type": "stream",
     "text": [
      "Optimization terminated successfully.    (Exit mode 0)\n",
      "            Current function value: 8.791635698093259\n",
      "            Iterations: 13\n",
      "            Function evaluations: 71\n",
      "            Gradient evaluations: 13\n"
     ]
    }
   ],
   "source": [
    "parameters=np.array([1.2,0.7,3])\n",
    "res=optimize.minimize(negtiveloglikelyhood1, parameters,args=(points_hawkes,T), method='SLSQP', bounds=((0.01,5),(0.01,5),(0.01,5)), options={'disp': True})"
   ]
  },
  {
   "cell_type": "code",
   "execution_count": 14,
   "metadata": {},
   "outputs": [
    {
     "data": {
      "text/plain": [
       "array([1.01948561, 0.83240627, 1.47317018])"
      ]
     },
     "execution_count": 14,
     "metadata": {},
     "output_type": "execute_result"
    }
   ],
   "source": [
    "res.x"
   ]
  },
  {
   "cell_type": "code",
   "execution_count": 15,
   "metadata": {},
   "outputs": [
    {
     "data": {
      "image/png": "[encoded data removed]",
      "text/plain": [
       "<Figure size 288x216 with 1 Axes>"
      ]
     },
     "metadata": {
      "needs_background": "light"
     },
     "output_type": "display_data"
    }
   ],
   "source": [
    "plt.figure(1,figsize=(4,3))\n",
    "axs=plt.subplot(111)\n",
    "axs.plot(np.linspace(0,6,100),1*np.exp(-2*np.linspace(0,6,100)),label='groundtruth')\n",
    "axs.plot(np.linspace(0,6,100),res.x[1]*np.exp(-res.x[2]*np.linspace(0,6,100)),label='parametric')\n",
    "plt.legend()\n",
    "plt.show()"
   ]
  },
  {
   "cell_type": "markdown",
   "metadata": {},
   "source": [
    "## inference"
   ]
  },
  {
   "cell_type": "code",
   "execution_count": 16,
   "metadata": {},
   "outputs": [],
   "source": [
    "def expo_quad_kernel(theta0,theta1,xn,xm):\n",
    "    return theta0*np.exp(-theta1/2*np.sum((xn - xm)**2))"
   ]
  },
  {
   "cell_type": "code",
   "execution_count": 17,
   "metadata": {},
   "outputs": [],
   "source": [
    "def GP_regression(xi,yi,theta0,theta1,noise_var,rang,num_points):\n",
    "    N=len(xi)\n",
    "    cov_K=np.zeros((N,N))\n",
    "    for i in range(N):\n",
    "        for j in range(i,N):\n",
    "            cov_K[i][j]=expo_quad_kernel(theta0,theta1,xi[i],xi[j])\n",
    "            cov_K[j][i]=cov_K[i][j]\n",
    "    min_eig=np.min(np.real(np.linalg.eigvals(cov_K))) # numerical float truncation error refine\n",
    "    while(min_eig<0):\n",
    "        cov_K += -10*min_eig*np.eye(cov_K.shape[0])\n",
    "        min_eig=np.min(np.real(np.linalg.eigvals(cov_K)))\n",
    "    \n",
    "    cov_K_noise=cov_K+np.eye(N)*noise_var\n",
    "    \n",
    "    x1=np.linspace(0,rang,num_points+1)      # prediction points, integer is to make it easy\n",
    "    M=len(x1)-1\n",
    "    mean=np.zeros((1,M))[0]\n",
    "    posterior_cov=np.zeros((M,M))\n",
    "    k_matrix=np.zeros((M,N))\n",
    "    k_matrix_pre=np.zeros((M,M))\n",
    "    for i in range(M):\n",
    "        for j in range(N):\n",
    "            k_matrix[i][j]=expo_quad_kernel(theta0,theta1,x1[i],xi[j])\n",
    "    k_C=np.dot(k_matrix,np.linalg.inv(cov_K_noise))\n",
    "    mean=np.dot(k_C,yi)\n",
    "    for i in range(M):\n",
    "        for j in range(i,M):\n",
    "            k_matrix_pre[i][j]=expo_quad_kernel(theta0,theta1,x1[i],x1[j])\n",
    "            k_matrix_pre[j][i]=k_matrix_pre[i][j]\n",
    "    posterior_cov=k_matrix_pre-np.dot(k_C,k_matrix.T)+np.eye(M)*noise_var\n",
    "    min_eig=np.min(np.real(np.linalg.eigvals(posterior_cov))) # numerical float truncation error refine\n",
    "    while(min_eig<0):\n",
    "        posterior_cov += -10*min_eig*np.eye(posterior_cov.shape[0])\n",
    "        min_eig=np.min(np.real(np.linalg.eigvals(posterior_cov)))\n",
    "    return x1[:num_points],mean, posterior_cov"
   ]
  },
  {
   "cell_type": "code",
   "execution_count": 18,
   "metadata": {},
   "outputs": [],
   "source": [
    "def u_generate(theta0,theta1,xi): # xi is inducing points, N(0,Sigma)\n",
    "    N=len(xi)\n",
    "    cov=np.zeros((N,N))\n",
    "    for i in range(N):\n",
    "        for j in range(i,N):\n",
    "            cov[i][j]=expo_quad_kernel(theta0,theta1,xi[i],xi[j])\n",
    "            cov[j][i]=cov[i][j]\n",
    "    return multivariate_normal([0]*N,cov).rvs(),np.array([0]*N),cov"
   ]
  },
  {
   "cell_type": "code",
   "execution_count": 19,
   "metadata": {},
   "outputs": [],
   "source": [
    "T_phi=6"
   ]
  },
  {
   "cell_type": "code",
   "execution_count": 20,
   "metadata": {},
   "outputs": [],
   "source": [
    "xi=np.linspace(0+(T_phi/10)/2,T_phi-(T_phi/10)/2,6)   # 6 inducing points on \\phi(\\tau)"
   ]
  },
  {
   "cell_type": "markdown",
   "metadata": {},
   "source": [
    "## \\phi part"
   ]
  },
  {
   "cell_type": "code",
   "execution_count": 21,
   "metadata": {},
   "outputs": [],
   "source": [
    "theta0=1\n",
    "theta1=0.5"
   ]
  },
  {
   "cell_type": "code",
   "execution_count": 22,
   "metadata": {},
   "outputs": [],
   "source": [
    "u,mean_p_u,cov_p_u=u_generate(theta0,theta1,xi)"
   ]
  },
  {
   "cell_type": "code",
   "execution_count": 23,
   "metadata": {},
   "outputs": [],
   "source": [
    "f=GP_regression(xi,u,theta0,theta1,0.000001,T_phi,100) # f is 100-dimension vector on [0,T_phi]"
   ]
  },
  {
   "cell_type": "code",
   "execution_count": 24,
   "metadata": {},
   "outputs": [],
   "source": [
    "f_1=multivariate_normal(f[1],f[2]).rvs() # f sample"
   ]
  },
  {
   "cell_type": "markdown",
   "metadata": {},
   "source": [
    "## EM framework"
   ]
  },
  {
   "cell_type": "code",
   "execution_count": 25,
   "metadata": {},
   "outputs": [],
   "source": [
    "def ini_P(points_hawkes,T_phi):\n",
    "    N=len(points_hawkes)\n",
    "    P=np.zeros((N,N))\n",
    "    for i in range(N):                    # initial value of P\n",
    "        for j in range(i+1):\n",
    "            tij=points_hawkes[i]-points_hawkes[j]\n",
    "            if tij>=T_phi:continue\n",
    "            else:\n",
    "                P[i][j:i+1]=np.random.dirichlet([1]*(i-j+1))\n",
    "                break\n",
    "    return P"
   ]
  },
  {
   "cell_type": "code",
   "execution_count": 26,
   "metadata": {},
   "outputs": [],
   "source": [
    "def psi(theta0,theta1,xn,xm,T):\n",
    "    x_mean=(xn+xm)/2\n",
    "    return (theta0**2)*(-np.sqrt(np.pi/theta1)/2)*np.exp((-theta1*(xn-xm)**2)/4)*(erf((x_mean-T)*np.sqrt(theta1))\\\n",
    "                                                                                  -erf(x_mean*np.sqrt(theta1)))"
   ]
  },
  {
   "cell_type": "code",
   "execution_count": 27,
   "metadata": {},
   "outputs": [],
   "source": [
    "def distribution_f_posterior(x_f,xi,theta0,theta1,cov_p_u,cov_q_u_post):\n",
    "    N=len(xi) # N is number of inducing points\n",
    "    M=len(x_f) # M is number of predicting points\n",
    "    \n",
    "    cov_p_u_inv=np.linalg.inv(cov_p_u)\n",
    "    \n",
    "    K_xz=np.zeros((M,N))\n",
    "    for i in range(M):\n",
    "        for j in range(N):\n",
    "            K_xz[i][j]=expo_quad_kernel(theta0,theta1,x_f[i],xi[j])\n",
    "#     K_xx=np.zeros((M,M))\n",
    "#     for i in range(M):\n",
    "#         for j in range(i,M):\n",
    "#             K_xx[i][j]=expo_quad_kernel(theta0,theta1,x_f[i],x_f[j])\n",
    "#             K_xx[j][i]=K_xx[i][j]\n",
    "#     mean_f=(K_xz.dot(cov_p_u_inv)).dot(mean_q_u_post)\n",
    "#     cov_f=K_xx-(K_xz.dot(cov_p_u_inv)).dot(K_xz.T)+(((K_xz.dot(cov_p_u_inv)).dot(cov_q_u_post)).dot(cov_p_u_inv)).dot(K_xz.T)\n",
    "    var_f=np.array([theta0-K_xz[i].dot(cov_p_u_inv).dot(K_xz[i].T)+(((K_xz[i].dot(cov_p_u_inv)).dot(cov_q_u_post)).dot(cov_p_u_inv)).dot(K_xz[i].T) for i in range(M)])\n",
    "    \n",
    "    exp_phi=var_f\n",
    "    return exp_phi"
   ]
  },
  {
   "cell_type": "markdown",
   "metadata": {},
   "source": [
    "## \\mu is constant"
   ]
  },
  {
   "cell_type": "code",
   "execution_count": 28,
   "metadata": {},
   "outputs": [],
   "source": [
    "def eq(p,P,k_K,k_K_k,k_K_K_k,secondterm,thirdterm,M,m):\n",
    "    y=0\n",
    "    s=p\n",
    "    for i in range(1,len(k_K_k)):\n",
    "        for j in range(i):\n",
    "            if P[i][j]!=0:\n",
    "                y+=k_K_K_k[i][j][m]*P[i][j]/(k_K_k[i][j]+sum([(k_K[i][j][k]**2)*s[k] for k in range(M)]))\n",
    "    y+=-secondterm[m]-0.5*thirdterm[m]+0.5/s[m]\n",
    "    return y"
   ]
  },
  {
   "cell_type": "code",
   "execution_count": 29,
   "metadata": {},
   "outputs": [],
   "source": [
    "def equations(p,P,k_K,k_K_k,k_K_K_k,secondterm,thirdterm,M):\n",
    "    return [eq(p,P,k_K,k_K_k,k_K_K_k,secondterm,thirdterm,M,i) for i in range(M)]"
   ]
  },
  {
   "cell_type": "code",
   "execution_count": 30,
   "metadata": {},
   "outputs": [],
   "source": [
    "def MISD_variational_deri_mu_cons(points_hawkes,xi,T_phi,T,num_iter): # 100 predict points on T_phi, 1000 predict points on T\n",
    "    N=len(points_hawkes) # num of observation\n",
    "    M=len(xi)            # num of inducing points on phi\n",
    "    P=ini_P(points_hawkes,T_phi)\n",
    "    delta_t=T_phi/len(f[0]) # phi is discete to 100 points\n",
    "    \n",
    "    #__________________initial setting of phi\n",
    "    cov_q_u_diag=np.random.uniform(0,1,M)\n",
    "    cov_p_u_inv=np.linalg.inv(cov_p_u)\n",
    "    thirdterm=np.diagonal(cov_p_u_inv)\n",
    "    n_1=sum(np.array(points_hawkes)<(T-T_phi)) # num of points within T-T_phi\n",
    "    Psi=np.zeros((N,M,M))\n",
    "    for i in range(n_1):\n",
    "        for j in range(M):\n",
    "            for k in range(j,M):\n",
    "                Psi[i][j][k]=psi(theta0,theta1,xi[j],xi[k],T_phi)\n",
    "                Psi[i][k][j]=Psi[i][j][k]\n",
    "    for i in range(n_1,N):\n",
    "        for j in range(M):\n",
    "            for k in range(j,M):\n",
    "                Psi[i][j][k]=psi(theta0,theta1,xi[j],xi[k],T-points_hawkes[i])\n",
    "                Psi[i][k][j]=Psi[i][j][k]\n",
    "    secondterm=sum([np.diagonal(cov_p_u_inv.dot(Psi[i]).dot(cov_p_u_inv)) for i in range(N)])\n",
    "    k_tn_z=np.zeros((N,N,M))\n",
    "    for i in range(1,N):\n",
    "        for j in range(i):\n",
    "            if P[i][j]!=0:\n",
    "                tao=points_hawkes[i]-points_hawkes[j]\n",
    "                k_tn_z[i][j]=np.array([expo_quad_kernel(theta0,theta1,tao,xi[k]) for k in range(M)])            \n",
    "    k_K_K_k=np.zeros((N,N,M))   # matrix of vector   #     1st term\n",
    "    k_K_k=np.zeros((N,N))    # matrix of value\n",
    "    k_K=np.zeros((N,N,M))     # matrix of vector\n",
    "    for i in range(1,N):\n",
    "        for j in range(i):\n",
    "            if P[i][j]!=0:\n",
    "                k_K_K_k[i][j]=np.diagonal(cov_p_u_inv.dot(np.array([k_tn_z[i][j]]).T).dot(np.array([k_tn_z[i][j]])).dot(cov_p_u_inv))\n",
    "                k_K_k[i][j]=theta0-k_tn_z[i][j].dot(cov_p_u_inv).dot(k_tn_z[i][j].T)\n",
    "                k_K[i][j]=k_tn_z[i][j].dot(cov_p_u_inv)\n",
    "    \n",
    "    \n",
    "    \n",
    "    \n",
    "    \n",
    "    for k in range(num_iter):  # num of iterations\n",
    "        # update of phi\n",
    "        \n",
    "        cov_q_u_diag=fsolve(equations,cov_q_u_diag, args=(P,k_K,k_K_k,k_K_K_k,secondterm,thirdterm,M))\n",
    "        cov_q_u_diag[cov_q_u_diag<0] = 0.1 # more stable\n",
    "        cov_q_u=np.diag(cov_q_u_diag)\n",
    "        phi=distribution_f_posterior(f[0],xi,theta0,theta1,cov_p_u,cov_q_u)\n",
    "        \n",
    "        # update of mu\n",
    "        \n",
    "        mu=sum(np.diagonal(P))/T\n",
    "\n",
    "        \n",
    "        for i in range(N): # updata of P\n",
    "            intensity_total=0\n",
    "            for j in range(i):\n",
    "                tji=points_hawkes[i]-points_hawkes[j]\n",
    "                if tji>=T_phi: continue\n",
    "                intensity_total+=phi[int(tji/delta_t)]\n",
    "            intensity_total+=mu\n",
    "            P[i][i]=mu/intensity_total\n",
    "            for j in range(i):\n",
    "                tji=points_hawkes[i]-points_hawkes[j]\n",
    "                if tji>=T_phi: P[i][j]=0\n",
    "                else: P[i][j]=phi[int(tji/delta_t)]/intensity_total\n",
    "    return mu,phi"
   ]
  },
  {
   "cell_type": "code",
   "execution_count": 31,
   "metadata": {},
   "outputs": [
    {
     "name": "stdout",
     "output_type": "stream",
     "text": [
      "Wall time: 8min 28s\n"
     ]
    }
   ],
   "source": [
    "%%time\n",
    "mu_var,phi_var=MISD_variational_deri_mu_cons(points_hawkes,xi,T_phi,T,200)"
   ]
  },
  {
   "cell_type": "code",
   "execution_count": 32,
   "metadata": {},
   "outputs": [
    {
     "data": {
      "text/plain": [
       "0.7916303066994739"
      ]
     },
     "execution_count": 32,
     "metadata": {},
     "output_type": "execute_result"
    }
   ],
   "source": [
    "mu_var"
   ]
  },
  {
   "cell_type": "code",
   "execution_count": 35,
   "metadata": {},
   "outputs": [
    {
     "data": {
      "image/png": "[encoded data removed]",
      "text/plain": [
       "<Figure size 360x288 with 1 Axes>"
      ]
     },
     "metadata": {
      "needs_background": "light"
     },
     "output_type": "display_data"
    }
   ],
   "source": [
    "plt.figure(1,figsize=(5,4))\n",
    "axs=plt.subplot(111)\n",
    "axs.plot(f[0],phi_var,label='Variational')\n",
    "axs.plot(np.linspace(0,6,100),1*np.exp(-2*np.linspace(0,6,100)),label='groundtruth')\n",
    "plt.legend()\n",
    "plt.show()"
   ]
  },
  {
   "cell_type": "markdown",
   "metadata": {},
   "source": [
    "## MISD"
   ]
  },
  {
   "cell_type": "code",
   "execution_count": 36,
   "metadata": {},
   "outputs": [],
   "source": [
    "def MISD(points_hawkes,T,T_gamma,delta_t,num_iter):\n",
    "    num_g=int(T_gamma/delta_t)\n",
    "    N=len(points_hawkes)\n",
    "    P=ini_P(points_hawkes,T_gamma)\n",
    "    g=np.zeros((1,num_g), dtype=float)\n",
    "\n",
    "    for k in range(num_iter):\n",
    "        for m in range(num_g): # update for u and g\n",
    "            rate_prob=np.zeros((1,N))\n",
    "            div_num=0\n",
    "            for i in range(N):\n",
    "                if (T-points_hawkes[i])>=m*delta_t and (T-points_hawkes[i])<(m+1)*delta_t: # point i is close to T\n",
    "                    div_num+=1\n",
    "                    for j in range(i+1,N):\n",
    "                        interval=points_hawkes[j]-points_hawkes[i]\n",
    "                        if interval>=m*delta_t and interval<(m+1)*delta_t:\n",
    "                            rate_prob[0][i]+=P[j][i]\n",
    "                        elif interval>=(m+1)*delta_t:\n",
    "                            break\n",
    "                    rate_prob[0][i]=rate_prob[0][i]/(T-m*delta_t)\n",
    "                elif (T-points_hawkes[i])<m*delta_t:\n",
    "                    break\n",
    "                else:\n",
    "                    div_num+=1\n",
    "                    for j in range(i+1,N):\n",
    "                        interval=points_hawkes[j]-points_hawkes[i]\n",
    "                        if interval>=m*delta_t and interval<(m+1)*delta_t:\n",
    "                            rate_prob[0][i]+=P[j][i]\n",
    "                        elif interval>=(m+1)*delta_t:\n",
    "                            break\n",
    "                    rate_prob[0][i]=rate_prob[0][i]/delta_t\n",
    "            if div_num==0:\n",
    "                break\n",
    "            else:\n",
    "                g[0][m]=sum(rate_prob[0])/div_num\n",
    "        u=sum(P[i][i] for i in range(N))/T\n",
    "\n",
    "        for i in range(N): # updata for P\n",
    "            intensity_total=0\n",
    "            for j in range(i):\n",
    "                tji=points_hawkes[i]-points_hawkes[j]\n",
    "                if tji>=T_gamma: continue\n",
    "                intensity_total+=g[0][int(tji/delta_t)]\n",
    "            intensity_total+=u\n",
    "            P[i][i]=u/intensity_total\n",
    "            for j in range(i):\n",
    "                tji=points_hawkes[i]-points_hawkes[j]\n",
    "                if tji>=T_gamma: P[i][j]=0\n",
    "                else: P[i][j]=g[0][int(tji/delta_t)]/intensity_total\n",
    "    return u,g[0]"
   ]
  },
  {
   "cell_type": "code",
   "execution_count": 37,
   "metadata": {},
   "outputs": [],
   "source": [
    "u_misd_10,phi_misd_10=MISD(points_hawkes,T,T_phi,0.6,200)"
   ]
  },
  {
   "cell_type": "code",
   "execution_count": 38,
   "metadata": {},
   "outputs": [],
   "source": [
    "u_misd_20,phi_misd_20=MISD(points_hawkes,T,T_phi,0.3,200)"
   ]
  },
  {
   "cell_type": "code",
   "execution_count": 39,
   "metadata": {},
   "outputs": [
    {
     "data": {
      "text/plain": [
       "0.9245680044056881"
      ]
     },
     "execution_count": 39,
     "metadata": {},
     "output_type": "execute_result"
    }
   ],
   "source": [
    "u_misd_10"
   ]
  },
  {
   "cell_type": "code",
   "execution_count": 40,
   "metadata": {},
   "outputs": [
    {
     "data": {
      "text/plain": [
       "0.7659320919271453"
      ]
     },
     "execution_count": 40,
     "metadata": {},
     "output_type": "execute_result"
    }
   ],
   "source": [
    "u_misd_20"
   ]
  },
  {
   "cell_type": "markdown",
   "metadata": {},
   "source": [
    "## Wiener-Hopf method"
   ]
  },
  {
   "cell_type": "code",
   "execution_count": 41,
   "metadata": {},
   "outputs": [],
   "source": [
    "def hawkes_second_stats_conti_gauss(t,h,points_hawkes,T):   # gaussian kernel\n",
    "    N=len(points_hawkes)\n",
    "    Lamda=N/T\n",
    "    g_t_i=[]\n",
    "    for i in range(N):\n",
    "        if points_hawkes[i]+t>T-h:\n",
    "            break\n",
    "        else:\n",
    "            g_t=np.exp(-(((t-(points_hawkes[:i]+points_hawkes[i+1:]-points_hawkes[i]))/h)**2/2))\n",
    "            g_t_i.append(sum(g_t)/np.sqrt(2*np.pi)/h)\n",
    "    return np.average(g_t_i)-Lamda"
   ]
  },
  {
   "cell_type": "code",
   "execution_count": 42,
   "metadata": {},
   "outputs": [],
   "source": [
    "def primitive_g(t,g,range_g): # -infinity to t\n",
    "    delta_t=range_g/len(g)\n",
    "    num_bin=t/delta_t\n",
    "    if num_bin<len(g):\n",
    "        integral=sum(g[:int(num_bin)])*delta_t+g[int(num_bin)]*delta_t*(num_bin-int(num_bin))\n",
    "    else:\n",
    "        integral=sum(g)*delta_t\n",
    "    return integral+sum(g)*delta_t"
   ]
  },
  {
   "cell_type": "code",
   "execution_count": 43,
   "metadata": {},
   "outputs": [],
   "source": [
    "def gq_points_weights(a,b,Q):\n",
    "    p,w=np.polynomial.legendre.leggauss(Q)\n",
    "    c = np.array([0]*Q + [1])\n",
    "    p_new=(a+b+(b-a)*p)/2\n",
    "    w_new=(b-a)/(legendre.legval(p, legendre.legder(c))**2*(1-p**2))\n",
    "    return p_new,w_new"
   ]
  },
  {
   "cell_type": "code",
   "execution_count": 44,
   "metadata": {},
   "outputs": [],
   "source": [
    "def phi_WH_prediction(t,g,Q,range_g): \n",
    "    delta_t=range_g/len(g) \n",
    "    p,w=gq_points_weights(0,range_g,Q)  # (0,infininty) replaced by (0,range_g)\n",
    "    g_ti=np.zeros((Q,Q))\n",
    "    G_ti=np.zeros((1,Q))[0]\n",
    "    for i in range(Q):\n",
    "        G_ti[i]=primitive_g(p[i],g,range_g)\n",
    "        for j in range(i,Q):\n",
    "            if i==j:\n",
    "                g_ti[i][i]=g[int(p[i]/delta_t)]\n",
    "            else:\n",
    "                g_ti[i][j]=g[int((p[j]-p[i])/delta_t)]\n",
    "                g_ti[j][i]=g_ti[i][j]\n",
    "    \n",
    "    a = np.zeros((Q,Q))\n",
    "    b = np.zeros((1,Q))[0]\n",
    "    for i in range(Q):\n",
    "        b[i]=g_ti[i][i]\n",
    "        for j in range(Q):\n",
    "            if i==j:\n",
    "                a[i][i]=1+G_ti[i]-sum(w*g_ti[i])+w[i]*g_ti[i][i]  #diagonal\n",
    "            else:\n",
    "                a[i][j]=w[j]*g_ti[i][j]    \n",
    "    phi_ti = np.linalg.solve(a,b)\n",
    "\n",
    "    g_t=g[int(t/delta_t)]\n",
    "    G_t=primitive_g(t,g,range_g)\n",
    "    g_t_ti=np.zeros((1,Q))[0]\n",
    "    for i in range(Q):\n",
    "        g_t_ti[i]=g[int((t-p[i])/delta_t)]\n",
    "    phi_t=(g_t-sum(w*phi_ti*g_t_ti))/(1+G_t-sum(w*g_t_ti))\n",
    "    return phi_t"
   ]
  },
  {
   "cell_type": "code",
   "execution_count": 45,
   "metadata": {},
   "outputs": [],
   "source": [
    "def phi_parameter(x,h,Q,range_g):# default range_g*10 points\n",
    "#     x=np.linspace(0.1/2,range_g-0.1/2,range_g*10)\n",
    "    g_gauss=[hawkes_second_stats_conti_gauss(x_i,h,points_hawkes,T) for x_i in x]\n",
    "    phi_result=[phi_WH_prediction(xi,g_gauss,Q,range_g) for xi in x]\n",
    "    \n",
    "#     mse=sum((np.array(phi_result)-1*np.exp(-2*x))**2)/(range_g*10)\n",
    "    return phi_result"
   ]
  },
  {
   "cell_type": "code",
   "execution_count": 46,
   "metadata": {},
   "outputs": [],
   "source": [
    "phi_wh=phi_parameter(f[0],0.7,100,T_phi)"
   ]
  },
  {
   "cell_type": "code",
   "execution_count": 47,
   "metadata": {},
   "outputs": [],
   "source": [
    "u_wh=len(points_hawkes)/T*(1-sum(T_phi/len(f[0])*np.array(phi_wh)))"
   ]
  },
  {
   "cell_type": "code",
   "execution_count": 48,
   "metadata": {},
   "outputs": [
    {
     "data": {
      "text/plain": [
       "0.7050242301600926"
      ]
     },
     "execution_count": 48,
     "metadata": {},
     "output_type": "execute_result"
    }
   ],
   "source": [
    "u_wh"
   ]
  },
  {
   "cell_type": "code",
   "execution_count": 49,
   "metadata": {},
   "outputs": [
    {
     "data": {
      "image/png": "[encoded data removed]",
      "text/plain": [
       "<Figure size 360x288 with 1 Axes>"
      ]
     },
     "metadata": {
      "needs_background": "light"
     },
     "output_type": "display_data"
    }
   ],
   "source": [
    "plt.figure(1,figsize=(5,4))\n",
    "axs=plt.subplot(111)\n",
    "axs.plot(np.linspace(0,6,100),1*np.exp(-2*np.linspace(0,6,100)),'r--',label='Ground Truth')\n",
    "axs.plot(f[0],phi_var,'b')\n",
    "axs.scatter(f[0],phi_var,marker='o',s=12,c='',edgecolors='b',label='EMV')\n",
    "axs.plot(np.linspace(0,6,100),res.x[1]*np.exp(-res.x[2]*np.linspace(0,6,100)),'-',label='PH')\n",
    "axs.plot(np.linspace(0,6,600,endpoint=False),[phi_misd_10[int(xxx/0.6)] for xxx in np.linspace(0,6,600,endpoint=False)],label='MISD-10')\n",
    "axs.plot(np.linspace(0,6,600,endpoint=False),[phi_misd_20[int(xxx/0.3)] for xxx in np.linspace(0,6,600,endpoint=False)],label='MISD-20')\n",
    "axs.plot(f[0],phi_wh,label='WH')\n",
    "plt.xlabel(r'$\\tau$',fontsize=12)\n",
    "plt.title(r'$\\phi(\\tau)$',fontsize=15)\n",
    "plt.legend(fontsize=12)\n",
    "\n",
    "# plt.savefig('c:/Users/zho045/Desktop/phi_case_1',bbox_inches = 'tight')\n",
    "plt.show()"
   ]
  },
  {
   "cell_type": "markdown",
   "metadata": {},
   "source": [
    "## EMV esterr"
   ]
  },
  {
   "cell_type": "code",
   "execution_count": 50,
   "metadata": {},
   "outputs": [
    {
     "data": {
      "text/plain": [
       "0.0061866418691183004"
      ]
     },
     "execution_count": 50,
     "metadata": {},
     "output_type": "execute_result"
    }
   ],
   "source": [
    "sum((1*np.exp(-2*f[0])-phi_var)**2*(T_phi/len(f[0])))"
   ]
  },
  {
   "cell_type": "markdown",
   "metadata": {},
   "source": [
    "## WH esterr"
   ]
  },
  {
   "cell_type": "code",
   "execution_count": 51,
   "metadata": {},
   "outputs": [
    {
     "data": {
      "text/plain": [
       "0.016065693693825708"
      ]
     },
     "execution_count": 51,
     "metadata": {},
     "output_type": "execute_result"
    }
   ],
   "source": [
    "sum((1*np.exp(-2*f[0])-phi_wh)**2*(T_phi/len(f[0])))"
   ]
  },
  {
   "cell_type": "markdown",
   "metadata": {},
   "source": [
    "## MISD-10 esterr"
   ]
  },
  {
   "cell_type": "code",
   "execution_count": 52,
   "metadata": {},
   "outputs": [
    {
     "data": {
      "text/plain": [
       "0.045121628037981656"
      ]
     },
     "execution_count": 52,
     "metadata": {},
     "output_type": "execute_result"
    }
   ],
   "source": [
    "sum((1*np.exp(-2*f[0])-(np.array([phi_misd_10[int(xxx/0.6)] for xxx in np.linspace(0,6,100,endpoint=False)])))**2*(T_phi/len(f[0])))"
   ]
  },
  {
   "cell_type": "markdown",
   "metadata": {},
   "source": [
    "## MISD-20 esterr"
   ]
  },
  {
   "cell_type": "code",
   "execution_count": 53,
   "metadata": {},
   "outputs": [
    {
     "data": {
      "text/plain": [
       "0.06295143102149496"
      ]
     },
     "execution_count": 53,
     "metadata": {},
     "output_type": "execute_result"
    }
   ],
   "source": [
    "sum((1*np.exp(-2*f[0])-(np.array([phi_misd_20[int(xxx/0.3)] for xxx in np.linspace(0,6,100,endpoint=False)])))**2*(T_phi/len(f[0])))"
   ]
  },
  {
   "cell_type": "markdown",
   "metadata": {},
   "source": [
    "## PH esterr"
   ]
  },
  {
   "cell_type": "code",
   "execution_count": 54,
   "metadata": {},
   "outputs": [
    {
     "data": {
      "text/plain": [
       "0.005838021227420664"
      ]
     },
     "execution_count": 54,
     "metadata": {},
     "output_type": "execute_result"
    }
   ],
   "source": [
    "1**2/(2*2)+res.x[1]**2/(2*res.x[2])-2*1*res.x[1]/(2+res.x[2])"
   ]
  },
  {
   "cell_type": "markdown",
   "metadata": {},
   "source": [
    "## \\mu esterr"
   ]
  },
  {
   "cell_type": "code",
   "execution_count": 55,
   "metadata": {},
   "outputs": [
    {
     "data": {
      "text/plain": [
       "4.341792908615532"
      ]
     },
     "execution_count": 55,
     "metadata": {},
     "output_type": "execute_result"
    }
   ],
   "source": [
    "(mu_var-1)**2*T"
   ]
  },
  {
   "cell_type": "code",
   "execution_count": 56,
   "metadata": {},
   "outputs": [
    {
     "data": {
      "text/plain": [
       "8.7010704792646"
      ]
     },
     "execution_count": 56,
     "metadata": {},
     "output_type": "execute_result"
    }
   ],
   "source": [
    "(u_wh-1)**2*T"
   ]
  },
  {
   "cell_type": "code",
   "execution_count": 57,
   "metadata": {},
   "outputs": [
    {
     "data": {
      "text/plain": [
       "0.5689985959340291"
      ]
     },
     "execution_count": 57,
     "metadata": {},
     "output_type": "execute_result"
    }
   ],
   "source": [
    "(u_misd_10-1)**2*T"
   ]
  },
  {
   "cell_type": "code",
   "execution_count": 58,
   "metadata": {},
   "outputs": [
    {
     "data": {
      "text/plain": [
       "5.4787785589602365"
      ]
     },
     "execution_count": 58,
     "metadata": {},
     "output_type": "execute_result"
    }
   ],
   "source": [
    "(u_misd_20-1)**2*T"
   ]
  },
  {
   "cell_type": "code",
   "execution_count": 59,
   "metadata": {},
   "outputs": [
    {
     "data": {
      "text/plain": [
       "0.03796888251905864"
      ]
     },
     "execution_count": 59,
     "metadata": {},
     "output_type": "execute_result"
    }
   ],
   "source": [
    "(res.x[0]-1)**2*T"
   ]
  },
  {
   "cell_type": "markdown",
   "metadata": {},
   "source": [
    "## test loglikelihood"
   ]
  },
  {
   "cell_type": "code",
   "execution_count": 60,
   "metadata": {},
   "outputs": [],
   "source": [
    "def intensity_discrete(t,history,u,g_mean,T_phi):    #left continue, the intensity is a gaussian dist\n",
    "    mu=u\n",
    "    N=len(g_mean)\n",
    "    intensity_mean=0\n",
    "    for i in range(len(history)):\n",
    "        if history[i]>=t:\n",
    "            break\n",
    "        delta_t=t-history[i]\n",
    "        if delta_t<T_phi:\n",
    "            intensity_mean+=g_mean[int(delta_t*N/T_phi)]\n",
    "    return mu+intensity_mean"
   ]
  },
  {
   "cell_type": "code",
   "execution_count": 61,
   "metadata": {},
   "outputs": [],
   "source": [
    "def negtiveloglikelihood_discrete(u,g_mean,times,T_phi,T):\n",
    "    N=len(times)\n",
    "    M=len(g_mean)\n",
    "    logl=0\n",
    "    for i in range(N):\n",
    "        logl+=np.log(intensity_discrete(times[i],times,u,g_mean,T_phi))\n",
    "        delta_t=T-times[i]\n",
    "        if delta_t>=T_phi:\n",
    "            logl-=sum(g_mean*T_phi/M)\n",
    "        else:\n",
    "            temp=(delta_t)*M/T_phi\n",
    "            temp_int=int(temp)\n",
    "            logl-=sum(g_mean[:temp_int]*T_phi/M)+g_mean[temp_int]*T_phi/M*(temp-temp_int)\n",
    "    return -(logl-u*T)"
   ]
  },
  {
   "cell_type": "code",
   "execution_count": 63,
   "metadata": {},
   "outputs": [],
   "source": [
    "points_hawkes_test=[]         ## 10 sets of test data\n",
    "for i in range(10):\n",
    "    points_hawkes_test.append(hawkes_simulation_expo(T,[1,1,2]))"
   ]
  },
  {
   "cell_type": "markdown",
   "metadata": {},
   "source": [
    "### PH"
   ]
  },
  {
   "cell_type": "code",
   "execution_count": 64,
   "metadata": {},
   "outputs": [],
   "source": [
    "logLik_PH=[]\n",
    "for i in range(10):\n",
    "    logLik_PH.append(-negtiveloglikelyhood1(res.x, points_hawkes_test[i], T))"
   ]
  },
  {
   "cell_type": "code",
   "execution_count": 65,
   "metadata": {},
   "outputs": [
    {
     "data": {
      "text/plain": [
       "-42.11428632003293"
      ]
     },
     "execution_count": 65,
     "metadata": {},
     "output_type": "execute_result"
    }
   ],
   "source": [
    "np.average(logLik_PH)"
   ]
  },
  {
   "cell_type": "markdown",
   "metadata": {},
   "source": [
    "### MISD-10"
   ]
  },
  {
   "cell_type": "code",
   "execution_count": 66,
   "metadata": {},
   "outputs": [],
   "source": [
    "logLik_misd_10=[]\n",
    "for i in range(10):\n",
    "    logLik_misd_10.append(-negtiveloglikelihood_discrete(u_misd_10,phi_misd_10,points_hawkes_test[i],T_phi,T))"
   ]
  },
  {
   "cell_type": "code",
   "execution_count": 67,
   "metadata": {},
   "outputs": [
    {
     "data": {
      "text/plain": [
       "-44.23896701781671"
      ]
     },
     "execution_count": 67,
     "metadata": {},
     "output_type": "execute_result"
    }
   ],
   "source": [
    "np.average(logLik_misd_10)"
   ]
  },
  {
   "cell_type": "markdown",
   "metadata": {},
   "source": [
    "### MISD-20"
   ]
  },
  {
   "cell_type": "code",
   "execution_count": 68,
   "metadata": {},
   "outputs": [],
   "source": [
    "logLik_misd_20=[]\n",
    "for i in range(10):\n",
    "    logLik_misd_20.append(-negtiveloglikelihood_discrete(u_misd_20,phi_misd_20,points_hawkes_test[i],T_phi,T))"
   ]
  },
  {
   "cell_type": "code",
   "execution_count": 69,
   "metadata": {},
   "outputs": [
    {
     "data": {
      "text/plain": [
       "-46.198771429296"
      ]
     },
     "execution_count": 69,
     "metadata": {},
     "output_type": "execute_result"
    }
   ],
   "source": [
    "np.average(logLik_misd_20)"
   ]
  },
  {
   "cell_type": "markdown",
   "metadata": {},
   "source": [
    "### WH"
   ]
  },
  {
   "cell_type": "code",
   "execution_count": 70,
   "metadata": {},
   "outputs": [],
   "source": [
    "logLik_wh=[]\n",
    "for i in range(10):\n",
    "    logLik_wh.append(-negtiveloglikelihood_discrete(u_wh,np.array(phi_wh),points_hawkes_test[i],T_phi,T))"
   ]
  },
  {
   "cell_type": "code",
   "execution_count": 71,
   "metadata": {},
   "outputs": [
    {
     "data": {
      "text/plain": [
       "-43.8752976886336"
      ]
     },
     "execution_count": 71,
     "metadata": {},
     "output_type": "execute_result"
    }
   ],
   "source": [
    "np.average(logLik_wh)"
   ]
  },
  {
   "cell_type": "markdown",
   "metadata": {},
   "source": [
    "### EMV"
   ]
  },
  {
   "cell_type": "code",
   "execution_count": 72,
   "metadata": {},
   "outputs": [],
   "source": [
    "logLik_var=[]\n",
    "for i in range(10):\n",
    "    logLik_var.append(-negtiveloglikelihood_discrete(mu_var,phi_var,points_hawkes_test[i],T_phi,T))"
   ]
  },
  {
   "cell_type": "code",
   "execution_count": 73,
   "metadata": {},
   "outputs": [
    {
     "data": {
      "text/plain": [
       "-43.02481407059032"
      ]
     },
     "execution_count": 73,
     "metadata": {},
     "output_type": "execute_result"
    }
   ],
   "source": [
    "np.average(logLik_var)"
   ]
  }
 ],
 "metadata": {
  "kernelspec": {
   "display_name": "Python 3",
   "language": "python",
   "name": "python3"
  },
  "language_info": {
   "codemirror_mode": {
    "name": "ipython",
    "version": 3
   },
   "file_extension": ".py",
   "mimetype": "text/x-python",
   "name": "python",
   "nbconvert_exporter": "python",
   "pygments_lexer": "ipython3",
   "version": "3.6.7"
  }
 },
 "nbformat": 4,
 "nbformat_minor": 2
}
