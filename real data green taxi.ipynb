{
 "cells": [
  {
   "cell_type": "code",
   "execution_count": 1,
   "metadata": {},
   "outputs": [],
   "source": [
    "from scipy.stats import expon\n",
    "from scipy.stats import norm\n",
    "from scipy.stats import uniform\n",
    "from scipy.stats import truncnorm\n",
    "import numpy as np\n",
    "import matplotlib.pyplot as plt\n",
    "from scipy import optimize\n",
    "from numpy.polynomial import legendre\n",
    "import pandas as pd\n",
    "from datetime import datetime\n",
    "from scipy.stats import multivariate_normal\n",
    "from scipy.special import erf\n",
    "from scipy.special import hyp1f1\n",
    "from scipy.linalg import eigh\n",
    "from random import randint\n",
    "from scipy.optimize import fsolve\n",
    "from scipy.optimize import root\n",
    "from numpy.polynomial import legendre"
   ]
  },
  {
   "cell_type": "code",
   "execution_count": 2,
   "metadata": {},
   "outputs": [],
   "source": [
    "rawdata = pd.read_csv(\"./2016_Green_Taxi_Trip_Data.csv\")"
   ]
  },
  {
   "cell_type": "code",
   "execution_count": 8,
   "metadata": {},
   "outputs": [],
   "source": [
    "date_series=['01/02/2016','01/03/2016','01/04/2016','01/05/2016','01/06/2016','01/07/2016','01/08/2016','01/09/2016',\n",
    "            '01/10/2016','01/11/2016','01/12/2016','01/13/2016','01/14/2016','01/15/2016','01/16/2016',\n",
    "            '01/17/2016','01/18/2016','01/19/2016','01/20/2016','01/21/2016','01/22/2016','01/23/2016',\n",
    "            '01/24/2016','01/25/2016','01/26/2016','01/27/2016','01/28/2016','01/29/2016','01/30/2016','01/31/2016','02/01/2016']"
   ]
  },
  {
   "cell_type": "code",
   "execution_count": 9,
   "metadata": {},
   "outputs": [],
   "source": [
    "def training_data_extraction(N):\n",
    "    training_data=[]\n",
    "    for i in range(N):\n",
    "        df_1=rawdata[(rawdata['lpep_pickup_datetime']<date_series[i+1]) & (rawdata['lpep_pickup_datetime']>date_series[i])]\n",
    "        \n",
    "        origin=pd.to_datetime(date_series[i]).value/10**9/600 # convert to 10 minute\n",
    "\n",
    "        df_1=df_1[df_1['Trip_distance']>15]\n",
    "\n",
    "        df_1=df_1[['lpep_pickup_datetime']]\n",
    "\n",
    "        df_1['lpep_pickup_datetime']=pd.to_datetime(df_1['lpep_pickup_datetime'])\n",
    "\n",
    "        df_1['lpep_pickup_datetime']=df_1['lpep_pickup_datetime'].astype(np.int64)\n",
    "\n",
    "        df_1=df_1.sort_values(['lpep_pickup_datetime'])\n",
    "        training_data_1=df_1['lpep_pickup_datetime'].values/(10**9) # convert to second\n",
    "        training_data_1=training_data_1/600 # convert to 10 minute\n",
    "        training_data_1=training_data_1-origin\n",
    "        training_data_1=np.unique(training_data_1)\n",
    "        training_data.append(training_data_1)\n",
    "    return training_data"
   ]
  },
  {
   "cell_type": "code",
   "execution_count": 10,
   "metadata": {},
   "outputs": [],
   "source": [
    "training=training_data_extraction(30)"
   ]
  },
  {
   "cell_type": "code",
   "execution_count": 11,
   "metadata": {},
   "outputs": [
    {
     "data": {
      "text/plain": [
       "368.26666666666665"
      ]
     },
     "execution_count": 11,
     "metadata": {},
     "output_type": "execute_result"
    }
   ],
   "source": [
    "np.average([len(training[i]) for i in range(30)])"
   ]
  },
  {
   "cell_type": "code",
   "execution_count": 12,
   "metadata": {},
   "outputs": [],
   "source": [
    "T=144"
   ]
  },
  {
   "cell_type": "code",
   "execution_count": 13,
   "metadata": {},
   "outputs": [],
   "source": [
    "def expo_quad_kernel(theta0,theta1,xn,xm):\n",
    "    return theta0*np.exp(-theta1/2*np.sum((xn - xm)**2))"
   ]
  },
  {
   "cell_type": "code",
   "execution_count": 14,
   "metadata": {},
   "outputs": [],
   "source": [
    "def GP_regression(xi,yi,theta0,theta1,noise_var,rang,num_points):\n",
    "    N=len(xi)\n",
    "    cov_K=np.zeros((N,N))\n",
    "    for i in range(N):\n",
    "        for j in range(i,N):\n",
    "            cov_K[i][j]=expo_quad_kernel(theta0,theta1,xi[i],xi[j])\n",
    "            cov_K[j][i]=cov_K[i][j]\n",
    "    min_eig=np.min(np.real(np.linalg.eigvals(cov_K))) # numerical float truncation error refine\n",
    "    while(min_eig<0):\n",
    "        cov_K += -10*min_eig*np.eye(cov_K.shape[0])\n",
    "        min_eig=np.min(np.real(np.linalg.eigvals(cov_K)))\n",
    "    \n",
    "    cov_K_noise=cov_K+np.eye(N)*noise_var\n",
    "    \n",
    "    x1=np.linspace(0,rang,num_points+1)      # prediction points, integer is to make it easy\n",
    "    M=len(x1)-1\n",
    "    mean=np.zeros((1,M))[0]\n",
    "    posterior_cov=np.zeros((M,M))\n",
    "    k_matrix=np.zeros((M,N))\n",
    "    k_matrix_pre=np.zeros((M,M))\n",
    "    for i in range(M):\n",
    "        for j in range(N):\n",
    "            k_matrix[i][j]=expo_quad_kernel(theta0,theta1,x1[i],xi[j])\n",
    "    k_C=np.dot(k_matrix,np.linalg.inv(cov_K_noise))\n",
    "    mean=np.dot(k_C,yi)\n",
    "    for i in range(M):\n",
    "        for j in range(i,M):\n",
    "            k_matrix_pre[i][j]=expo_quad_kernel(theta0,theta1,x1[i],x1[j])\n",
    "            k_matrix_pre[j][i]=k_matrix_pre[i][j]\n",
    "    posterior_cov=k_matrix_pre-np.dot(k_C,k_matrix.T)+np.eye(M)*noise_var\n",
    "    min_eig=np.min(np.real(np.linalg.eigvals(posterior_cov))) # numerical float truncation error refine\n",
    "    while(min_eig<0):\n",
    "        posterior_cov += -10*min_eig*np.eye(posterior_cov.shape[0])\n",
    "        min_eig=np.min(np.real(np.linalg.eigvals(posterior_cov)))\n",
    "    return x1[:num_points],mean, posterior_cov"
   ]
  },
  {
   "cell_type": "code",
   "execution_count": 15,
   "metadata": {},
   "outputs": [],
   "source": [
    "def u_generate(theta0,theta1,xi): # xi is inducing points, N(0,Sigma)\n",
    "    N=len(xi)\n",
    "    cov=np.zeros((N,N))\n",
    "    for i in range(N):\n",
    "        for j in range(i,N):\n",
    "            cov[i][j]=expo_quad_kernel(theta0,theta1,xi[i],xi[j])\n",
    "            cov[j][i]=cov[i][j]\n",
    "    return multivariate_normal([0]*N,cov).rvs(),np.array([0]*N),cov"
   ]
  },
  {
   "cell_type": "code",
   "execution_count": 16,
   "metadata": {},
   "outputs": [],
   "source": [
    "T_phi=6"
   ]
  },
  {
   "cell_type": "code",
   "execution_count": 17,
   "metadata": {},
   "outputs": [],
   "source": [
    "xi=np.linspace(0+(T_phi/10)/2,T_phi-(T_phi/10)/2,6)   # 6 inducing points on \\phi(\\tau)"
   ]
  },
  {
   "cell_type": "code",
   "execution_count": 18,
   "metadata": {},
   "outputs": [],
   "source": [
    "xi_mu=np.linspace(0,T,8)   # 8 inducing points, T is larger so we need more points"
   ]
  },
  {
   "cell_type": "code",
   "execution_count": 19,
   "metadata": {},
   "outputs": [],
   "source": [
    "theta0=1   ## 0.06  2\n",
    "theta1=2"
   ]
  },
  {
   "cell_type": "code",
   "execution_count": 20,
   "metadata": {},
   "outputs": [],
   "source": [
    "u,mean_p_u,cov_p_u=u_generate(theta0,theta1,xi)"
   ]
  },
  {
   "cell_type": "code",
   "execution_count": 21,
   "metadata": {},
   "outputs": [],
   "source": [
    "f=GP_regression(xi,u,theta0,theta1,0.000001,T_phi,100) # f is 100-dimension vector on [0,T_phi]"
   ]
  },
  {
   "cell_type": "code",
   "execution_count": 22,
   "metadata": {},
   "outputs": [],
   "source": [
    "def eq(p,P,k_K,k_K_k,k_K_K_k,secondterm,thirdterm,M,m):\n",
    "    y=0\n",
    "    s=p\n",
    "    for i in range(1,len(k_K_k)):\n",
    "        for j in range(i):\n",
    "            if P[i][j]!=0:\n",
    "                y+=k_K_K_k[i][j][m]*P[i][j]/(k_K_k[i][j]+sum([(k_K[i][j][k]**2)*s[k] for k in range(M)]))\n",
    "    y+=-secondterm[m]-0.5*thirdterm[m]+0.5/s[m]\n",
    "    return y"
   ]
  },
  {
   "cell_type": "code",
   "execution_count": 23,
   "metadata": {},
   "outputs": [],
   "source": [
    "def equations(p,P,k_K,k_K_k,k_K_K_k,secondterm,thirdterm,M):\n",
    "    return [eq(p,P,k_K,k_K_k,k_K_K_k,secondterm,thirdterm,M,i) for i in range(M)]"
   ]
  },
  {
   "cell_type": "code",
   "execution_count": 24,
   "metadata": {},
   "outputs": [],
   "source": [
    "def ini_P(points_hawkes,T_phi):\n",
    "    N=len(points_hawkes)\n",
    "    P=np.zeros((N,N))\n",
    "    for i in range(N):                    # initial value of P\n",
    "        for j in range(i+1):\n",
    "            tij=points_hawkes[i]-points_hawkes[j]\n",
    "            if tij>=T_phi:continue\n",
    "            else:\n",
    "                P[i][j:i+1]=np.random.dirichlet([1]*(i-j+1))\n",
    "                break\n",
    "    return P"
   ]
  },
  {
   "cell_type": "code",
   "execution_count": 25,
   "metadata": {},
   "outputs": [],
   "source": [
    "def psi(theta0,theta1,xn,xm,T):\n",
    "    x_mean=(xn+xm)/2\n",
    "    return (theta0**2)*(-np.sqrt(np.pi/theta1)/2)*np.exp((-theta1*(xn-xm)**2)/4)*(erf((x_mean-T)*np.sqrt(theta1))\\\n",
    "                                                                                  -erf(x_mean*np.sqrt(theta1)))"
   ]
  },
  {
   "cell_type": "code",
   "execution_count": 26,
   "metadata": {},
   "outputs": [],
   "source": [
    "def distribution_f_posterior(x_f,xi,theta0,theta1,cov_p_u,cov_q_u_post):\n",
    "    N=len(xi) # N is number of inducing points\n",
    "    M=len(x_f) # M is number of predicting points\n",
    "    \n",
    "    cov_p_u_inv=np.linalg.inv(cov_p_u)\n",
    "    \n",
    "    K_xz=np.zeros((M,N))\n",
    "    for i in range(M):\n",
    "        for j in range(N):\n",
    "            K_xz[i][j]=expo_quad_kernel(theta0,theta1,x_f[i],xi[j])\n",
    "#     K_xx=np.zeros((M,M))\n",
    "#     for i in range(M):\n",
    "#         for j in range(i,M):\n",
    "#             K_xx[i][j]=expo_quad_kernel(theta0,theta1,x_f[i],x_f[j])\n",
    "#             K_xx[j][i]=K_xx[i][j]\n",
    "#     mean_f=(K_xz.dot(cov_p_u_inv)).dot(mean_q_u_post)\n",
    "#     cov_f=K_xx-(K_xz.dot(cov_p_u_inv)).dot(K_xz.T)+(((K_xz.dot(cov_p_u_inv)).dot(cov_q_u_post)).dot(cov_p_u_inv)).dot(K_xz.T)\n",
    "    var_f=np.array([theta0-K_xz[i].dot(cov_p_u_inv).dot(K_xz[i].T)+(((K_xz[i].dot(cov_p_u_inv)).dot(cov_q_u_post)).dot(cov_p_u_inv)).dot(K_xz[i].T) for i in range(M)])\n",
    "    \n",
    "    exp_phi=var_f\n",
    "    return exp_phi"
   ]
  },
  {
   "cell_type": "code",
   "execution_count": 27,
   "metadata": {},
   "outputs": [],
   "source": [
    "theta0_mu=1    #0.5   0.005\n",
    "theta1_mu=0.01"
   ]
  },
  {
   "cell_type": "code",
   "execution_count": 28,
   "metadata": {},
   "outputs": [],
   "source": [
    "u_mu,mean_p_u_mu,cov_p_u_mu=u_generate(theta0_mu,theta1_mu,xi_mu)"
   ]
  },
  {
   "cell_type": "code",
   "execution_count": 29,
   "metadata": {},
   "outputs": [],
   "source": [
    "f_mu=GP_regression(xi_mu,u_mu,theta0_mu,theta1_mu,0.000001,T,500) # f is 1000-dimension vector on [0,T]"
   ]
  },
  {
   "cell_type": "code",
   "execution_count": 30,
   "metadata": {},
   "outputs": [],
   "source": [
    "def eq_mu(p,P,k_K,k_K_k,k_K_K_k,secondterm,thirdterm,M,m):\n",
    "    y=0\n",
    "    s=p\n",
    "    for n in range(len(k_K_k)):\n",
    "        if P[n][n]!=0:\n",
    "            y+=k_K_K_k[n][m]*P[n][n]/(k_K_k[n]+sum([(k_K[n][i]**2)*s[i] for i in range(M)]))\n",
    "    y+=-secondterm[m]-0.5*thirdterm[m]+0.5/s[m]\n",
    "    return y"
   ]
  },
  {
   "cell_type": "code",
   "execution_count": 31,
   "metadata": {},
   "outputs": [],
   "source": [
    "def equations_mu(p,P,k_K,k_K_k,k_K_K_k,secondterm,thirdterm,M):\n",
    "    return [eq_mu(p,P,k_K,k_K_k,k_K_K_k,secondterm,thirdterm,M,i) for i in range(M)]"
   ]
  },
  {
   "cell_type": "code",
   "execution_count": 32,
   "metadata": {},
   "outputs": [],
   "source": [
    "def MISD_variational_deri(points_hawkes,xi,xi_mu,T_phi,T,num_iter): # 100 predict points on T_phi, 1000 predict points on T\n",
    "    N=len(points_hawkes) # num of observation\n",
    "    M=len(xi)            # num of inducing points on phi\n",
    "    M_mu=len(xi_mu)      # num of inducing points on mu\n",
    "    P=ini_P(points_hawkes,T_phi)\n",
    "    delta_t=T_phi/len(f[0]) # phi is discete to 100 points\n",
    "    delta_t_mu=T/len(f_mu[0]) # u(t) is descrete to 500 points\n",
    "    \n",
    "    \n",
    "    #_______________________initial setting of mu\n",
    "    cov_q_u_mu_diag=np.random.uniform(0,1,M_mu)  ## initial of cov_q_u_mu_diag\n",
    "    k_tn_z_mu=np.zeros((N,M_mu))\n",
    "    for i in range(N):\n",
    "        for j in range(M_mu):\n",
    "            k_tn_z_mu[i][j]=expo_quad_kernel(theta0_mu,theta1_mu,points_hawkes[i],xi_mu[j])\n",
    "            \n",
    "    cov_p_u_mu_inv=np.linalg.inv(cov_p_u_mu)\n",
    "    thirdterm_mu=np.diagonal(cov_p_u_mu_inv)\n",
    "    Psi_mu=np.zeros((M_mu,M_mu))\n",
    "    for i in range(M_mu):\n",
    "        for j in range(i,M_mu):\n",
    "            Psi_mu[i][j]=psi(theta0_mu,theta1_mu,xi_mu[i],xi_mu[j],T)\n",
    "            Psi_mu[j][i]=Psi_mu[i][j]\n",
    "    secondterm_mu=np.diagonal(cov_p_u_mu_inv.dot(Psi_mu).dot(cov_p_u_mu_inv))\n",
    "    \n",
    "    k_K_K_k_mu=np.empty((0,M_mu))   #vector of vector   #     1st term\n",
    "    k_K_k_mu=np.array([])    # vecotr of value\n",
    "    k_K_mu=np.empty((0,M_mu))      # vector of vector\n",
    "    for i in range(N):\n",
    "        k_K_K_k_mu=np.append(k_K_K_k_mu, np.array([np.diagonal(cov_p_u_mu_inv.dot(np.array([k_tn_z_mu[i]]).T).dot(np.array([k_tn_z_mu[i]])).dot(cov_p_u_mu_inv))]),axis=0)\n",
    "        k_K_k_mu=np.append(k_K_k_mu,theta0_mu-k_tn_z_mu[i].dot(cov_p_u_mu_inv).dot(k_tn_z_mu[i].T))\n",
    "        k_K_mu=np.append(k_K_mu,np.array([k_tn_z_mu[i].dot(cov_p_u_mu_inv)]),axis=0) \n",
    "    \n",
    "    #__________________initial setting of phi\n",
    "    cov_q_u_diag=np.random.uniform(0,1,M)\n",
    "    cov_p_u_inv=np.linalg.inv(cov_p_u)\n",
    "    thirdterm=np.diagonal(cov_p_u_inv)\n",
    "    n_1=sum(np.array(points_hawkes)<(T-T_phi)) # num of points within T-T_phi\n",
    "    Psi=np.zeros((N,M,M))\n",
    "    for i in range(n_1):\n",
    "        for j in range(M):\n",
    "            for k in range(j,M):\n",
    "                Psi[i][j][k]=psi(theta0,theta1,xi[j],xi[k],T_phi)\n",
    "                Psi[i][k][j]=Psi[i][j][k]\n",
    "    for i in range(n_1,N):\n",
    "        for j in range(M):\n",
    "            for k in range(j,M):\n",
    "                Psi[i][j][k]=psi(theta0,theta1,xi[j],xi[k],T-points_hawkes[i])\n",
    "                Psi[i][k][j]=Psi[i][j][k]\n",
    "    secondterm=sum([np.diagonal(cov_p_u_inv.dot(Psi[i]).dot(cov_p_u_inv)) for i in range(N)])\n",
    "    k_tn_z=np.zeros((N,N,M))\n",
    "    for i in range(1,N):\n",
    "        for j in range(i):\n",
    "            if P[i][j]!=0:\n",
    "                tao=points_hawkes[i]-points_hawkes[j]\n",
    "                k_tn_z[i][j]=np.array([expo_quad_kernel(theta0,theta1,tao,xi[k]) for k in range(M)])            \n",
    "    k_K_K_k=np.zeros((N,N,M))   # matrix of vector   #     1st term\n",
    "    k_K_k=np.zeros((N,N))    # matrix of value\n",
    "    k_K=np.zeros((N,N,M))     # matrix of vector\n",
    "    for i in range(1,N):\n",
    "        for j in range(i):\n",
    "            if P[i][j]!=0:\n",
    "                k_K_K_k[i][j]=np.diagonal(cov_p_u_inv.dot(np.array([k_tn_z[i][j]]).T).dot(np.array([k_tn_z[i][j]])).dot(cov_p_u_inv))\n",
    "                k_K_k[i][j]=theta0-k_tn_z[i][j].dot(cov_p_u_inv).dot(k_tn_z[i][j].T)\n",
    "                k_K[i][j]=k_tn_z[i][j].dot(cov_p_u_inv)\n",
    "    \n",
    "    \n",
    "    \n",
    "    \n",
    "    \n",
    "    for k in range(num_iter):  # num of iterations\n",
    "        # update of phi\n",
    "        \n",
    "        cov_q_u_diag=fsolve(equations,cov_q_u_diag, args=(P,k_K,k_K_k,k_K_K_k,secondterm,thirdterm,M))\n",
    "        cov_q_u_diag[cov_q_u_diag<0] = 0.1 # more stable\n",
    "        cov_q_u=np.diag(cov_q_u_diag)\n",
    "        phi=distribution_f_posterior(f[0],xi,theta0,theta1,cov_p_u,cov_q_u)\n",
    "        \n",
    "        # update of mu\n",
    "        \n",
    "        cov_q_u_mu_diag=fsolve(equations_mu,cov_q_u_mu_diag, args=(P,k_K_mu,k_K_k_mu,k_K_K_k_mu,secondterm_mu,thirdterm_mu,M_mu))\n",
    "        cov_q_u_mu_diag[cov_q_u_mu_diag<0] = 0.1 # more stable\n",
    "        cov_q_u_mu=np.diag(cov_q_u_mu_diag)\n",
    "        mu=distribution_f_posterior(f_mu[0],xi_mu,theta0_mu,theta1_mu,cov_p_u_mu,cov_q_u_mu)\n",
    "\n",
    "        \n",
    "        for i in range(N): # updata of P\n",
    "            mu_ti=mu[int(points_hawkes[i]/delta_t_mu)]\n",
    "            intensity_total=0\n",
    "            for j in range(i):\n",
    "                tji=points_hawkes[i]-points_hawkes[j]\n",
    "                if tji>=T_phi: continue\n",
    "                intensity_total+=phi[int(tji/delta_t)]\n",
    "            intensity_total+=mu_ti\n",
    "            P[i][i]=mu_ti/intensity_total\n",
    "            for j in range(i):\n",
    "                tji=points_hawkes[i]-points_hawkes[j]\n",
    "                if tji>=T_phi: P[i][j]=0\n",
    "                else: P[i][j]=phi[int(tji/delta_t)]/intensity_total\n",
    "    return mu,phi"
   ]
  },
  {
   "cell_type": "code",
   "execution_count": 245,
   "metadata": {},
   "outputs": [
    {
     "name": "stderr",
     "output_type": "stream",
     "text": [
      "C:\\Users\\zho045\\AppData\\Local\\Continuum\\Anaconda3\\lib\\site-packages\\scipy\\optimize\\minpack.py:163: RuntimeWarning: The iteration is not making good progress, as measured by the \n",
      "  improvement from the last five Jacobian evaluations.\n",
      "  warnings.warn(msg, RuntimeWarning)\n",
      "C:\\Users\\zho045\\AppData\\Local\\Continuum\\Anaconda3\\lib\\site-packages\\scipy\\optimize\\minpack.py:163: RuntimeWarning: The iteration is not making good progress, as measured by the \n",
      "  improvement from the last ten iterations.\n",
      "  warnings.warn(msg, RuntimeWarning)\n"
     ]
    },
    {
     "name": "stdout",
     "output_type": "stream",
     "text": [
      "Wall time: 4h 9min 19s\n"
     ]
    }
   ],
   "source": [
    "%%time\n",
    "mu_var_multiple=[]\n",
    "phi_var_multiple=[]\n",
    "for i in range(5,25):\n",
    "    mu_var,phi_var=MISD_variational_deri(training[i],xi,xi_mu,T_phi,T,100)\n",
    "    mu_var_multiple.append(mu_var)\n",
    "    phi_var_multiple.append(phi_var)"
   ]
  },
  {
   "cell_type": "code",
   "execution_count": 246,
   "metadata": {},
   "outputs": [],
   "source": [
    "mu_var=np.average(np.array(mu_var_multiple),axis=0)\n",
    "phi_var=np.average(np.array(phi_var_multiple),axis=0)"
   ]
  },
  {
   "cell_type": "code",
   "execution_count": 247,
   "metadata": {},
   "outputs": [
    {
     "data": {
      "image/png": "[encoded data removed]",
      "text/plain": [
       "<Figure size 576x360 with 1 Axes>"
      ]
     },
     "metadata": {
      "needs_background": "light"
     },
     "output_type": "display_data"
    }
   ],
   "source": [
    "plt.figure(1,figsize=(8,5))\n",
    "axs=plt.subplot(111)\n",
    "axs.plot(f_mu[0],mu_var,label='VBN')\n",
    "axs.scatter(xi_mu,np.zeros((len(xi_mu))),marker='o',s=30)\n",
    "plt.legend()\n",
    "plt.show()"
   ]
  },
  {
   "cell_type": "code",
   "execution_count": 248,
   "metadata": {},
   "outputs": [
    {
     "data": {
      "image/png": "[encoded data removed]",
      "text/plain": [
       "<Figure size 576x360 with 1 Axes>"
      ]
     },
     "metadata": {
      "needs_background": "light"
     },
     "output_type": "display_data"
    }
   ],
   "source": [
    "plt.figure(1,figsize=(8,5))\n",
    "axs=plt.subplot(111)\n",
    "axs.plot(f[0],phi_var,label='VBN')\n",
    "axs.scatter(xi,np.zeros((len(xi))),marker='o',s=30)\n",
    "plt.legend()\n",
    "plt.show()"
   ]
  },
  {
   "cell_type": "code",
   "execution_count": 249,
   "metadata": {},
   "outputs": [],
   "source": [
    "def MISD(points_hawkes,T,T_gamma,delta_t,num_iter):\n",
    "    num_g=int(T_gamma/delta_t)\n",
    "    N=len(points_hawkes)\n",
    "    P=ini_P(points_hawkes,T_gamma)\n",
    "    g=np.zeros((1,num_g), dtype=float)\n",
    "\n",
    "    for k in range(num_iter):\n",
    "        for m in range(num_g): # update for u and g\n",
    "            rate_prob=np.zeros((1,N))\n",
    "            div_num=0\n",
    "            for i in range(N):\n",
    "                if (T-points_hawkes[i])>=m*delta_t and (T-points_hawkes[i])<(m+1)*delta_t: # point i is close to T\n",
    "                    div_num+=1\n",
    "                    for j in range(i+1,N):\n",
    "                        interval=points_hawkes[j]-points_hawkes[i]\n",
    "                        if interval>=m*delta_t and interval<(m+1)*delta_t:\n",
    "                            rate_prob[0][i]+=P[j][i]\n",
    "                        elif interval>=(m+1)*delta_t:\n",
    "                            break\n",
    "                    rate_prob[0][i]=rate_prob[0][i]/(T-m*delta_t)\n",
    "                elif (T-points_hawkes[i])<m*delta_t:\n",
    "                    break\n",
    "                else:\n",
    "                    div_num+=1\n",
    "                    for j in range(i+1,N):\n",
    "                        interval=points_hawkes[j]-points_hawkes[i]\n",
    "                        if interval>=m*delta_t and interval<(m+1)*delta_t:\n",
    "                            rate_prob[0][i]+=P[j][i]\n",
    "                        elif interval>=(m+1)*delta_t:\n",
    "                            break\n",
    "                    rate_prob[0][i]=rate_prob[0][i]/delta_t\n",
    "            if div_num==0:\n",
    "                break\n",
    "            else:\n",
    "                g[0][m]=sum(rate_prob[0])/div_num\n",
    "        u=sum(P[i][i] for i in range(N))/T\n",
    "\n",
    "        for i in range(N): # updata for P\n",
    "            intensity_total=0\n",
    "            for j in range(i):\n",
    "                tji=points_hawkes[i]-points_hawkes[j]\n",
    "                if tji>=T_gamma: continue\n",
    "                intensity_total+=g[0][int(tji/delta_t)]\n",
    "            intensity_total+=u\n",
    "            P[i][i]=u/intensity_total\n",
    "            for j in range(i):\n",
    "                tji=points_hawkes[i]-points_hawkes[j]\n",
    "                if tji>=T_gamma: P[i][j]=0\n",
    "                else: P[i][j]=g[0][int(tji/delta_t)]/intensity_total\n",
    "    return u,g[0]"
   ]
  },
  {
   "cell_type": "code",
   "execution_count": 498,
   "metadata": {},
   "outputs": [
    {
     "name": "stdout",
     "output_type": "stream",
     "text": [
      "Wall time: 8.88 s\n"
     ]
    }
   ],
   "source": [
    "%%time\n",
    "u_misd_6_multiple=[]\n",
    "phi_misd_6_multiple=[]\n",
    "for i in range(10,11):\n",
    "    u_misd_6,phi_misd_6=MISD(training[i],T,T_phi,1,100)\n",
    "    u_misd_6_multiple.append(u_misd_6)\n",
    "    phi_misd_6_multiple.append(phi_misd_6)"
   ]
  },
  {
   "cell_type": "code",
   "execution_count": 499,
   "metadata": {},
   "outputs": [],
   "source": [
    "u_misd_6=np.average(np.array(u_misd_6_multiple))\n",
    "phi_misd_6=np.average(np.array(phi_misd_6_multiple),axis=0)"
   ]
  },
  {
   "cell_type": "code",
   "execution_count": 501,
   "metadata": {},
   "outputs": [
    {
     "name": "stdout",
     "output_type": "stream",
     "text": [
      "Wall time: 8.48 s\n"
     ]
    }
   ],
   "source": [
    "%%time\n",
    "u_misd_8_multiple=[]\n",
    "phi_misd_8_multiple=[]\n",
    "for i in range(10,11):\n",
    "    u_misd_8,phi_misd_8=MISD(training[i],T,T_phi,0.75,100)\n",
    "    u_misd_8_multiple.append(u_misd_8)\n",
    "    phi_misd_8_multiple.append(phi_misd_8)"
   ]
  },
  {
   "cell_type": "code",
   "execution_count": 502,
   "metadata": {},
   "outputs": [],
   "source": [
    "u_misd_8=np.average(np.array(u_misd_8_multiple))\n",
    "phi_misd_8=np.average(np.array(phi_misd_8_multiple),axis=0)"
   ]
  },
  {
   "cell_type": "code",
   "execution_count": 256,
   "metadata": {},
   "outputs": [],
   "source": [
    "def hawkes_second_stats_conti_gauss(t,h,points_hawkes,T):   # gaussian kernel\n",
    "    N=len(points_hawkes)\n",
    "    Lamda=N/T\n",
    "    g_t_i=[]\n",
    "    for i in range(N):\n",
    "        if points_hawkes[i]+t>T-h:\n",
    "            break\n",
    "        else:\n",
    "            g_t=np.exp(-(((t-(points_hawkes[:i]+points_hawkes[i+1:]-points_hawkes[i]))/h)**2/2))\n",
    "            g_t_i.append(sum(g_t)/np.sqrt(2*np.pi)/h)\n",
    "    return np.average(g_t_i)-Lamda"
   ]
  },
  {
   "cell_type": "code",
   "execution_count": 257,
   "metadata": {},
   "outputs": [],
   "source": [
    "def primitive_g(t,g,range_g): # -infinity to t\n",
    "    delta_t=range_g/len(g)\n",
    "    num_bin=t/delta_t\n",
    "    if num_bin<len(g):\n",
    "        integral=sum(g[:int(num_bin)])*delta_t+g[int(num_bin)]*delta_t*(num_bin-int(num_bin))\n",
    "    else:\n",
    "        integral=sum(g)*delta_t\n",
    "    return integral+sum(g)*delta_t"
   ]
  },
  {
   "cell_type": "code",
   "execution_count": 258,
   "metadata": {},
   "outputs": [],
   "source": [
    "def gq_points_weights(a,b,Q):\n",
    "    p,w=np.polynomial.legendre.leggauss(Q)\n",
    "    c = np.array([0]*Q + [1])\n",
    "    p_new=(a+b+(b-a)*p)/2\n",
    "    w_new=(b-a)/(legendre.legval(p, legendre.legder(c))**2*(1-p**2))\n",
    "    return p_new,w_new"
   ]
  },
  {
   "cell_type": "code",
   "execution_count": 259,
   "metadata": {},
   "outputs": [],
   "source": [
    "def phi_WH_prediction(t,g,Q,range_g): \n",
    "    delta_t=range_g/len(g) \n",
    "    p,w=gq_points_weights(0,range_g,Q)  # (0,infininty) replaced by (0,range_g)\n",
    "    g_ti=np.zeros((Q,Q))\n",
    "    G_ti=np.zeros((1,Q))[0]\n",
    "    for i in range(Q):\n",
    "        G_ti[i]=primitive_g(p[i],g,range_g)\n",
    "        for j in range(i,Q):\n",
    "            if i==j:\n",
    "                g_ti[i][i]=g[int(p[i]/delta_t)]\n",
    "            else:\n",
    "                g_ti[i][j]=g[int((p[j]-p[i])/delta_t)]\n",
    "                g_ti[j][i]=g_ti[i][j]\n",
    "    \n",
    "    a = np.zeros((Q,Q))\n",
    "    b = np.zeros((1,Q))[0]\n",
    "    for i in range(Q):\n",
    "        b[i]=g_ti[i][i]\n",
    "        for j in range(Q):\n",
    "            if i==j:\n",
    "                a[i][i]=1+G_ti[i]-sum(w*g_ti[i])+w[i]*g_ti[i][i]  #diagonal\n",
    "            else:\n",
    "                a[i][j]=w[j]*g_ti[i][j]    \n",
    "    phi_ti = np.linalg.solve(a,b)\n",
    "\n",
    "    g_t=g[int(t/delta_t)]\n",
    "    G_t=primitive_g(t,g,range_g)\n",
    "    g_t_ti=np.zeros((1,Q))[0]\n",
    "    for i in range(Q):\n",
    "        g_t_ti[i]=g[int((t-p[i])/delta_t)]\n",
    "    phi_t=(g_t-sum(w*phi_ti*g_t_ti))/(1+G_t-sum(w*g_t_ti))\n",
    "    return phi_t"
   ]
  },
  {
   "cell_type": "code",
   "execution_count": 260,
   "metadata": {},
   "outputs": [],
   "source": [
    "def phi_parameter(points_hawkes,x,h,Q,range_g):# default range_g*10 points\n",
    "#     x=np.linspace(0.1/2,range_g-0.1/2,range_g*10)\n",
    "    g_gauss=[hawkes_second_stats_conti_gauss(x_i,h,points_hawkes,T) for x_i in x]\n",
    "    phi_result=[phi_WH_prediction(xi,g_gauss,Q,range_g) for xi in x]\n",
    "    \n",
    "#     mse=sum((np.array(phi_result)-1*np.exp(-2*x))**2)/(range_g*10)\n",
    "    return phi_result"
   ]
  },
  {
   "cell_type": "code",
   "execution_count": 547,
   "metadata": {},
   "outputs": [
    {
     "name": "stdout",
     "output_type": "stream",
     "text": [
      "Wall time: 4.71 s\n"
     ]
    }
   ],
   "source": [
    "%%time\n",
    "u_wh_multiple=[]\n",
    "phi_wh_multiple=[]\n",
    "for i in range(10,11):\n",
    "    phi_wh=phi_parameter(list(training[i]),f[0],0.15,100,T_phi)\n",
    "    u_wh=len(training[i])/T*(1-sum(T_phi/len(f[0])*np.array(phi_wh)))\n",
    "    u_wh_multiple.append(u_wh)\n",
    "    phi_wh_multiple.append(phi_wh)"
   ]
  },
  {
   "cell_type": "code",
   "execution_count": 548,
   "metadata": {},
   "outputs": [],
   "source": [
    "u_wh=np.average(np.array(u_wh_multiple))\n",
    "phi_wh=np.average(np.array(phi_wh_multiple),axis=0)"
   ]
  },
  {
   "cell_type": "code",
   "execution_count": 264,
   "metadata": {},
   "outputs": [],
   "source": [
    "def negtiveloglikelyhood1(parameters, times, T): #times=timestamp t1-tn; T is timespan      fast:R(i)\n",
    "    times=np.array(times)\n",
    "    \n",
    "    mu=parameters[0]\n",
    "    alpha=parameters[1]\n",
    "    beta=parameters[2]\n",
    "    \n",
    "    timedifference=T-times #T-t0...T-t(n-1) \n",
    "    timeexponential=np.exp(-beta*timedifference)-1\n",
    "    secondsum=alpha/beta*sum(timeexponential)\n",
    "    \n",
    "    R=np.zeros((len(times),1))\n",
    "    for i in range(1,len(times)):\n",
    "        R[i]=np.exp(-beta*(times[i]-times[i-1]))*(1+R[i-1])\n",
    "    firstsum=sum(np.log(mu+alpha*R))  #left-continuous\n",
    "    \n",
    "    negtivelogl=-(firstsum-mu*T+secondsum)\n",
    "    return negtivelogl"
   ]
  },
  {
   "cell_type": "code",
   "execution_count": 558,
   "metadata": {
    "scrolled": true
   },
   "outputs": [
    {
     "name": "stdout",
     "output_type": "stream",
     "text": [
      "Optimization terminated successfully.    (Exit mode 0)\n",
      "            Current function value: 54.04042996309852\n",
      "            Iterations: 29\n",
      "            Function evaluations: 167\n",
      "            Gradient evaluations: 29\n"
     ]
    }
   ],
   "source": [
    "res=[]\n",
    "parameters=np.array([1.2,0.7,3])\n",
    "for i in range(10,11):\n",
    "    result=optimize.minimize(negtiveloglikelyhood1, parameters,args=(training[i],T), method='SLSQP', bounds=((0.01,1),(0.01,1),(0.01,2)), options={'disp': True})\n",
    "    res.append(result.x)"
   ]
  },
  {
   "cell_type": "code",
   "execution_count": 559,
   "metadata": {},
   "outputs": [],
   "source": [
    "res_ave=np.average(res,axis=0)"
   ]
  },
  {
   "cell_type": "code",
   "execution_count": 560,
   "metadata": {},
   "outputs": [
    {
     "data": {
      "text/plain": [
       "array([0.39926249, 0.17197619, 0.20936661])"
      ]
     },
     "execution_count": 560,
     "metadata": {},
     "output_type": "execute_result"
    }
   ],
   "source": [
    "res_ave"
   ]
  },
  {
   "cell_type": "code",
   "execution_count": 386,
   "metadata": {},
   "outputs": [
    {
     "data": {
      "image/png": "[encoded data removed]",
      "text/plain": [
       "<Figure size 360x288 with 1 Axes>"
      ]
     },
     "metadata": {
      "needs_background": "light"
     },
     "output_type": "display_data"
    }
   ],
   "source": [
    "plt.figure(1,figsize=(5,4))\n",
    "axs=plt.subplot(111)\n",
    "axs.plot(np.linspace(0,6,100)*10,res_ave[1]*np.exp(-res_ave[2]*np.linspace(0,6,100)),label='PH')\n",
    "axs.plot(f[0]*10,phi_var,'b')\n",
    "axs.scatter(f[0]*10,phi_var,marker='o',s=12,c='',edgecolors='b',label='EMV')\n",
    "axs.plot(np.linspace(0,6,300,endpoint=False)*10,[phi_misd_6[int(xxx/1)] for xxx in np.linspace(0,6,300,endpoint=False)],label='MISD-6')\n",
    "axs.plot(np.linspace(0,6,300,endpoint=False)*10,[phi_misd_8[int(xxx/0.75)] for xxx in np.linspace(0,6,300,endpoint=False)],label='MISD-8')\n",
    "axs.plot(f[0]*10,phi_wh,label='WH')\n",
    "plt.xlabel(r'$\\tau$',fontsize=12)\n",
    "plt.title(r'$\\phi(\\tau)$',fontsize=15)\n",
    "plt.xlim(0,60)\n",
    "plt.ylim(0,0.3)\n",
    "plt.xticks(np.arange(0, 65, 10))\n",
    "plt.legend(fontsize=12)\n",
    "\n",
    "# plt.savefig('./phi_realdata_2',bbox_inches = 'tight')\n",
    "plt.show()"
   ]
  },
  {
   "cell_type": "code",
   "execution_count": 387,
   "metadata": {},
   "outputs": [
    {
     "data": {
      "image/png": "[encoded data removed]",
      "text/plain": [
       "<Figure size 360x288 with 1 Axes>"
      ]
     },
     "metadata": {
      "needs_background": "light"
     },
     "output_type": "display_data"
    }
   ],
   "source": [
    "plt.figure(1,figsize=(5,4))\n",
    "axs=plt.subplot(111)\n",
    "\n",
    "axs.plot(f_mu[0]/6,mu_var,'b')\n",
    "axs.scatter(f_mu[0]/6,mu_var,marker='o',s=12,c='',edgecolors='b',label='EMV')\n",
    "axs.plot([0,T/6],[res_ave[0],res_ave[0]],label='PH')\n",
    "axs.plot([0,T/6],[u_misd_6,u_misd_6],label='MISD-6')\n",
    "axs.plot([0,T/6],[u_misd_8,u_misd_8],label='MISD-8')\n",
    "axs.plot([0,T/6],[u_wh,u_wh],label='WH')\n",
    "plt.xlabel(r'$t$',fontsize=12)\n",
    "plt.title(r'$\\mu(t)$',fontsize=15)\n",
    "# plt.ylim(0,1.7)\n",
    "plt.xlim(0,24)\n",
    "plt.xticks(np.arange(0, 25, 2))\n",
    "plt.legend(fontsize=12)\n",
    "\n",
    "# plt.savefig('./mu_realdata_2',bbox_inches = 'tight')\n",
    "plt.show()"
   ]
  },
  {
   "cell_type": "code",
   "execution_count": 270,
   "metadata": {},
   "outputs": [],
   "source": [
    "def intensity_discrete(t,history,u,g_mean,T_phi):    #left continue, the intensity is a gaussian dist\n",
    "    mu=u\n",
    "    N=len(g_mean)\n",
    "    intensity_mean=0\n",
    "    for i in range(len(history)):\n",
    "        if history[i]>=t:\n",
    "            break\n",
    "        delta_t=t-history[i]\n",
    "        if delta_t<T_phi:\n",
    "            intensity_mean+=g_mean[int(delta_t*N/T_phi)]\n",
    "    return mu+intensity_mean"
   ]
  },
  {
   "cell_type": "code",
   "execution_count": 271,
   "metadata": {},
   "outputs": [],
   "source": [
    "def negtiveloglikelihood_discrete(u,g_mean,times,T_phi,T):\n",
    "    N=len(times)\n",
    "    M=len(g_mean)\n",
    "    logl=0\n",
    "    for i in range(N):\n",
    "        logl+=np.log(intensity_discrete(times[i],times,u,g_mean,T_phi))\n",
    "        delta_t=T-times[i]\n",
    "        if delta_t>=T_phi:\n",
    "            logl-=sum(g_mean*T_phi/M)\n",
    "        else:\n",
    "            temp=(delta_t)*M/T_phi\n",
    "            temp_int=int(temp)\n",
    "            logl-=sum(g_mean[:temp_int]*T_phi/M)+g_mean[temp_int]*T_phi/M*(temp-temp_int)\n",
    "    return -(logl-u*T)"
   ]
  },
  {
   "cell_type": "code",
   "execution_count": 272,
   "metadata": {},
   "outputs": [],
   "source": [
    "def intensity_discrete_phi_mu(t,history,u,g_mean,g_range,T):    #left continue\n",
    "    mu=u\n",
    "    N=len(g_mean)\n",
    "    M=len(mu)\n",
    "    intensity_mean=0\n",
    "    for i in range(len(history)):\n",
    "        if history[i]>=t:\n",
    "            break\n",
    "        delta_t=t-history[i]\n",
    "        if delta_t<g_range:\n",
    "            intensity_mean+=g_mean[int(delta_t*N/g_range)]\n",
    "    result=mu[int(t/T*M)]+intensity_mean\n",
    "    return result"
   ]
  },
  {
   "cell_type": "code",
   "execution_count": 273,
   "metadata": {},
   "outputs": [],
   "source": [
    "def negtiveloglikelihood_discrete_phi_mu(u,g_mean,g_range,times,T):\n",
    "    N=len(times)\n",
    "    M=len(g_mean)\n",
    "    logl=0\n",
    "    for i in range(N):\n",
    "        logl+=np.log(intensity_discrete_phi_mu(times[i],times,u,g_mean,g_range,T))\n",
    "        delta_t=T-times[i]\n",
    "        if delta_t>=g_range:\n",
    "            logl-=sum(g_mean*g_range/M)\n",
    "        else:\n",
    "            temp=(delta_t)*M/g_range\n",
    "            temp_int=int(temp)\n",
    "            logl-=sum(g_mean[:temp_int]*g_range/M)+g_mean[temp_int]*g_range/M*(temp-temp_int)\n",
    "    return -(logl-sum(u*T/len(u)))"
   ]
  },
  {
   "cell_type": "code",
   "execution_count": 228,
   "metadata": {},
   "outputs": [
    {
     "data": {
      "text/plain": [
       "23.234377016568438"
      ]
     },
     "execution_count": 228,
     "metadata": {},
     "output_type": "execute_result"
    }
   ],
   "source": [
    "np.average([-negtiveloglikelihood_discrete(u_misd_6,phi_misd_6,training[i],T_phi,T) for i in range(5)])"
   ]
  },
  {
   "cell_type": "code",
   "execution_count": 229,
   "metadata": {},
   "outputs": [
    {
     "data": {
      "text/plain": [
       "23.393928755690755"
      ]
     },
     "execution_count": 229,
     "metadata": {},
     "output_type": "execute_result"
    }
   ],
   "source": [
    "np.average([-negtiveloglikelihood_discrete(u_misd_8,phi_misd_8,training[i],T_phi,T) for i in range(5)])"
   ]
  },
  {
   "cell_type": "code",
   "execution_count": 230,
   "metadata": {},
   "outputs": [
    {
     "data": {
      "text/plain": [
       "21.48311070677513"
      ]
     },
     "execution_count": 230,
     "metadata": {},
     "output_type": "execute_result"
    }
   ],
   "source": [
    "np.average([-negtiveloglikelihood_discrete(u_wh,np.array(phi_wh),training[i],T_phi,T) for i in range(5)])"
   ]
  },
  {
   "cell_type": "code",
   "execution_count": 231,
   "metadata": {},
   "outputs": [
    {
     "data": {
      "text/plain": [
       "24.64386839099821"
      ]
     },
     "execution_count": 231,
     "metadata": {},
     "output_type": "execute_result"
    }
   ],
   "source": [
    "np.average([-negtiveloglikelihood_discrete_phi_mu(mu_var,phi_var,T_phi,training[i],T) for i in range(5)])"
   ]
  },
  {
   "cell_type": "code",
   "execution_count": 232,
   "metadata": {},
   "outputs": [
    {
     "data": {
      "text/plain": [
       "24.187125538124814"
      ]
     },
     "execution_count": 232,
     "metadata": {},
     "output_type": "execute_result"
    }
   ],
   "source": [
    "np.average([-negtiveloglikelyhood1(res_ave, training[i], T) for i in range(5)])"
   ]
  },
  {
   "cell_type": "markdown",
   "metadata": {
    "collapsed": true
   },
   "source": [
    "## 1 training sequence"
   ]
  },
  {
   "cell_type": "code",
   "execution_count": 173,
   "metadata": {},
   "outputs": [
    {
     "data": {
      "text/plain": [
       "20.18490603795047"
      ]
     },
     "execution_count": 173,
     "metadata": {},
     "output_type": "execute_result"
    }
   ],
   "source": [
    "np.average([-negtiveloglikelihood_discrete(u_misd_6,phi_misd_6,training[i],T_phi,T) for i in range(5)])"
   ]
  },
  {
   "cell_type": "code",
   "execution_count": 174,
   "metadata": {},
   "outputs": [
    {
     "data": {
      "text/plain": [
       "18.956792639068077"
      ]
     },
     "execution_count": 174,
     "metadata": {},
     "output_type": "execute_result"
    }
   ],
   "source": [
    "np.average([-negtiveloglikelihood_discrete(u_misd_8,phi_misd_8,training[i],T_phi,T) for i in range(5)])"
   ]
  },
  {
   "cell_type": "code",
   "execution_count": 175,
   "metadata": {},
   "outputs": [
    {
     "data": {
      "text/plain": [
       "21.42037986349656"
      ]
     },
     "execution_count": 175,
     "metadata": {},
     "output_type": "execute_result"
    }
   ],
   "source": [
    "np.average([-negtiveloglikelihood_discrete(u_wh,np.array(phi_wh),training[i],T_phi,T) for i in range(5)])"
   ]
  },
  {
   "cell_type": "code",
   "execution_count": 176,
   "metadata": {},
   "outputs": [
    {
     "data": {
      "text/plain": [
       "23.259811804840634"
      ]
     },
     "execution_count": 176,
     "metadata": {},
     "output_type": "execute_result"
    }
   ],
   "source": [
    "np.average([-negtiveloglikelihood_discrete_phi_mu(mu_var,phi_var,T_phi,training[i],T) for i in range(5)])"
   ]
  },
  {
   "cell_type": "code",
   "execution_count": 177,
   "metadata": {},
   "outputs": [
    {
     "data": {
      "text/plain": [
       "21.344946843271224"
      ]
     },
     "execution_count": 177,
     "metadata": {},
     "output_type": "execute_result"
    }
   ],
   "source": [
    "np.average([-negtiveloglikelyhood1(res_ave, training[i], T) for i in range(5)])"
   ]
  },
  {
   "cell_type": "markdown",
   "metadata": {},
   "source": [
    "## 5 training sequence"
   ]
  },
  {
   "cell_type": "code",
   "execution_count": 203,
   "metadata": {},
   "outputs": [
    {
     "data": {
      "text/plain": [
       "22.554757507107684"
      ]
     },
     "execution_count": 203,
     "metadata": {},
     "output_type": "execute_result"
    }
   ],
   "source": [
    "np.average([-negtiveloglikelihood_discrete(u_misd_6,phi_misd_6,training[i],T_phi,T) for i in range(5)])"
   ]
  },
  {
   "cell_type": "code",
   "execution_count": 204,
   "metadata": {},
   "outputs": [
    {
     "data": {
      "text/plain": [
       "22.315886195276935"
      ]
     },
     "execution_count": 204,
     "metadata": {},
     "output_type": "execute_result"
    }
   ],
   "source": [
    "np.average([-negtiveloglikelihood_discrete(u_misd_8,phi_misd_8,training[i],T_phi,T) for i in range(5)])"
   ]
  },
  {
   "cell_type": "code",
   "execution_count": 205,
   "metadata": {},
   "outputs": [
    {
     "data": {
      "text/plain": [
       "20.066126664232183"
      ]
     },
     "execution_count": 205,
     "metadata": {},
     "output_type": "execute_result"
    }
   ],
   "source": [
    "np.average([-negtiveloglikelihood_discrete(u_wh,np.array(phi_wh),training[i],T_phi,T) for i in range(5)])"
   ]
  },
  {
   "cell_type": "code",
   "execution_count": 206,
   "metadata": {},
   "outputs": [
    {
     "data": {
      "text/plain": [
       "23.111313504068242"
      ]
     },
     "execution_count": 206,
     "metadata": {},
     "output_type": "execute_result"
    }
   ],
   "source": [
    "np.average([-negtiveloglikelihood_discrete_phi_mu(mu_var,phi_var,T_phi,training[i],T) for i in range(5)])"
   ]
  },
  {
   "cell_type": "code",
   "execution_count": 207,
   "metadata": {},
   "outputs": [
    {
     "data": {
      "text/plain": [
       "21.315442532923225"
      ]
     },
     "execution_count": 207,
     "metadata": {},
     "output_type": "execute_result"
    }
   ],
   "source": [
    "np.average([-negtiveloglikelyhood1(res_ave, training[i], T) for i in range(5)])"
   ]
  },
  {
   "cell_type": "markdown",
   "metadata": {},
   "source": [
    "## 10 training sequence"
   ]
  },
  {
   "cell_type": "code",
   "execution_count": 124,
   "metadata": {},
   "outputs": [
    {
     "data": {
      "text/plain": [
       "22.34808798786029"
      ]
     },
     "execution_count": 124,
     "metadata": {},
     "output_type": "execute_result"
    }
   ],
   "source": [
    "np.average([-negtiveloglikelihood_discrete(u_misd_6,phi_misd_6,training[i],T_phi,T) for i in range(5)])"
   ]
  },
  {
   "cell_type": "code",
   "execution_count": 125,
   "metadata": {},
   "outputs": [
    {
     "data": {
      "text/plain": [
       "21.832785399438265"
      ]
     },
     "execution_count": 125,
     "metadata": {},
     "output_type": "execute_result"
    }
   ],
   "source": [
    "np.average([-negtiveloglikelihood_discrete(u_misd_8,phi_misd_8,training[i],T_phi,T) for i in range(5)])"
   ]
  },
  {
   "cell_type": "code",
   "execution_count": 126,
   "metadata": {},
   "outputs": [
    {
     "data": {
      "text/plain": [
       "18.85220768036902"
      ]
     },
     "execution_count": 126,
     "metadata": {},
     "output_type": "execute_result"
    }
   ],
   "source": [
    "np.average([-negtiveloglikelihood_discrete(u_wh,np.array(phi_wh),training[i],T_phi,T) for i in range(5)])"
   ]
  },
  {
   "cell_type": "code",
   "execution_count": 127,
   "metadata": {},
   "outputs": [
    {
     "data": {
      "text/plain": [
       "23.801318174182427"
      ]
     },
     "execution_count": 127,
     "metadata": {},
     "output_type": "execute_result"
    }
   ],
   "source": [
    "np.average([-negtiveloglikelihood_discrete_phi_mu(mu_var,phi_var,T_phi,training[i],T) for i in range(5)])"
   ]
  },
  {
   "cell_type": "code",
   "execution_count": 141,
   "metadata": {},
   "outputs": [
    {
     "data": {
      "text/plain": [
       "21.346964396864802"
      ]
     },
     "execution_count": 141,
     "metadata": {},
     "output_type": "execute_result"
    }
   ],
   "source": [
    "np.average([-negtiveloglikelyhood1(res_ave, training[i], T) for i in range(5)])"
   ]
  },
  {
   "cell_type": "markdown",
   "metadata": {},
   "source": [
    "## 15 training sequence"
   ]
  },
  {
   "cell_type": "code",
   "execution_count": 240,
   "metadata": {},
   "outputs": [
    {
     "data": {
      "text/plain": [
       "22.357054440200532"
      ]
     },
     "execution_count": 240,
     "metadata": {},
     "output_type": "execute_result"
    }
   ],
   "source": [
    "np.average([-negtiveloglikelihood_discrete(u_misd_6,phi_misd_6,training[i],T_phi,T) for i in range(5)])"
   ]
  },
  {
   "cell_type": "code",
   "execution_count": 241,
   "metadata": {},
   "outputs": [
    {
     "data": {
      "text/plain": [
       "21.88380795193428"
      ]
     },
     "execution_count": 241,
     "metadata": {},
     "output_type": "execute_result"
    }
   ],
   "source": [
    "np.average([-negtiveloglikelihood_discrete(u_misd_8,phi_misd_8,training[i],T_phi,T) for i in range(5)])"
   ]
  },
  {
   "cell_type": "code",
   "execution_count": 242,
   "metadata": {},
   "outputs": [
    {
     "data": {
      "text/plain": [
       "19.42594192418043"
      ]
     },
     "execution_count": 242,
     "metadata": {},
     "output_type": "execute_result"
    }
   ],
   "source": [
    "np.average([-negtiveloglikelihood_discrete(u_wh,np.array(phi_wh),training[i],T_phi,T) for i in range(5)])"
   ]
  },
  {
   "cell_type": "code",
   "execution_count": 243,
   "metadata": {},
   "outputs": [
    {
     "data": {
      "text/plain": [
       "23.855893809764634"
      ]
     },
     "execution_count": 243,
     "metadata": {},
     "output_type": "execute_result"
    }
   ],
   "source": [
    "np.average([-negtiveloglikelihood_discrete_phi_mu(mu_var,phi_var,T_phi,training[i],T) for i in range(5)])"
   ]
  },
  {
   "cell_type": "code",
   "execution_count": 244,
   "metadata": {},
   "outputs": [
    {
     "data": {
      "text/plain": [
       "21.344061792393337"
      ]
     },
     "execution_count": 244,
     "metadata": {},
     "output_type": "execute_result"
    }
   ],
   "source": [
    "np.average([-negtiveloglikelyhood1(res_ave, training[i], T) for i in range(5)])"
   ]
  },
  {
   "cell_type": "markdown",
   "metadata": {},
   "source": [
    "## 20 training sequence"
   ]
  },
  {
   "cell_type": "code",
   "execution_count": 274,
   "metadata": {},
   "outputs": [
    {
     "data": {
      "text/plain": [
       "22.805842895227183"
      ]
     },
     "execution_count": 274,
     "metadata": {},
     "output_type": "execute_result"
    }
   ],
   "source": [
    "np.average([-negtiveloglikelihood_discrete(u_misd_6,phi_misd_6,training[i],T_phi,T) for i in range(5)])"
   ]
  },
  {
   "cell_type": "code",
   "execution_count": 275,
   "metadata": {},
   "outputs": [
    {
     "data": {
      "text/plain": [
       "22.590217200627784"
      ]
     },
     "execution_count": 275,
     "metadata": {},
     "output_type": "execute_result"
    }
   ],
   "source": [
    "np.average([-negtiveloglikelihood_discrete(u_misd_8,phi_misd_8,training[i],T_phi,T) for i in range(5)])"
   ]
  },
  {
   "cell_type": "code",
   "execution_count": 276,
   "metadata": {},
   "outputs": [
    {
     "data": {
      "text/plain": [
       "20.266391182836724"
      ]
     },
     "execution_count": 276,
     "metadata": {},
     "output_type": "execute_result"
    }
   ],
   "source": [
    "np.average([-negtiveloglikelihood_discrete(u_wh,np.array(phi_wh),training[i],T_phi,T) for i in range(5)])"
   ]
  },
  {
   "cell_type": "code",
   "execution_count": 277,
   "metadata": {},
   "outputs": [
    {
     "data": {
      "text/plain": [
       "24.024121796319832"
      ]
     },
     "execution_count": 277,
     "metadata": {},
     "output_type": "execute_result"
    }
   ],
   "source": [
    "np.average([-negtiveloglikelihood_discrete_phi_mu(mu_var,phi_var,T_phi,training[i],T) for i in range(5)])"
   ]
  },
  {
   "cell_type": "code",
   "execution_count": 278,
   "metadata": {},
   "outputs": [
    {
     "data": {
      "text/plain": [
       "21.170239257501827"
      ]
     },
     "execution_count": 278,
     "metadata": {},
     "output_type": "execute_result"
    }
   ],
   "source": [
    "np.average([-negtiveloglikelyhood1(res_ave, training[i], T) for i in range(5)])"
   ]
  },
  {
   "cell_type": "code",
   "execution_count": 280,
   "metadata": {},
   "outputs": [],
   "source": [
    "num_training=[np.average([len(training[i]) for i in range(30)])*1,np.average([len(training[i]) for i in range(30)])*5,np.average([len(training[i]) for i in range(30)])*10,np.average([len(training[i]) for i in range(30)])*15,np.average([len(training[i]) for i in range(30)])*20]"
   ]
  },
  {
   "cell_type": "code",
   "execution_count": 281,
   "metadata": {},
   "outputs": [],
   "source": [
    "misd_6_logl=[20.18,22.55,22.34,22.35,22.80]"
   ]
  },
  {
   "cell_type": "code",
   "execution_count": 282,
   "metadata": {},
   "outputs": [],
   "source": [
    "misd_8_logl=[18.95,22.31,21.83,21.88,22.59]"
   ]
  },
  {
   "cell_type": "code",
   "execution_count": 283,
   "metadata": {},
   "outputs": [],
   "source": [
    "ph_logl=[21.42,20.06,18.85,19.42,20.26]"
   ]
  },
  {
   "cell_type": "code",
   "execution_count": 284,
   "metadata": {},
   "outputs": [],
   "source": [
    "var_logl=[23.25,23.11,23.81,23.85,24.02]"
   ]
  },
  {
   "cell_type": "code",
   "execution_count": 285,
   "metadata": {},
   "outputs": [],
   "source": [
    "wh_logl=[21.34,21.31,21.34,21.34,21.17]"
   ]
  },
  {
   "cell_type": "code",
   "execution_count": 298,
   "metadata": {},
   "outputs": [],
   "source": [
    "gc_logl=[16.92,13.26,17.53,15.09,14.12]"
   ]
  },
  {
   "cell_type": "code",
   "execution_count": 314,
   "metadata": {},
   "outputs": [],
   "source": [
    "rkhs_logl=[-86.45,-10.15,2.60,7.20,6.13]"
   ]
  },
  {
   "cell_type": "code",
   "execution_count": 323,
   "metadata": {},
   "outputs": [
    {
     "data": {
      "image/png": "[encoded data removed]",
      "text/plain": [
       "<Figure size 360x288 with 1 Axes>"
      ]
     },
     "metadata": {
      "needs_background": "light"
     },
     "output_type": "display_data"
    }
   ],
   "source": [
    "plt.figure(1,figsize=(5,4))\n",
    "axs=plt.subplot(111)\n",
    "axs.scatter(num_training,gc_logl,s=30, marker='o',label='GC')\n",
    "axs.plot(num_training,gc_logl)\n",
    "axs.scatter(num_training,rkhs_logl,s=30, marker='s',label='RKHSC')\n",
    "axs.plot(num_training,rkhs_logl)\n",
    "axs.scatter(num_training,misd_6_logl,s=30, marker='*',label='MISD-6')\n",
    "axs.plot(num_training,misd_6_logl)\n",
    "axs.scatter(num_training,misd_8_logl,s=30, marker='h',label='MISD-8')\n",
    "axs.plot(num_training,misd_8_logl)\n",
    "axs.scatter(num_training,ph_logl,s=30, marker='d',label='PH')\n",
    "axs.plot(num_training,ph_logl)\n",
    "axs.scatter(num_training,wh_logl,s=30, marker='x',label='WH')\n",
    "axs.plot(num_training,wh_logl)\n",
    "axs.scatter(num_training,var_logl,s=30, marker='^',label='EMV')\n",
    "axs.plot(num_training,var_logl)\n",
    "plt.xlabel('# of training data',fontsize=12)\n",
    "plt.ylabel('LogLik',fontsize=12)\n",
    "plt.ylim(-10,25)\n",
    "plt.legend(fontsize=12)\n",
    "\n",
    "plt.savefig('c:/Users/zho045/Desktop/logl_taxi',bbox_inches = 'tight')\n",
    "plt.show()"
   ]
  },
  {
   "cell_type": "code",
   "execution_count": 388,
   "metadata": {},
   "outputs": [],
   "source": [
    "lamda_rkhs=np.array([0.96277155, 1.10497925, 1.25163933, 1.40002668, 1.54691506,\n",
    "       1.68871544, 1.82169387, 1.9422589 , 2.04729515, 2.13450733,\n",
    "       2.20273086, 2.2521617 , 2.28446252, 2.30271358, 2.31119473,\n",
    "       2.3150072 , 2.31956762, 2.33002734, 2.35068553, 2.38446994,\n",
    "       2.43255524, 2.49417333, 2.56664683, 2.64564783, 2.72565441,\n",
    "       2.80055105, 2.86430002, 2.91160251, 2.93847058, 2.94264445,\n",
    "       2.92381076, 2.88360404, 2.8254005 , 2.75393777, 2.67481268,\n",
    "       2.59392023, 2.5168997 , 2.44864879, 2.39295568, 2.35228296,\n",
    "       2.32771898, 2.31909325, 2.325234  , 2.34433042, 2.37434992,\n",
    "       2.41345394, 2.46035477, 2.51456227, 2.57648208, 2.647346  ,\n",
    "       2.72897865, 2.82342812, 2.93251063, 3.05733387, 3.19786997,\n",
    "       3.35264378, 3.51858632, 3.69107934, 3.86418853, 4.03105613,\n",
    "       4.18440243, 4.31707452, 4.42258096, 4.49556153, 4.5321588 ,\n",
    "       4.53027799, 4.48973796, 4.41232536, 4.30176409, 4.16360406,\n",
    "       4.00502145, 3.83451138, 3.66145056, 3.49551487, 3.34595776,\n",
    "       3.2207858 , 3.12590353, 3.0643307 , 3.03561332, 3.03554786,\n",
    "       3.05631121, 3.08704016, 3.11483869, 3.12612095, 3.1081349 ,\n",
    "       3.05046956, 2.94633646, 2.79343811, 2.59429021, 2.35594243,\n",
    "       2.08913116, 1.80698223, 1.52344707, 1.25169243, 1.0026642 ,\n",
    "       0.78401298, 0.59950816, 0.44898964, 0.32882641, 0.2327807 ])"
   ]
  },
  {
   "cell_type": "code",
   "execution_count": 389,
   "metadata": {},
   "outputs": [],
   "source": [
    "def time_rescaling(points_hawkes,mu,phi,T_phi): # mu is constant phi is piecewise\n",
    "    N=len(points_hawkes)\n",
    "    delta_tau=T_phi/len(phi)\n",
    "    points_rescale=[]\n",
    "    for i in range(N):\n",
    "        time_rescale=mu*points_hawkes[i]\n",
    "        for j in range(i):\n",
    "            tij=points_hawkes[i]-points_hawkes[j]\n",
    "            if tij>=T_phi: \n",
    "                time_rescale+=sum(phi*delta_tau)\n",
    "            else: \n",
    "                time_rescale+=sum(phi[:int(tij/delta_tau)]*delta_tau)\n",
    "                time_rescale+=phi[int(tij/delta_tau)]*delta_tau*(tij/delta_tau-int(tij/delta_tau))\n",
    "        points_rescale.append(time_rescale)\n",
    "    return points_rescale"
   ]
  },
  {
   "cell_type": "code",
   "execution_count": 390,
   "metadata": {},
   "outputs": [],
   "source": [
    "def time_rescaling_exp(points_hawkes,parameters):\n",
    "    mu=parameters[0]\n",
    "    alpha=parameters[1]\n",
    "    beta=parameters[2]\n",
    "    N=len(points_hawkes)\n",
    "    points_rescale=[]\n",
    "    for i in range(N):\n",
    "        time_rescale=mu*points_hawkes[i]\n",
    "        for j in range(i):\n",
    "            tij=points_hawkes[i]-points_hawkes[j]\n",
    "            time_rescale+=alpha/beta*(1-np.exp(-beta*tij))\n",
    "        points_rescale.append(time_rescale)\n",
    "    return points_rescale"
   ]
  },
  {
   "cell_type": "code",
   "execution_count": 391,
   "metadata": {},
   "outputs": [],
   "source": [
    "def time_rescaling_mu(points_hawkes,mu,phi,T_phi,T): ## mu is changing over time\n",
    "    N=len(points_hawkes)\n",
    "    delta_tau=T_phi/len(phi)\n",
    "    delta_t=T/len(mu)\n",
    "    points_rescale=[]\n",
    "    for i in range(N):\n",
    "        time_rescale=0\n",
    "        time_rescale+=sum(mu[:int(points_hawkes[i]/delta_t)]*delta_t)\n",
    "        time_rescale+=mu[int(points_hawkes[i]/delta_t)]*delta_t*(points_hawkes[i]/delta_t-int(points_hawkes[i]/delta_t))\n",
    "        for j in range(i):\n",
    "            tij=points_hawkes[i]-points_hawkes[j]\n",
    "            if tij>=T_phi: \n",
    "                time_rescale+=sum(phi*delta_tau)\n",
    "            else: \n",
    "                time_rescale+=sum(phi[:int(tij/delta_tau)]*delta_tau)\n",
    "                time_rescale+=phi[int(tij/delta_tau)]*delta_tau*(tij/delta_tau-int(tij/delta_tau))\n",
    "        points_rescale.append(time_rescale)\n",
    "    return points_rescale"
   ]
  },
  {
   "cell_type": "code",
   "execution_count": 392,
   "metadata": {},
   "outputs": [],
   "source": [
    "def time_rescaling_inhomopoisson(points_poisson, lamda, T):\n",
    "    N=len(points_poisson)\n",
    "    delta_t=T/len(lamda)\n",
    "    points_rescale=[]\n",
    "    for i in range(N):\n",
    "        time_rescale=0\n",
    "        time_rescale+=sum(lamda[:int(points_poisson[i]/delta_t)]*delta_t)\n",
    "        time_rescale+=lamda[int(points_poisson[i]/delta_t)]*delta_t*(points_poisson[i]/delta_t-int(points_poisson[i]/delta_t))\n",
    "        points_rescale.append(time_rescale)\n",
    "    return points_rescale"
   ]
  },
  {
   "cell_type": "code",
   "execution_count": 393,
   "metadata": {},
   "outputs": [],
   "source": [
    "points_rescale_MISD_6=time_rescaling(np.sort(training[0]),u_misd_6,phi_misd_6,T_phi)"
   ]
  },
  {
   "cell_type": "code",
   "execution_count": 394,
   "metadata": {},
   "outputs": [],
   "source": [
    "points_rescale_MISD_6=1-np.exp(-np.array(points_rescale_MISD_6)+np.array([points_rescale_MISD_6[0]]+points_rescale_MISD_6[:-1]))"
   ]
  },
  {
   "cell_type": "code",
   "execution_count": 395,
   "metadata": {},
   "outputs": [],
   "source": [
    "points_rescale_ph=time_rescaling_exp(np.sort(training[0]),res_ave)"
   ]
  },
  {
   "cell_type": "code",
   "execution_count": 396,
   "metadata": {},
   "outputs": [],
   "source": [
    "points_rescale_ph=1-np.exp(-np.array(points_rescale_ph)+np.array([points_rescale_ph[0]]+points_rescale_ph[:-1]))"
   ]
  },
  {
   "cell_type": "code",
   "execution_count": 397,
   "metadata": {},
   "outputs": [],
   "source": [
    "points_rescale_wh=time_rescaling(np.sort(training[0]),u_wh,phi_wh,T_phi)"
   ]
  },
  {
   "cell_type": "code",
   "execution_count": 398,
   "metadata": {},
   "outputs": [],
   "source": [
    "points_rescale_wh=1-np.exp(-np.array(points_rescale_wh)+np.array([points_rescale_wh[0]]+points_rescale_wh[:-1]))"
   ]
  },
  {
   "cell_type": "code",
   "execution_count": 399,
   "metadata": {},
   "outputs": [],
   "source": [
    "points_rescale_var=time_rescaling_mu(np.sort(training[0]),mu_var,phi_var,T_phi,T)"
   ]
  },
  {
   "cell_type": "code",
   "execution_count": 400,
   "metadata": {},
   "outputs": [],
   "source": [
    "points_rescale_var=1-np.exp(-np.array(points_rescale_var)+np.array([points_rescale_var[0]]+points_rescale_var[:-1]))"
   ]
  },
  {
   "cell_type": "code",
   "execution_count": 401,
   "metadata": {},
   "outputs": [],
   "source": [
    "points_rescale_rkhs=time_rescaling_inhomopoisson(np.sort(training[0]),lamda_rkhs,T)"
   ]
  },
  {
   "cell_type": "code",
   "execution_count": 402,
   "metadata": {},
   "outputs": [],
   "source": [
    "points_rescale_rkhs=1-np.exp(-np.array(points_rescale_rkhs)+np.array([points_rescale_rkhs[0]]+points_rescale_rkhs[:-1]))"
   ]
  },
  {
   "cell_type": "code",
   "execution_count": 405,
   "metadata": {},
   "outputs": [
    {
     "data": {
      "image/png": "[encoded data removed]",
      "text/plain": [
       "<Figure size 360x360 with 1 Axes>"
      ]
     },
     "metadata": {
      "needs_background": "light"
     },
     "output_type": "display_data"
    }
   ],
   "source": [
    "plt.figure(1,figsize=(5,5))\n",
    "a = np.random.uniform(0,1,len(points_rescale_MISD_6))\n",
    "percs = np.linspace(0,100,201)\n",
    "qn_a = np.percentile(a, percs)\n",
    "# qn_misd_6 = np.percentile(points_rescale_MISD_6, percs)\n",
    "# qn_misd_8 = np.percentile(points_rescale_MISD_8, percs)\n",
    "# qn_ph = np.percentile(points_rescale_ph, percs)\n",
    "qn_wh = np.percentile(points_rescale_wh, percs)\n",
    "qn_var = np.percentile(points_rescale_var, percs)\n",
    "qn_rkhs = np.percentile(points_rescale_rkhs, percs)\n",
    "# plt.plot(qn_a,qn_misd_6, ls='-', marker=\"o\",markersize=3,label='MISD-6')\n",
    "# plt.plot(qn_a,qn_misd_8, ls='-', marker=\"o\",markersize=3,label='MISD-8')\n",
    "# plt.plot(qn_a,qn_ph, ls='-', marker=\"o\",markersize=3,label='PH')\n",
    "plt.plot(qn_a,qn_wh, ls='-', marker=\"o\",markersize=3,label='WH')\n",
    "plt.plot(qn_a,qn_var, ls='-', marker=\"^\",markersize=3,label='EMV')\n",
    "plt.plot(qn_a,qn_rkhs, ls='-', marker=\"*\",markersize=3,label='GC')\n",
    "# plt.plot(qn_a,qn_gc, ls='-', marker=\"o\",markersize=3,label='GC')\n",
    "\n",
    "x = np.linspace(qn_a.min(),qn_a.max())\n",
    "plt.plot(x,x, color=\"k\", ls=\"--\")\n",
    "plt.legend()\n",
    "plt.savefig('c:/Users/zho045/Desktop/QQ_pickup',bbox_inches = 'tight')\n",
    "plt.show()"
   ]
  },
  {
   "cell_type": "markdown",
   "metadata": {},
   "source": [
    "## prediction point using history"
   ]
  },
  {
   "cell_type": "code",
   "execution_count": 408,
   "metadata": {},
   "outputs": [],
   "source": [
    "def intensity(t,history,parameters):    #left continue\n",
    "    mu=parameters[0]\n",
    "    alpha=parameters[1]\n",
    "    beta=parameters[2]\n",
    "    intensity=0\n",
    "    for i in range(len(history)):\n",
    "        if history[i]>=t:\n",
    "            break\n",
    "        intensity+=alpha*np.exp(-beta*(t-history[i]))\n",
    "    return mu+intensity"
   ]
  },
  {
   "cell_type": "code",
   "execution_count": 409,
   "metadata": {},
   "outputs": [],
   "source": [
    "def hawkes_prediction_next(history,parameters,num): ## parametric Hawkes\n",
    "    t_i_1_list=[]\n",
    "    intensity_sup=intensity(history[-1],history,parameters)+parameters[1]\n",
    "    while(len(t_i_1_list)<num):\n",
    "        r=expon.rvs(scale=1/intensity_sup) #scale=1/lamda\n",
    "        t_i_1=history[-1]+r\n",
    "        D=uniform.rvs(loc=0,scale=1)\n",
    "        intensity_t_i_1=intensity(t_i_1,history,parameters)\n",
    "        assert intensity_t_i_1<=intensity_sup, 'sup is not sup'\n",
    "        if D*intensity_sup<=intensity_t_i_1:\n",
    "            t_i_1_list.append(t_i_1)\n",
    "    return np.average(t_i_1_list)"
   ]
  },
  {
   "cell_type": "code",
   "execution_count": 410,
   "metadata": {},
   "outputs": [],
   "source": [
    "def intensity_discrete(t,history,u,g_mean,T_phi):    #left continue, the intensity is a gaussian dist\n",
    "    mu=u\n",
    "    N=len(g_mean)\n",
    "    intensity_mean=0\n",
    "    for i in range(len(history)):\n",
    "        if history[i]>=t:\n",
    "            break\n",
    "        delta_t=t-history[i]\n",
    "        if delta_t<T_phi:\n",
    "            intensity_mean+=g_mean[int(delta_t*N/T_phi)]\n",
    "    return mu+intensity_mean"
   ]
  },
  {
   "cell_type": "code",
   "execution_count": 411,
   "metadata": {},
   "outputs": [],
   "source": [
    "def hawkes_prediction_next_discre_phi(history,mu,phi,T_phi,num):\n",
    "    t_i_1_list=[]\n",
    "    jump=max(phi)*30\n",
    "    intensity_sup=intensity_discrete(history[-1],history,mu,phi,T_phi)+jump\n",
    "    while(len(t_i_1_list)<num):\n",
    "        r=expon.rvs(scale=1/intensity_sup) #scale=1/lamda\n",
    "        t_i_1=history[-1]+r\n",
    "        D=uniform.rvs(loc=0,scale=1)\n",
    "        intensity_t_i_1=intensity_discrete(t_i_1,history,mu,phi,T_phi)\n",
    "        assert intensity_t_i_1<=intensity_sup, print(intensity_t_i_1,intensity_sup)\n",
    "        if D*intensity_sup<=intensity_t_i_1:\n",
    "            t_i_1_list.append(t_i_1)\n",
    "    return np.average(t_i_1_list)"
   ]
  },
  {
   "cell_type": "code",
   "execution_count": 412,
   "metadata": {},
   "outputs": [],
   "source": [
    "def intensity_discrete_phi_mu(t,history,u,g_mean,g_range,T):    #left continue\n",
    "    mu=u\n",
    "    N=len(g_mean)\n",
    "    M=len(mu)\n",
    "    intensity_mean=0\n",
    "    for i in range(len(history)):\n",
    "        if history[i]>=t:\n",
    "            break\n",
    "        delta_t=t-history[i]\n",
    "        if delta_t<g_range:\n",
    "            intensity_mean+=g_mean[int(delta_t*N/g_range)]\n",
    "    result=mu[int(t/T*M)]+intensity_mean\n",
    "    return result"
   ]
  },
  {
   "cell_type": "code",
   "execution_count": 413,
   "metadata": {},
   "outputs": [],
   "source": [
    "def hawkes_prediction_next_discrete_phi_mu(history,mu,phi,T_phi,T,num):\n",
    "    t_i_1_list=[]\n",
    "    jump0=max(mu)-mu[int(history[-1]/(T/len(mu)))]\n",
    "    jump1=max(phi)*20\n",
    "    intensity_sup=intensity_discrete_phi_mu(history[-1],history,mu,phi,T_phi,T)+jump0+jump1\n",
    "    while(len(t_i_1_list)<num):\n",
    "        r=expon.rvs(scale=1/intensity_sup)\n",
    "        t_i_1=history[-1]+r\n",
    "        D=uniform.rvs(loc=0,scale=1)\n",
    "        intensity_t_i_1=intensity_discrete_phi_mu(t_i_1,history,mu,phi,T_phi,T)\n",
    "        assert intensity_t_i_1<=intensity_sup, 'sup is not sup'\n",
    "        if D*intensity_sup<=intensity_t_i_1:\n",
    "            t_i_1_list.append(t_i_1)\n",
    "    return np.average(t_i_1_list)"
   ]
  },
  {
   "cell_type": "code",
   "execution_count": 414,
   "metadata": {},
   "outputs": [],
   "source": [
    "def poisson_prediction_next(history,lamda,T,num):\n",
    "    t_i_1_list=[]\n",
    "    intensity_sup=max(lamda[int(history[-1]/(T/len(lamda))):])\n",
    "    while(len(t_i_1_list)<num):\n",
    "        t_i_1=history[-1]\n",
    "        while(1):\n",
    "            r=expon.rvs(scale=1/intensity_sup)\n",
    "            t_i_1+=r\n",
    "            intensity_t_i_1=lamda[int(t_i_1/(T/len(lamda)))]\n",
    "            assert intensity_t_i_1<=intensity_sup, 'sup is not sup'\n",
    "            D=uniform.rvs(loc=0,scale=1)\n",
    "            if D*intensity_sup<=intensity_t_i_1:\n",
    "                t_i_1_list.append(t_i_1)\n",
    "                break\n",
    "    return np.average(t_i_1_list)"
   ]
  },
  {
   "cell_type": "code",
   "execution_count": 420,
   "metadata": {},
   "outputs": [],
   "source": [
    "lamda_rkhs=np.array([0.96277155, 1.10497925, 1.25163933, 1.40002668, 1.54691506,\n",
    "       1.68871544, 1.82169387, 1.9422589 , 2.04729515, 2.13450733,\n",
    "       2.20273086, 2.2521617 , 2.28446252, 2.30271358, 2.31119473,\n",
    "       2.3150072 , 2.31956762, 2.33002734, 2.35068553, 2.38446994,\n",
    "       2.43255524, 2.49417333, 2.56664683, 2.64564783, 2.72565441,\n",
    "       2.80055105, 2.86430002, 2.91160251, 2.93847058, 2.94264445,\n",
    "       2.92381076, 2.88360404, 2.8254005 , 2.75393777, 2.67481268,\n",
    "       2.59392023, 2.5168997 , 2.44864879, 2.39295568, 2.35228296,\n",
    "       2.32771898, 2.31909325, 2.325234  , 2.34433042, 2.37434992,\n",
    "       2.41345394, 2.46035477, 2.51456227, 2.57648208, 2.647346  ,\n",
    "       2.72897865, 2.82342812, 2.93251063, 3.05733387, 3.19786997,\n",
    "       3.35264378, 3.51858632, 3.69107934, 3.86418853, 4.03105613,\n",
    "       4.18440243, 4.31707452, 4.42258096, 4.49556153, 4.5321588 ,\n",
    "       4.53027799, 4.48973796, 4.41232536, 4.30176409, 4.16360406,\n",
    "       4.00502145, 3.83451138, 3.66145056, 3.49551487, 3.34595776,\n",
    "       3.2207858 , 3.12590353, 3.0643307 , 3.03561332, 3.03554786,\n",
    "       3.05631121, 3.08704016, 3.11483869, 3.12612095, 3.1081349 ,\n",
    "       3.05046956, 2.94633646, 2.79343811, 2.59429021, 2.35594243,\n",
    "       2.08913116, 1.80698223, 1.52344707, 1.25169243, 1.0026642 ,\n",
    "       0.78401298, 0.59950816, 0.44898964, 0.32882641, 0.2327807 ])"
   ]
  },
  {
   "cell_type": "code",
   "execution_count": 421,
   "metadata": {},
   "outputs": [],
   "source": [
    "lamda_gc=np.array([1.410974  , 1.45928756, 1.51238729, 1.57048711, 1.63334792,\n",
    "       1.69999599, 1.76853657, 1.83617822, 1.89955111, 1.95530993,\n",
    "       2.00087884, 2.03508884, 2.05845647, 2.07298682, 2.08158484,\n",
    "       2.08731097, 2.09273951, 2.09958374, 2.10861252, 2.11977479,\n",
    "       2.13240694, 2.14542078, 2.15742492, 2.16678378, 2.17165326,\n",
    "       2.17005683, 2.16007941, 2.14023394, 2.10997279, 2.07019632,\n",
    "       2.02352978, 1.97417937, 1.92734147, 1.88833117, 1.86169375,\n",
    "       1.85052068, 1.85607366, 1.87772309, 1.9131756 , 1.95896524,\n",
    "       2.011152  , 2.06608999, 2.12104749, 2.17446971, 2.22580762,\n",
    "       2.27503244, 2.32210009, 2.36664672, 2.40808203, 2.44605628,\n",
    "       2.48108878, 2.51504424, 2.55118792, 2.59372474, 2.64693609,\n",
    "       2.7141621 , 2.79690022, 2.89424472, 3.00282692, 3.11732915,\n",
    "       3.23149633, 3.33936467, 3.4362714 , 3.51924637, 3.58665412,\n",
    "       3.63732462, 3.66967014, 3.68129651, 3.66938035, 3.63170636,\n",
    "       3.56790221, 3.48025571, 3.37366385, 3.25468487, 3.13009763,\n",
    "       3.00556538, 2.88488198, 2.76997578, 2.66154101, 2.55996891,\n",
    "       2.46619057, 2.38211836, 2.31055402, 2.254644  , 2.21710561,\n",
    "       2.19946434, 2.20146689, 2.22075096, 2.25282008, 2.2913737 ,\n",
    "       2.32901768, 2.35828257, 2.37273729, 2.36789922, 2.34169252,\n",
    "       2.29438455, 2.22812792, 2.14633728, 2.05310131, 1.95272594])"
   ]
  },
  {
   "cell_type": "markdown",
   "metadata": {},
   "source": [
    "## PH prediction"
   ]
  },
  {
   "cell_type": "code",
   "execution_count": 437,
   "metadata": {},
   "outputs": [
    {
     "data": {
      "text/plain": [
       "451"
      ]
     },
     "execution_count": 437,
     "metadata": {},
     "output_type": "execute_result"
    }
   ],
   "source": [
    "len(training[0])"
   ]
  },
  {
   "cell_type": "code",
   "execution_count": 561,
   "metadata": {},
   "outputs": [],
   "source": [
    "peerr_ph_ave=[]\n",
    "for i in range(5):\n",
    "    preerr_ph=[]\n",
    "    for j in range(200):\n",
    "        preerr_ph.append((training[i][70+j]-hawkes_prediction_next(training[i][:70+j],res_ave,400))**2)\n",
    "    peerr_ph_ave.append((sum(np.array(preerr_ph)<0.06))/200)"
   ]
  },
  {
   "cell_type": "code",
   "execution_count": 562,
   "metadata": {},
   "outputs": [
    {
     "data": {
      "text/plain": [
       "0.671"
      ]
     },
     "execution_count": 562,
     "metadata": {},
     "output_type": "execute_result"
    }
   ],
   "source": [
    "np.average(peerr_ph_ave)"
   ]
  },
  {
   "cell_type": "markdown",
   "metadata": {},
   "source": [
    "## GC prediction"
   ]
  },
  {
   "cell_type": "code",
   "execution_count": 530,
   "metadata": {},
   "outputs": [],
   "source": [
    "preerr_gc_ave=[]\n",
    "for i in range(5):\n",
    "    preerr_gc=[]\n",
    "    for j in range(200):\n",
    "        preerr_gc.append((training[i][70+j]-poisson_prediction_next(training[i][:70+j],lamda_gc,T,400))**2)\n",
    "    preerr_gc_ave.append(sum(np.array(preerr_gc)<0.06)/200)"
   ]
  },
  {
   "cell_type": "code",
   "execution_count": 531,
   "metadata": {},
   "outputs": [
    {
     "data": {
      "text/plain": [
       "0.538"
      ]
     },
     "execution_count": 531,
     "metadata": {},
     "output_type": "execute_result"
    }
   ],
   "source": [
    "np.average(preerr_gc_ave)"
   ]
  },
  {
   "cell_type": "markdown",
   "metadata": {},
   "source": [
    "## RKHS prediction"
   ]
  },
  {
   "cell_type": "code",
   "execution_count": 556,
   "metadata": {},
   "outputs": [],
   "source": [
    "preerr_rkhs_ave=[]\n",
    "for i in range(5):\n",
    "    preerr_rkhs=[]\n",
    "    for j in range(200):\n",
    "        preerr_rkhs.append((training[i][70+j]-poisson_prediction_next(training[i][:70+j],lamda_rkhs,T,400))**2)\n",
    "    preerr_rkhs_ave.append(sum(np.array(preerr_rkhs)<0.06)/200)"
   ]
  },
  {
   "cell_type": "code",
   "execution_count": 557,
   "metadata": {},
   "outputs": [
    {
     "data": {
      "text/plain": [
       "0.64"
      ]
     },
     "execution_count": 557,
     "metadata": {},
     "output_type": "execute_result"
    }
   ],
   "source": [
    "np.average(preerr_rkhs_ave)"
   ]
  },
  {
   "cell_type": "markdown",
   "metadata": {},
   "source": [
    "## MISD-6 prediction"
   ]
  },
  {
   "cell_type": "code",
   "execution_count": 526,
   "metadata": {},
   "outputs": [],
   "source": [
    "preerr_misd_6_ave=[]\n",
    "for i in range(5):\n",
    "    preerr_misd_6=[]\n",
    "    for j in range(200):\n",
    "        preerr_misd_6.append((training[i][70+j]-hawkes_prediction_next_discre_phi(training[i][:70+j],u_misd_6,phi_misd_6,T_phi,400))**2)\n",
    "    preerr_misd_6_ave.append(sum(np.array(preerr_misd_6)<0.06)/200)"
   ]
  },
  {
   "cell_type": "code",
   "execution_count": 527,
   "metadata": {},
   "outputs": [
    {
     "data": {
      "text/plain": [
       "0.683"
      ]
     },
     "execution_count": 527,
     "metadata": {},
     "output_type": "execute_result"
    }
   ],
   "source": [
    "np.average(preerr_misd_6_ave)"
   ]
  },
  {
   "cell_type": "markdown",
   "metadata": {},
   "source": [
    "## MISD-8 prediction"
   ]
  },
  {
   "cell_type": "code",
   "execution_count": 507,
   "metadata": {},
   "outputs": [],
   "source": [
    "preerr_misd_8_ave=[]\n",
    "for i in range(5):\n",
    "    preerr_misd_8=[]\n",
    "    for j in range(200):\n",
    "        preerr_misd_8.append((training[i][70+j]-hawkes_prediction_next_discre_phi(training[i][:70+j],u_misd_8,phi_misd_8,T_phi,400))**2)\n",
    "    preerr_misd_8_ave.append(sum(np.array(preerr_misd_8)<0.06)/200)"
   ]
  },
  {
   "cell_type": "code",
   "execution_count": 508,
   "metadata": {},
   "outputs": [
    {
     "data": {
      "text/plain": [
       "0.679"
      ]
     },
     "execution_count": 508,
     "metadata": {},
     "output_type": "execute_result"
    }
   ],
   "source": [
    "np.average(preerr_misd_8_ave)"
   ]
  },
  {
   "cell_type": "markdown",
   "metadata": {},
   "source": [
    "## WH prediction"
   ]
  },
  {
   "cell_type": "code",
   "execution_count": 549,
   "metadata": {},
   "outputs": [],
   "source": [
    "preerr_wh_ave=[]\n",
    "for i in range(5):\n",
    "    preerr_wh=[]\n",
    "    for j in range(200):\n",
    "        preerr_wh.append((training[i][70+j]-hawkes_prediction_next_discre_phi(training[i][:70+j],u_wh,phi_wh,T_phi,400))**2)\n",
    "    preerr_wh_ave.append(sum(np.array(preerr_wh)<0.06)/200)"
   ]
  },
  {
   "cell_type": "code",
   "execution_count": 550,
   "metadata": {},
   "outputs": [
    {
     "data": {
      "text/plain": [
       "0.675"
      ]
     },
     "execution_count": 550,
     "metadata": {},
     "output_type": "execute_result"
    }
   ],
   "source": [
    "np.average(preerr_wh_ave)"
   ]
  },
  {
   "cell_type": "markdown",
   "metadata": {},
   "source": [
    "## EMV prediction"
   ]
  },
  {
   "cell_type": "code",
   "execution_count": 509,
   "metadata": {},
   "outputs": [],
   "source": [
    "preerr_emv_ave=[]\n",
    "for i in range(5):\n",
    "    preerr_emv=[]\n",
    "    for j in range(200):\n",
    "        preerr_emv.append((training[i][70+j]-hawkes_prediction_next_discrete_phi_mu(training[i][:70+j],mu_var,phi_var,T_phi,T,400))**2)\n",
    "    preerr_emv_ave.append(sum(np.array(preerr_emv)<0.06)/200)"
   ]
  },
  {
   "cell_type": "code",
   "execution_count": 510,
   "metadata": {},
   "outputs": [
    {
     "data": {
      "text/plain": [
       "0.704"
      ]
     },
     "execution_count": 510,
     "metadata": {},
     "output_type": "execute_result"
    }
   ],
   "source": [
    "np.average(preerr_emv_ave)"
   ]
  },
  {
   "cell_type": "code",
   "execution_count": null,
   "metadata": {},
   "outputs": [],
   "source": []
  }
 ],
 "metadata": {
  "kernelspec": {
   "display_name": "Python 3",
   "language": "python",
   "name": "python3"
  },
  "language_info": {
   "codemirror_mode": {
    "name": "ipython",
    "version": 3
   },
   "file_extension": ".py",
   "mimetype": "text/x-python",
   "name": "python",
   "nbconvert_exporter": "python",
   "pygments_lexer": "ipython3",
   "version": "3.6.7"
  }
 },
 "nbformat": 4,
 "nbformat_minor": 2
}
