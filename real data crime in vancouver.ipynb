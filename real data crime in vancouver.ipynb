{
 "cells": [
  {
   "cell_type": "code",
   "execution_count": 1,
   "metadata": {
    "collapsed": true
   },
   "outputs": [],
   "source": [
    "from scipy.stats import expon\n",
    "from scipy.stats import norm\n",
    "from scipy.stats import uniform\n",
    "from scipy.stats import truncnorm\n",
    "import numpy as np\n",
    "import matplotlib.pyplot as plt\n",
    "from scipy import optimize\n",
    "from numpy.polynomial import legendre\n",
    "import pandas as pd\n",
    "from datetime import datetime\n",
    "from scipy.stats import multivariate_normal\n",
    "from scipy.special import erf\n",
    "from scipy.special import hyp1f1\n",
    "from scipy.linalg import eigh\n",
    "from random import randint\n",
    "from scipy.optimize import fsolve\n",
    "from scipy.optimize import root\n",
    "from numpy.polynomial import legendre"
   ]
  },
  {
   "cell_type": "code",
   "execution_count": 2,
   "metadata": {
    "collapsed": true
   },
   "outputs": [],
   "source": [
    "rawdata = pd.read_csv(\"./crime-in-vancouver/crime.csv\")"
   ]
  },
  {
   "cell_type": "code",
   "execution_count": 31,
   "metadata": {
    "collapsed": true
   },
   "outputs": [],
   "source": [
    "def training_data_extraction(year, N):\n",
    "    training_data=[]\n",
    "    for i in range(N):\n",
    "        df_16=rawdata[rawdata['YEAR']==(year-i)]\n",
    "        \n",
    "        origin=pd.to_datetime(str(year-i)).value/10**9/86400/3   #convert to 3 days\n",
    "\n",
    "        df_16=df_16[df_16['TYPE']=='Theft of Vehicle']\n",
    "\n",
    "        df_16=df_16.loc[:,['YEAR','MONTH','DAY','HOUR','MINUTE']]\n",
    "\n",
    "        df_16['dt']=pd.to_datetime(df_16)\n",
    "\n",
    "        df_16['dt']=df_16['dt'].astype(np.int64)\n",
    "\n",
    "        df_16=df_16.sort_values(['dt'])\n",
    "\n",
    "        training_data_16=df_16['dt'].values/(10**9) # convert to second\n",
    "\n",
    "        training_data_16=training_data_16/86400   # convert to day\n",
    "        \n",
    "        training_data_16=training_data_16/3   # convert to 3 days\n",
    "\n",
    "        training_data_16=training_data_16-origin\n",
    "        \n",
    "        training_data_16=np.unique(training_data_16)\n",
    "        training_data.append(training_data_16)\n",
    "    return np.array(training_data)"
   ]
  },
  {
   "cell_type": "code",
   "execution_count": 32,
   "metadata": {
    "collapsed": true
   },
   "outputs": [],
   "source": [
    "training=training_data_extraction(2016,4)"
   ]
  },
  {
   "cell_type": "code",
   "execution_count": 39,
   "metadata": {
    "collapsed": true
   },
   "outputs": [],
   "source": [
    "T=122"
   ]
  },
  {
   "cell_type": "code",
   "execution_count": 40,
   "metadata": {
    "collapsed": true
   },
   "outputs": [],
   "source": [
    "def expo_quad_kernel(theta0,theta1,xn,xm):\n",
    "    return theta0*np.exp(-theta1/2*np.sum((xn - xm)**2))"
   ]
  },
  {
   "cell_type": "code",
   "execution_count": 41,
   "metadata": {
    "collapsed": true
   },
   "outputs": [],
   "source": [
    "def GP_regression(xi,yi,theta0,theta1,noise_var,rang,num_points):\n",
    "    N=len(xi)\n",
    "    cov_K=np.zeros((N,N))\n",
    "    for i in range(N):\n",
    "        for j in range(i,N):\n",
    "            cov_K[i][j]=expo_quad_kernel(theta0,theta1,xi[i],xi[j])\n",
    "            cov_K[j][i]=cov_K[i][j]\n",
    "    min_eig=np.min(np.real(np.linalg.eigvals(cov_K))) # numerical float truncation error refine\n",
    "    while(min_eig<0):\n",
    "        cov_K += -10*min_eig*np.eye(cov_K.shape[0])\n",
    "        min_eig=np.min(np.real(np.linalg.eigvals(cov_K)))\n",
    "    \n",
    "    cov_K_noise=cov_K+np.eye(N)*noise_var\n",
    "    \n",
    "    x1=np.linspace(0,rang,num_points+1)      # prediction points, integer is to make it easy\n",
    "    M=len(x1)-1\n",
    "    mean=np.zeros((1,M))[0]\n",
    "    posterior_cov=np.zeros((M,M))\n",
    "    k_matrix=np.zeros((M,N))\n",
    "    k_matrix_pre=np.zeros((M,M))\n",
    "    for i in range(M):\n",
    "        for j in range(N):\n",
    "            k_matrix[i][j]=expo_quad_kernel(theta0,theta1,x1[i],xi[j])\n",
    "    k_C=np.dot(k_matrix,np.linalg.inv(cov_K_noise))\n",
    "    mean=np.dot(k_C,yi)\n",
    "    for i in range(M):\n",
    "        for j in range(i,M):\n",
    "            k_matrix_pre[i][j]=expo_quad_kernel(theta0,theta1,x1[i],x1[j])\n",
    "            k_matrix_pre[j][i]=k_matrix_pre[i][j]\n",
    "    posterior_cov=k_matrix_pre-np.dot(k_C,k_matrix.T)+np.eye(M)*noise_var\n",
    "    min_eig=np.min(np.real(np.linalg.eigvals(posterior_cov))) # numerical float truncation error refine\n",
    "    while(min_eig<0):\n",
    "        posterior_cov += -10*min_eig*np.eye(posterior_cov.shape[0])\n",
    "        min_eig=np.min(np.real(np.linalg.eigvals(posterior_cov)))\n",
    "    return x1[:num_points],mean, posterior_cov"
   ]
  },
  {
   "cell_type": "code",
   "execution_count": 42,
   "metadata": {
    "collapsed": true
   },
   "outputs": [],
   "source": [
    "def u_generate(theta0,theta1,xi): # xi is inducing points, N(0,Sigma)\n",
    "    N=len(xi)\n",
    "    cov=np.zeros((N,N))\n",
    "    for i in range(N):\n",
    "        for j in range(i,N):\n",
    "            cov[i][j]=expo_quad_kernel(theta0,theta1,xi[i],xi[j])\n",
    "            cov[j][i]=cov[i][j]\n",
    "    return multivariate_normal([0]*N,cov).rvs(),np.array([0]*N),cov"
   ]
  },
  {
   "cell_type": "code",
   "execution_count": 144,
   "metadata": {
    "collapsed": true
   },
   "outputs": [],
   "source": [
    "T_phi=5"
   ]
  },
  {
   "cell_type": "code",
   "execution_count": 145,
   "metadata": {
    "collapsed": true
   },
   "outputs": [],
   "source": [
    "xi=np.linspace(0+(T_phi/5)/2,T_phi-(T_phi/5)/2,5)   # 5 inducing points on \\phi(\\tau)"
   ]
  },
  {
   "cell_type": "code",
   "execution_count": 146,
   "metadata": {
    "collapsed": true
   },
   "outputs": [],
   "source": [
    "xi_mu=np.linspace(0+T/8/2,T-T/8/2,8)   # 8 inducing points, T is larger so we need more points"
   ]
  },
  {
   "cell_type": "code",
   "execution_count": 147,
   "metadata": {
    "collapsed": true
   },
   "outputs": [],
   "source": [
    "theta0=0.01\n",
    "theta1=6"
   ]
  },
  {
   "cell_type": "code",
   "execution_count": 148,
   "metadata": {
    "collapsed": true
   },
   "outputs": [],
   "source": [
    "u,mean_p_u,cov_p_u=u_generate(theta0,theta1,xi)"
   ]
  },
  {
   "cell_type": "code",
   "execution_count": 149,
   "metadata": {
    "collapsed": true
   },
   "outputs": [],
   "source": [
    "f=GP_regression(xi,u,theta0,theta1,0.000001,T_phi,100) # f is 100-dimension vector on [0,T_phi]"
   ]
  },
  {
   "cell_type": "code",
   "execution_count": 150,
   "metadata": {
    "collapsed": true
   },
   "outputs": [],
   "source": [
    "def eq(p,P,k_K,k_K_k,k_K_K_k,secondterm,thirdterm,M,m):\n",
    "    y=0\n",
    "    s=p\n",
    "    for i in range(1,len(k_K_k)):\n",
    "        for j in range(i):\n",
    "            if P[i][j]!=0:\n",
    "                y+=k_K_K_k[i][j][m]*P[i][j]/(k_K_k[i][j]+sum([(k_K[i][j][k]**2)*s[k] for k in range(M)]))\n",
    "    y+=-secondterm[m]-0.5*thirdterm[m]+0.5/s[m]\n",
    "    return y"
   ]
  },
  {
   "cell_type": "code",
   "execution_count": 50,
   "metadata": {
    "collapsed": true
   },
   "outputs": [],
   "source": [
    "def equations(p,P,k_K,k_K_k,k_K_K_k,secondterm,thirdterm,M):\n",
    "    return [eq(p,P,k_K,k_K_k,k_K_K_k,secondterm,thirdterm,M,i) for i in range(M)]"
   ]
  },
  {
   "cell_type": "code",
   "execution_count": 51,
   "metadata": {
    "collapsed": true
   },
   "outputs": [],
   "source": [
    "def ini_P(points_hawkes,T_phi):\n",
    "    N=len(points_hawkes)\n",
    "    P=np.zeros((N,N))\n",
    "    for i in range(N):                    # initial value of P\n",
    "        for j in range(i+1):\n",
    "            tij=points_hawkes[i]-points_hawkes[j]\n",
    "            if tij>=T_phi:continue\n",
    "            else:\n",
    "                P[i][j:i+1]=np.random.dirichlet([1]*(i-j+1))\n",
    "                break\n",
    "    return P"
   ]
  },
  {
   "cell_type": "code",
   "execution_count": 52,
   "metadata": {
    "collapsed": true
   },
   "outputs": [],
   "source": [
    "def psi(theta0,theta1,xn,xm,T):\n",
    "    x_mean=(xn+xm)/2\n",
    "    return (theta0**2)*(-np.sqrt(np.pi/theta1)/2)*np.exp((-theta1*(xn-xm)**2)/4)*(erf((x_mean-T)*np.sqrt(theta1))\\\n",
    "                                                                                  -erf(x_mean*np.sqrt(theta1)))"
   ]
  },
  {
   "cell_type": "code",
   "execution_count": 53,
   "metadata": {
    "collapsed": true
   },
   "outputs": [],
   "source": [
    "def distribution_f_posterior(x_f,xi,theta0,theta1,cov_p_u,cov_q_u_post):\n",
    "    N=len(xi) # N is number of inducing points\n",
    "    M=len(x_f) # M is number of predicting points\n",
    "    \n",
    "    cov_p_u_inv=np.linalg.inv(cov_p_u)\n",
    "    \n",
    "    K_xz=np.zeros((M,N))\n",
    "    for i in range(M):\n",
    "        for j in range(N):\n",
    "            K_xz[i][j]=expo_quad_kernel(theta0,theta1,x_f[i],xi[j])\n",
    "#     K_xx=np.zeros((M,M))\n",
    "#     for i in range(M):\n",
    "#         for j in range(i,M):\n",
    "#             K_xx[i][j]=expo_quad_kernel(theta0,theta1,x_f[i],x_f[j])\n",
    "#             K_xx[j][i]=K_xx[i][j]\n",
    "#     mean_f=(K_xz.dot(cov_p_u_inv)).dot(mean_q_u_post)\n",
    "#     cov_f=K_xx-(K_xz.dot(cov_p_u_inv)).dot(K_xz.T)+(((K_xz.dot(cov_p_u_inv)).dot(cov_q_u_post)).dot(cov_p_u_inv)).dot(K_xz.T)\n",
    "    var_f=np.array([theta0-K_xz[i].dot(cov_p_u_inv).dot(K_xz[i].T)+(((K_xz[i].dot(cov_p_u_inv)).dot(cov_q_u_post)).dot(cov_p_u_inv)).dot(K_xz[i].T) for i in range(M)])\n",
    "    \n",
    "    exp_phi=var_f\n",
    "    return exp_phi"
   ]
  },
  {
   "cell_type": "code",
   "execution_count": 151,
   "metadata": {
    "collapsed": true
   },
   "outputs": [],
   "source": [
    "theta0_mu=1\n",
    "theta1_mu=0.01"
   ]
  },
  {
   "cell_type": "code",
   "execution_count": 152,
   "metadata": {
    "collapsed": true
   },
   "outputs": [],
   "source": [
    "u_mu,mean_p_u_mu,cov_p_u_mu=u_generate(theta0_mu,theta1_mu,xi_mu)"
   ]
  },
  {
   "cell_type": "code",
   "execution_count": 153,
   "metadata": {
    "collapsed": true
   },
   "outputs": [],
   "source": [
    "f_mu=GP_regression(xi_mu,u_mu,theta0_mu,theta1_mu,0.000001,T,500) # f is 1000-dimension vector on [0,T]"
   ]
  },
  {
   "cell_type": "code",
   "execution_count": 154,
   "metadata": {
    "collapsed": true
   },
   "outputs": [],
   "source": [
    "def eq_mu(p,P,k_K,k_K_k,k_K_K_k,secondterm,thirdterm,M,m):\n",
    "    y=0\n",
    "    s=p\n",
    "    for n in range(len(k_K_k)):\n",
    "        if P[n][n]!=0:\n",
    "            y+=k_K_K_k[n][m]*P[n][n]/(k_K_k[n]+sum([(k_K[n][i]**2)*s[i] for i in range(M)]))\n",
    "    y+=-secondterm[m]-0.5*thirdterm[m]+0.5/s[m]\n",
    "    return y"
   ]
  },
  {
   "cell_type": "code",
   "execution_count": 155,
   "metadata": {
    "collapsed": true
   },
   "outputs": [],
   "source": [
    "def equations_mu(p,P,k_K,k_K_k,k_K_K_k,secondterm,thirdterm,M):\n",
    "    return [eq_mu(p,P,k_K,k_K_k,k_K_K_k,secondterm,thirdterm,M,i) for i in range(M)]"
   ]
  },
  {
   "cell_type": "code",
   "execution_count": 156,
   "metadata": {
    "collapsed": true
   },
   "outputs": [],
   "source": [
    "def MISD_variational_deri(points_hawkes,xi,xi_mu,T_phi,T,num_iter): # 100 predict points on T_phi, 1000 predict points on T\n",
    "    N=len(points_hawkes) # num of observation\n",
    "    M=len(xi)            # num of inducing points on phi\n",
    "    M_mu=len(xi_mu)      # num of inducing points on mu\n",
    "    P=ini_P(points_hawkes,T_phi)\n",
    "    delta_t=T_phi/len(f[0]) # phi is discete to 100 points\n",
    "    delta_t_mu=T/len(f_mu[0]) # u(t) is descrete to 500 points\n",
    "    \n",
    "    \n",
    "    #_______________________initial setting of mu\n",
    "    cov_q_u_mu_diag=np.random.uniform(0,1,M_mu)  ## initial of cov_q_u_mu_diag\n",
    "    k_tn_z_mu=np.zeros((N,M_mu))\n",
    "    for i in range(N):\n",
    "        for j in range(M_mu):\n",
    "            k_tn_z_mu[i][j]=expo_quad_kernel(theta0_mu,theta1_mu,points_hawkes[i],xi_mu[j])\n",
    "            \n",
    "    cov_p_u_mu_inv=np.linalg.inv(cov_p_u_mu)\n",
    "    thirdterm_mu=np.diagonal(cov_p_u_mu_inv)\n",
    "    Psi_mu=np.zeros((M_mu,M_mu))\n",
    "    for i in range(M_mu):\n",
    "        for j in range(i,M_mu):\n",
    "            Psi_mu[i][j]=psi(theta0_mu,theta1_mu,xi_mu[i],xi_mu[j],T)\n",
    "            Psi_mu[j][i]=Psi_mu[i][j]\n",
    "    secondterm_mu=np.diagonal(cov_p_u_mu_inv.dot(Psi_mu).dot(cov_p_u_mu_inv))\n",
    "    \n",
    "    k_K_K_k_mu=np.empty((0,M_mu))   #vector of vector   #     1st term\n",
    "    k_K_k_mu=np.array([])    # vecotr of value\n",
    "    k_K_mu=np.empty((0,M_mu))      # vector of vector\n",
    "    for i in range(N):\n",
    "        k_K_K_k_mu=np.append(k_K_K_k_mu, np.array([np.diagonal(cov_p_u_mu_inv.dot(np.array([k_tn_z_mu[i]]).T).dot(np.array([k_tn_z_mu[i]])).dot(cov_p_u_mu_inv))]),axis=0)\n",
    "        k_K_k_mu=np.append(k_K_k_mu,theta0_mu-k_tn_z_mu[i].dot(cov_p_u_mu_inv).dot(k_tn_z_mu[i].T))\n",
    "        k_K_mu=np.append(k_K_mu,np.array([k_tn_z_mu[i].dot(cov_p_u_mu_inv)]),axis=0) \n",
    "    \n",
    "    #__________________initial setting of phi\n",
    "    cov_q_u_diag=np.random.uniform(0,1,M)\n",
    "    cov_p_u_inv=np.linalg.inv(cov_p_u)\n",
    "    thirdterm=np.diagonal(cov_p_u_inv)\n",
    "    n_1=sum(np.array(points_hawkes)<(T-T_phi)) # num of points within T-T_phi\n",
    "    Psi=np.zeros((N,M,M))\n",
    "    for i in range(n_1):\n",
    "        for j in range(M):\n",
    "            for k in range(j,M):\n",
    "                Psi[i][j][k]=psi(theta0,theta1,xi[j],xi[k],T_phi)\n",
    "                Psi[i][k][j]=Psi[i][j][k]\n",
    "    for i in range(n_1,N):\n",
    "        for j in range(M):\n",
    "            for k in range(j,M):\n",
    "                Psi[i][j][k]=psi(theta0,theta1,xi[j],xi[k],T-points_hawkes[i])\n",
    "                Psi[i][k][j]=Psi[i][j][k]\n",
    "    secondterm=sum([np.diagonal(cov_p_u_inv.dot(Psi[i]).dot(cov_p_u_inv)) for i in range(N)])\n",
    "    k_tn_z=np.zeros((N,N,M))\n",
    "    for i in range(1,N):\n",
    "        for j in range(i):\n",
    "            if P[i][j]!=0:\n",
    "                tao=points_hawkes[i]-points_hawkes[j]\n",
    "                k_tn_z[i][j]=np.array([expo_quad_kernel(theta0,theta1,tao,xi[k]) for k in range(M)])            \n",
    "    k_K_K_k=np.zeros((N,N,M))   # matrix of vector   #     1st term\n",
    "    k_K_k=np.zeros((N,N))    # matrix of value\n",
    "    k_K=np.zeros((N,N,M))     # matrix of vector\n",
    "    for i in range(1,N):\n",
    "        for j in range(i):\n",
    "            if P[i][j]!=0:\n",
    "                k_K_K_k[i][j]=np.diagonal(cov_p_u_inv.dot(np.array([k_tn_z[i][j]]).T).dot(np.array([k_tn_z[i][j]])).dot(cov_p_u_inv))\n",
    "                k_K_k[i][j]=theta0-k_tn_z[i][j].dot(cov_p_u_inv).dot(k_tn_z[i][j].T)\n",
    "                k_K[i][j]=k_tn_z[i][j].dot(cov_p_u_inv)\n",
    "    \n",
    "    \n",
    "    \n",
    "    \n",
    "    \n",
    "    for k in range(num_iter):  # num of iterations\n",
    "        # update of phi\n",
    "        \n",
    "        cov_q_u_diag=fsolve(equations,cov_q_u_diag, args=(P,k_K,k_K_k,k_K_K_k,secondterm,thirdterm,M))\n",
    "        cov_q_u_diag[cov_q_u_diag<0] = 0.1 # more stable\n",
    "        cov_q_u=np.diag(cov_q_u_diag)\n",
    "        phi=distribution_f_posterior(f[0],xi,theta0,theta1,cov_p_u,cov_q_u)\n",
    "        \n",
    "        # update of mu\n",
    "        \n",
    "        cov_q_u_mu_diag=fsolve(equations_mu,cov_q_u_mu_diag, args=(P,k_K_mu,k_K_k_mu,k_K_K_k_mu,secondterm_mu,thirdterm_mu,M_mu))\n",
    "        cov_q_u_mu_diag[cov_q_u_mu_diag<0] = 0.1 # more stable\n",
    "        cov_q_u_mu=np.diag(cov_q_u_mu_diag)\n",
    "        mu=distribution_f_posterior(f_mu[0],xi_mu,theta0_mu,theta1_mu,cov_p_u_mu,cov_q_u_mu)\n",
    "\n",
    "        \n",
    "        for i in range(N): # updata of P\n",
    "            mu_ti=mu[int(points_hawkes[i]/delta_t_mu)]\n",
    "            intensity_total=0\n",
    "            for j in range(i):\n",
    "                tji=points_hawkes[i]-points_hawkes[j]\n",
    "                if tji>=T_phi: continue\n",
    "                intensity_total+=phi[int(tji/delta_t)]\n",
    "            intensity_total+=mu_ti\n",
    "            P[i][i]=mu_ti/intensity_total\n",
    "            for j in range(i):\n",
    "                tji=points_hawkes[i]-points_hawkes[j]\n",
    "                if tji>=T_phi: P[i][j]=0\n",
    "                else: P[i][j]=phi[int(tji/delta_t)]/intensity_total\n",
    "    return mu,phi"
   ]
  },
  {
   "cell_type": "code",
   "execution_count": 157,
   "metadata": {},
   "outputs": [
    {
     "name": "stdout",
     "output_type": "stream",
     "text": [
      "Wall time: 28min 57s\n"
     ]
    }
   ],
   "source": [
    "%%time\n",
    "mu_var_multiple=[]\n",
    "phi_var_multiple=[]\n",
    "for i in range(1):\n",
    "    mu_var,phi_var=MISD_variational_deri(training[i],xi,xi_mu,T_phi,T,20)\n",
    "    mu_var_multiple.append(mu_var)\n",
    "    phi_var_multiple.append(phi_var)"
   ]
  },
  {
   "cell_type": "code",
   "execution_count": 158,
   "metadata": {},
   "outputs": [],
   "source": [
    "mu_var=np.average(np.array(mu_var_multiple),axis=0)\n",
    "phi_var=np.average(np.array(phi_var_multiple),axis=0)"
   ]
  },
  {
   "cell_type": "code",
   "execution_count": 159,
   "metadata": {},
   "outputs": [
    {
     "data": {
      "image/png": "[encoded data removed]",
      "text/plain": [
       "<Figure size 576x360 with 1 Axes>"
      ]
     },
     "metadata": {},
     "output_type": "display_data"
    }
   ],
   "source": [
    "plt.figure(1,figsize=(8,5))\n",
    "axs=plt.subplot(111)\n",
    "axs.plot(f_mu[0]/10,mu_var,label='VBN')\n",
    "axs.scatter(xi_mu/10,np.zeros((len(xi_mu))),marker='o',s=30)\n",
    "plt.legend()\n",
    "plt.show()"
   ]
  },
  {
   "cell_type": "code",
   "execution_count": 160,
   "metadata": {},
   "outputs": [
    {
     "data": {
      "image/png": "[encoded data removed]",
      "text/plain": [
       "<Figure size 576x360 with 1 Axes>"
      ]
     },
     "metadata": {},
     "output_type": "display_data"
    }
   ],
   "source": [
    "plt.figure(1,figsize=(8,5))\n",
    "axs=plt.subplot(111)\n",
    "axs.plot(f[0]*3,phi_var,label='VBN')\n",
    "axs.scatter(xi*3,np.zeros((len(xi))),marker='o',s=30)\n",
    "plt.legend()\n",
    "plt.show()"
   ]
  },
  {
   "cell_type": "code",
   "execution_count": null,
   "metadata": {
    "collapsed": true
   },
   "outputs": [],
   "source": []
  },
  {
   "cell_type": "code",
   "execution_count": 66,
   "metadata": {
    "collapsed": true
   },
   "outputs": [],
   "source": [
    "def MISD(points_hawkes,T,T_gamma,delta_t,num_iter):\n",
    "    num_g=int(T_gamma/delta_t)\n",
    "    N=len(points_hawkes)\n",
    "    P=ini_P(points_hawkes,T_gamma)\n",
    "    g=np.zeros((1,num_g), dtype=float)\n",
    "\n",
    "    for k in range(num_iter):\n",
    "        for m in range(num_g): # update for u and g\n",
    "            rate_prob=np.zeros((1,N))\n",
    "            div_num=0\n",
    "            for i in range(N):\n",
    "                if (T-points_hawkes[i])>=m*delta_t and (T-points_hawkes[i])<(m+1)*delta_t: # point i is close to T\n",
    "                    div_num+=1\n",
    "                    for j in range(i+1,N):\n",
    "                        interval=points_hawkes[j]-points_hawkes[i]\n",
    "                        if interval>=m*delta_t and interval<(m+1)*delta_t:\n",
    "                            rate_prob[0][i]+=P[j][i]\n",
    "                        elif interval>=(m+1)*delta_t:\n",
    "                            break\n",
    "                    rate_prob[0][i]=rate_prob[0][i]/(T-m*delta_t)\n",
    "                elif (T-points_hawkes[i])<m*delta_t:\n",
    "                    break\n",
    "                else:\n",
    "                    div_num+=1\n",
    "                    for j in range(i+1,N):\n",
    "                        interval=points_hawkes[j]-points_hawkes[i]\n",
    "                        if interval>=m*delta_t and interval<(m+1)*delta_t:\n",
    "                            rate_prob[0][i]+=P[j][i]\n",
    "                        elif interval>=(m+1)*delta_t:\n",
    "                            break\n",
    "                    rate_prob[0][i]=rate_prob[0][i]/delta_t\n",
    "            if div_num==0:\n",
    "                break\n",
    "            else:\n",
    "                g[0][m]=sum(rate_prob[0])/div_num\n",
    "        u=sum(P[i][i] for i in range(N))/T\n",
    "\n",
    "        for i in range(N): # updata for P\n",
    "            intensity_total=0\n",
    "            for j in range(i):\n",
    "                tji=points_hawkes[i]-points_hawkes[j]\n",
    "                if tji>=T_gamma: continue\n",
    "                intensity_total+=g[0][int(tji/delta_t)]\n",
    "            intensity_total+=u\n",
    "            P[i][i]=u/intensity_total\n",
    "            for j in range(i):\n",
    "                tji=points_hawkes[i]-points_hawkes[j]\n",
    "                if tji>=T_gamma: P[i][j]=0\n",
    "                else: P[i][j]=g[0][int(tji/delta_t)]/intensity_total\n",
    "    return u,g[0]"
   ]
  },
  {
   "cell_type": "code",
   "execution_count": 68,
   "metadata": {},
   "outputs": [
    {
     "name": "stdout",
     "output_type": "stream",
     "text": [
      "Wall time: 2min 36s\n"
     ]
    }
   ],
   "source": [
    "%%time\n",
    "u_misd_5_multiple=[]\n",
    "phi_misd_5_multiple=[]\n",
    "for i in range(1):\n",
    "    u_misd_5,phi_misd_5=MISD(training[i],T,T_phi,1,100)\n",
    "    u_misd_5_multiple.append(u_misd_5)\n",
    "    phi_misd_5_multiple.append(phi_misd_5)"
   ]
  },
  {
   "cell_type": "code",
   "execution_count": 69,
   "metadata": {
    "collapsed": true
   },
   "outputs": [],
   "source": [
    "u_misd_5=np.average(np.array(u_misd_5_multiple))\n",
    "phi_misd_5=np.average(np.array(phi_misd_5_multiple),axis=0)"
   ]
  },
  {
   "cell_type": "code",
   "execution_count": 70,
   "metadata": {},
   "outputs": [
    {
     "data": {
      "text/plain": [
       "5.44841028410627"
      ]
     },
     "execution_count": 70,
     "metadata": {},
     "output_type": "execute_result"
    }
   ],
   "source": [
    "u_misd_5"
   ]
  },
  {
   "cell_type": "code",
   "execution_count": 82,
   "metadata": {},
   "outputs": [
    {
     "name": "stdout",
     "output_type": "stream",
     "text": [
      "Wall time: 2min 11s\n"
     ]
    }
   ],
   "source": [
    "%%time\n",
    "u_misd_10_multiple=[]\n",
    "phi_misd_10_multiple=[]\n",
    "for i in range(1):\n",
    "    u_misd_10,phi_misd_10=MISD(training[i],T,T_phi,0.5,100)\n",
    "    u_misd_10_multiple.append(u_misd_10)\n",
    "    phi_misd_10_multiple.append(phi_misd_10)"
   ]
  },
  {
   "cell_type": "code",
   "execution_count": 83,
   "metadata": {
    "collapsed": true
   },
   "outputs": [],
   "source": [
    "u_misd_10=np.average(np.array(u_misd_10_multiple))\n",
    "phi_misd_10=np.average(np.array(phi_misd_10_multiple),axis=0)"
   ]
  },
  {
   "cell_type": "code",
   "execution_count": 84,
   "metadata": {},
   "outputs": [
    {
     "data": {
      "text/plain": [
       "4.9384774993602063"
      ]
     },
     "execution_count": 84,
     "metadata": {},
     "output_type": "execute_result"
    }
   ],
   "source": [
    "u_misd_10"
   ]
  },
  {
   "cell_type": "code",
   "execution_count": 162,
   "metadata": {},
   "outputs": [
    {
     "data": {
      "image/png": "[encoded data removed]",
      "text/plain": [
       "<Figure size 360x288 with 1 Axes>"
      ]
     },
     "metadata": {},
     "output_type": "display_data"
    }
   ],
   "source": [
    "plt.figure(1,figsize=(5,4))\n",
    "axs=plt.subplot(111)\n",
    "axs.plot(f[0]*3,phi_var,'b')\n",
    "axs.scatter(f[0]*3,phi_var,marker='o',s=12,c='',edgecolors='b',label='VBN')\n",
    "axs.plot(np.linspace(0,5,300,endpoint=False)*3,[phi_misd_5[int(xxx/1)] for xxx in np.linspace(0,5,300,endpoint=False)],label='MISD-5')\n",
    "axs.plot(np.linspace(0,5,300,endpoint=False)*3,[phi_misd_10[int(xxx/0.5)] for xxx in np.linspace(0,5,300,endpoint=False)],label='MISD-10')\n",
    "# axs.plot(f[0]*10,phi_wh,label='WH')\n",
    "plt.xlabel(r'$\\tau$',fontsize=12)\n",
    "plt.title(r'$\\phi(\\tau)$',fontsize=15)\n",
    "# plt.xlim(0,60)\n",
    "# plt.ylim(-0.05,1.2)\n",
    "# plt.xticks(np.arange(0, 65, 10))\n",
    "plt.legend(fontsize=12)\n",
    "\n",
    "# plt.savefig('./phi_realdata_1',bbox_inches = 'tight')\n",
    "plt.show()"
   ]
  },
  {
   "cell_type": "code",
   "execution_count": 170,
   "metadata": {},
   "outputs": [
    {
     "data": {
      "image/png": "[encoded data removed]",
      "text/plain": [
       "<Figure size 360x288 with 1 Axes>"
      ]
     },
     "metadata": {},
     "output_type": "display_data"
    }
   ],
   "source": [
    "plt.figure(1,figsize=(5,4))\n",
    "axs=plt.subplot(111)\n",
    "axs.plot(f_mu[0]/10,mu_var,'b')\n",
    "axs.scatter(f_mu[0]/10,mu_var,marker='o',s=12,c='',edgecolors='b',label='VBN')\n",
    "axs.plot([0,T/10],[u_misd_5,u_misd_5],label='MISD-5')\n",
    "axs.plot([0,T/10],[u_misd_10,u_misd_10],label='MISD-10')\n",
    "# axs.plot([0,T/6],[u_wh,u_wh],label='WH')\n",
    "plt.xlabel(r'$t$',fontsize=12)\n",
    "plt.title(r'$\\mu(t)$',fontsize=15)\n",
    "plt.ylim(0)\n",
    "# plt.xlim(0,24)\n",
    "# plt.xticks(np.arange(0, 25, 2))\n",
    "plt.legend(fontsize=12)\n",
    "\n",
    "# plt.savefig('./mu_realdata_1',bbox_inches = 'tight')\n",
    "plt.show()"
   ]
  },
  {
   "cell_type": "code",
   "execution_count": 74,
   "metadata": {
    "collapsed": true
   },
   "outputs": [],
   "source": [
    "def intensity_discrete(t,history,u,g_mean,T_phi):    #left continue, the intensity is a gaussian dist\n",
    "    mu=u\n",
    "    N=len(g_mean)\n",
    "    intensity_mean=0\n",
    "    for i in range(len(history)):\n",
    "        if history[i]>=t:\n",
    "            break\n",
    "        delta_t=t-history[i]\n",
    "        if delta_t<T_phi:\n",
    "            intensity_mean+=g_mean[int(delta_t*N/T_phi)]\n",
    "    return mu+intensity_mean"
   ]
  },
  {
   "cell_type": "code",
   "execution_count": 75,
   "metadata": {
    "collapsed": true
   },
   "outputs": [],
   "source": [
    "def negtiveloglikelihood_discrete(u,g_mean,times,T_phi,T):\n",
    "    N=len(times)\n",
    "    M=len(g_mean)\n",
    "    logl=0\n",
    "    for i in range(N):\n",
    "        logl+=np.log(intensity_discrete(times[i],times,u,g_mean,T_phi))\n",
    "        delta_t=T-times[i]\n",
    "        if delta_t>=T_phi:\n",
    "            logl-=sum(g_mean*T_phi/M)\n",
    "        else:\n",
    "            temp=(delta_t)*M/T_phi\n",
    "            temp_int=int(temp)\n",
    "            logl-=sum(g_mean[:temp_int]*T_phi/M)+g_mean[temp_int]*T_phi/M*(temp-temp_int)\n",
    "    return -(logl-u*T)"
   ]
  },
  {
   "cell_type": "code",
   "execution_count": 76,
   "metadata": {
    "collapsed": true
   },
   "outputs": [],
   "source": [
    "def intensity_discrete_phi_mu(t,history,u,g_mean,g_range,T):    #left continue\n",
    "    mu=u\n",
    "    N=len(g_mean)\n",
    "    M=len(mu)\n",
    "    intensity_mean=0\n",
    "    for i in range(len(history)):\n",
    "        if history[i]>=t:\n",
    "            break\n",
    "        delta_t=t-history[i]\n",
    "        if delta_t<g_range:\n",
    "            intensity_mean+=g_mean[int(delta_t*N/g_range)]\n",
    "    result=mu[int(t/T*M)]+intensity_mean\n",
    "    return result"
   ]
  },
  {
   "cell_type": "code",
   "execution_count": 77,
   "metadata": {
    "collapsed": true
   },
   "outputs": [],
   "source": [
    "def negtiveloglikelihood_discrete_phi_mu(u,g_mean,g_range,times,T):\n",
    "    N=len(times)\n",
    "    M=len(g_mean)\n",
    "    logl=0\n",
    "    for i in range(N):\n",
    "        logl+=np.log(intensity_discrete_phi_mu(times[i],times,u,g_mean,g_range,T))\n",
    "        delta_t=T-times[i]\n",
    "        if delta_t>=g_range:\n",
    "            logl-=sum(g_mean*g_range/M)\n",
    "        else:\n",
    "            temp=(delta_t)*M/g_range\n",
    "            temp_int=int(temp)\n",
    "            logl-=sum(g_mean[:temp_int]*g_range/M)+g_mean[temp_int]*g_range/M*(temp-temp_int)\n",
    "    return -(logl-sum(u*T/len(u)))"
   ]
  },
  {
   "cell_type": "code",
   "execution_count": 164,
   "metadata": {},
   "outputs": [
    {
     "data": {
      "text/plain": [
       "-2004.2133759224384"
      ]
     },
     "execution_count": 164,
     "metadata": {},
     "output_type": "execute_result"
    }
   ],
   "source": [
    "np.average([negtiveloglikelihood_discrete(u_misd_5,phi_misd_5,training[i],T_phi,T) for i in range(0,1)])"
   ]
  },
  {
   "cell_type": "code",
   "execution_count": 165,
   "metadata": {},
   "outputs": [
    {
     "data": {
      "text/plain": [
       "-2005.6999841463655"
      ]
     },
     "execution_count": 165,
     "metadata": {},
     "output_type": "execute_result"
    }
   ],
   "source": [
    "np.average([negtiveloglikelihood_discrete(u_misd_10,phi_misd_10,training[i],T_phi,T) for i in range(0,1)])"
   ]
  },
  {
   "cell_type": "code",
   "execution_count": 166,
   "metadata": {},
   "outputs": [
    {
     "data": {
      "text/plain": [
       "-1989.9906007361976"
      ]
     },
     "execution_count": 166,
     "metadata": {},
     "output_type": "execute_result"
    }
   ],
   "source": [
    "np.average([negtiveloglikelihood_discrete_phi_mu(mu_var,phi_var,T_phi,training[i],T) for i in range(0,1)])"
   ]
  },
  {
   "cell_type": "code",
   "execution_count": null,
   "metadata": {
    "collapsed": true
   },
   "outputs": [],
   "source": []
  },
  {
   "cell_type": "code",
   "execution_count": null,
   "metadata": {
    "collapsed": true
   },
   "outputs": [],
   "source": []
  },
  {
   "cell_type": "code",
   "execution_count": 167,
   "metadata": {},
   "outputs": [
    {
     "data": {
      "text/plain": [
       "-1792.2987949902822"
      ]
     },
     "execution_count": 167,
     "metadata": {},
     "output_type": "execute_result"
    }
   ],
   "source": [
    "np.average([negtiveloglikelihood_discrete(u_misd_5,phi_misd_5,training[i],T_phi,T) for i in range(1,2)])"
   ]
  },
  {
   "cell_type": "code",
   "execution_count": 168,
   "metadata": {},
   "outputs": [
    {
     "data": {
      "text/plain": [
       "-1792.5099597092296"
      ]
     },
     "execution_count": 168,
     "metadata": {},
     "output_type": "execute_result"
    }
   ],
   "source": [
    "np.average([negtiveloglikelihood_discrete(u_misd_10,phi_misd_10,training[i],T_phi,T) for i in range(1,2)])"
   ]
  },
  {
   "cell_type": "code",
   "execution_count": 169,
   "metadata": {},
   "outputs": [
    {
     "data": {
      "text/plain": [
       "-1784.1984379835076"
      ]
     },
     "execution_count": 169,
     "metadata": {},
     "output_type": "execute_result"
    }
   ],
   "source": [
    "np.average([negtiveloglikelihood_discrete_phi_mu(mu_var,phi_var,T_phi,training[i],T) for i in range(1,2)])"
   ]
  },
  {
   "cell_type": "code",
   "execution_count": null,
   "metadata": {
    "collapsed": true
   },
   "outputs": [],
   "source": []
  }
 ],
 "metadata": {
  "kernelspec": {
   "display_name": "Python 3",
   "language": "python",
   "name": "python3"
  },
  "language_info": {
   "codemirror_mode": {
    "name": "ipython",
    "version": 3
   },
   "file_extension": ".py",
   "mimetype": "text/x-python",
   "name": "python",
   "nbconvert_exporter": "python",
   "pygments_lexer": "ipython3",
   "version": "3.6.6"
  }
 },
 "nbformat": 4,
 "nbformat_minor": 2
}
